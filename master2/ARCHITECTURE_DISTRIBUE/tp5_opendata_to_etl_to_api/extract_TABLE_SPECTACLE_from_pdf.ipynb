{
 "cells": [
  {
   "cell_type": "code",
   "execution_count": 13,
   "id": "68b1b9d1",
   "metadata": {
    "scrolled": false
   },
   "outputs": [
    {
     "name": "stdout",
     "output_type": "stream",
     "text": [
      "table[0] ['SPECTACLES', 'ARTISTES', 'LIEUX', '', 'TARIF', 'PAGE', '', 'SAM\\n5', 'DIM\\n6', 'LUN\\n7', 'MAR\\n8', 'MER\\n9', 'JEU\\n10', 'VEN\\n11', 'SAM\\n12', 'DIM\\n13', 'LUN\\n14', 'MAR\\n15', 'MER\\n16', 'JEU\\n17', 'VEN\\n18', 'SAM\\n19', 'DIM\\n20', 'LUN\\n21', 'MAR\\n22', 'MER\\n23', 'JEU\\n24', 'VEN\\n25', 'SAM\\n26']\n",
      "\n",
      "table[1] [None, None, None, None, None, None, None, '19h', '19h', '', '', '', '', '', '', '', '', '', '', '', '', '', '', '', '', '', '', '', None]\n",
      "\n",
      "table[2] ['When I Saw the Sea', 'Ali Chahrour', 'La FabricA du Festival d’Avignon', '1h10', 'C', '13', '', '13h', '13h', '13h', '13h', '', '', '', '', '', '', '', '', '', '', '', '', '', '', '', '', '', '']\n",
      "\n",
      "table[3] [None, None, None, None, None, None, None, '18h', '', '17h', '17h', '17h', '17h', '17h', '17h', '', '17h', '17h', '17h', '', '', '', '', '', '', '', '', '', None]\n",
      "\n",
      "table[4] ['NÔT', 'Marlene Monteiro Freitas', 'Cour d’honneur du palais des Papes', '1h45', 'F', '15', '', '22h', '22h', '', '22h', '22h', '22h', '22h', '', '', '', '', '', '', '', '', '', '', '', '', '', '', '']\n",
      "\n",
      "table[5] [None, None, None, None, None, None, None, '', '11h\\n17h', '11h\\n17h', '11h\\n17h', '', '', '', '', '', '', '', '', '', '', '', '', '', '', '', '', '', None]\n",
      "\n",
      "table[6] ['Item', 'Théâtre du Radeau, François Tanguy', 'Gymnase du lycée Mistral', '1h30', 'C', '17', '', '', '12h', '12h', '12h\\n18h', '', '', '', '', '', '', '', '', '', '', '', '', '', '', '', '', '', '']\n",
      "           SPECTACLES                  ARTISTES  \\\n",
      "0                None                      None   \n",
      "1  When I Saw the Sea              Ali Chahrour   \n",
      "2                None                      None   \n",
      "3                 NÔT  Marlene Monteiro Freitas   \n",
      "4                None                      None   \n",
      "\n",
      "                                LIEUX       TARIF  PAGE       SAM\\n5  DIM\\n6  \\\n",
      "0                                None  None  None  None  None    19h     19h   \n",
      "1    La FabricA du Festival d’Avignon  1h10     C    13          13h     13h   \n",
      "2                                None  None  None  None  None    18h           \n",
      "3  Cour d’honneur du palais des Papes  1h45     F    15          22h     22h   \n",
      "4                                None  None  None  None  None         11h17h   \n",
      "\n",
      "   LUN\\n7  ... JEU\\n17 VEN\\n18 SAM\\n19 DIM\\n20 LUN\\n21 MAR\\n22 MER\\n23  \\\n",
      "0          ...                                                           \n",
      "1     13h  ...                                                           \n",
      "2     17h  ...                                                           \n",
      "3          ...                                                           \n",
      "4  11h17h  ...                                                           \n",
      "\n",
      "  JEU\\n24 VEN\\n25 SAM\\n26  \n",
      "0                    None  \n",
      "1                          \n",
      "2                    None  \n",
      "3                          \n",
      "4                    None  \n",
      "\n",
      "[5 rows x 29 columns]\n"
     ]
    },
    {
     "name": "stderr",
     "output_type": "stream",
     "text": [
      "C:\\Users\\gaeta\\AppData\\Local\\Temp\\ipykernel_37824\\1808726130.py:32: FutureWarning: DataFrame.applymap has been deprecated. Use DataFrame.map instead.\n",
      "  df = df.applymap(lambda x: x.replace('\\n', '') if isinstance(x, str) else x)\n"
     ]
    }
   ],
   "source": [
    "import pdfplumber\n",
    "import pandas as pd\n",
    "import requests\n",
    "from io import BytesIO\n",
    "\n",
    "url = \"https://festival-avignon.com/fr/telechargements/programme_FDA_79\" \n",
    "response = requests.get(url)\n",
    "response.raise_for_status()  # Pour lever une erreur si la requête échoue\n",
    "\n",
    "# Charger le PDF en mémoire avec pdfplumber\n",
    "with pdfplumber.open(BytesIO(response.content)) as pdf:\n",
    "    page = pdf.pages[49]  # page 50 (index 0-based)\n",
    "    # Extraction de tous les tableaux de la page\n",
    "    tables = page.extract_tables()\n",
    "\n",
    "    \n",
    "    table = tables[0]\n",
    "    print(\"table[0]\", table[0])\n",
    "    print('')\n",
    "    print(\"table[1]\", table[1])\n",
    "    print('')\n",
    "    print(\"table[2]\", table[2])\n",
    "    print('')\n",
    "    print(\"table[3]\", table[3])\n",
    "    print('')\n",
    "    print(\"table[4]\", table[4])\n",
    "    print('')\n",
    "    print(\"table[5]\", table[5])\n",
    "    print('')\n",
    "    print(\"table[6]\", table[6])\n",
    "    df = pd.DataFrame(table[1:], columns=table[0])\n",
    "    df = df.applymap(lambda x: x.replace('\\n', '') if isinstance(x, str) else x)\n",
    "    df.to_csv(\"test.csv\", index=False, encoding=\"utf-8\")\n",
    "    print(df.head(5))\n",
    "\n"
   ]
  },
  {
   "cell_type": "code",
   "execution_count": null,
   "id": "831e6ada",
   "metadata": {},
   "outputs": [],
   "source": []
  }
 ],
 "metadata": {
  "kernelspec": {
   "display_name": "Python 3 (ipykernel)",
   "language": "python",
   "name": "python3"
  },
  "language_info": {
   "codemirror_mode": {
    "name": "ipython",
    "version": 3
   },
   "file_extension": ".py",
   "mimetype": "text/x-python",
   "name": "python",
   "nbconvert_exporter": "python",
   "pygments_lexer": "ipython3",
   "version": "3.11.5"
  }
 },
 "nbformat": 4,
 "nbformat_minor": 5
}
