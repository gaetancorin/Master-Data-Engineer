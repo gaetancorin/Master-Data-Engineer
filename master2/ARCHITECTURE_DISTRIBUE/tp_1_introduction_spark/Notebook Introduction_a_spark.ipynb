{
 "cells": [
  {
   "cell_type": "markdown",
   "metadata": {
    "application/vnd.databricks.v1+cell": {
     "cellMetadata": {
      "byteLimit": 2048000,
      "rowLimit": 10000
     },
     "inputWidgets": {},
     "nuid": "6cf31850-1981-4e5a-a7f0-e269db63c608",
     "showTitle": false,
     "tableResultSettingsMap": {},
     "title": ""
    }
   },
   "source": [
    "SPARK INTRODUCTION EXERCICE 1"
   ]
  },
  {
   "cell_type": "code",
   "execution_count": 0,
   "metadata": {
    "application/vnd.databricks.v1+cell": {
     "cellMetadata": {
      "byteLimit": 2048000,
      "rowLimit": 10000
     },
     "inputWidgets": {},
     "nuid": "c4f7348c-6dc4-4e28-9ac8-a17b839bb36b",
     "showTitle": false,
     "tableResultSettingsMap": {},
     "title": ""
    }
   },
   "outputs": [],
   "source": [
    "%python\n",
    "df_s_original = spark.read.text(\"/Volumes/workspace/default/tp1\")"
   ]
  },
  {
   "cell_type": "code",
   "execution_count": 0,
   "metadata": {
    "application/vnd.databricks.v1+cell": {
     "cellMetadata": {
      "byteLimit": 2048000,
      "rowLimit": 10000
     },
     "inputWidgets": {},
     "nuid": "a1a075e6-6f7f-43f6-8648-833ae4e558a2",
     "showTitle": false,
     "tableResultSettingsMap": {},
     "title": ""
    }
   },
   "outputs": [
    {
     "output_type": "stream",
     "name": "stdout",
     "output_type": "stream",
     "text": [
      "+----------------------------------------------------------------------------------------------------------------------------------------------------------+\n|value                                                                                                                                                     |\n+----------------------------------------------------------------------------------------------------------------------------------------------------------+\n|word count from Wikipedia the free encyclopedia                                                                                                           |\n|the word count is the number of words in a document or passage of text Word counting may be needed when a text                                            |\n|is required to stay within certain numbers of words This may particularly be the case in academia legal                                                   |\n|proceedings journalism and advertising Word count is commonly used by translators to determine the price for                                              |\n|the translation job Word counts may also be used to calculate measures of readability and to measure typing                                               |\n|and reading speeds usually in words per minute When converting character counts to words a measure of five or                                             |\n|six characters to a word is generally used Contents Details and variations of definition Software In fiction                                              |\n|In non fiction See also References Sources External links Details and variations of definition                                                            |\n|This section does not cite any references or sources Please help improve this section by adding citations to                                              |\n|reliable sources Unsourced material may be challenged and removed                                                                                         |\n|Variations in the operational definitions of how to count the words can occur namely what counts as a word and                                            |\n|which words don't count toward the total However especially since the advent of widespread word processing there                                          |\n|is a broad consensus on these operational definitions and hence the bottom line integer result                                                            |\n|The consensus is to accept the text segmentation rules generally found in most word processing software including how                                     |\n|word boundaries are determined which depends on how word dividers are defined The first trait of that definition is that a space any of various whitespace|\n|characters such as a regular word space an em space or a tab character is a word divider Usually a hyphen or a slash is too                               |\n|Different word counting programs may give varying results depending on the text segmentation rule                                                         |\n|details and on whether words outside the main text such as footnotes endnotes or hidden text) are counted But the behavior                                |\n|of most major word processing applications is broadly similar However during the era when school assignments were done in                                 |\n|handwriting or with typewriters the rules for these definitions often differed from todays consensus                                                      |\n|Most importantly many students were drilled on the rule that certain words don't count usually articles namely a an the but                               |\n|sometimes also others such as conjunctions for example and or but and some prepositions usually to of Hyphenated permanent                                |\n|compounds such as follow up noun or long term adjective were counted as one word To save the time and effort of counting                                  |\n|word by word often a rule of thumb for the average number of words per line was used such as 10 words per line These rules                                |\n|have fallen by the wayside in the word processing era the word count feature of such software which follows the text                                      |\n|segmentation rules mentioned earlier is now the standard arbiter because it is largely consistent across documents and                                    |\n|applications and because it is fast effortless and costless already included with the application As for which sections of                                |\n|a document count toward the total such as footnotes endnotes abstracts reference lists and bibliographies tables figure                                   |\n|captions hidden text the person in charge teacher client can define their choice and users students workers can simply                                    |\n|select or exclude the elements accordingly and watch the word count automatically update Software Modern web browsers                                     |\n|support word counting via extensions via a JavaScript bookmarklet or a script that is hosted in a website Most word                                       |\n|processors can also count words Unix like systems include a program wc specifically for word counting                                                     |\n|As explained earlier different word counting programs may give varying results depending on the text segmentation rule                                    |\n|details The exact number of words often is not a strict requirement thus the variation is acceptable                                                      |\n|In fiction Novelist Jane Smiley suggests that length is an important quality of the novel However novels can vary                                         |\n|tremendously in length Smiley lists novels as typically being between and words while National Novel Writing Month                                        |\n|requires its novels to be at least words There are no firm rules for example the boundary between a novella and a novel                                   |\n|is arbitrary and a literary work may be difficult to categorise But while the length of a novel is to a large extent up                                   |\n|to its writer lengths may also vary by subgenre many chapter books for children start at a length of about words and a                                    |\n|typical mystery novel might be in the to word range while a thriller could be over words                                                                  |\n|The Science Fiction and Fantasy Writers of America specifies word lengths for each category of its Nebula award categories                                |\n|Classification\\tWord count Novel over words Novella to words Novelette to words Short story under words                                                   |\n|In non fiction The acceptable length of an academic dissertation varies greatly dependent predominantly on the subject                                    |\n|Numerous American universities limit Ph.D. dissertations to at most words barring special permission for exceeding this limit                             |\n|word count from Wikipedia the free encyclopedia                                                                                                           |\n|the word count is the number of words in a document or passage of text Word counting may be needed when a text                                            |\n|is required to stay within certain numbers of words This may particularly be the case in academia legal                                                   |\n|proceedings journalism and advertising Word count is commonly used by translators to determine the price for                                              |\n|the translation job Word counts may also be used to calculate measures of readability and to measure typing                                               |\n|and reading speeds usually in words per minute When converting character counts to words a measure of five or                                             |\n|six characters to a word is generally used Contents Details and variations of definition Software In fiction                                              |\n|In non fiction See also References Sources External links Details and variations of definition                                                            |\n|This section does not cite any references or sources Please help improve this section by adding citations to                                              |\n|reliable sources Unsourced material may be challenged and removed                                                                                         |\n|Variations in the operational definitions of how to count the words can occur namely what counts as a word and                                            |\n|which words don't count toward the total However especially since the advent of widespread word processing there                                          |\n|is a broad consensus on these operational definitions and hence the bottom line integer result                                                            |\n|The consensus is to accept the text segmentation rules generally found in most word processing software including how                                     |\n|word boundaries are determined which depends on how word dividers are defined The first trait of that definition is that a space any of various whitespace|\n|characters such as a regular word space an em space or a tab character is a word divider Usually a hyphen or a slash is too                               |\n|Different word counting programs may give varying results depending on the text segmentation rule                                                         |\n|details and on whether words outside the main text such as footnotes endnotes or hidden text) are counted But the behavior                                |\n|of most major word processing applications is broadly similar However during the era when school assignments were done in                                 |\n|handwriting or with typewriters the rules for these definitions often differed from todays consensus                                                      |\n|Most importantly many students were drilled on the rule that certain words don't count usually articles namely a an the but                               |\n|sometimes also others such as conjunctions for example and or but and some prepositions usually to of Hyphenated permanent                                |\n|compounds such as follow up noun or long term adjective were counted as one word To save the time and effort of counting                                  |\n|word by word often a rule of thumb for the average number of words per line was used such as 10 words per line These rules                                |\n|have fallen by the wayside in the word processing era the word count feature of such software which follows the text                                      |\n|segmentation rules mentioned earlier is now the standard arbiter because it is largely consistent across documents and                                    |\n|applications and because it is fast effortless and costless already included with the application As for which sections of                                |\n|a document count toward the total such as footnotes endnotes abstracts reference lists and bibliographies tables figure                                   |\n|captions hidden text the person in charge teacher client can define their choice and users students workers can simply                                    |\n|select or exclude the elements accordingly and watch the word count automatically update Software Modern web browsers                                     |\n|support word counting via extensions via a JavaScript bookmarklet or a script that is hosted in a website Most word                                       |\n|processors can also count words Unix like systems include a program wc specifically for word counting                                                     |\n|As explained earlier different word counting programs may give varying results depending on the text segmentation rule                                    |\n|details The exact number of words often is not a strict requirement thus the variation is acceptable                                                      |\n|In fiction Novelist Jane Smiley suggests that length is an important quality of the novel However novels can vary                                         |\n|tremendously in length Smiley lists novels as typically being between and words while National Novel Writing Month                                        |\n|requires its novels to be at least words There are no firm rules for example the boundary between a novella and a novel                                   |\n|is arbitrary and a literary work may be difficult to categorise But while the length of a novel is to a large extent up                                   |\n|to its writer lengths may also vary by subgenre many chapter books for children start at a length of about words and a                                    |\n|typical mystery novel might be in the to word range while a thriller could be over words                                                                  |\n|The Science Fiction and Fantasy Writers of America specifies word lengths for each category of its Nebula award categories                                |\n|Classification\\tWord count Novel over words Novella to words Novelette to words Short story under words                                                   |\n|In non fiction The acceptable length of an academic dissertation varies greatly dependent predominantly on the subject                                    |\n|Numerous American universities limit Ph.D. dissertations to at most words barring special permission for exceeding this limit                             |\n|                                                                                                                                                          |\n|word count from Wikipedia the free encyclopedia                                                                                                           |\n|the word count is the number of words in a document or passage of text Word counting may be needed when a text                                            |\n|is required to stay within certain numbers of words This may particularly be the case in academia legal                                                   |\n|proceedings journalism and advertising Word count is commonly used by translators to determine the price for                                              |\n|the translation job Word counts may also be used to calculate measures of readability and to measure typing                                               |\n|and reading speeds usually in words per minute When converting character counts to words a measure of five or                                             |\n|six characters to a word is generally used Contents Details and variations of definition Software In fiction                                              |\n|In non fiction See also References Sources External links Details and variations of definition                                                            |\n|This section does not cite any references or sources Please help improve this section by adding citations to                                              |\n|reliable sources Unsourced material may be challenged and removed                                                                                         |\n|Variations in the operational definitions of how to count the words can occur namely what counts as a word and                                            |\n|which words don't count toward the total However especially since the advent of widespread word processing there                                          |\n|is a broad consensus on these operational definitions and hence the bottom line integer result                                                            |\n|The consensus is to accept the text segmentation rules generally found in most word processing software including how                                     |\n|word boundaries are determined which depends on how word dividers are defined The first trait of that definition is that a space any of various whitespace|\n|characters such as a regular word space an em space or a tab character is a word divider Usually a hyphen or a slash is too                               |\n|Different word counting programs may give varying results depending on the text segmentation rule                                                         |\n|details and on whether words outside the main text such as footnotes endnotes or hidden text) are counted But the behavior                                |\n|of most major word processing applications is broadly similar However during the era when school assignments were done in                                 |\n|handwriting or with typewriters the rules for these definitions often differed from todays consensus                                                      |\n|Most importantly many students were drilled on the rule that certain words don't count usually articles namely a an the but                               |\n|sometimes also others such as conjunctions for example and or but and some prepositions usually to of Hyphenated permanent                                |\n|compounds such as follow up noun or long term adjective were counted as one word To save the time and effort of counting                                  |\n|word by word often a rule of thumb for the average number of words per line was used such as 10 words per line These rules                                |\n|have fallen by the wayside in the word processing era the word count feature of such software which follows the text                                      |\n|segmentation rules mentioned earlier is now the standard arbiter because it is largely consistent across documents and                                    |\n|applications and because it is fast effortless and costless already included with the application As for which sections of                                |\n|a document count toward the total such as footnotes endnotes abstracts reference lists and bibliographies tables figure                                   |\n|captions hidden text the person in charge teacher client can define their choice and users students workers can simply                                    |\n|select or exclude the elements accordingly and watch the word count automatically update Software Modern web browsers                                     |\n|support word counting via extensions via a JavaScript bookmarklet or a script that is hosted in a website Most word                                       |\n|processors can also count words Unix like systems include a program wc specifically for word counting                                                     |\n|As explained earlier different word counting programs may give varying results depending on the text segmentation rule                                    |\n|details The exact number of words often is not a strict requirement thus the variation is acceptable                                                      |\n|In fiction Novelist Jane Smiley suggests that length is an important quality of the novel However novels can vary                                         |\n|tremendously in length Smiley lists novels as typically being between and words while National Novel Writing Month                                        |\n|requires its novels to be at least words There are no firm rules for example the boundary between a novella and a novel                                   |\n|is arbitrary and a literary work may be difficult to categorise But while the length of a novel is to a large extent up                                   |\n|to its writer lengths may also vary by subgenre many chapter books for children start at a length of about words and a                                    |\n|typical mystery novel might be in the to word range while a thriller could be over words                                                                  |\n|The Science Fiction and Fantasy Writers of America specifies word lengths for each category of its Nebula award categories                                |\n|Classification\\tWord count Novel over words Novella to words Novelette to words Short story under words                                                   |\n|In non fiction The acceptable length of an academic dissertation varies greatly dependent predominantly on the subject                                    |\n|Numerous American universities limit Ph.D. dissertations to at most words barring special permission for exceeding this limit                             |\n|                                                                                                                                                          |\n|                                                                                                                                                          |\n+----------------------------------------------------------------------------------------------------------------------------------------------------------+\n\n"
     ]
    }
   ],
   "source": [
    "df_s_original.show(n=1000, truncate=False)"
   ]
  },
  {
   "cell_type": "code",
   "execution_count": 0,
   "metadata": {
    "application/vnd.databricks.v1+cell": {
     "cellMetadata": {
      "byteLimit": 2048000,
      "implicitDf": true,
      "rowLimit": 10000
     },
     "inputWidgets": {},
     "nuid": "1113235e-7150-457c-b2f3-223d7168edeb",
     "showTitle": false,
     "tableResultSettingsMap": {},
     "title": ""
    }
   },
   "outputs": [],
   "source": [
    "%sql\n",
    "-- Creer le volume(emplacement) pour le fichier, si il n existe pas deja\n",
    "CREATE VOLUME IF NOT EXISTS default.tp1_output1;"
   ]
  },
  {
   "cell_type": "code",
   "execution_count": 0,
   "metadata": {
    "application/vnd.databricks.v1+cell": {
     "cellMetadata": {
      "byteLimit": 2048000,
      "rowLimit": 10000
     },
     "inputWidgets": {},
     "nuid": "4eca112b-33bb-4910-94d8-3108e80ddc92",
     "showTitle": false,
     "tableResultSettingsMap": {},
     "title": ""
    }
   },
   "outputs": [],
   "source": [
    "df_s_original.write.mode(\"overwrite\").text(\"/Volumes/workspace/default/tp1_output1\")"
   ]
  },
  {
   "cell_type": "code",
   "execution_count": 0,
   "metadata": {
    "application/vnd.databricks.v1+cell": {
     "cellMetadata": {
      "byteLimit": 2048000,
      "rowLimit": 10000
     },
     "inputWidgets": {},
     "nuid": "57f5ec1f-f0fa-4f2c-959d-4f92dbed05ae",
     "showTitle": false,
     "tableResultSettingsMap": {},
     "title": ""
    }
   },
   "outputs": [],
   "source": [
    "%python\n",
    "df_s = spark.read.text(\"/Volumes/workspace/default/tp1_output1\")"
   ]
  },
  {
   "cell_type": "code",
   "execution_count": 0,
   "metadata": {
    "application/vnd.databricks.v1+cell": {
     "cellMetadata": {
      "byteLimit": 2048000,
      "rowLimit": 10000
     },
     "inputWidgets": {},
     "nuid": "b7aeaeb8-ee85-4c40-864b-50c97465822b",
     "showTitle": false,
     "tableResultSettingsMap": {},
     "title": ""
    }
   },
   "outputs": [
    {
     "output_type": "execute_result",
     "data": {
      "text/plain": [
       "135"
      ]
     },
     "execution_count": 206,
     "metadata": {},
     "output_type": "execute_result"
    }
   ],
   "source": [
    "# Connaître le nombre de blocs\n",
    "df_s.count()"
   ]
  },
  {
   "cell_type": "code",
   "execution_count": 0,
   "metadata": {
    "application/vnd.databricks.v1+cell": {
     "cellMetadata": {
      "byteLimit": 2048000,
      "rowLimit": 10000
     },
     "inputWidgets": {},
     "nuid": "24667bf8-a46e-457b-bd67-a27ca2c6a043",
     "showTitle": false,
     "tableResultSettingsMap": {},
     "title": ""
    }
   },
   "outputs": [
    {
     "output_type": "execute_result",
     "data": {
      "text/plain": [
       "Row(value='word count from Wikipedia the free encyclopedia')"
      ]
     },
     "execution_count": 207,
     "metadata": {},
     "output_type": "execute_result"
    }
   ],
   "source": [
    "# Donner le premier element\n",
    "df_s.first()"
   ]
  },
  {
   "cell_type": "code",
   "execution_count": 0,
   "metadata": {
    "application/vnd.databricks.v1+cell": {
     "cellMetadata": {
      "byteLimit": 2048000,
      "rowLimit": 10000
     },
     "inputWidgets": {},
     "nuid": "777f13f4-f37a-4eeb-84c5-c7c85df246c7",
     "showTitle": false,
     "tableResultSettingsMap": {},
     "title": ""
    }
   },
   "outputs": [
    {
     "output_type": "execute_result",
     "data": {
      "text/plain": [
       "[Row(value='word count from Wikipedia the free encyclopedia'),\n",
       " Row(value='the word count is the number of words in a document or passage of text Word counting may be needed when a text'),\n",
       " Row(value='is required to stay within certain numbers of words This may particularly be the case in academia legal'),\n",
       " Row(value='proceedings journalism and advertising Word count is commonly used by translators to determine the price for'),\n",
       " Row(value='the translation job Word counts may also be used to calculate measures of readability and to measure typing'),\n",
       " Row(value='and reading speeds usually in words per minute When converting character counts to words a measure of five or'),\n",
       " Row(value='six characters to a word is generally used Contents Details and variations of definition Software In fiction'),\n",
       " Row(value='In non fiction See also References Sources External links Details and variations of definition'),\n",
       " Row(value='This section does not cite any references or sources Please help improve this section by adding citations to'),\n",
       " Row(value='reliable sources Unsourced material may be challenged and removed')]"
      ]
     },
     "execution_count": 208,
     "metadata": {},
     "output_type": "execute_result"
    }
   ],
   "source": [
    "# Donner les 10 premiers elements\n",
    "df_s.head(10)"
   ]
  },
  {
   "cell_type": "code",
   "execution_count": 0,
   "metadata": {
    "application/vnd.databricks.v1+cell": {
     "cellMetadata": {
      "byteLimit": 2048000,
      "rowLimit": 10000
     },
     "inputWidgets": {},
     "nuid": "906d7b2a-1c73-4cb1-842a-7aded005402c",
     "showTitle": false,
     "tableResultSettingsMap": {},
     "title": ""
    }
   },
   "outputs": [
    {
     "output_type": "stream",
     "name": "stdout",
     "output_type": "stream",
     "text": [
      "['word count from Wikipedia the free encyclopedia', 'the word count is the number of words in a document or passage of text Word counting may be needed when a text', 'is required to stay within certain numbers of words This may particularly be the case in academia legal', 'proceedings journalism and advertising Word count is commonly used by translators to determine the price for', 'the translation job Word counts may also be used to calculate measures of readability and to measure typing', 'and reading speeds usually in words per minute When converting character counts to words a measure of five or', 'six characters to a word is generally used Contents Details and variations of definition Software In fiction', 'In non fiction See also References Sources External links Details and variations of definition', 'This section does not cite any references or sources Please help improve this section by adding citations to', 'reliable sources Unsourced material may be challenged and removed']\n"
     ]
    }
   ],
   "source": [
    "# Donner 10 premiers elements sous forme de liste\n",
    "elements_list = [row.value for row in df_s.take(10)]\n",
    "print(elements_list)"
   ]
  },
  {
   "cell_type": "markdown",
   "metadata": {
    "application/vnd.databricks.v1+cell": {
     "cellMetadata": {
      "byteLimit": 2048000,
      "rowLimit": 10000
     },
     "inputWidgets": {},
     "nuid": "5fbf3186-f857-454d-a8c7-86bc9729387d",
     "showTitle": false,
     "tableResultSettingsMap": {},
     "title": ""
    }
   },
   "source": [
    "SPARK INTRODUCTION EXERCICE 2"
   ]
  },
  {
   "cell_type": "code",
   "execution_count": 0,
   "metadata": {
    "application/vnd.databricks.v1+cell": {
     "cellMetadata": {
      "byteLimit": 2048000,
      "implicitDf": true,
      "rowLimit": 10000
     },
     "inputWidgets": {},
     "nuid": "b274eb12-7fcf-4052-af11-97142092eb51",
     "showTitle": false,
     "tableResultSettingsMap": {},
     "title": ""
    }
   },
   "outputs": [],
   "source": [
    "%sql\n",
    "-- Creer le volume(emplacement) pour le fichier, si il n existe pas deja\n",
    "CREATE VOLUME IF NOT EXISTS default.Filter_word;"
   ]
  },
  {
   "cell_type": "code",
   "execution_count": 0,
   "metadata": {
    "application/vnd.databricks.v1+cell": {
     "cellMetadata": {
      "byteLimit": 2048000,
      "rowLimit": 10000
     },
     "inputWidgets": {},
     "nuid": "0d50bc31-fe2f-4b76-9d06-1fa971096b0d",
     "showTitle": false,
     "tableResultSettingsMap": {},
     "title": ""
    }
   },
   "outputs": [
    {
     "output_type": "stream",
     "name": "stdout",
     "output_type": "stream",
     "text": [
      "DataFrame[value: string]\n"
     ]
    }
   ],
   "source": [
    "# Créer un fichier contenant uniquement les blocs ayant le mot \"words\"\n",
    "df_words_filtered = df_s.filter(df_s.value.contains(\"word\"))\n",
    "print(df_words_filtered)\n",
    "df_words_filtered.write.mode(\"overwrite\").text(\"/Volumes/workspace/default/Filter_word\")"
   ]
  },
  {
   "cell_type": "code",
   "execution_count": 0,
   "metadata": {
    "application/vnd.databricks.v1+cell": {
     "cellMetadata": {
      "byteLimit": 2048000,
      "rowLimit": 10000
     },
     "inputWidgets": {},
     "nuid": "5f8f7f7e-296d-407c-8f5c-34d1151bfd3e",
     "showTitle": false,
     "tableResultSettingsMap": {},
     "title": ""
    }
   },
   "outputs": [
    {
     "output_type": "execute_result",
     "data": {
      "text/plain": [
       "[Row(value='word count from Wikipedia the free encyclopedia'),\n",
       " Row(value='the word count is the number of words in a document or passage of text Word counting may be needed when a text'),\n",
       " Row(value='is required to stay within certain numbers of words This may particularly be the case in academia legal'),\n",
       " Row(value='and reading speeds usually in words per minute When converting character counts to words a measure of five or'),\n",
       " Row(value='six characters to a word is generally used Contents Details and variations of definition Software In fiction'),\n",
       " Row(value='Variations in the operational definitions of how to count the words can occur namely what counts as a word and'),\n",
       " Row(value=\"which words don't count toward the total However especially since the advent of widespread word processing there\"),\n",
       " Row(value='The consensus is to accept the text segmentation rules generally found in most word processing software including how'),\n",
       " Row(value='word boundaries are determined which depends on how word dividers are defined The first trait of that definition is that a space any of various whitespace'),\n",
       " Row(value='characters such as a regular word space an em space or a tab character is a word divider Usually a hyphen or a slash is too')]"
      ]
     },
     "execution_count": 212,
     "metadata": {},
     "output_type": "execute_result"
    }
   ],
   "source": [
    "# 10 premiers items contenant le mot \"words\"\n",
    "df_words_filtered.take(10)"
   ]
  },
  {
   "cell_type": "code",
   "execution_count": 0,
   "metadata": {
    "application/vnd.databricks.v1+cell": {
     "cellMetadata": {
      "byteLimit": 2048000,
      "rowLimit": 10000
     },
     "inputWidgets": {},
     "nuid": "fdb4843a-3f76-4f95-b4dc-70b805fbb6ec",
     "showTitle": false,
     "tableResultSettingsMap": {},
     "title": ""
    }
   },
   "outputs": [
    {
     "output_type": "stream",
     "name": "stdout",
     "output_type": "stream",
     "text": [
      "[47, 110, 103, 109, 108, 110, 112, 117, 154, 123]\n"
     ]
    }
   ],
   "source": [
    "# compter le nombre de lettres par blocs\n",
    "print([len(row.value) for row in df_words_filtered.take(10)])"
   ]
  },
  {
   "cell_type": "code",
   "execution_count": 0,
   "metadata": {
    "application/vnd.databricks.v1+cell": {
     "cellMetadata": {
      "byteLimit": 2048000,
      "rowLimit": 10000
     },
     "inputWidgets": {},
     "nuid": "7125fe72-e9c8-41b1-bf33-aab7edfae62c",
     "showTitle": false,
     "tableResultSettingsMap": {},
     "title": ""
    }
   },
   "outputs": [
    {
     "output_type": "stream",
     "name": "stdout",
     "output_type": "stream",
     "text": [
      "Nombre total de lettres dans le fichier : 9759\n"
     ]
    }
   ],
   "source": [
    "### compter le nombre de lettre du fichier\n",
    "from pyspark.sql.functions import length\n",
    "\n",
    "# Ajouter une colonne \"length\" contenant le nombre de lettres dans chaque ligne\n",
    "df_with_length = df_words_filtered.withColumn(\"length\", length(df_words_filtered.value))\n",
    "\n",
    "# Calculer le nombre total de lettres en sommant la colonne \"length\"\n",
    "total_letters = df_with_length.agg({\"length\": \"sum\"}).collect()[0][0]\n",
    "\n",
    "# Afficher le résultat\n",
    "print(f\"Nombre total de lettres dans le fichier : {total_letters}\")\n"
   ]
  },
  {
   "cell_type": "code",
   "execution_count": 0,
   "metadata": {
    "application/vnd.databricks.v1+cell": {
     "cellMetadata": {
      "byteLimit": 2048000,
      "rowLimit": 10000
     },
     "inputWidgets": {},
     "nuid": "3ec67205-582e-4855-a9c6-98cb05fbfc18",
     "showTitle": false,
     "tableResultSettingsMap": {},
     "title": ""
    }
   },
   "outputs": [
    {
     "output_type": "stream",
     "name": "stdout",
     "output_type": "stream",
     "text": [
      "+------------+\n|mot         |\n+------------+\n|word        |\n|count       |\n|from        |\n|Wikipedia   |\n|the         |\n|free        |\n|encyclopedia|\n|the         |\n|word        |\n|count       |\n+------------+\nonly showing top 10 rows\n"
     ]
    }
   ],
   "source": [
    "# Séparer chaque ligne en mots et les aplatir (flatMap)\n",
    "from pyspark.sql.functions import split, explode\n",
    "\n",
    "mots = df_words_filtered.select(explode(split(df_words_filtered[\"value\"], \" \")).alias(\"mot\"))\n",
    "# Afficher les mots\n",
    "mots.show(10, truncate=False)"
   ]
  },
  {
   "cell_type": "code",
   "execution_count": 0,
   "metadata": {
    "application/vnd.databricks.v1+cell": {
     "cellMetadata": {
      "byteLimit": 2048000,
      "rowLimit": 10000
     },
     "inputWidgets": {},
     "nuid": "92852a77-140b-4a99-b2bc-f8722de797ec",
     "showTitle": false,
     "tableResultSettingsMap": {},
     "title": ""
    }
   },
   "outputs": [],
   "source": [
    "#### Utiliser MapinPandas car Map n'est pas accessible (pas de rdd sur databrick)\n",
    "# Impossible d'afficher les resultat car problème de conflit de version python lors de l'affichage\n",
    "# bref, spark et databricks c est pas ouf ...\n",
    "\n",
    "import pandas as pd\n",
    "# Fonction de transformation : division de la ligne en mots\n",
    "def split_into_words(p_df: pd.DataFrame) -> pd.DataFrame:\n",
    "    # Divise la colonne 'value' en mots (en supposant que 'value' est une chaîne de caractères)\n",
    "    p_df['words'] = p_df['value'].apply(lambda x: x.split())  # Split sur les espaces\n",
    "    return p_df[['words']]  # Retourne seulement la colonne 'words'\n",
    "\n",
    "# Appliquer la transformation avec mapInPandas\n",
    "df_words = df_words_filtered.mapInPandas(split_into_words, schema=\"words array<string>\")\n",
    "\n",
    "# Afficher le résultat\n",
    "#df_words.show(truncate=False)"
   ]
  },
  {
   "cell_type": "markdown",
   "metadata": {
    "application/vnd.databricks.v1+cell": {
     "cellMetadata": {},
     "inputWidgets": {},
     "nuid": "8f88df7a-669c-4a13-a5dc-b48b0b48bf07",
     "showTitle": false,
     "tableResultSettingsMap": {},
     "title": ""
    }
   },
   "source": [
    "##### a. Quelle est la différence entre ces deux fonctions ?\n",
    "Impossible d'utiliser FlatMap et Map car RDD ne fonctionne pas sur Databrick.\n",
    "On a donc fait le FlatMap en .select(explode()\n",
    "et le Map en .mapInPandas\n",
    "##### b. Le résultat retourné doit être stocké dans la mémoire. Quelle fonction utiliser ?\n",
    "rdd.cache()\n",
    "Cela ne marche pas sur Datrabrick car RDD n'est pas disponible"
   ]
  },
  {
   "cell_type": "code",
   "execution_count": 0,
   "metadata": {
    "application/vnd.databricks.v1+cell": {
     "cellMetadata": {},
     "inputWidgets": {},
     "nuid": "5775f864-c117-437f-a1e8-606c47a4b070",
     "showTitle": false,
     "tableResultSettingsMap": {},
     "title": ""
    }
   },
   "outputs": [],
   "source": []
  }
 ],
 "metadata": {
  "application/vnd.databricks.v1+notebook": {
   "computePreferences": null,
   "dashboards": [],
   "environmentMetadata": {
    "base_environment": "",
    "environment_version": "2"
   },
   "inputWidgetPreferences": null,
   "language": "python",
   "notebookMetadata": {
    "mostRecentlyExecutedCommandWithImplicitDF": {
     "commandId": 5581290597271039,
     "dataframes": [
      "_sqldf"
     ]
    },
    "pythonIndentUnit": 4
   },
   "notebookName": "Notebook Introduction_a_spark",
   "widgets": {}
  },
  "language_info": {
   "name": "python"
  }
 },
 "nbformat": 4,
 "nbformat_minor": 0
}