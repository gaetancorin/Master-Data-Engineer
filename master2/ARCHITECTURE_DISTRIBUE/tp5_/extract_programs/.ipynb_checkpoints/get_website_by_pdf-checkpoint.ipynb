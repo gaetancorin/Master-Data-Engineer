{
 "cells": [
  {
   "cell_type": "code",
   "execution_count": 7,
   "id": "1e3abca4",
   "metadata": {},
   "outputs": [
    {
     "name": "stdout",
     "output_type": "stream",
     "text": [
      "✅ Page 50 extraite et enregistrée en XML sous 'page_50.xml'\n"
     ]
    }
   ],
   "source": [
    "import fitz\n",
    "import xml.etree.ElementTree as ET\n",
    "import requests\n",
    "\n",
    "response = requests.get(\"https://festival-avignon.com/fr/telechargements/programme_FDA_79\")\n",
    "\n",
    "# Sauvegarde locale\n",
    "local_filename = \"programme_FDA_79.pdf\"\n",
    "with open(local_filename, \"wb\") as f:\n",
    "    f.write(response.content)\n",
    "\n",
    "\n",
    "# Ouvre le PDF et récupère la page\n",
    "doc = fitz.open(\"programme_FDA_79.pdf\")\n",
    "page = doc[49]\n",
    "text = page.get_text()\n",
    "\n",
    "# Nettoyage de base du texte\n",
    "lines = text.strip().split(\"\\n\")\n",
    "\n",
    "# Construction XML\n",
    "root = ET.Element(\"page\", number=\"50\")\n",
    "for i, line in enumerate(lines, start=1):\n",
    "    line_elem = ET.SubElement(root, \"line\", number=str(i))\n",
    "    line_elem.text = line\n",
    "\n",
    "# Conversion en chaîne XML\n",
    "tree = ET.ElementTree(root)\n",
    "ET.indent(tree, space=\"  \", level=0)  # Python 3.9+\n",
    "tree.write(\"page_50.xml\", encoding=\"utf-8\", xml_declaration=True)\n",
    "print(\"✅ Page 50 extraite et enregistrée en XML sous 'page_50.xml'\")"
   ]
  },
  {
   "cell_type": "code",
   "execution_count": null,
   "id": "326d54c1",
   "metadata": {},
   "outputs": [],
   "source": []
  }
 ],
 "metadata": {
  "kernelspec": {
   "display_name": "Python 3 (ipykernel)",
   "language": "python",
   "name": "python3"
  },
  "language_info": {
   "codemirror_mode": {
    "name": "ipython",
    "version": 3
   },
   "file_extension": ".py",
   "mimetype": "text/x-python",
   "name": "python",
   "nbconvert_exporter": "python",
   "pygments_lexer": "ipython3",
   "version": "3.11.5"
  }
 },
 "nbformat": 4,
 "nbformat_minor": 5
}
