{
 "cells": [
  {
   "cell_type": "code",
   "execution_count": 1,
   "id": "c4a59091",
   "metadata": {},
   "outputs": [
    {
     "name": "stdout",
     "output_type": "stream",
     "text": [
      "Index(['video_id', 'title', 'publishedAt', 'channelId', 'description',\n",
      "       'view_count', 'like_count', 'favorite_count', 'comment_count', 'tags',\n",
      "       'defaultLanguage', 'year', 'month', 'month_name',\n",
      "       'popularity_category'],\n",
      "      dtype='object')\n",
      "video_id                object\n",
      "title                   object\n",
      "publishedAt             object\n",
      "channelId               object\n",
      "description             object\n",
      "view_count               int64\n",
      "like_count             float64\n",
      "favorite_count           int64\n",
      "comment_count          float64\n",
      "tags                    object\n",
      "defaultLanguage         object\n",
      "year                     int64\n",
      "month                    int64\n",
      "month_name              object\n",
      "popularity_category     object\n",
      "dtype: object\n",
      "video_id               object\n",
      "title                  object\n",
      "publishedAt            object\n",
      "channelId              object\n",
      "description            object\n",
      "view_count              int64\n",
      "like_count              int32\n",
      "favorite_count          int32\n",
      "comment_count           int32\n",
      "tags                   object\n",
      "defaultLanguage        object\n",
      "year                    int64\n",
      "month                   int64\n",
      "month_name             object\n",
      "popularity_category    object\n",
      "dtype: object\n",
      "nb_of_videos distinct: 501\n"
     ]
    }
   ],
   "source": [
    "import pandas as pd\n",
    "\n",
    "df = pd.read_csv(\"video_info_dashboard_merged.csv\")\n",
    "print(df.columns)\n",
    "print(df.dtypes)\n",
    "\n",
    "df[[\"like_count\", \"favorite_count\", \"comment_count\"]] = df[[\"like_count\", \"favorite_count\", \"comment_count\"]].fillna(0).astype(int)\n",
    "\n",
    "print(df.dtypes)\n",
    "\n",
    "df.to_csv(\"video_info_dashboard_merged_int.csv\", index=False)\n",
    "\n",
    "print(\"nb_of_videos distinct:\", df['video_id'].nunique())"
   ]
  },
  {
   "cell_type": "code",
   "execution_count": null,
   "id": "1ffe761a",
   "metadata": {},
   "outputs": [],
   "source": []
  },
  {
   "cell_type": "code",
   "execution_count": null,
   "id": "35a031e8",
   "metadata": {},
   "outputs": [],
   "source": []
  }
 ],
 "metadata": {
  "kernelspec": {
   "display_name": "Python 3 (ipykernel)",
   "language": "python",
   "name": "python3"
  },
  "language_info": {
   "codemirror_mode": {
    "name": "ipython",
    "version": 3
   },
   "file_extension": ".py",
   "mimetype": "text/x-python",
   "name": "python",
   "nbconvert_exporter": "python",
   "pygments_lexer": "ipython3",
   "version": "3.11.5"
  }
 },
 "nbformat": 4,
 "nbformat_minor": 5
}
