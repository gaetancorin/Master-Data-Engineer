{
 "cells": [
  {
   "cell_type": "markdown",
   "metadata": {
    "id": "_WyPFSNR9hXj"
   },
   "source": [
    "#**Détection de fraudes transactionnelles**\n"
   ]
  },
  {
   "cell_type": "markdown",
   "metadata": {
    "id": "wUsCNfg2YTLr"
   },
   "source": [
    "Dans ce TP, on traitera le problème de la détection d'anomalies dans le cadre dans des transactions par des cartes bancaires. \n",
    "\n",
    "Aujourd'hui, on se situe dans un contexte où les technologies deviennent de plus en plus accessibles au grand public. Par conséquent, des délits de fraude, liès à ces technologies, augmentent aussi et en particulier les fraudes de carte bancaire . Il est donc nécessaire de développer des solutions automatiques et adaptés aux siutations de transactions frauduleuses par carte de crédit afin que les clients ne soient pas facturés pour des articles qu'ils n'ont pas achetés.\n",
    "\n",
    "Le but de ce TP est d'évaluer l'efficacité de l'algorithme de DBSCAN sur la tâche de détection de fraudes. Tout d'abord on procède à l'analyse et la prépation du jeu de données fourni. Le jeu de données contient des transactions effectuées par cartes de crédit en septembre 2013 par des titulaires de cartes européens. Ce jeu de données présente les transactions qui ont eu lieu en deux jours, où nous avons 492 fraudes sur 284 807 transactions. Le jeu de données est fortement déséquilibré, la classe positive (fraudes) représente 0,172% de toutes les transactions. \n",
    "\n",
    "Il ne contient que des caractéristiques d'entrée numériques. Pour des raisons de confidentialité, les caractéristiques V1, V2, ... V28 sont issues d'une tranformation mathématique des caractéristiques originales. Les seules caractéristiques 'Temps' et 'Montant' sont les seules à ne pas subir de transformation. La caractéristique \"Temps\" contient les secondes écoulées entre chaque transaction et la première transaction du jeu de données. La caractéristique 'Montant' est le montant de la transaction. La caractéristique \"Classe\" est la caractéristique cible et prend la valeur 1 en cas de fraude et 0 sinon.\n",
    "\n",
    "\n",
    "\n"
   ]
  },
  {
   "cell_type": "code",
   "execution_count": 3,
   "metadata": {},
   "outputs": [],
   "source": [
    "#!pip install sklearn\n",
    "#from yellowbrick.cluster import KElbowVisualizer\n",
    "import sklearn\n",
    "import datetime\n",
    "import random as rand\n",
    "from numpy.random import default_rng\n",
    "import numpy as np\n",
    "import copy\n",
    "import math\n",
    "import sys\n",
    "import matplotlib.pyplot as plt\n",
    "import pandas as pd\n",
    "import seaborn as sns\n",
    "\n",
    "from scipy.stats import spearmanr\n",
    "from sklearn.neighbors import NearestNeighbors\n",
    "from sklearn.cluster import DBSCAN\n",
    "from sklearn.preprocessing import StandardScaler\n",
    "from sklearn.utils import parallel_backend\n",
    "from sklearn.datasets import load_iris\n",
    "from sklearn import metrics"
   ]
  },
  {
   "cell_type": "code",
   "execution_count": 4,
   "metadata": {},
   "outputs": [],
   "source": [
    "fraudes_raw_full = pd.read_csv(\"jeu_de_donnees.csv\")"
   ]
  },
  {
   "cell_type": "markdown",
   "metadata": {
    "id": "LPQJOgJ6dcQS"
   },
   "source": [
    "Charger le jeu de données et afficher les 10 premières lignes. "
   ]
  },
  {
   "cell_type": "code",
   "execution_count": 5,
   "metadata": {
    "id": "1aOdbZy7ffBg"
   },
   "outputs": [
    {
     "data": {
      "text/html": [
       "<div>\n",
       "<style scoped>\n",
       "    .dataframe tbody tr th:only-of-type {\n",
       "        vertical-align: middle;\n",
       "    }\n",
       "\n",
       "    .dataframe tbody tr th {\n",
       "        vertical-align: top;\n",
       "    }\n",
       "\n",
       "    .dataframe thead th {\n",
       "        text-align: right;\n",
       "    }\n",
       "</style>\n",
       "<table border=\"1\" class=\"dataframe\">\n",
       "  <thead>\n",
       "    <tr style=\"text-align: right;\">\n",
       "      <th></th>\n",
       "      <th>Temps</th>\n",
       "      <th>V1</th>\n",
       "      <th>V2</th>\n",
       "      <th>V3</th>\n",
       "      <th>V4</th>\n",
       "      <th>V5</th>\n",
       "      <th>V6</th>\n",
       "      <th>V7</th>\n",
       "      <th>V8</th>\n",
       "      <th>V9</th>\n",
       "      <th>...</th>\n",
       "      <th>V21</th>\n",
       "      <th>V22</th>\n",
       "      <th>V23</th>\n",
       "      <th>V24</th>\n",
       "      <th>V25</th>\n",
       "      <th>V26</th>\n",
       "      <th>V27</th>\n",
       "      <th>V28</th>\n",
       "      <th>Montant</th>\n",
       "      <th>Classe</th>\n",
       "    </tr>\n",
       "  </thead>\n",
       "  <tbody>\n",
       "    <tr>\n",
       "      <th>0</th>\n",
       "      <td>0.0</td>\n",
       "      <td>-1.359807</td>\n",
       "      <td>-0.072781</td>\n",
       "      <td>2.536347</td>\n",
       "      <td>1.378155</td>\n",
       "      <td>-0.338321</td>\n",
       "      <td>0.462388</td>\n",
       "      <td>0.239599</td>\n",
       "      <td>0.098698</td>\n",
       "      <td>0.363787</td>\n",
       "      <td>...</td>\n",
       "      <td>-0.018307</td>\n",
       "      <td>0.277838</td>\n",
       "      <td>-0.110474</td>\n",
       "      <td>0.066928</td>\n",
       "      <td>0.128539</td>\n",
       "      <td>-0.189115</td>\n",
       "      <td>0.133558</td>\n",
       "      <td>-0.021053</td>\n",
       "      <td>149.62</td>\n",
       "      <td>0.0</td>\n",
       "    </tr>\n",
       "    <tr>\n",
       "      <th>1</th>\n",
       "      <td>0.0</td>\n",
       "      <td>1.191857</td>\n",
       "      <td>0.266151</td>\n",
       "      <td>0.166480</td>\n",
       "      <td>0.448154</td>\n",
       "      <td>0.060018</td>\n",
       "      <td>-0.082361</td>\n",
       "      <td>-0.078803</td>\n",
       "      <td>0.085102</td>\n",
       "      <td>-0.255425</td>\n",
       "      <td>...</td>\n",
       "      <td>-0.225775</td>\n",
       "      <td>-0.638672</td>\n",
       "      <td>0.101288</td>\n",
       "      <td>-0.339846</td>\n",
       "      <td>0.167170</td>\n",
       "      <td>0.125895</td>\n",
       "      <td>-0.008983</td>\n",
       "      <td>0.014724</td>\n",
       "      <td>2.69</td>\n",
       "      <td>0.0</td>\n",
       "    </tr>\n",
       "    <tr>\n",
       "      <th>2</th>\n",
       "      <td>1.0</td>\n",
       "      <td>-1.358354</td>\n",
       "      <td>-1.340163</td>\n",
       "      <td>1.773209</td>\n",
       "      <td>0.379780</td>\n",
       "      <td>-0.503198</td>\n",
       "      <td>1.800499</td>\n",
       "      <td>0.791461</td>\n",
       "      <td>0.247676</td>\n",
       "      <td>-1.514654</td>\n",
       "      <td>...</td>\n",
       "      <td>0.247998</td>\n",
       "      <td>0.771679</td>\n",
       "      <td>0.909412</td>\n",
       "      <td>-0.689281</td>\n",
       "      <td>-0.327642</td>\n",
       "      <td>-0.139097</td>\n",
       "      <td>-0.055353</td>\n",
       "      <td>-0.059752</td>\n",
       "      <td>378.66</td>\n",
       "      <td>0.0</td>\n",
       "    </tr>\n",
       "    <tr>\n",
       "      <th>3</th>\n",
       "      <td>1.0</td>\n",
       "      <td>-0.966272</td>\n",
       "      <td>-0.185226</td>\n",
       "      <td>1.792993</td>\n",
       "      <td>-0.863291</td>\n",
       "      <td>-0.010309</td>\n",
       "      <td>1.247203</td>\n",
       "      <td>0.237609</td>\n",
       "      <td>0.377436</td>\n",
       "      <td>-1.387024</td>\n",
       "      <td>...</td>\n",
       "      <td>-0.108300</td>\n",
       "      <td>0.005274</td>\n",
       "      <td>-0.190321</td>\n",
       "      <td>-1.175575</td>\n",
       "      <td>0.647376</td>\n",
       "      <td>-0.221929</td>\n",
       "      <td>0.062723</td>\n",
       "      <td>0.061458</td>\n",
       "      <td>123.50</td>\n",
       "      <td>0.0</td>\n",
       "    </tr>\n",
       "    <tr>\n",
       "      <th>4</th>\n",
       "      <td>2.0</td>\n",
       "      <td>-1.158233</td>\n",
       "      <td>0.877737</td>\n",
       "      <td>1.548718</td>\n",
       "      <td>0.403034</td>\n",
       "      <td>-0.407193</td>\n",
       "      <td>0.095921</td>\n",
       "      <td>0.592941</td>\n",
       "      <td>-0.270533</td>\n",
       "      <td>0.817739</td>\n",
       "      <td>...</td>\n",
       "      <td>-0.009431</td>\n",
       "      <td>0.798278</td>\n",
       "      <td>-0.137458</td>\n",
       "      <td>0.141267</td>\n",
       "      <td>-0.206010</td>\n",
       "      <td>0.502292</td>\n",
       "      <td>0.219422</td>\n",
       "      <td>0.215153</td>\n",
       "      <td>69.99</td>\n",
       "      <td>0.0</td>\n",
       "    </tr>\n",
       "    <tr>\n",
       "      <th>5</th>\n",
       "      <td>2.0</td>\n",
       "      <td>-0.425966</td>\n",
       "      <td>0.960523</td>\n",
       "      <td>1.141109</td>\n",
       "      <td>-0.168252</td>\n",
       "      <td>0.420987</td>\n",
       "      <td>-0.029728</td>\n",
       "      <td>0.476201</td>\n",
       "      <td>0.260314</td>\n",
       "      <td>-0.568671</td>\n",
       "      <td>...</td>\n",
       "      <td>-0.208254</td>\n",
       "      <td>-0.559825</td>\n",
       "      <td>-0.026398</td>\n",
       "      <td>-0.371427</td>\n",
       "      <td>-0.232794</td>\n",
       "      <td>0.105915</td>\n",
       "      <td>0.253844</td>\n",
       "      <td>0.081080</td>\n",
       "      <td>3.67</td>\n",
       "      <td>0.0</td>\n",
       "    </tr>\n",
       "    <tr>\n",
       "      <th>6</th>\n",
       "      <td>4.0</td>\n",
       "      <td>1.229658</td>\n",
       "      <td>0.141004</td>\n",
       "      <td>0.045371</td>\n",
       "      <td>1.202613</td>\n",
       "      <td>0.191881</td>\n",
       "      <td>0.272708</td>\n",
       "      <td>-0.005159</td>\n",
       "      <td>0.081213</td>\n",
       "      <td>0.464960</td>\n",
       "      <td>...</td>\n",
       "      <td>-0.167716</td>\n",
       "      <td>-0.270710</td>\n",
       "      <td>-0.154104</td>\n",
       "      <td>-0.780055</td>\n",
       "      <td>0.750137</td>\n",
       "      <td>-0.257237</td>\n",
       "      <td>0.034507</td>\n",
       "      <td>0.005168</td>\n",
       "      <td>4.99</td>\n",
       "      <td>0.0</td>\n",
       "    </tr>\n",
       "    <tr>\n",
       "      <th>7</th>\n",
       "      <td>7.0</td>\n",
       "      <td>-0.644269</td>\n",
       "      <td>1.417964</td>\n",
       "      <td>1.074380</td>\n",
       "      <td>-0.492199</td>\n",
       "      <td>0.948934</td>\n",
       "      <td>0.428118</td>\n",
       "      <td>1.120631</td>\n",
       "      <td>-3.807864</td>\n",
       "      <td>0.615375</td>\n",
       "      <td>...</td>\n",
       "      <td>1.943465</td>\n",
       "      <td>-1.015455</td>\n",
       "      <td>0.057504</td>\n",
       "      <td>-0.649709</td>\n",
       "      <td>-0.415267</td>\n",
       "      <td>-0.051634</td>\n",
       "      <td>-1.206921</td>\n",
       "      <td>-1.085339</td>\n",
       "      <td>40.80</td>\n",
       "      <td>0.0</td>\n",
       "    </tr>\n",
       "    <tr>\n",
       "      <th>8</th>\n",
       "      <td>7.0</td>\n",
       "      <td>-0.894286</td>\n",
       "      <td>0.286157</td>\n",
       "      <td>-0.113192</td>\n",
       "      <td>-0.271526</td>\n",
       "      <td>2.669599</td>\n",
       "      <td>3.721818</td>\n",
       "      <td>0.370145</td>\n",
       "      <td>0.851084</td>\n",
       "      <td>-0.392048</td>\n",
       "      <td>...</td>\n",
       "      <td>-0.073425</td>\n",
       "      <td>-0.268092</td>\n",
       "      <td>-0.204233</td>\n",
       "      <td>1.011592</td>\n",
       "      <td>0.373205</td>\n",
       "      <td>-0.384157</td>\n",
       "      <td>0.011747</td>\n",
       "      <td>0.142404</td>\n",
       "      <td>93.20</td>\n",
       "      <td>0.0</td>\n",
       "    </tr>\n",
       "    <tr>\n",
       "      <th>9</th>\n",
       "      <td>9.0</td>\n",
       "      <td>-0.338262</td>\n",
       "      <td>1.119593</td>\n",
       "      <td>1.044367</td>\n",
       "      <td>-0.222187</td>\n",
       "      <td>0.499361</td>\n",
       "      <td>-0.246761</td>\n",
       "      <td>0.651583</td>\n",
       "      <td>0.069539</td>\n",
       "      <td>-0.736727</td>\n",
       "      <td>...</td>\n",
       "      <td>-0.246914</td>\n",
       "      <td>-0.633753</td>\n",
       "      <td>-0.120794</td>\n",
       "      <td>-0.385050</td>\n",
       "      <td>-0.069733</td>\n",
       "      <td>0.094199</td>\n",
       "      <td>0.246219</td>\n",
       "      <td>0.083076</td>\n",
       "      <td>3.68</td>\n",
       "      <td>0.0</td>\n",
       "    </tr>\n",
       "  </tbody>\n",
       "</table>\n",
       "<p>10 rows × 31 columns</p>\n",
       "</div>"
      ],
      "text/plain": [
       "   Temps        V1        V2        V3        V4        V5        V6  \\\n",
       "0    0.0 -1.359807 -0.072781  2.536347  1.378155 -0.338321  0.462388   \n",
       "1    0.0  1.191857  0.266151  0.166480  0.448154  0.060018 -0.082361   \n",
       "2    1.0 -1.358354 -1.340163  1.773209  0.379780 -0.503198  1.800499   \n",
       "3    1.0 -0.966272 -0.185226  1.792993 -0.863291 -0.010309  1.247203   \n",
       "4    2.0 -1.158233  0.877737  1.548718  0.403034 -0.407193  0.095921   \n",
       "5    2.0 -0.425966  0.960523  1.141109 -0.168252  0.420987 -0.029728   \n",
       "6    4.0  1.229658  0.141004  0.045371  1.202613  0.191881  0.272708   \n",
       "7    7.0 -0.644269  1.417964  1.074380 -0.492199  0.948934  0.428118   \n",
       "8    7.0 -0.894286  0.286157 -0.113192 -0.271526  2.669599  3.721818   \n",
       "9    9.0 -0.338262  1.119593  1.044367 -0.222187  0.499361 -0.246761   \n",
       "\n",
       "         V7        V8        V9  ...       V21       V22       V23       V24  \\\n",
       "0  0.239599  0.098698  0.363787  ... -0.018307  0.277838 -0.110474  0.066928   \n",
       "1 -0.078803  0.085102 -0.255425  ... -0.225775 -0.638672  0.101288 -0.339846   \n",
       "2  0.791461  0.247676 -1.514654  ...  0.247998  0.771679  0.909412 -0.689281   \n",
       "3  0.237609  0.377436 -1.387024  ... -0.108300  0.005274 -0.190321 -1.175575   \n",
       "4  0.592941 -0.270533  0.817739  ... -0.009431  0.798278 -0.137458  0.141267   \n",
       "5  0.476201  0.260314 -0.568671  ... -0.208254 -0.559825 -0.026398 -0.371427   \n",
       "6 -0.005159  0.081213  0.464960  ... -0.167716 -0.270710 -0.154104 -0.780055   \n",
       "7  1.120631 -3.807864  0.615375  ...  1.943465 -1.015455  0.057504 -0.649709   \n",
       "8  0.370145  0.851084 -0.392048  ... -0.073425 -0.268092 -0.204233  1.011592   \n",
       "9  0.651583  0.069539 -0.736727  ... -0.246914 -0.633753 -0.120794 -0.385050   \n",
       "\n",
       "        V25       V26       V27       V28  Montant  Classe  \n",
       "0  0.128539 -0.189115  0.133558 -0.021053   149.62     0.0  \n",
       "1  0.167170  0.125895 -0.008983  0.014724     2.69     0.0  \n",
       "2 -0.327642 -0.139097 -0.055353 -0.059752   378.66     0.0  \n",
       "3  0.647376 -0.221929  0.062723  0.061458   123.50     0.0  \n",
       "4 -0.206010  0.502292  0.219422  0.215153    69.99     0.0  \n",
       "5 -0.232794  0.105915  0.253844  0.081080     3.67     0.0  \n",
       "6  0.750137 -0.257237  0.034507  0.005168     4.99     0.0  \n",
       "7 -0.415267 -0.051634 -1.206921 -1.085339    40.80     0.0  \n",
       "8  0.373205 -0.384157  0.011747  0.142404    93.20     0.0  \n",
       "9 -0.069733  0.094199  0.246219  0.083076     3.68     0.0  \n",
       "\n",
       "[10 rows x 31 columns]"
      ]
     },
     "execution_count": 5,
     "metadata": {},
     "output_type": "execute_result"
    }
   ],
   "source": [
    "fraudes_raw_full.head(10)"
   ]
  },
  {
   "cell_type": "markdown",
   "metadata": {
    "id": "FS-J7OD9CRt-"
   },
   "source": [
    "Afficher l'histogramme des nombres de cas frauduleux et cas non frauduleux."
   ]
  },
  {
   "cell_type": "code",
   "execution_count": 6,
   "metadata": {
    "id": "QgShTTmJC3nH"
   },
   "outputs": [
    {
     "data": {
      "image/png": "[encoded data removed]",
      "text/plain": [
       "<Figure size 432x288 with 1 Axes>"
      ]
     },
     "metadata": {
      "needs_background": "light"
     },
     "output_type": "display_data"
    }
   ],
   "source": [
    "hist = fraudes_raw_full['Classe'].hist()"
   ]
  },
  {
   "cell_type": "markdown",
   "metadata": {
    "id": "N5ts6fdrffyj"
   },
   "source": [
    "Réduire le nombre d'observations du jeu de données si la mémoire ram ne supporte le chargement du jeu de données. Afficher à nouveau l'histogramme des noms de cas frauduleux et cas non frauduleux. Assurez dans le jeu de données au moins 0,15% de cas frauduleux pour pouvoir effectuer la suite du tp."
   ]
  },
  {
   "cell_type": "code",
   "execution_count": 7,
   "metadata": {},
   "outputs": [],
   "source": [
    "def extract_sub_df(df, ratio):\n",
    "    mask = []\n",
    "    for i in range(len(df)):\n",
    "        if rand.random() > ratio:\n",
    "            mask.append(True)\n",
    "        else :\n",
    "            mask.append(False)\n",
    "    return df[mask]"
   ]
  },
  {
   "cell_type": "code",
   "execution_count": 8,
   "metadata": {},
   "outputs": [],
   "source": [
    "frauds = fraudes_raw_full[fraudes_raw_full['Classe'].astype(bool)]\n",
    "clear = fraudes_raw_full[~fraudes_raw_full['Classe'].astype(bool)]"
   ]
  },
  {
   "cell_type": "code",
   "execution_count": 9,
   "metadata": {},
   "outputs": [
    {
     "data": {
      "text/plain": [
       "492"
      ]
     },
     "execution_count": 9,
     "metadata": {},
     "output_type": "execute_result"
    }
   ],
   "source": [
    "frauds.shape[0]"
   ]
  },
  {
   "cell_type": "code",
   "execution_count": 10,
   "metadata": {},
   "outputs": [
    {
     "name": "stdout",
     "output_type": "stream",
     "text": [
      "Le jeux de données doit être composé d'au moins : 43 observation frauduleuse\n"
     ]
    }
   ],
   "source": [
    "clear_reduced = extract_sub_df(clear, 0.90)\n",
    "number = clear_reduced.shape[0] * 0.15/100\n",
    "print(\"Le jeux de données doit être composé d'au moins : \" + str(round(number)) +\" observation frauduleuse\")"
   ]
  },
  {
   "cell_type": "code",
   "execution_count": 11,
   "metadata": {},
   "outputs": [],
   "source": [
    "mask = []\n",
    "for i in range(len(frauds)):\n",
    "    if rand.random() > 1-(number/len(frauds)*2) :\n",
    "        mask.append(True)\n",
    "    else :\n",
    "        mask.append(False)\n",
    "\n",
    "mask = np.array(mask).astype(bool)"
   ]
  },
  {
   "cell_type": "code",
   "execution_count": 12,
   "metadata": {},
   "outputs": [
    {
     "data": {
      "text/plain": [
       "(69, 31)"
      ]
     },
     "execution_count": 12,
     "metadata": {},
     "output_type": "execute_result"
    }
   ],
   "source": [
    "frauds[mask].shape"
   ]
  },
  {
   "cell_type": "code",
   "execution_count": 13,
   "metadata": {},
   "outputs": [],
   "source": [
    "fraudes_raw = copy.deepcopy(clear_reduced.append(frauds[mask]))"
   ]
  },
  {
   "cell_type": "markdown",
   "metadata": {
    "id": "2ePyiNuntWbz"
   },
   "source": [
    "Afficher la taille du jeu de données."
   ]
  },
  {
   "cell_type": "code",
   "execution_count": 14,
   "metadata": {
    "id": "HYdwzd7zthMg"
   },
   "outputs": [
    {
     "name": "stdout",
     "output_type": "stream",
     "text": [
      "(28755, 31)\n"
     ]
    },
    {
     "data": {
      "image/png": "[encoded data removed]",
      "text/plain": [
       "<Figure size 432x288 with 1 Axes>"
      ]
     },
     "metadata": {
      "needs_background": "light"
     },
     "output_type": "display_data"
    }
   ],
   "source": [
    "print(fraudes_raw.shape)\n",
    "hist = fraudes_raw['Classe'].hist()"
   ]
  },
  {
   "cell_type": "markdown",
   "metadata": {
    "id": "wTl6oHlethyn"
   },
   "source": [
    "Supprimer les doublons dans le cas échéant."
   ]
  },
  {
   "cell_type": "code",
   "execution_count": 15,
   "metadata": {
    "id": "CwW7l5k0t8B6"
   },
   "outputs": [
    {
     "name": "stdout",
     "output_type": "stream",
     "text": [
      "18 rows deleted\n"
     ]
    }
   ],
   "source": [
    "fraudes_no_duplicates = fraudes_raw.drop_duplicates()\n",
    "print(str(fraudes_raw.shape[0] - fraudes_no_duplicates.shape[0]) + \" rows deleted\")"
   ]
  },
  {
   "cell_type": "code",
   "execution_count": 16,
   "metadata": {},
   "outputs": [],
   "source": [
    "clear = clear.drop_duplicates()"
   ]
  },
  {
   "cell_type": "markdown",
   "metadata": {
    "id": "N16cEjmUt8oy"
   },
   "source": [
    "Vérifier s'il y a présence des valeurs manquantes. Le cas échéant, supprimer les lignes concernées. \n",
    "\n",
    "\n"
   ]
  },
  {
   "cell_type": "code",
   "execution_count": 17,
   "metadata": {
    "id": "9r-TtVjOuMua"
   },
   "outputs": [
    {
     "name": "stdout",
     "output_type": "stream",
     "text": [
      "0 rows deleted\n"
     ]
    }
   ],
   "source": [
    "fraudes_no_null = fraudes_no_duplicates.dropna()\n",
    "print(str(fraudes_no_duplicates.shape[0] - fraudes_no_null.shape[0]) + \" rows deleted\")"
   ]
  },
  {
   "cell_type": "code",
   "execution_count": 18,
   "metadata": {},
   "outputs": [],
   "source": [
    "clear = clear.dropna()"
   ]
  },
  {
   "cell_type": "code",
   "execution_count": 19,
   "metadata": {},
   "outputs": [
    {
     "data": {
      "text/html": [
       "<div>\n",
       "<style scoped>\n",
       "    .dataframe tbody tr th:only-of-type {\n",
       "        vertical-align: middle;\n",
       "    }\n",
       "\n",
       "    .dataframe tbody tr th {\n",
       "        vertical-align: top;\n",
       "    }\n",
       "\n",
       "    .dataframe thead th {\n",
       "        text-align: right;\n",
       "    }\n",
       "</style>\n",
       "<table border=\"1\" class=\"dataframe\">\n",
       "  <thead>\n",
       "    <tr style=\"text-align: right;\">\n",
       "      <th></th>\n",
       "      <th>Temps</th>\n",
       "      <th>V1</th>\n",
       "      <th>V2</th>\n",
       "      <th>V3</th>\n",
       "      <th>V4</th>\n",
       "      <th>V5</th>\n",
       "      <th>V6</th>\n",
       "      <th>V7</th>\n",
       "      <th>V8</th>\n",
       "      <th>V9</th>\n",
       "      <th>...</th>\n",
       "      <th>V21</th>\n",
       "      <th>V22</th>\n",
       "      <th>V23</th>\n",
       "      <th>V24</th>\n",
       "      <th>V25</th>\n",
       "      <th>V26</th>\n",
       "      <th>V27</th>\n",
       "      <th>V28</th>\n",
       "      <th>Montant</th>\n",
       "      <th>Classe</th>\n",
       "    </tr>\n",
       "  </thead>\n",
       "  <tbody>\n",
       "    <tr>\n",
       "      <th>count</th>\n",
       "      <td>283253.000000</td>\n",
       "      <td>283253.000000</td>\n",
       "      <td>283253.000000</td>\n",
       "      <td>283253.000000</td>\n",
       "      <td>283253.000000</td>\n",
       "      <td>283253.000000</td>\n",
       "      <td>283253.000000</td>\n",
       "      <td>283253.000000</td>\n",
       "      <td>283253.000000</td>\n",
       "      <td>283253.000000</td>\n",
       "      <td>...</td>\n",
       "      <td>283253.000000</td>\n",
       "      <td>283253.000000</td>\n",
       "      <td>283253.000000</td>\n",
       "      <td>283253.000000</td>\n",
       "      <td>283253.000000</td>\n",
       "      <td>283253.000000</td>\n",
       "      <td>283253.000000</td>\n",
       "      <td>283253.000000</td>\n",
       "      <td>283253.000000</td>\n",
       "      <td>283253.0</td>\n",
       "    </tr>\n",
       "    <tr>\n",
       "      <th>mean</th>\n",
       "      <td>94835.058093</td>\n",
       "      <td>0.013439</td>\n",
       "      <td>-0.009829</td>\n",
       "      <td>0.012853</td>\n",
       "      <td>-0.010440</td>\n",
       "      <td>0.006769</td>\n",
       "      <td>0.001251</td>\n",
       "      <td>0.010447</td>\n",
       "      <td>-0.002448</td>\n",
       "      <td>0.002613</td>\n",
       "      <td>...</td>\n",
       "      <td>-0.001150</td>\n",
       "      <td>-0.000160</td>\n",
       "      <td>0.000360</td>\n",
       "      <td>0.000393</td>\n",
       "      <td>-0.000301</td>\n",
       "      <td>0.000065</td>\n",
       "      <td>0.001409</td>\n",
       "      <td>0.000418</td>\n",
       "      <td>88.413575</td>\n",
       "      <td>0.0</td>\n",
       "    </tr>\n",
       "    <tr>\n",
       "      <th>std</th>\n",
       "      <td>47475.550607</td>\n",
       "      <td>1.922179</td>\n",
       "      <td>1.633520</td>\n",
       "      <td>1.457593</td>\n",
       "      <td>1.398575</td>\n",
       "      <td>1.355816</td>\n",
       "      <td>1.329914</td>\n",
       "      <td>1.177480</td>\n",
       "      <td>1.157140</td>\n",
       "      <td>1.086902</td>\n",
       "      <td>...</td>\n",
       "      <td>0.715629</td>\n",
       "      <td>0.723541</td>\n",
       "      <td>0.621165</td>\n",
       "      <td>0.605748</td>\n",
       "      <td>0.520612</td>\n",
       "      <td>0.482080</td>\n",
       "      <td>0.392700</td>\n",
       "      <td>0.327563</td>\n",
       "      <td>250.379023</td>\n",
       "      <td>0.0</td>\n",
       "    </tr>\n",
       "    <tr>\n",
       "      <th>min</th>\n",
       "      <td>0.000000</td>\n",
       "      <td>-56.407510</td>\n",
       "      <td>-72.715728</td>\n",
       "      <td>-48.325589</td>\n",
       "      <td>-5.683171</td>\n",
       "      <td>-113.743307</td>\n",
       "      <td>-26.160506</td>\n",
       "      <td>-31.764946</td>\n",
       "      <td>-73.216718</td>\n",
       "      <td>-6.290730</td>\n",
       "      <td>...</td>\n",
       "      <td>-34.830382</td>\n",
       "      <td>-10.933144</td>\n",
       "      <td>-44.807735</td>\n",
       "      <td>-2.836627</td>\n",
       "      <td>-10.295397</td>\n",
       "      <td>-2.604551</td>\n",
       "      <td>-22.565679</td>\n",
       "      <td>-15.430084</td>\n",
       "      <td>0.000000</td>\n",
       "      <td>0.0</td>\n",
       "    </tr>\n",
       "    <tr>\n",
       "      <th>25%</th>\n",
       "      <td>54233.000000</td>\n",
       "      <td>-0.913431</td>\n",
       "      <td>-0.601398</td>\n",
       "      <td>-0.883966</td>\n",
       "      <td>-0.851605</td>\n",
       "      <td>-0.687888</td>\n",
       "      <td>-0.767543</td>\n",
       "      <td>-0.550146</td>\n",
       "      <td>-0.208841</td>\n",
       "      <td>-0.641649</td>\n",
       "      <td>...</td>\n",
       "      <td>-0.228406</td>\n",
       "      <td>-0.542737</td>\n",
       "      <td>-0.161490</td>\n",
       "      <td>-0.354306</td>\n",
       "      <td>-0.317476</td>\n",
       "      <td>-0.326853</td>\n",
       "      <td>-0.070650</td>\n",
       "      <td>-0.052808</td>\n",
       "      <td>5.670000</td>\n",
       "      <td>0.0</td>\n",
       "    </tr>\n",
       "    <tr>\n",
       "      <th>50%</th>\n",
       "      <td>84711.000000</td>\n",
       "      <td>0.022562</td>\n",
       "      <td>0.062561</td>\n",
       "      <td>0.182247</td>\n",
       "      <td>-0.024500</td>\n",
       "      <td>-0.052807</td>\n",
       "      <td>-0.274172</td>\n",
       "      <td>0.041664</td>\n",
       "      <td>0.021633</td>\n",
       "      <td>-0.051368</td>\n",
       "      <td>...</td>\n",
       "      <td>-0.029798</td>\n",
       "      <td>0.006675</td>\n",
       "      <td>-0.011077</td>\n",
       "      <td>0.041115</td>\n",
       "      <td>0.016190</td>\n",
       "      <td>-0.052293</td>\n",
       "      <td>0.001368</td>\n",
       "      <td>0.011238</td>\n",
       "      <td>22.000000</td>\n",
       "      <td>0.0</td>\n",
       "    </tr>\n",
       "    <tr>\n",
       "      <th>75%</th>\n",
       "      <td>139308.000000</td>\n",
       "      <td>1.316788</td>\n",
       "      <td>0.797012</td>\n",
       "      <td>1.028261</td>\n",
       "      <td>0.734231</td>\n",
       "      <td>0.612442</td>\n",
       "      <td>0.397678</td>\n",
       "      <td>0.571029</td>\n",
       "      <td>0.324473</td>\n",
       "      <td>0.596969</td>\n",
       "      <td>...</td>\n",
       "      <td>0.185470</td>\n",
       "      <td>0.528136</td>\n",
       "      <td>0.147633</td>\n",
       "      <td>0.440051</td>\n",
       "      <td>0.350490</td>\n",
       "      <td>0.240023</td>\n",
       "      <td>0.090760</td>\n",
       "      <td>0.077961</td>\n",
       "      <td>77.460000</td>\n",
       "      <td>0.0</td>\n",
       "    </tr>\n",
       "    <tr>\n",
       "      <th>max</th>\n",
       "      <td>172792.000000</td>\n",
       "      <td>2.454930</td>\n",
       "      <td>18.902453</td>\n",
       "      <td>9.382558</td>\n",
       "      <td>16.875344</td>\n",
       "      <td>34.801666</td>\n",
       "      <td>73.301626</td>\n",
       "      <td>120.589494</td>\n",
       "      <td>18.709255</td>\n",
       "      <td>15.594995</td>\n",
       "      <td>...</td>\n",
       "      <td>22.614889</td>\n",
       "      <td>10.503090</td>\n",
       "      <td>22.528412</td>\n",
       "      <td>4.584549</td>\n",
       "      <td>7.519589</td>\n",
       "      <td>3.517346</td>\n",
       "      <td>31.612198</td>\n",
       "      <td>33.847808</td>\n",
       "      <td>25691.160000</td>\n",
       "      <td>0.0</td>\n",
       "    </tr>\n",
       "  </tbody>\n",
       "</table>\n",
       "<p>8 rows × 31 columns</p>\n",
       "</div>"
      ],
      "text/plain": [
       "               Temps             V1             V2             V3  \\\n",
       "count  283253.000000  283253.000000  283253.000000  283253.000000   \n",
       "mean    94835.058093       0.013439      -0.009829       0.012853   \n",
       "std     47475.550607       1.922179       1.633520       1.457593   \n",
       "min         0.000000     -56.407510     -72.715728     -48.325589   \n",
       "25%     54233.000000      -0.913431      -0.601398      -0.883966   \n",
       "50%     84711.000000       0.022562       0.062561       0.182247   \n",
       "75%    139308.000000       1.316788       0.797012       1.028261   \n",
       "max    172792.000000       2.454930      18.902453       9.382558   \n",
       "\n",
       "                  V4             V5             V6             V7  \\\n",
       "count  283253.000000  283253.000000  283253.000000  283253.000000   \n",
       "mean       -0.010440       0.006769       0.001251       0.010447   \n",
       "std         1.398575       1.355816       1.329914       1.177480   \n",
       "min        -5.683171    -113.743307     -26.160506     -31.764946   \n",
       "25%        -0.851605      -0.687888      -0.767543      -0.550146   \n",
       "50%        -0.024500      -0.052807      -0.274172       0.041664   \n",
       "75%         0.734231       0.612442       0.397678       0.571029   \n",
       "max        16.875344      34.801666      73.301626     120.589494   \n",
       "\n",
       "                  V8             V9  ...            V21            V22  \\\n",
       "count  283253.000000  283253.000000  ...  283253.000000  283253.000000   \n",
       "mean       -0.002448       0.002613  ...      -0.001150      -0.000160   \n",
       "std         1.157140       1.086902  ...       0.715629       0.723541   \n",
       "min       -73.216718      -6.290730  ...     -34.830382     -10.933144   \n",
       "25%        -0.208841      -0.641649  ...      -0.228406      -0.542737   \n",
       "50%         0.021633      -0.051368  ...      -0.029798       0.006675   \n",
       "75%         0.324473       0.596969  ...       0.185470       0.528136   \n",
       "max        18.709255      15.594995  ...      22.614889      10.503090   \n",
       "\n",
       "                 V23            V24            V25            V26  \\\n",
       "count  283253.000000  283253.000000  283253.000000  283253.000000   \n",
       "mean        0.000360       0.000393      -0.000301       0.000065   \n",
       "std         0.621165       0.605748       0.520612       0.482080   \n",
       "min       -44.807735      -2.836627     -10.295397      -2.604551   \n",
       "25%        -0.161490      -0.354306      -0.317476      -0.326853   \n",
       "50%        -0.011077       0.041115       0.016190      -0.052293   \n",
       "75%         0.147633       0.440051       0.350490       0.240023   \n",
       "max        22.528412       4.584549       7.519589       3.517346   \n",
       "\n",
       "                 V27            V28        Montant    Classe  \n",
       "count  283253.000000  283253.000000  283253.000000  283253.0  \n",
       "mean        0.001409       0.000418      88.413575       0.0  \n",
       "std         0.392700       0.327563     250.379023       0.0  \n",
       "min       -22.565679     -15.430084       0.000000       0.0  \n",
       "25%        -0.070650      -0.052808       5.670000       0.0  \n",
       "50%         0.001368       0.011238      22.000000       0.0  \n",
       "75%         0.090760       0.077961      77.460000       0.0  \n",
       "max        31.612198      33.847808   25691.160000       0.0  \n",
       "\n",
       "[8 rows x 31 columns]"
      ]
     },
     "execution_count": 19,
     "metadata": {},
     "output_type": "execute_result"
    }
   ],
   "source": [
    "clear.describe()"
   ]
  },
  {
   "cell_type": "markdown",
   "metadata": {
    "id": "sHwX6a8iuNo7"
   },
   "source": [
    "Procéder à une analyse statistique descriptive de chaque caractéristique (moyenne, variance et autres valeurs statistiques....)"
   ]
  },
  {
   "cell_type": "code",
   "execution_count": 20,
   "metadata": {
    "id": "q-qqgiBcxhSB"
   },
   "outputs": [
    {
     "data": {
      "text/html": [
       "<div>\n",
       "<style scoped>\n",
       "    .dataframe tbody tr th:only-of-type {\n",
       "        vertical-align: middle;\n",
       "    }\n",
       "\n",
       "    .dataframe tbody tr th {\n",
       "        vertical-align: top;\n",
       "    }\n",
       "\n",
       "    .dataframe thead th {\n",
       "        text-align: right;\n",
       "    }\n",
       "</style>\n",
       "<table border=\"1\" class=\"dataframe\">\n",
       "  <thead>\n",
       "    <tr style=\"text-align: right;\">\n",
       "      <th></th>\n",
       "      <th>Temps</th>\n",
       "      <th>V1</th>\n",
       "      <th>V2</th>\n",
       "      <th>V3</th>\n",
       "      <th>V4</th>\n",
       "      <th>V5</th>\n",
       "      <th>V6</th>\n",
       "      <th>V7</th>\n",
       "      <th>V8</th>\n",
       "      <th>V9</th>\n",
       "      <th>...</th>\n",
       "      <th>V21</th>\n",
       "      <th>V22</th>\n",
       "      <th>V23</th>\n",
       "      <th>V24</th>\n",
       "      <th>V25</th>\n",
       "      <th>V26</th>\n",
       "      <th>V27</th>\n",
       "      <th>V28</th>\n",
       "      <th>Montant</th>\n",
       "      <th>Classe</th>\n",
       "    </tr>\n",
       "  </thead>\n",
       "  <tbody>\n",
       "    <tr>\n",
       "      <th>count</th>\n",
       "      <td>28737.000000</td>\n",
       "      <td>28737.000000</td>\n",
       "      <td>28737.000000</td>\n",
       "      <td>28737.000000</td>\n",
       "      <td>28737.000000</td>\n",
       "      <td>28737.000000</td>\n",
       "      <td>28737.000000</td>\n",
       "      <td>28737.000000</td>\n",
       "      <td>28737.000000</td>\n",
       "      <td>28737.000000</td>\n",
       "      <td>...</td>\n",
       "      <td>28737.000000</td>\n",
       "      <td>28737.000000</td>\n",
       "      <td>28737.000000</td>\n",
       "      <td>28737.000000</td>\n",
       "      <td>28737.000000</td>\n",
       "      <td>28737.000000</td>\n",
       "      <td>28737.000000</td>\n",
       "      <td>28737.000000</td>\n",
       "      <td>28737.000000</td>\n",
       "      <td>28737.000000</td>\n",
       "    </tr>\n",
       "    <tr>\n",
       "      <th>mean</th>\n",
       "      <td>94844.353934</td>\n",
       "      <td>-0.012559</td>\n",
       "      <td>-0.005879</td>\n",
       "      <td>0.000802</td>\n",
       "      <td>0.001165</td>\n",
       "      <td>0.008790</td>\n",
       "      <td>0.009921</td>\n",
       "      <td>0.003645</td>\n",
       "      <td>0.010637</td>\n",
       "      <td>-0.008663</td>\n",
       "      <td>...</td>\n",
       "      <td>-0.010198</td>\n",
       "      <td>-0.003289</td>\n",
       "      <td>-0.005878</td>\n",
       "      <td>-0.000625</td>\n",
       "      <td>0.001749</td>\n",
       "      <td>0.000845</td>\n",
       "      <td>0.003039</td>\n",
       "      <td>0.001402</td>\n",
       "      <td>89.081559</td>\n",
       "      <td>0.002401</td>\n",
       "    </tr>\n",
       "    <tr>\n",
       "      <th>std</th>\n",
       "      <td>47432.235450</td>\n",
       "      <td>1.982766</td>\n",
       "      <td>1.682110</td>\n",
       "      <td>1.529284</td>\n",
       "      <td>1.429622</td>\n",
       "      <td>1.375380</td>\n",
       "      <td>1.328111</td>\n",
       "      <td>1.206559</td>\n",
       "      <td>1.135135</td>\n",
       "      <td>1.102993</td>\n",
       "      <td>...</td>\n",
       "      <td>0.677716</td>\n",
       "      <td>0.718468</td>\n",
       "      <td>0.634835</td>\n",
       "      <td>0.607252</td>\n",
       "      <td>0.524356</td>\n",
       "      <td>0.481595</td>\n",
       "      <td>0.395704</td>\n",
       "      <td>0.350840</td>\n",
       "      <td>242.669358</td>\n",
       "      <td>0.048943</td>\n",
       "    </tr>\n",
       "    <tr>\n",
       "      <th>min</th>\n",
       "      <td>12.000000</td>\n",
       "      <td>-37.558067</td>\n",
       "      <td>-44.639245</td>\n",
       "      <td>-30.177317</td>\n",
       "      <td>-5.600607</td>\n",
       "      <td>-35.182120</td>\n",
       "      <td>-21.248752</td>\n",
       "      <td>-31.197329</td>\n",
       "      <td>-39.267378</td>\n",
       "      <td>-9.462573</td>\n",
       "      <td>...</td>\n",
       "      <td>-18.603088</td>\n",
       "      <td>-7.417140</td>\n",
       "      <td>-27.215436</td>\n",
       "      <td>-2.759942</td>\n",
       "      <td>-5.785255</td>\n",
       "      <td>-1.726928</td>\n",
       "      <td>-8.839766</td>\n",
       "      <td>-8.364853</td>\n",
       "      <td>0.000000</td>\n",
       "      <td>0.000000</td>\n",
       "    </tr>\n",
       "    <tr>\n",
       "      <th>25%</th>\n",
       "      <td>54240.000000</td>\n",
       "      <td>-0.932623</td>\n",
       "      <td>-0.600538</td>\n",
       "      <td>-0.893273</td>\n",
       "      <td>-0.860611</td>\n",
       "      <td>-0.687410</td>\n",
       "      <td>-0.766649</td>\n",
       "      <td>-0.551935</td>\n",
       "      <td>-0.205443</td>\n",
       "      <td>-0.646656</td>\n",
       "      <td>...</td>\n",
       "      <td>-0.228988</td>\n",
       "      <td>-0.545198</td>\n",
       "      <td>-0.164260</td>\n",
       "      <td>-0.357540</td>\n",
       "      <td>-0.313012</td>\n",
       "      <td>-0.325496</td>\n",
       "      <td>-0.070450</td>\n",
       "      <td>-0.053242</td>\n",
       "      <td>5.900000</td>\n",
       "      <td>0.000000</td>\n",
       "    </tr>\n",
       "    <tr>\n",
       "      <th>50%</th>\n",
       "      <td>84599.000000</td>\n",
       "      <td>-0.002930</td>\n",
       "      <td>0.072932</td>\n",
       "      <td>0.181191</td>\n",
       "      <td>-0.022783</td>\n",
       "      <td>-0.046450</td>\n",
       "      <td>-0.264604</td>\n",
       "      <td>0.046538</td>\n",
       "      <td>0.028943</td>\n",
       "      <td>-0.052999</td>\n",
       "      <td>...</td>\n",
       "      <td>-0.031261</td>\n",
       "      <td>0.004314</td>\n",
       "      <td>-0.012744</td>\n",
       "      <td>0.040610</td>\n",
       "      <td>0.019181</td>\n",
       "      <td>-0.051452</td>\n",
       "      <td>0.002107</td>\n",
       "      <td>0.011169</td>\n",
       "      <td>21.240000</td>\n",
       "      <td>0.000000</td>\n",
       "    </tr>\n",
       "    <tr>\n",
       "      <th>75%</th>\n",
       "      <td>139248.000000</td>\n",
       "      <td>1.310308</td>\n",
       "      <td>0.815910</td>\n",
       "      <td>1.034942</td>\n",
       "      <td>0.744601</td>\n",
       "      <td>0.624076</td>\n",
       "      <td>0.416928</td>\n",
       "      <td>0.575698</td>\n",
       "      <td>0.334700</td>\n",
       "      <td>0.590956</td>\n",
       "      <td>...</td>\n",
       "      <td>0.183344</td>\n",
       "      <td>0.518910</td>\n",
       "      <td>0.143435</td>\n",
       "      <td>0.436517</td>\n",
       "      <td>0.350281</td>\n",
       "      <td>0.238309</td>\n",
       "      <td>0.092987</td>\n",
       "      <td>0.077875</td>\n",
       "      <td>77.000000</td>\n",
       "      <td>0.000000</td>\n",
       "    </tr>\n",
       "    <tr>\n",
       "      <th>max</th>\n",
       "      <td>172787.000000</td>\n",
       "      <td>2.418802</td>\n",
       "      <td>16.497472</td>\n",
       "      <td>4.079168</td>\n",
       "      <td>12.114672</td>\n",
       "      <td>31.457046</td>\n",
       "      <td>21.550496</td>\n",
       "      <td>36.877368</td>\n",
       "      <td>18.748872</td>\n",
       "      <td>9.099082</td>\n",
       "      <td>...</td>\n",
       "      <td>15.631453</td>\n",
       "      <td>6.790452</td>\n",
       "      <td>15.879421</td>\n",
       "      <td>4.014444</td>\n",
       "      <td>7.519589</td>\n",
       "      <td>3.067907</td>\n",
       "      <td>10.135597</td>\n",
       "      <td>22.620072</td>\n",
       "      <td>6900.470000</td>\n",
       "      <td>1.000000</td>\n",
       "    </tr>\n",
       "  </tbody>\n",
       "</table>\n",
       "<p>8 rows × 31 columns</p>\n",
       "</div>"
      ],
      "text/plain": [
       "               Temps            V1            V2            V3            V4  \\\n",
       "count   28737.000000  28737.000000  28737.000000  28737.000000  28737.000000   \n",
       "mean    94844.353934     -0.012559     -0.005879      0.000802      0.001165   \n",
       "std     47432.235450      1.982766      1.682110      1.529284      1.429622   \n",
       "min        12.000000    -37.558067    -44.639245    -30.177317     -5.600607   \n",
       "25%     54240.000000     -0.932623     -0.600538     -0.893273     -0.860611   \n",
       "50%     84599.000000     -0.002930      0.072932      0.181191     -0.022783   \n",
       "75%    139248.000000      1.310308      0.815910      1.034942      0.744601   \n",
       "max    172787.000000      2.418802     16.497472      4.079168     12.114672   \n",
       "\n",
       "                 V5            V6            V7            V8            V9  \\\n",
       "count  28737.000000  28737.000000  28737.000000  28737.000000  28737.000000   \n",
       "mean       0.008790      0.009921      0.003645      0.010637     -0.008663   \n",
       "std        1.375380      1.328111      1.206559      1.135135      1.102993   \n",
       "min      -35.182120    -21.248752    -31.197329    -39.267378     -9.462573   \n",
       "25%       -0.687410     -0.766649     -0.551935     -0.205443     -0.646656   \n",
       "50%       -0.046450     -0.264604      0.046538      0.028943     -0.052999   \n",
       "75%        0.624076      0.416928      0.575698      0.334700      0.590956   \n",
       "max       31.457046     21.550496     36.877368     18.748872      9.099082   \n",
       "\n",
       "       ...           V21           V22           V23           V24  \\\n",
       "count  ...  28737.000000  28737.000000  28737.000000  28737.000000   \n",
       "mean   ...     -0.010198     -0.003289     -0.005878     -0.000625   \n",
       "std    ...      0.677716      0.718468      0.634835      0.607252   \n",
       "min    ...    -18.603088     -7.417140    -27.215436     -2.759942   \n",
       "25%    ...     -0.228988     -0.545198     -0.164260     -0.357540   \n",
       "50%    ...     -0.031261      0.004314     -0.012744      0.040610   \n",
       "75%    ...      0.183344      0.518910      0.143435      0.436517   \n",
       "max    ...     15.631453      6.790452     15.879421      4.014444   \n",
       "\n",
       "                V25           V26           V27           V28       Montant  \\\n",
       "count  28737.000000  28737.000000  28737.000000  28737.000000  28737.000000   \n",
       "mean       0.001749      0.000845      0.003039      0.001402     89.081559   \n",
       "std        0.524356      0.481595      0.395704      0.350840    242.669358   \n",
       "min       -5.785255     -1.726928     -8.839766     -8.364853      0.000000   \n",
       "25%       -0.313012     -0.325496     -0.070450     -0.053242      5.900000   \n",
       "50%        0.019181     -0.051452      0.002107      0.011169     21.240000   \n",
       "75%        0.350281      0.238309      0.092987      0.077875     77.000000   \n",
       "max        7.519589      3.067907     10.135597     22.620072   6900.470000   \n",
       "\n",
       "             Classe  \n",
       "count  28737.000000  \n",
       "mean       0.002401  \n",
       "std        0.048943  \n",
       "min        0.000000  \n",
       "25%        0.000000  \n",
       "50%        0.000000  \n",
       "75%        0.000000  \n",
       "max        1.000000  \n",
       "\n",
       "[8 rows x 31 columns]"
      ]
     },
     "execution_count": 20,
     "metadata": {},
     "output_type": "execute_result"
    }
   ],
   "source": [
    "fraudes_no_null.describe()"
   ]
  },
  {
   "cell_type": "markdown",
   "metadata": {
    "id": "nKJAyn4Hxh2d"
   },
   "source": [
    "Tracer des histogrammes des différentes caractéristiques V1 - V28 pour déterminer lesquelles sont importantes ou discriminantes par rapport à la classe. Deux histogrammes de couleur différente(un pour les cas fraduleux et l'autre des cas normaux) par caractéristique sont attendus dans un même graphe."
   ]
  },
  {
   "cell_type": "code",
   "execution_count": 21,
   "metadata": {
    "id": "jZwd9j5Lz1D4"
   },
   "outputs": [
    {
     "data": {
      "text/plain": [
       "array([[<AxesSubplot:title={'center':'V1'}>,\n",
       "        <AxesSubplot:title={'center':'V2'}>,\n",
       "        <AxesSubplot:title={'center':'V3'}>,\n",
       "        <AxesSubplot:title={'center':'V4'}>,\n",
       "        <AxesSubplot:title={'center':'V5'}>],\n",
       "       [<AxesSubplot:title={'center':'V6'}>,\n",
       "        <AxesSubplot:title={'center':'V7'}>,\n",
       "        <AxesSubplot:title={'center':'V8'}>,\n",
       "        <AxesSubplot:title={'center':'V9'}>,\n",
       "        <AxesSubplot:title={'center':'V10'}>],\n",
       "       [<AxesSubplot:title={'center':'V11'}>,\n",
       "        <AxesSubplot:title={'center':'V12'}>,\n",
       "        <AxesSubplot:title={'center':'V13'}>,\n",
       "        <AxesSubplot:title={'center':'V14'}>,\n",
       "        <AxesSubplot:title={'center':'V15'}>],\n",
       "       [<AxesSubplot:title={'center':'V16'}>,\n",
       "        <AxesSubplot:title={'center':'V17'}>,\n",
       "        <AxesSubplot:title={'center':'V18'}>,\n",
       "        <AxesSubplot:title={'center':'V19'}>,\n",
       "        <AxesSubplot:title={'center':'V20'}>],\n",
       "       [<AxesSubplot:title={'center':'V21'}>,\n",
       "        <AxesSubplot:title={'center':'V22'}>,\n",
       "        <AxesSubplot:title={'center':'V23'}>,\n",
       "        <AxesSubplot:title={'center':'V24'}>,\n",
       "        <AxesSubplot:title={'center':'V25'}>],\n",
       "       [<AxesSubplot:title={'center':'V26'}>,\n",
       "        <AxesSubplot:title={'center':'V27'}>,\n",
       "        <AxesSubplot:title={'center':'V28'}>, <AxesSubplot:>,\n",
       "        <AxesSubplot:>]], dtype=object)"
      ]
     },
     "execution_count": 21,
     "metadata": {},
     "output_type": "execute_result"
    },
    {
     "data": {
      "image/png": "[encoded data removed]",
      "text/plain": [
       "<Figure size 432x288 with 30 Axes>"
      ]
     },
     "metadata": {
      "needs_background": "light"
     },
     "output_type": "display_data"
    }
   ],
   "source": [
    "Vs = []\n",
    "for i in range(1, 29):\n",
    "    Vs.append(\"V{}\".format(i))\n",
    "\n",
    "    \n",
    "fraudes_no_null.hist(Vs)"
   ]
  },
  {
   "cell_type": "markdown",
   "metadata": {
    "id": "IsRMmoGSz1eK"
   },
   "source": [
    "Calculer la corrélation entre les différentes caractéristiques de l'ensemble de données. Une carte thermique des corrélations est attendue."
   ]
  },
  {
   "cell_type": "code",
   "execution_count": 22,
   "metadata": {},
   "outputs": [
    {
     "data": {
      "text/plain": [
       "<AxesSubplot:>"
      ]
     },
     "execution_count": 22,
     "metadata": {},
     "output_type": "execute_result"
    },
    {
     "data": {
      "image/png": "[encoded data removed]",
      "text/plain": [
       "<Figure size 432x288 with 2 Axes>"
      ]
     },
     "metadata": {
      "needs_background": "light"
     },
     "output_type": "display_data"
    }
   ],
   "source": [
    "clear_corr = clear.corr()\n",
    "sns.heatmap(clear_corr, xticklabels=clear_corr.columns, yticklabels=clear_corr.columns)"
   ]
  },
  {
   "cell_type": "code",
   "execution_count": 23,
   "metadata": {
    "id": "_c2Q-XdC0XEi"
   },
   "outputs": [
    {
     "data": {
      "text/plain": [
       "<AxesSubplot:>"
      ]
     },
     "execution_count": 23,
     "metadata": {},
     "output_type": "execute_result"
    },
    {
     "data": {
      "image/png": "[encoded data removed]",
      "text/plain": [
       "<Figure size 432x288 with 2 Axes>"
      ]
     },
     "metadata": {
      "needs_background": "light"
     },
     "output_type": "display_data"
    }
   ],
   "source": [
    "fraudes_corr = fraudes_no_null.corr(method=\"spearman\")\n",
    "sns.heatmap(fraudes_corr, xticklabels=fraudes_corr.columns, yticklabels=fraudes_corr.columns)"
   ]
  },
  {
   "cell_type": "markdown",
   "metadata": {
    "id": "qkr6vcuS0XxD"
   },
   "source": [
    "Trier les différentes colonnes de l'ensemble de données sur la base de leurs valeurs de corrélation par rapport à la classe afin d'éliminer les caractéristiques moins importantes."
   ]
  },
  {
   "cell_type": "code",
   "execution_count": 24,
   "metadata": {
    "id": "ePQI_Wbc0liP"
   },
   "outputs": [],
   "source": [
    "def getColumnsToDrop(corr_df = [], number = 2):\n",
    "    corr = copy.deepcopy(corr_df)\n",
    "    corr = np.array(fraudes_corr['Classe']).copy()\n",
    "    corr.sort()\n",
    "    #corr = np.flip(corr)\n",
    "    result = []\n",
    "    for i in range(number):\n",
    "        result.append(corr[i])\n",
    "    return result"
   ]
  },
  {
   "cell_type": "code",
   "execution_count": 25,
   "metadata": {},
   "outputs": [],
   "source": [
    "def rmCharac(df, labels):\n",
    "    labels = [label.lower() for label in labels]\n",
    "    dfLabels = df.columns.values\n",
    "    for label in labels:\n",
    "        if label.lower() in dfLabels:\n",
    "            df = df.drop(label, 1)\n",
    "        else:\n",
    "            print(\"rmCharac - Unknown column \\\"\" + label + \"\\\"\")\n",
    "    return df"
   ]
  },
  {
   "cell_type": "code",
   "execution_count": 26,
   "metadata": {},
   "outputs": [
    {
     "data": {
      "text/plain": [
       "array([-0.01153333, -0.03666593,  0.06190274, -0.06578124,  0.07496804,\n",
       "       -0.01695742, -0.04443895, -0.05189271,  0.02223375, -0.04834574,\n",
       "       -0.06699265,  0.06228672, -0.06929351, -0.00896584, -0.07837257,\n",
       "       -0.00537892, -0.04364246, -0.03506394, -0.01781057,  0.01027813,\n",
       "        0.02056234,  0.03390927,  0.00235674, -0.01511828, -0.00897072,\n",
       "        0.01038226,  0.00168787,  0.0389865 ,  0.02451686, -0.02071729,\n",
       "        1.        ])"
      ]
     },
     "execution_count": 26,
     "metadata": {},
     "output_type": "execute_result"
    }
   ],
   "source": [
    "fraudes_corr_np = np.array(fraudes_corr['Classe']).copy()\n",
    "fraudes_corr_np\n"
   ]
  },
  {
   "cell_type": "markdown",
   "metadata": {
    "id": "V3zSLGvd0mao"
   },
   "source": [
    "Lister les noms des colonnes à supprimer. Choisissez par exemple les 13 colonnes les moins corrélées à la classe.\n"
   ]
  },
  {
   "cell_type": "code",
   "execution_count": 27,
   "metadata": {
    "id": "RCrMIjBY0zdy"
   },
   "outputs": [
    {
     "data": {
      "text/plain": [
       "[-0.07837256654223441,\n",
       " -0.06929350783158535,\n",
       " -0.0669926522482477,\n",
       " -0.06578124256991302,\n",
       " -0.051892714304285034,\n",
       " -0.04834573693565604,\n",
       " -0.04443895357936262,\n",
       " -0.04364246071529271,\n",
       " -0.03666592717934492,\n",
       " -0.03506394201606818,\n",
       " -0.020717288510760743,\n",
       " -0.017810567807201125,\n",
       " -0.016957421356221688]"
      ]
     },
     "execution_count": 27,
     "metadata": {},
     "output_type": "execute_result"
    }
   ],
   "source": [
    "values = getColumnsToDrop(fraudes_corr_np, 13)\n",
    "values"
   ]
  },
  {
   "cell_type": "code",
   "execution_count": 28,
   "metadata": {},
   "outputs": [
    {
     "name": "stdout",
     "output_type": "stream",
     "text": [
      "[-0.01153333 -0.03666593  0.06190274 -0.06578124  0.07496804 -0.01695742\n",
      " -0.04443895 -0.05189271  0.02223375 -0.04834574 -0.06699265  0.06228672\n",
      " -0.06929351 -0.00896584 -0.07837257 -0.00537892 -0.04364246 -0.03506394\n",
      " -0.01781057  0.01027813  0.02056234  0.03390927  0.00235674 -0.01511828\n",
      " -0.00897072  0.01038226  0.00168787  0.0389865   0.02451686 -0.02071729\n",
      "  1.        ]\n"
     ]
    },
    {
     "data": {
      "text/plain": [
       "array([ True, False,  True, False,  True, False, False, False,  True,\n",
       "       False, False,  True, False,  True, False,  True, False, False,\n",
       "       False,  True,  True,  True,  True,  True,  True,  True,  True,\n",
       "        True,  True, False,  True])"
      ]
     },
     "execution_count": 28,
     "metadata": {},
     "output_type": "execute_result"
    }
   ],
   "source": [
    "print(fraudes_corr_np)\n",
    "\n",
    "indexes = [] \n",
    "for data in values:\n",
    "    indexes.append(np.where(fraudes_corr_np == data)[0][0])\n",
    "\n",
    "indexes = np.array(indexes)\n",
    "\n",
    "mask = []\n",
    "for i in range(fraudes_corr_np.shape[0]):\n",
    "    if i in indexes:\n",
    "        mask.append(False)\n",
    "    else :\n",
    "        mask.append(True)\n",
    "\n",
    "mask = np.array(mask).astype(bool)\n",
    "mask"
   ]
  },
  {
   "cell_type": "code",
   "execution_count": 29,
   "metadata": {},
   "outputs": [
    {
     "data": {
      "text/plain": [
       "Index(['Temps', 'V2', 'V4', 'V8', 'V11', 'V13', 'V15', 'V19', 'V20', 'V21',\n",
       "       'V22', 'V23', 'V24', 'V25', 'V26', 'V27', 'V28', 'Classe'],\n",
       "      dtype='object')"
      ]
     },
     "execution_count": 29,
     "metadata": {},
     "output_type": "execute_result"
    }
   ],
   "source": [
    "fraudes_corr_free = fraudes_no_null.loc[:, mask]\n",
    "fraudes_corr_free.columns"
   ]
  },
  {
   "cell_type": "markdown",
   "metadata": {
    "id": "esIhP-yP0z_A"
   },
   "source": [
    "Appliquer l'algorithme de [DBSCAN](https://scikit-learn.org/stable/modules/generated/sklearn.cluster.DBSCAN.html) avec minPts=4 et eps=1 sur le jeu de données. Note: la colonne \"Class\" est à enlever car la tâche confiée à DBSCAN est menée en mode non supervisée."
   ]
  },
  {
   "cell_type": "code",
   "execution_count": 30,
   "metadata": {},
   "outputs": [],
   "source": [
    "def clustering_info(X, clustering):\n",
    "    size = X.shape[0]\n",
    "\n",
    "    labels = clustering.labels_\n",
    "    n_clusters_ = len(set(labels)) - (1 if -1 in labels else 0)\n",
    "    n_noise_ = list(labels).count(-1)\n",
    "\n",
    "    print(\"Clusters : \" + str(n_clusters_))\n",
    "    print(\"Noice : \" + str(n_noise_))\n",
    "    print(\"Noice Ratio : \" + str(round(n_noise_/size, 2)))"
   ]
  },
  {
   "cell_type": "code",
   "execution_count": 31,
   "metadata": {},
   "outputs": [],
   "source": [
    "def extract_sub_df(df, ratio):\n",
    "    mask = []\n",
    "    for i in range(len(df)):\n",
    "        if rand.random() > ratio:\n",
    "            mask.append(True)\n",
    "        else :\n",
    "            mask.append(False)\n",
    "    return df[mask]"
   ]
  },
  {
   "cell_type": "code",
   "execution_count": 32,
   "metadata": {},
   "outputs": [],
   "source": [
    "def dbscan(X, epsilon, samples):\n",
    "    X_std = StandardScaler().fit_transform(X)\n",
    "    model = DBSCAN(eps=epsilon, min_samples=samples).fit(X_std)\n",
    "    d = {'Cluster': model.fit_predict(X_std)}\n",
    "    return pd.DataFrame(data=d)"
   ]
  },
  {
   "cell_type": "code",
   "execution_count": 33,
   "metadata": {},
   "outputs": [],
   "source": [
    "fraudes_dbscan_ready = fraudes_corr_free.drop(['Classe'], axis=1)"
   ]
  },
  {
   "cell_type": "code",
   "execution_count": 46,
   "metadata": {},
   "outputs": [],
   "source": [
    "X_std = StandardScaler().fit_transform(fraudes_dbscan_ready)\n",
    "model = DBSCAN(eps=1, min_samples=4).fit(X_std)\n",
    "d = {'Cluster': model.fit_predict(X_std)}\n",
    "data = pd.DataFrame(data=d)"
   ]
  },
  {
   "cell_type": "markdown",
   "metadata": {
    "id": "ecXSskTW2JWS"
   },
   "source": [
    "Identifier à partir des résultats fournis par DBSCAN, les observations qui ont été considérés comme du bruit. Nous considérons que ces observations correspondent à des transactions frauduleuses."
   ]
  },
  {
   "cell_type": "code",
   "execution_count": 47,
   "metadata": {},
   "outputs": [
    {
     "data": {
      "text/plain": [
       "-1      18165\n",
       " 8       1197\n",
       " 1        943\n",
       " 0        755\n",
       " 3        679\n",
       "        ...  \n",
       " 278        3\n",
       " 148        3\n",
       " 157        3\n",
       " 99         3\n",
       " 115        2\n",
       "Name: Cluster, Length: 325, dtype: int64"
      ]
     },
     "execution_count": 47,
     "metadata": {},
     "output_type": "execute_result"
    }
   ],
   "source": [
    "data['Cluster'].value_counts()"
   ]
  },
  {
   "cell_type": "markdown",
   "metadata": {
    "id": "BJJTTzAT2oY5"
   },
   "source": [
    "Calculer l'intersection de l'ensemble des transactions fraduleuses du jeu de données original (qu'on appelera T) et l'ensemble des transactions fraduleurses détectés par DBSCAN, qu'on appelera D. Diviser la cardinalité de cette intersection par la cardinalité de T. On appelera ce ratio r_score. Plus ce ratio tend vers 1 plus DBSCAN est efficace dans la détection des transactions frauduleuses."
   ]
  },
  {
   "cell_type": "code",
   "execution_count": 85,
   "metadata": {},
   "outputs": [],
   "source": [
    "def score(ref, pred):\n",
    "    # Copy\n",
    "    fraudes_pred = copy.deepcopy(fraudes_dbscan_ready)\n",
    "    fraudes_pred['Classe'] = pred['Cluster'].values\n",
    "    # Clusters != -1 => OK\n",
    "    fraudes_pred.loc[fraudes_pred['Classe'] > 0, 'Classe'] = 0\n",
    "    fraudes_pred['Classe'] = fraudes_pred['Classe'].abs()\n",
    "    # Extract frauds\n",
    "    frauds_ref = ref[ref['Classe'].astype(bool)]\n",
    "    frauds_pred = fraudes_pred[fraudes_pred['Classe'].astype(bool)]\n",
    "    # MERGE\n",
    "    df = pd.merge(frauds_ref, frauds_pred, how='left', indicator='Exist')\n",
    "    \n",
    "    df['Exist'] = np.where(df.Exist == 'both', True, False)\n",
    "    D = df['Exist'].value_counts()[True]\n",
    "\n",
    "    T = ref['Classe'].value_counts()[1]\n",
    "    T_over = frauds_pred['Classe'].value_counts()[1] - D\n",
    "    score = round((D/T)*100,2)\n",
    "    print(\"  - r_score = \" + str(score) + \"%\")\n",
    "    print(\"  - Overshoot : \" + str(T_over) + \" observation(s)\")\n",
    "    return score, T_over\n"
   ]
  },
  {
   "cell_type": "code",
   "execution_count": 81,
   "metadata": {},
   "outputs": [
    {
     "name": "stdout",
     "output_type": "stream",
     "text": [
      "  - r_score = 98.55%\n",
      "  - Overshoot : 18097 observation\n"
     ]
    }
   ],
   "source": [
    "score(fraudes_corr_free, data)"
   ]
  },
  {
   "cell_type": "markdown",
   "metadata": {
    "id": "PUlMr6u_4pkB"
   },
   "source": [
    "Relancer DBSCAN avec des valeurs de MinPts et eps au choix. Le ratio r_score a été améliorée par rapport à l'exécution précédente?"
   ]
  },
  {
   "cell_type": "code",
   "execution_count": 73,
   "metadata": {},
   "outputs": [],
   "source": [
    "result = dbscan(fraudes_dbscan_ready, 8, 6)"
   ]
  },
  {
   "cell_type": "code",
   "execution_count": 74,
   "metadata": {},
   "outputs": [
    {
     "name": "stdout",
     "output_type": "stream",
     "text": [
      "r_score = 10.14%\n",
      "Overshoot : 76 observation\n"
     ]
    }
   ],
   "source": [
    "score(fraudes_corr_free, result)"
   ]
  },
  {
   "cell_type": "markdown",
   "metadata": {
    "id": "GLKp6q0N6Gmo"
   },
   "source": [
    "Dans la suite nous chercherons à identifier les valeurs optimales de minPts et eps. Dans cette recherche nous considérons que les kième plus proches voisins sont à peu près à la même distance. Les points bruits ont leur kième plus proche voisin à une distance plus grande. \n",
    "\n",
    "On fixe tout d'abord la valeur de k au choix (par exemple k=4) et on identifie selon l'approche ci-dessous la valeur de eps:\n",
    "- Calculer la distance entre chaque point et son kième voisin;\n",
    "- Trier les indices des points selon les distances calculées;\n",
    "- Tracez la courbe des distances en fonction des points triés;\n",
    "- Appliquer la méthode elbow sur cette courbre, autrement dit trouvez la distance d où il y a un \"coude\" dans la courbe. On considère alors eps = d et minPts = k."
   ]
  },
  {
   "cell_type": "code",
   "execution_count": 40,
   "metadata": {},
   "outputs": [
    {
     "data": {
      "text/plain": [
       "[<matplotlib.lines.Line2D at 0x1c0d8511eb0>]"
      ]
     },
     "execution_count": 40,
     "metadata": {},
     "output_type": "execute_result"
    },
    {
     "data": {
      "image/png": "[encoded data removed]",
      "text/plain": [
       "<Figure size 432x288 with 1 Axes>"
      ]
     },
     "metadata": {
      "needs_background": "light"
     },
     "output_type": "display_data"
    }
   ],
   "source": [
    "neigh = NearestNeighbors(n_neighbors=5)\n",
    "X_std = StandardScaler().fit_transform(fraudes_dbscan_ready)\n",
    "nbrs = neigh.fit(X_std)\n",
    "distances, indices = nbrs.kneighbors(X_std)\n",
    "distances = np.sort(distances, axis=0)\n",
    "distances = distances[:,1]\n",
    "plt.plot(distances)"
   ]
  },
  {
   "cell_type": "markdown",
   "metadata": {
    "id": "bGm7wKEj9VgI"
   },
   "source": [
    "Réexécuter DBSCAN avec les nouvelles valeurs de eps et minPts. L'efficacité de DBSCAN a été améliorée?  "
   ]
  },
  {
   "cell_type": "code",
   "execution_count": 75,
   "metadata": {},
   "outputs": [],
   "source": [
    "result = dbscan(fraudes_dbscan_ready, epsilon=6, samples=4)"
   ]
  },
  {
   "cell_type": "code",
   "execution_count": 82,
   "metadata": {
    "id": "Rmhxm9X2-hE7"
   },
   "outputs": [
    {
     "name": "stdout",
     "output_type": "stream",
     "text": [
      "  - r_score = 14.49%\n",
      "  - Overshoot : 138 observation\n"
     ]
    }
   ],
   "source": [
    "score(fraudes_corr_free, result)"
   ]
  },
  {
   "cell_type": "code",
   "execution_count": 115,
   "metadata": {},
   "outputs": [
    {
     "name": "stdout",
     "output_type": "stream",
     "text": [
      "Pair epsilon=1, min_samples=4 : \n",
      "  - r_score = 100.0%\n",
      "  - Overshoot : 18097 observation(s)\n",
      "Pair epsilon=2, min_samples=4 : \n",
      "  - r_score = 94.2%\n",
      "  - Overshoot : 4593 observation(s)\n",
      "Pair epsilon=3, min_samples=4 : \n",
      "  - r_score = 94.2%\n",
      "  - Overshoot : 1288 observation(s)\n",
      "Pair epsilon=4, min_samples=4 : \n",
      "  - r_score = 46.38%\n",
      "  - Overshoot : 445 observation(s)\n",
      "Pair epsilon=5, min_samples=4 : \n",
      "  - r_score = 28.99%\n",
      "  - Overshoot : 212 observation(s)\n",
      "Pair epsilon=1, min_samples=5 : \n",
      "  - r_score = 100.0%\n",
      "  - Overshoot : 18909 observation(s)\n",
      "Pair epsilon=2, min_samples=5 : \n",
      "  - r_score = 100.0%\n",
      "  - Overshoot : 4794 observation(s)\n",
      "Pair epsilon=3, min_samples=5 : \n",
      "  - r_score = 100.0%\n",
      "  - Overshoot : 1355 observation(s)\n",
      "Pair epsilon=4, min_samples=5 : \n",
      "  - r_score = 52.17%\n",
      "  - Overshoot : 469 observation(s)\n",
      "Pair epsilon=5, min_samples=5 : \n",
      "  - r_score = 34.78%\n",
      "  - Overshoot : 224 observation(s)\n",
      "Pair epsilon=1, min_samples=6 : \n",
      "  - r_score = 100.0%\n",
      "  - Overshoot : 19629 observation(s)\n",
      "Pair epsilon=2, min_samples=6 : \n",
      "  - r_score = 100.0%\n",
      "  - Overshoot : 4985 observation(s)\n",
      "Pair epsilon=3, min_samples=6 : \n",
      "  - r_score = 100.0%\n",
      "  - Overshoot : 1390 observation(s)\n",
      "Pair epsilon=4, min_samples=6 : \n",
      "  - r_score = 56.52%\n",
      "  - Overshoot : 482 observation(s)\n",
      "Pair epsilon=5, min_samples=6 : \n",
      "  - r_score = 36.23%\n",
      "  - Overshoot : 231 observation(s)\n",
      "Pair epsilon=1, min_samples=7 : \n",
      "  - r_score = 100.0%\n",
      "  - Overshoot : 20258 observation(s)\n",
      "Pair epsilon=2, min_samples=7 : \n",
      "  - r_score = 100.0%\n",
      "  - Overshoot : 5136 observation(s)\n",
      "Pair epsilon=3, min_samples=7 : \n",
      "  - r_score = 100.0%\n",
      "  - Overshoot : 1433 observation(s)\n",
      "Pair epsilon=4, min_samples=7 : \n",
      "  - r_score = 59.42%\n",
      "  - Overshoot : 512 observation(s)\n",
      "Pair epsilon=5, min_samples=7 : \n",
      "  - r_score = 36.23%\n",
      "  - Overshoot : 240 observation(s)\n"
     ]
    }
   ],
   "source": [
    "result = []\n",
    "for sample in range(4, 8):\n",
    "    for eps in range(1, 6):\n",
    "        print(\"Pair epsilon=\" + str(eps) + \", min_samples=\" + str(sample)+ \" : \")\n",
    "        score_n, T_over_n = score(fraudes_corr_free, dbscan(fraudes_corr_free, epsilon=eps, samples=sample))\n",
    "        result.append([eps, sample, score_n, T_over_n])"
   ]
  },
  {
   "cell_type": "code",
   "execution_count": 92,
   "metadata": {},
   "outputs": [],
   "source": [
    "result = np.array(result)"
   ]
  },
  {
   "cell_type": "code",
   "execution_count": 112,
   "metadata": {},
   "outputs": [
    {
     "name": "stderr",
     "output_type": "stream",
     "text": [
      "C:\\Users\\loict\\AppData\\Local\\Temp/ipykernel_22144/4131967285.py:18: UserWarning: FixedFormatter should only be used together with FixedLocator\n",
      "  ax.set_xticklabels(['4', '5', '6'])\n"
     ]
    },
    {
     "data": {
      "image/png": "[encoded data removed]",
      "text/plain": [
       "<Figure size 432x288 with 1 Axes>"
      ]
     },
     "metadata": {
      "needs_background": "light"
     },
     "output_type": "display_data"
    }
   ],
   "source": [
    "N = 2\n",
    "\n",
    "ind = np.arange(N) # the x locations for the groups\n",
    "width = 0.35\n",
    "fig = plt.figure()\n",
    "ax = fig.add_axes([0,0,1,1])\n",
    "\n",
    "#ax.bar(ind, result[:,2], width, color='r')\n",
    "#ax.bar(ind, result[:,3], width,bottom=result[:,2], color='b')\n",
    "\n",
    "X = np.arange(3-1)\n",
    "ax.bar(X + 0.00, result[:,2], color = 'b', width = 0.25)\n",
    "#ax.bar(ind, result[:,3], width,bottom=result[:,2], color='b')\n",
    "\n",
    "ax.bar(X + 0.25, result[:,2], color = 'g', width = 0.25)\n",
    "ax.bar(X + 0.50, result[:,2], color = 'r', width = 0.25)\n",
    "\n",
    "ax.set_xticklabels(['4', '5', '6'])\n",
    "\n",
    "ax.set_xlabel('Samples & Epsilon')\n",
    "ax.set_ylabel('Score')\n",
    "ax.set_title('')\n",
    "\n",
    "ax.legend(labels=['r_score', 'overshoot'])\n",
    "\n",
    "plt.show()"
   ]
  },
  {
   "cell_type": "markdown",
   "metadata": {
    "id": "5Rfp-opI-fto"
   },
   "source": [
    "Déterminer minPts et eps(selon l'approche elbow présentée ci-dessus) qui aboutit au meilleur score r_score que DBSCAN pourrait atteindre. Note: vous pourriez lister une série de valeurs possibles de minPts puis déterminer la valeur de l'eps associée selon elbow, et pour paire de valeurs de minPts et eps lancer DBSCAN.  "
   ]
  },
  {
   "cell_type": "code",
   "execution_count": null,
   "metadata": {
    "id": "9js3s1vT_lUl"
   },
   "outputs": [
    {
     "data": {
      "image/png": "[encoded data removed]",
      "text/plain": [
       "<Figure size 432x288 with 1 Axes>"
      ]
     },
     "metadata": {
      "needs_background": "light"
     },
     "output_type": "display_data"
    },
    {
     "data": {
      "image/png": "[encoded data removed]",
      "text/plain": [
       "<Figure size 432x288 with 1 Axes>"
      ]
     },
     "metadata": {
      "needs_background": "light"
     },
     "output_type": "display_data"
    },
    {
     "data": {
      "image/png": "[encoded data removed]",
      "text/plain": [
       "<Figure size 432x288 with 1 Axes>"
      ]
     },
     "metadata": {
      "needs_background": "light"
     },
     "output_type": "display_data"
    },
    {
     "data": {
      "image/png": "[encoded data removed]",
      "text/plain": [
       "<Figure size 432x288 with 1 Axes>"
      ]
     },
     "metadata": {
      "needs_background": "light"
     },
     "output_type": "display_data"
    },
    {
     "data": {
      "image/png": "[encoded data removed]",
      "text/plain": [
       "<Figure size 432x288 with 1 Axes>"
      ]
     },
     "metadata": {
      "needs_background": "light"
     },
     "output_type": "display_data"
    },
    {
     "data": {
      "image/png": "[encoded data removed]",
      "text/plain": [
       "<Figure size 432x288 with 1 Axes>"
      ]
     },
     "metadata": {
      "needs_background": "light"
     },
     "output_type": "display_data"
    }
   ],
   "source": [
    "for n in range(4, 10):   \n",
    "    neigh = NearestNeighbors(n_neighbors=n)\n",
    "    X_std = StandardScaler().fit_transform(fraudes_dbscan_ready)\n",
    "    nbrs = neigh.fit(X_std)\n",
    "    distances, indices = nbrs.kneighbors(X_std)\n",
    "    distances = np.sort(distances, axis=0)\n",
    "    distances = distances[:,1]\n",
    "    plt.title(\"Min samples :\" + str(n))\n",
    "    plt.plot(distances)\n",
    "    plt.show()"
   ]
  },
  {
   "cell_type": "markdown",
   "metadata": {
    "id": "qOXz9HJ3_nzJ"
   },
   "source": []
  },
  {
   "cell_type": "markdown",
   "metadata": {
    "id": "0d3cuujsBFAU"
   },
   "source": [
    "Dans l'optique d'améliorer la valeur r_score, nous cherchons à modifier notre jeu de données. On explorera deux possibilités:\n",
    "- Supprimer davantage de colonnes les moins corrélées à la classe;\n",
    "- Remettre certaines colonnes, parmi les colonnées précedement supprimées, dans le jeu de données.\n",
    "\n",
    "Deux jeux de données seront constituées."
   ]
  },
  {
   "cell_type": "code",
   "execution_count": null,
   "metadata": {
    "id": "NBNQ0ncaD4w4"
   },
   "outputs": [],
   "source": []
  },
  {
   "cell_type": "markdown",
   "metadata": {
    "id": "1X3WHnl5D5rq"
   },
   "source": [
    "Pour chacun des jeux de données, appliquer l'approche précédente pour identifier une liste de valeurs optimales de minPts et eps."
   ]
  },
  {
   "cell_type": "code",
   "execution_count": null,
   "metadata": {
    "id": "ENbvcxi9EHai"
   },
   "outputs": [],
   "source": []
  },
  {
   "cell_type": "markdown",
   "metadata": {
    "id": "ceUzntgeEIlQ"
   },
   "source": [
    "Exécuter DBSCAN sur chaque paire de valeurs optimales de minPts et eps. Qu'en est-il du score r_score?"
   ]
  },
  {
   "cell_type": "code",
   "execution_count": null,
   "metadata": {
    "id": "vosJPH7MEeRK"
   },
   "outputs": [],
   "source": []
  }
 ],
 "metadata": {
  "colab": {
   "collapsed_sections": [],
   "name": "fraude.ipynb",
   "provenance": []
  },
  "kernelspec": {
   "display_name": "Python 3 (ipykernel)",
   "language": "python",
   "name": "python3"
  },
  "language_info": {
   "codemirror_mode": {
    "name": "ipython",
    "version": 3
   },
   "file_extension": ".py",
   "mimetype": "text/x-python",
   "name": "python",
   "nbconvert_exporter": "python",
   "pygments_lexer": "ipython3",
   "version": "3.11.5"
  }
 },
 "nbformat": 4,
 "nbformat_minor": 1
}
