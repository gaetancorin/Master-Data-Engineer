{
 "cells": [
  {
   "cell_type": "code",
   "execution_count": 1,
   "id": "a35eaa67",
   "metadata": {},
   "outputs": [],
   "source": [
    "# pip install folium\n",
    "# pip install cufflinks"
   ]
  },
  {
   "cell_type": "code",
   "execution_count": 2,
   "id": "5cea2d91-5bd3-42d3-91d1-7f127315fcb2",
   "metadata": {},
   "outputs": [],
   "source": [
    "import pandas as pd\n",
    "import plotly \n",
    "import plotly.express as px\n",
    "import plotly.graph_objects as go\n",
    "import numpy as np\n",
    "\n",
    "import matplotlib.pyplot as plt\n",
    "from matplotlib import style\n",
    "style.use('ggplot')\n",
    "%matplotlib inline"
   ]
  },
  {
   "cell_type": "code",
   "execution_count": 3,
   "id": "1dacbf92-3ecc-4983-ab84-46dc9fafb70e",
   "metadata": {},
   "outputs": [],
   "source": [
    "import cufflinks as cf\n",
    "import plotly.offline as pyo\n",
    "from plotly.offline import init_notebook_mode , plot , iplot"
   ]
  },
  {
   "cell_type": "code",
   "execution_count": 4,
   "id": "bb2cbad9-bcf2-4fce-9a9e-50639fa7d5f4",
   "metadata": {},
   "outputs": [],
   "source": [
    "import folium"
   ]
  },
  {
   "cell_type": "code",
   "execution_count": 5,
   "id": "ae4775d6-09f9-4d53-a12e-528e90849b20",
   "metadata": {},
   "outputs": [
    {
     "data": {
      "text/html": [
       "        <script type=\"text/javascript\">\n",
       "        window.PlotlyConfig = {MathJaxConfig: 'local'};\n",
       "        if (window.MathJax && window.MathJax.Hub && window.MathJax.Hub.Config) {window.MathJax.Hub.Config({SVG: {font: \"STIX-Web\"}});}\n",
       "        if (typeof require !== 'undefined') {\n",
       "        require.undef(\"plotly\");\n",
       "        requirejs.config({\n",
       "            paths: {\n",
       "                'plotly': ['https://cdn.plot.ly/plotly-2.12.1.min']\n",
       "            }\n",
       "        });\n",
       "        require(['plotly'], function(Plotly) {\n",
       "            window._Plotly = Plotly;\n",
       "        });\n",
       "        }\n",
       "        </script>\n",
       "        "
      ]
     },
     "metadata": {},
     "output_type": "display_data"
    },
    {
     "data": {
      "text/html": [
       "        <script type=\"text/javascript\">\n",
       "        window.PlotlyConfig = {MathJaxConfig: 'local'};\n",
       "        if (window.MathJax && window.MathJax.Hub && window.MathJax.Hub.Config) {window.MathJax.Hub.Config({SVG: {font: \"STIX-Web\"}});}\n",
       "        if (typeof require !== 'undefined') {\n",
       "        require.undef(\"plotly\");\n",
       "        requirejs.config({\n",
       "            paths: {\n",
       "                'plotly': ['https://cdn.plot.ly/plotly-2.12.1.min']\n",
       "            }\n",
       "        });\n",
       "        require(['plotly'], function(Plotly) {\n",
       "            window._Plotly = Plotly;\n",
       "        });\n",
       "        }\n",
       "        </script>\n",
       "        "
      ]
     },
     "metadata": {},
     "output_type": "display_data"
    }
   ],
   "source": [
    "pyo.init_notebook_mode(connected=True)\n",
    "cf.go_offline()"
   ]
  },
  {
   "cell_type": "code",
   "execution_count": 6,
   "id": "9abebb5b-f6e1-4fa1-a288-bc86ee90a1f0",
   "metadata": {},
   "outputs": [],
   "source": [
    "df = pd.read_csv(\"covid_19_data.csv\", on_bad_lines='skip', sep = ',')"
   ]
  },
  {
   "cell_type": "code",
   "execution_count": 7,
   "id": "51a5fb91-b309-4a32-9468-a4978f0373ac",
   "metadata": {},
   "outputs": [
    {
     "data": {
      "text/html": [
       "<div>\n",
       "<style scoped>\n",
       "    .dataframe tbody tr th:only-of-type {\n",
       "        vertical-align: middle;\n",
       "    }\n",
       "\n",
       "    .dataframe tbody tr th {\n",
       "        vertical-align: top;\n",
       "    }\n",
       "\n",
       "    .dataframe thead th {\n",
       "        text-align: right;\n",
       "    }\n",
       "</style>\n",
       "<table border=\"1\" class=\"dataframe\">\n",
       "  <thead>\n",
       "    <tr style=\"text-align: right;\">\n",
       "      <th></th>\n",
       "      <th>SNo</th>\n",
       "      <th>ObservationDate</th>\n",
       "      <th>Province/State</th>\n",
       "      <th>Country/Region</th>\n",
       "      <th>Last Update</th>\n",
       "      <th>Confirmed</th>\n",
       "      <th>Deaths</th>\n",
       "      <th>Recovered</th>\n",
       "    </tr>\n",
       "  </thead>\n",
       "  <tbody>\n",
       "    <tr>\n",
       "      <th>0</th>\n",
       "      <td>1</td>\n",
       "      <td>01/22/2020</td>\n",
       "      <td>Anhui</td>\n",
       "      <td>Mainland China</td>\n",
       "      <td>1/22/2020 17:00</td>\n",
       "      <td>1.0</td>\n",
       "      <td>0.0</td>\n",
       "      <td>0.0</td>\n",
       "    </tr>\n",
       "    <tr>\n",
       "      <th>1</th>\n",
       "      <td>2</td>\n",
       "      <td>01/22/2020</td>\n",
       "      <td>Beijing</td>\n",
       "      <td>Mainland China</td>\n",
       "      <td>1/22/2020 17:00</td>\n",
       "      <td>14.0</td>\n",
       "      <td>0.0</td>\n",
       "      <td>0.0</td>\n",
       "    </tr>\n",
       "    <tr>\n",
       "      <th>2</th>\n",
       "      <td>3</td>\n",
       "      <td>01/22/2020</td>\n",
       "      <td>Chongqing</td>\n",
       "      <td>Mainland China</td>\n",
       "      <td>1/22/2020 17:00</td>\n",
       "      <td>6.0</td>\n",
       "      <td>0.0</td>\n",
       "      <td>0.0</td>\n",
       "    </tr>\n",
       "    <tr>\n",
       "      <th>3</th>\n",
       "      <td>4</td>\n",
       "      <td>01/22/2020</td>\n",
       "      <td>Fujian</td>\n",
       "      <td>Mainland China</td>\n",
       "      <td>1/22/2020 17:00</td>\n",
       "      <td>1.0</td>\n",
       "      <td>0.0</td>\n",
       "      <td>0.0</td>\n",
       "    </tr>\n",
       "    <tr>\n",
       "      <th>4</th>\n",
       "      <td>5</td>\n",
       "      <td>01/22/2020</td>\n",
       "      <td>Gansu</td>\n",
       "      <td>Mainland China</td>\n",
       "      <td>1/22/2020 17:00</td>\n",
       "      <td>0.0</td>\n",
       "      <td>0.0</td>\n",
       "      <td>0.0</td>\n",
       "    </tr>\n",
       "    <tr>\n",
       "      <th>...</th>\n",
       "      <td>...</td>\n",
       "      <td>...</td>\n",
       "      <td>...</td>\n",
       "      <td>...</td>\n",
       "      <td>...</td>\n",
       "      <td>...</td>\n",
       "      <td>...</td>\n",
       "      <td>...</td>\n",
       "    </tr>\n",
       "    <tr>\n",
       "      <th>95</th>\n",
       "      <td>96</td>\n",
       "      <td>01/24/2020</td>\n",
       "      <td>Anhui</td>\n",
       "      <td>Mainland China</td>\n",
       "      <td>1/24/20 17:00</td>\n",
       "      <td>15.0</td>\n",
       "      <td>0.0</td>\n",
       "      <td>0.0</td>\n",
       "    </tr>\n",
       "    <tr>\n",
       "      <th>96</th>\n",
       "      <td>97</td>\n",
       "      <td>01/24/2020</td>\n",
       "      <td>Fujian</td>\n",
       "      <td>Mainland China</td>\n",
       "      <td>1/24/20 17:00</td>\n",
       "      <td>10.0</td>\n",
       "      <td>0.0</td>\n",
       "      <td>0.0</td>\n",
       "    </tr>\n",
       "    <tr>\n",
       "      <th>97</th>\n",
       "      <td>98</td>\n",
       "      <td>01/24/2020</td>\n",
       "      <td>Henan</td>\n",
       "      <td>Mainland China</td>\n",
       "      <td>1/24/20 17:00</td>\n",
       "      <td>9.0</td>\n",
       "      <td>0.0</td>\n",
       "      <td>0.0</td>\n",
       "    </tr>\n",
       "    <tr>\n",
       "      <th>98</th>\n",
       "      <td>99</td>\n",
       "      <td>01/24/2020</td>\n",
       "      <td>Jiangsu</td>\n",
       "      <td>Mainland China</td>\n",
       "      <td>1/24/20 17:00</td>\n",
       "      <td>9.0</td>\n",
       "      <td>0.0</td>\n",
       "      <td>0.0</td>\n",
       "    </tr>\n",
       "    <tr>\n",
       "      <th>99</th>\n",
       "      <td>100</td>\n",
       "      <td>01/24/2020</td>\n",
       "      <td>Hainan</td>\n",
       "      <td>Mainland China</td>\n",
       "      <td>1/24/20 17:00</td>\n",
       "      <td>8.0</td>\n",
       "      <td>0.0</td>\n",
       "      <td>0.0</td>\n",
       "    </tr>\n",
       "  </tbody>\n",
       "</table>\n",
       "<p>100 rows × 8 columns</p>\n",
       "</div>"
      ],
      "text/plain": [
       "    SNo ObservationDate Province/State  Country/Region      Last Update  \\\n",
       "0     1      01/22/2020          Anhui  Mainland China  1/22/2020 17:00   \n",
       "1     2      01/22/2020        Beijing  Mainland China  1/22/2020 17:00   \n",
       "2     3      01/22/2020      Chongqing  Mainland China  1/22/2020 17:00   \n",
       "3     4      01/22/2020         Fujian  Mainland China  1/22/2020 17:00   \n",
       "4     5      01/22/2020          Gansu  Mainland China  1/22/2020 17:00   \n",
       "..  ...             ...            ...             ...              ...   \n",
       "95   96      01/24/2020          Anhui  Mainland China    1/24/20 17:00   \n",
       "96   97      01/24/2020         Fujian  Mainland China    1/24/20 17:00   \n",
       "97   98      01/24/2020          Henan  Mainland China    1/24/20 17:00   \n",
       "98   99      01/24/2020        Jiangsu  Mainland China    1/24/20 17:00   \n",
       "99  100      01/24/2020         Hainan  Mainland China    1/24/20 17:00   \n",
       "\n",
       "    Confirmed  Deaths  Recovered  \n",
       "0         1.0     0.0        0.0  \n",
       "1        14.0     0.0        0.0  \n",
       "2         6.0     0.0        0.0  \n",
       "3         1.0     0.0        0.0  \n",
       "4         0.0     0.0        0.0  \n",
       "..        ...     ...        ...  \n",
       "95       15.0     0.0        0.0  \n",
       "96       10.0     0.0        0.0  \n",
       "97        9.0     0.0        0.0  \n",
       "98        9.0     0.0        0.0  \n",
       "99        8.0     0.0        0.0  \n",
       "\n",
       "[100 rows x 8 columns]"
      ]
     },
     "execution_count": 7,
     "metadata": {},
     "output_type": "execute_result"
    }
   ],
   "source": [
    "df.head(100)"
   ]
  },
  {
   "cell_type": "code",
   "execution_count": 8,
   "id": "b7ed6819-fafa-4e6d-9ab0-4c7dac82d10e",
   "metadata": {},
   "outputs": [],
   "source": [
    "df.rename(columns={'ObservationDate':'Date','Country/Region' : 'Country'},inplace=True)"
   ]
  },
  {
   "cell_type": "code",
   "execution_count": 9,
   "id": "8a6ee6e9-7a3b-4e42-8e10-1880e98a7649",
   "metadata": {},
   "outputs": [
    {
     "data": {
      "text/html": [
       "<div>\n",
       "<style scoped>\n",
       "    .dataframe tbody tr th:only-of-type {\n",
       "        vertical-align: middle;\n",
       "    }\n",
       "\n",
       "    .dataframe tbody tr th {\n",
       "        vertical-align: top;\n",
       "    }\n",
       "\n",
       "    .dataframe thead th {\n",
       "        text-align: right;\n",
       "    }\n",
       "</style>\n",
       "<table border=\"1\" class=\"dataframe\">\n",
       "  <thead>\n",
       "    <tr style=\"text-align: right;\">\n",
       "      <th></th>\n",
       "      <th>SNo</th>\n",
       "      <th>Province/State</th>\n",
       "      <th>Country</th>\n",
       "      <th>Last Update</th>\n",
       "      <th>Confirmed</th>\n",
       "      <th>Deaths</th>\n",
       "      <th>Recovered</th>\n",
       "    </tr>\n",
       "    <tr>\n",
       "      <th>Date</th>\n",
       "      <th></th>\n",
       "      <th></th>\n",
       "      <th></th>\n",
       "      <th></th>\n",
       "      <th></th>\n",
       "      <th></th>\n",
       "      <th></th>\n",
       "    </tr>\n",
       "  </thead>\n",
       "  <tbody>\n",
       "    <tr>\n",
       "      <th>01/22/2020</th>\n",
       "      <td>741</td>\n",
       "      <td>AnhuiBeijingChongqingFujianGansuGuangdongGuang...</td>\n",
       "      <td>Mainland ChinaMainland ChinaMainland ChinaMain...</td>\n",
       "      <td>1/22/2020 17:001/22/2020 17:001/22/2020 17:001...</td>\n",
       "      <td>555.0</td>\n",
       "      <td>17.0</td>\n",
       "      <td>28.0</td>\n",
       "    </tr>\n",
       "    <tr>\n",
       "      <th>01/23/2020</th>\n",
       "      <td>2829</td>\n",
       "      <td>AnhuiBeijingChongqingFujianGansuGuangdongGuang...</td>\n",
       "      <td>Mainland ChinaMainland ChinaMainland ChinaMain...</td>\n",
       "      <td>1/23/20 17:001/23/20 17:001/23/20 17:001/23/20...</td>\n",
       "      <td>653.0</td>\n",
       "      <td>18.0</td>\n",
       "      <td>30.0</td>\n",
       "    </tr>\n",
       "    <tr>\n",
       "      <th>01/24/2020</th>\n",
       "      <td>4305</td>\n",
       "      <td>HubeiGuangdongZhejiangBeijingChongqingHunanGua...</td>\n",
       "      <td>Mainland ChinaMainland ChinaMainland ChinaMain...</td>\n",
       "      <td>1/24/20 17:001/24/20 17:001/24/20 17:001/24/20...</td>\n",
       "      <td>941.0</td>\n",
       "      <td>26.0</td>\n",
       "      <td>36.0</td>\n",
       "    </tr>\n",
       "    <tr>\n",
       "      <th>01/25/2020</th>\n",
       "      <td>6490</td>\n",
       "      <td>HubeiGuangdongZhejiangChongqingHunanBeijingAnh...</td>\n",
       "      <td>Mainland ChinaMainland ChinaMainland ChinaMain...</td>\n",
       "      <td>1/25/20 17:001/25/20 17:001/25/20 17:001/25/20...</td>\n",
       "      <td>1438.0</td>\n",
       "      <td>42.0</td>\n",
       "      <td>39.0</td>\n",
       "    </tr>\n",
       "    <tr>\n",
       "      <th>01/26/2020</th>\n",
       "      <td>9071</td>\n",
       "      <td>HubeiGuangdongZhejiangHenanChongqingHunanBeiji...</td>\n",
       "      <td>Mainland ChinaMainland ChinaMainland ChinaMain...</td>\n",
       "      <td>1/26/20 16:001/26/20 16:001/26/20 16:001/26/20...</td>\n",
       "      <td>2118.0</td>\n",
       "      <td>56.0</td>\n",
       "      <td>52.0</td>\n",
       "    </tr>\n",
       "    <tr>\n",
       "      <th>01/27/2020</th>\n",
       "      <td>12342</td>\n",
       "      <td>HubeiGuangdongZhejiangHenanChongqingHunanBeiji...</td>\n",
       "      <td>Mainland ChinaMainland ChinaMainland ChinaMain...</td>\n",
       "      <td>1/27/20 23:591/27/20 23:591/27/20 23:591/27/20...</td>\n",
       "      <td>2927.0</td>\n",
       "      <td>82.0</td>\n",
       "      <td>61.0</td>\n",
       "    </tr>\n",
       "    <tr>\n",
       "      <th>01/28/2020</th>\n",
       "      <td>15262</td>\n",
       "      <td>HubeiGuangdongZhejiangHenanHunanChongqingJiang...</td>\n",
       "      <td>Mainland ChinaMainland ChinaMainland ChinaMain...</td>\n",
       "      <td>1/28/20 23:001/28/20 23:001/28/20 23:001/28/20...</td>\n",
       "      <td>5578.0</td>\n",
       "      <td>131.0</td>\n",
       "      <td>107.0</td>\n",
       "    </tr>\n",
       "    <tr>\n",
       "      <th>01/29/2020</th>\n",
       "      <td>18711</td>\n",
       "      <td>HubeiZhejiangGuangdongHunanHenanAnhuiChongqing...</td>\n",
       "      <td>Mainland ChinaMainland ChinaMainland ChinaMain...</td>\n",
       "      <td>1/29/20 19:301/29/20 19:301/29/20 19:301/29/20...</td>\n",
       "      <td>6165.0</td>\n",
       "      <td>133.0</td>\n",
       "      <td>126.0</td>\n",
       "    </tr>\n",
       "    <tr>\n",
       "      <th>01/30/2020</th>\n",
       "      <td>23345</td>\n",
       "      <td>HubeiZhejiangGuangdongHenanHunanAnhuiChongqing...</td>\n",
       "      <td>Mainland ChinaMainland ChinaMainland ChinaMain...</td>\n",
       "      <td>1/30/20 16:001/30/20 16:001/30/20 16:001/30/20...</td>\n",
       "      <td>8235.0</td>\n",
       "      <td>171.0</td>\n",
       "      <td>143.0</td>\n",
       "    </tr>\n",
       "    <tr>\n",
       "      <th>01/31/2020</th>\n",
       "      <td>28675</td>\n",
       "      <td>HubeiZhejiangGuangdongHenanHunanJiangxiAnhuiCh...</td>\n",
       "      <td>Mainland ChinaMainland ChinaMainland ChinaMain...</td>\n",
       "      <td>1/31/2020 23:591/31/2020 23:591/31/2020 23:591...</td>\n",
       "      <td>9925.0</td>\n",
       "      <td>213.0</td>\n",
       "      <td>222.0</td>\n",
       "    </tr>\n",
       "    <tr>\n",
       "      <th>02/01/2020</th>\n",
       "      <td>35309</td>\n",
       "      <td>HubeiZhejiangGuangdongHenanHunanAnhuiJiangxiCh...</td>\n",
       "      <td>Mainland ChinaMainland ChinaMainland ChinaMain...</td>\n",
       "      <td>2/1/2020 11:532/1/2020 10:532/1/2020 14:232/1/...</td>\n",
       "      <td>12038.0</td>\n",
       "      <td>259.0</td>\n",
       "      <td>284.0</td>\n",
       "    </tr>\n",
       "    <tr>\n",
       "      <th>02/02/2020</th>\n",
       "      <td>39798</td>\n",
       "      <td>HubeiZhejiangGuangdongHenanHunanAnhuiJiangxiCh...</td>\n",
       "      <td>Mainland ChinaMainland ChinaMainland ChinaMain...</td>\n",
       "      <td>2020-02-02T23:43:022020-02-02T18:03:052020-02-...</td>\n",
       "      <td>16787.0</td>\n",
       "      <td>362.0</td>\n",
       "      <td>472.0</td>\n",
       "    </tr>\n",
       "    <tr>\n",
       "      <th>02/03/2020</th>\n",
       "      <td>44982</td>\n",
       "      <td>HubeiGuangdongZhejiangHenanHunanAnhuiJiangxiCh...</td>\n",
       "      <td>Mainland ChinaMainland ChinaMainland ChinaMain...</td>\n",
       "      <td>2020-02-03T23:23:032020-02-03T12:53:022020-02-...</td>\n",
       "      <td>19881.0</td>\n",
       "      <td>426.0</td>\n",
       "      <td>623.0</td>\n",
       "    </tr>\n",
       "    <tr>\n",
       "      <th>02/04/2020</th>\n",
       "      <td>51135</td>\n",
       "      <td>HubeiZhejiangGuangdongHenanHunanAnhuiJiangxiCh...</td>\n",
       "      <td>Mainland ChinaMainland ChinaMainland ChinaMain...</td>\n",
       "      <td>2020-02-04T23:43:012020-02-04T13:03:072020-02-...</td>\n",
       "      <td>23892.0</td>\n",
       "      <td>492.0</td>\n",
       "      <td>852.0</td>\n",
       "    </tr>\n",
       "    <tr>\n",
       "      <th>02/05/2020</th>\n",
       "      <td>56871</td>\n",
       "      <td>HubeiGuangdongZhejiangHenanHunanJiangxiAnhuiCh...</td>\n",
       "      <td>Mainland ChinaMainland ChinaMainland ChinaMain...</td>\n",
       "      <td>2020-02-05T23:13:122020-02-05T13:23:042020-02-...</td>\n",
       "      <td>27636.0</td>\n",
       "      <td>564.0</td>\n",
       "      <td>1124.0</td>\n",
       "    </tr>\n",
       "    <tr>\n",
       "      <th>02/06/2020</th>\n",
       "      <td>61912</td>\n",
       "      <td>HubeiGuangdongZhejiangHenanHunanJiangxiAnhuiCh...</td>\n",
       "      <td>Mainland ChinaMainland ChinaMainland ChinaMain...</td>\n",
       "      <td>2020-02-06T23:23:022020-02-06T12:43:022020-02-...</td>\n",
       "      <td>30818.0</td>\n",
       "      <td>634.0</td>\n",
       "      <td>1487.0</td>\n",
       "    </tr>\n",
       "    <tr>\n",
       "      <th>02/07/2020</th>\n",
       "      <td>67932</td>\n",
       "      <td>HubeiGuangdongZhejiangHenanHunanAnhuiJiangxiCh...</td>\n",
       "      <td>Mainland ChinaMainland ChinaMainland ChinaMain...</td>\n",
       "      <td>2020-02-07T23:43:022020-02-07T10:13:062020-02-...</td>\n",
       "      <td>34392.0</td>\n",
       "      <td>719.0</td>\n",
       "      <td>2011.0</td>\n",
       "    </tr>\n",
       "    <tr>\n",
       "      <th>02/08/2020</th>\n",
       "      <td>73116</td>\n",
       "      <td>HubeiGuangdongZhejiangHenanHunanAnhuiJiangxiJi...</td>\n",
       "      <td>Mainland ChinaMainland ChinaMainland ChinaMain...</td>\n",
       "      <td>2020-02-08T23:33:062020-02-08T11:53:012020-02-...</td>\n",
       "      <td>37121.0</td>\n",
       "      <td>806.0</td>\n",
       "      <td>2616.0</td>\n",
       "    </tr>\n",
       "    <tr>\n",
       "      <th>02/09/2020</th>\n",
       "      <td>78300</td>\n",
       "      <td>HubeiGuangdongZhejiangHenanHunanAnhuiJiangxiCh...</td>\n",
       "      <td>Mainland ChinaMainland ChinaMainland ChinaMain...</td>\n",
       "      <td>2020-02-09T23:33:022020-02-09T15:03:052020-02-...</td>\n",
       "      <td>40151.0</td>\n",
       "      <td>906.0</td>\n",
       "      <td>3244.0</td>\n",
       "    </tr>\n",
       "    <tr>\n",
       "      <th>02/10/2020</th>\n",
       "      <td>83484</td>\n",
       "      <td>HubeiGuangdongZhejiangHenanHunanAnhuiJiangxiJi...</td>\n",
       "      <td>Mainland ChinaMainland ChinaMainland ChinaMain...</td>\n",
       "      <td>2020-02-10T23:33:022020-02-10T13:43:022020-02-...</td>\n",
       "      <td>42763.0</td>\n",
       "      <td>1013.0</td>\n",
       "      <td>3946.0</td>\n",
       "    </tr>\n",
       "    <tr>\n",
       "      <th>02/11/2020</th>\n",
       "      <td>89936</td>\n",
       "      <td>HubeiGuangdongZhejiangHenanHunanAnhuiJiangxiJi...</td>\n",
       "      <td>Mainland ChinaMainland ChinaMainland ChinaMain...</td>\n",
       "      <td>2020-02-11T23:33:022020-02-11T14:03:052020-02-...</td>\n",
       "      <td>44803.0</td>\n",
       "      <td>1113.0</td>\n",
       "      <td>4683.0</td>\n",
       "    </tr>\n",
       "    <tr>\n",
       "      <th>02/12/2020</th>\n",
       "      <td>95265</td>\n",
       "      <td>HubeiGuangdongHenanZhejiangHunanAnhuiJiangxiJi...</td>\n",
       "      <td>Mainland ChinaMainland ChinaMainland ChinaMain...</td>\n",
       "      <td>2020-02-12T14:13:082020-02-12T12:23:092020-02-...</td>\n",
       "      <td>45222.0</td>\n",
       "      <td>1118.0</td>\n",
       "      <td>5150.0</td>\n",
       "    </tr>\n",
       "    <tr>\n",
       "      <th>02/13/2020</th>\n",
       "      <td>102009</td>\n",
       "      <td>HubeiGuangdongHenanZhejiangHunanAnhuiJiangxiJi...</td>\n",
       "      <td>Mainland ChinaMainland ChinaMainland ChinaMain...</td>\n",
       "      <td>2020-02-13T14:13:062020-02-13T13:33:012020-02-...</td>\n",
       "      <td>60370.0</td>\n",
       "      <td>1371.0</td>\n",
       "      <td>6295.0</td>\n",
       "    </tr>\n",
       "    <tr>\n",
       "      <th>02/14/2020</th>\n",
       "      <td>108975</td>\n",
       "      <td>HubeiGuangdongHenanZhejiangHunanAnhuiJiangxiJi...</td>\n",
       "      <td>Mainland ChinaMainland ChinaMainland ChinaMain...</td>\n",
       "      <td>2020-02-14T23:33:022020-02-14T12:53:022020-02-...</td>\n",
       "      <td>66887.0</td>\n",
       "      <td>1523.0</td>\n",
       "      <td>8058.0</td>\n",
       "    </tr>\n",
       "    <tr>\n",
       "      <th>02/15/2020</th>\n",
       "      <td>114600</td>\n",
       "      <td>HubeiGuangdongHenanZhejiangHunanAnhuiJiangxiJi...</td>\n",
       "      <td>Mainland ChinaMainland ChinaMainland ChinaMain...</td>\n",
       "      <td>2020-02-15T23:13:052020-02-15T14:03:042020-02-...</td>\n",
       "      <td>69032.0</td>\n",
       "      <td>1666.0</td>\n",
       "      <td>9395.0</td>\n",
       "    </tr>\n",
       "    <tr>\n",
       "      <th>02/16/2020</th>\n",
       "      <td>120225</td>\n",
       "      <td>HubeiGuangdongHenanZhejiangHunanAnhuiJiangxiJi...</td>\n",
       "      <td>Mainland ChinaMainland ChinaMainland ChinaMain...</td>\n",
       "      <td>2020-02-16T23:53:012020-02-16T12:03:062020-02-...</td>\n",
       "      <td>71226.0</td>\n",
       "      <td>1770.0</td>\n",
       "      <td>10865.0</td>\n",
       "    </tr>\n",
       "    <tr>\n",
       "      <th>02/17/2020</th>\n",
       "      <td>125850</td>\n",
       "      <td>HubeiGuangdongHenanZhejiangHunanAnhuiJiangxiJi...</td>\n",
       "      <td>Mainland ChinaMainland ChinaMainland ChinaMain...</td>\n",
       "      <td>2020-02-17T23:13:062020-02-17T12:43:022020-02-...</td>\n",
       "      <td>73260.0</td>\n",
       "      <td>1868.0</td>\n",
       "      <td>12583.0</td>\n",
       "    </tr>\n",
       "    <tr>\n",
       "      <th>02/18/2020</th>\n",
       "      <td>131475</td>\n",
       "      <td>HubeiGuangdongHenanZhejiangHunanAnhuiJiangxiJi...</td>\n",
       "      <td>Mainland ChinaMainland ChinaMainland ChinaMain...</td>\n",
       "      <td>2020-02-18T23:13:112020-02-18T13:43:022020-02-...</td>\n",
       "      <td>75138.0</td>\n",
       "      <td>2007.0</td>\n",
       "      <td>14352.0</td>\n",
       "    </tr>\n",
       "    <tr>\n",
       "      <th>02/19/2020</th>\n",
       "      <td>138966</td>\n",
       "      <td>HubeiGuangdongHenanZhejiangHunanAnhuiJiangxiJi...</td>\n",
       "      <td>Mainland ChinaMainland ChinaMainland ChinaMain...</td>\n",
       "      <td>2020-02-19T23:23:022020-02-19T10:23:022020-02-...</td>\n",
       "      <td>75641.0</td>\n",
       "      <td>2122.0</td>\n",
       "      <td>16121.0</td>\n",
       "    </tr>\n",
       "    <tr>\n",
       "      <th>02/20/2020</th>\n",
       "      <td>144742</td>\n",
       "      <td>HubeiGuangdongHenanZhejiangHunanAnhuiJiangxiDi...</td>\n",
       "      <td>Mainland ChinaMainland ChinaMainland ChinaMain...</td>\n",
       "      <td>2020-02-20T23:43:022020-02-20T11:13:272020-02-...</td>\n",
       "      <td>76199.0</td>\n",
       "      <td>2247.0</td>\n",
       "      <td>18177.0</td>\n",
       "    </tr>\n",
       "    <tr>\n",
       "      <th>02/21/2020</th>\n",
       "      <td>166698</td>\n",
       "      <td>HubeiGuangdongHenanZhejiangHunanAnhuiJiangxiSh...</td>\n",
       "      <td>Mainland ChinaMainland ChinaMainland ChinaMain...</td>\n",
       "      <td>2020-02-21T13:03:092020-02-21T10:13:092020-02-...</td>\n",
       "      <td>76843.0</td>\n",
       "      <td>2251.0</td>\n",
       "      <td>18890.0</td>\n",
       "    </tr>\n",
       "    <tr>\n",
       "      <th>02/22/2020</th>\n",
       "      <td>173754</td>\n",
       "      <td>HubeiGuangdongHenanZhejiangHunanAnhuiJiangxiSh...</td>\n",
       "      <td>Mainland ChinaMainland ChinaMainland ChinaMain...</td>\n",
       "      <td>2020-02-22T23:33:062020-02-22T10:03:042020-02-...</td>\n",
       "      <td>78599.0</td>\n",
       "      <td>2458.0</td>\n",
       "      <td>22886.0</td>\n",
       "    </tr>\n",
       "    <tr>\n",
       "      <th>02/23/2020</th>\n",
       "      <td>183005</td>\n",
       "      <td>HubeiGuangdongHenanZhejiangHunanAnhuiJiangxiSh...</td>\n",
       "      <td>Mainland ChinaMainland ChinaMainland ChinaMain...</td>\n",
       "      <td>2020-02-23T11:33:032020-02-23T08:53:022020-02-...</td>\n",
       "      <td>78985.0</td>\n",
       "      <td>2469.0</td>\n",
       "      <td>23394.0</td>\n",
       "    </tr>\n",
       "    <tr>\n",
       "      <th>02/24/2020</th>\n",
       "      <td>201645</td>\n",
       "      <td>HubeiGuangdongHenanZhejiangHunanAnhuiJiangxiSh...</td>\n",
       "      <td>Mainland ChinaMainland ChinaMainland ChinaMain...</td>\n",
       "      <td>2020-02-24T11:13:092020-02-24T10:23:022020-02-...</td>\n",
       "      <td>79570.0</td>\n",
       "      <td>2629.0</td>\n",
       "      <td>25227.0</td>\n",
       "    </tr>\n",
       "    <tr>\n",
       "      <th>02/25/2020</th>\n",
       "      <td>219255</td>\n",
       "      <td>HubeiGuangdongHenanZhejiangHunanAnhuiJiangxiSh...</td>\n",
       "      <td>Mainland ChinaMainland ChinaMainland ChinaMain...</td>\n",
       "      <td>2020-02-25T15:23:042020-02-25T08:53:022020-02-...</td>\n",
       "      <td>80415.0</td>\n",
       "      <td>2708.0</td>\n",
       "      <td>27905.0</td>\n",
       "    </tr>\n",
       "    <tr>\n",
       "      <th>02/26/2020</th>\n",
       "      <td>245430</td>\n",
       "      <td>HubeiGuangdongHenanZhejiangHunanAnhuiJiangxiSh...</td>\n",
       "      <td>Mainland ChinaMainland ChinaMainland ChinaSout...</td>\n",
       "      <td>2020-02-26T14:13:102020-02-26T10:33:022020-02-...</td>\n",
       "      <td>81397.0</td>\n",
       "      <td>2770.0</td>\n",
       "      <td>30384.0</td>\n",
       "    </tr>\n",
       "    <tr>\n",
       "      <th>02/27/2020</th>\n",
       "      <td>265965</td>\n",
       "      <td>HubeiGuangdongHenanZhejiangHunanAnhuiJiangxiSh...</td>\n",
       "      <td>Mainland ChinaSouth KoreaMainland ChinaMainlan...</td>\n",
       "      <td>2020-02-27T12:13:142020-02-27T12:03:042020-02-...</td>\n",
       "      <td>82756.0</td>\n",
       "      <td>2814.0</td>\n",
       "      <td>33277.0</td>\n",
       "    </tr>\n",
       "    <tr>\n",
       "      <th>02/28/2020</th>\n",
       "      <td>301245</td>\n",
       "      <td>HubeiGuangdongHenanZhejiangHunanAnhuiJiangxiSh...</td>\n",
       "      <td>Mainland ChinaSouth KoreaMainland ChinaMainlan...</td>\n",
       "      <td>2020-02-28T00:43:012020-02-28T08:53:032020-02-...</td>\n",
       "      <td>84124.0</td>\n",
       "      <td>2872.0</td>\n",
       "      <td>36711.0</td>\n",
       "    </tr>\n",
       "    <tr>\n",
       "      <th>02/29/2020</th>\n",
       "      <td>328321</td>\n",
       "      <td>HubeiGuangdongHenanZhejiangHunanAnhuiJiangxiSh...</td>\n",
       "      <td>Mainland ChinaSouth KoreaMainland ChinaMainlan...</td>\n",
       "      <td>2020-02-29T12:13:102020-02-29T18:13:072020-02-...</td>\n",
       "      <td>86013.0</td>\n",
       "      <td>2941.0</td>\n",
       "      <td>39782.0</td>\n",
       "    </tr>\n",
       "    <tr>\n",
       "      <th>03/01/2020</th>\n",
       "      <td>360125</td>\n",
       "      <td>HubeiGuangdongHenanZhejiangHunanAnhuiJiangxiSh...</td>\n",
       "      <td>Mainland ChinaSouth KoreaItalyMainland ChinaMa...</td>\n",
       "      <td>2020-03-01T10:13:192020-03-01T23:43:032020-03-...</td>\n",
       "      <td>88371.0</td>\n",
       "      <td>2996.0</td>\n",
       "      <td>42716.0</td>\n",
       "    </tr>\n",
       "    <tr>\n",
       "      <th>03/02/2020</th>\n",
       "      <td>424974</td>\n",
       "      <td>HubeiGuangdongHenanZhejiangHunanAnhuiJiangxiSh...</td>\n",
       "      <td>Mainland ChinaSouth KoreaItalyIranMainland Chi...</td>\n",
       "      <td>2020-03-02T15:03:232020-03-02T20:23:162020-03-...</td>\n",
       "      <td>90309.0</td>\n",
       "      <td>3085.0</td>\n",
       "      <td>45602.0</td>\n",
       "    </tr>\n",
       "    <tr>\n",
       "      <th>03/03/2020</th>\n",
       "      <td>477160</td>\n",
       "      <td>HubeiGuangdongHenanZhejiangHunanAnhuiJiangxiSh...</td>\n",
       "      <td>Mainland ChinaSouth KoreaItalyIranMainland Chi...</td>\n",
       "      <td>2020-03-03T11:43:022020-03-03T09:43:022020-03-...</td>\n",
       "      <td>92844.0</td>\n",
       "      <td>3160.0</td>\n",
       "      <td>48229.0</td>\n",
       "    </tr>\n",
       "    <tr>\n",
       "      <th>03/04/2020</th>\n",
       "      <td>530480</td>\n",
       "      <td>HubeiGuangdongHenanZhejiangHunanAnhuiJiangxiSh...</td>\n",
       "      <td>Mainland ChinaSouth KoreaItalyIranMainland Chi...</td>\n",
       "      <td>2020-03-04T12:53:032020-03-04T19:23:032020-03-...</td>\n",
       "      <td>95124.0</td>\n",
       "      <td>3254.0</td>\n",
       "      <td>51171.0</td>\n",
       "    </tr>\n",
       "    <tr>\n",
       "      <th>03/05/2020</th>\n",
       "      <td>602386</td>\n",
       "      <td>HubeiGuangdongHenanZhejiangHunanAnhuiJiangxiSh...</td>\n",
       "      <td>Mainland ChinaSouth KoreaItalyIranMainland Chi...</td>\n",
       "      <td>2020-03-05T14:53:032020-03-05T09:03:092020-03-...</td>\n",
       "      <td>97886.0</td>\n",
       "      <td>3348.0</td>\n",
       "      <td>53797.0</td>\n",
       "    </tr>\n",
       "    <tr>\n",
       "      <th>03/06/2020</th>\n",
       "      <td>729932</td>\n",
       "      <td>HubeiGuangdongHenanZhejiangHunanAnhuiJiangxiSh...</td>\n",
       "      <td>Mainland ChinaSouth KoreaIranItalyMainland Chi...</td>\n",
       "      <td>2020-03-06T14:23:042020-03-06T13:33:032020-03-...</td>\n",
       "      <td>101800.0</td>\n",
       "      <td>3460.0</td>\n",
       "      <td>55866.0</td>\n",
       "    </tr>\n",
       "    <tr>\n",
       "      <th>03/07/2020</th>\n",
       "      <td>873000</td>\n",
       "      <td>HubeiGuangdongHenanZhejiangHunanAnhuiJiangxiSh...</td>\n",
       "      <td>Mainland ChinaSouth KoreaItalyIranMainland Chi...</td>\n",
       "      <td>2020-03-07T11:13:042020-03-07T10:13:222020-03-...</td>\n",
       "      <td>105836.0</td>\n",
       "      <td>3558.0</td>\n",
       "      <td>58359.0</td>\n",
       "    </tr>\n",
       "    <tr>\n",
       "      <th>03/08/2020</th>\n",
       "      <td>1050600</td>\n",
       "      <td>HubeiGuangdongHenanZhejiangHunanAnhuiJiangxiSh...</td>\n",
       "      <td>Mainland ChinaItalySouth KoreaIranMainland Chi...</td>\n",
       "      <td>2020-03-08T14:43:032020-03-08T18:03:042020-03-...</td>\n",
       "      <td>109835.0</td>\n",
       "      <td>3803.0</td>\n",
       "      <td>60695.0</td>\n",
       "    </tr>\n",
       "    <tr>\n",
       "      <th>03/09/2020</th>\n",
       "      <td>1165213</td>\n",
       "      <td>HubeiGuangdongHenanZhejiangHunanAnhuiJiangxiSh...</td>\n",
       "      <td>Mainland ChinaItalySouth KoreaIranMainland Chi...</td>\n",
       "      <td>2020-03-09T14:33:032020-03-09T18:13:112020-03-...</td>\n",
       "      <td>113582.0</td>\n",
       "      <td>3996.0</td>\n",
       "      <td>62512.0</td>\n",
       "    </tr>\n",
       "    <tr>\n",
       "      <th>03/10/2020</th>\n",
       "      <td>950999</td>\n",
       "      <td>HubeiGuangdongHenanZhejiangHunanAnhuiJiangxiSh...</td>\n",
       "      <td>Mainland ChinaItalyIranSouth KoreaFranceSpainG...</td>\n",
       "      <td>2020-03-10T15:13:052020-03-10T17:53:022020-03-...</td>\n",
       "      <td>118582.0</td>\n",
       "      <td>4262.0</td>\n",
       "      <td>64404.0</td>\n",
       "    </tr>\n",
       "    <tr>\n",
       "      <th>03/11/2020</th>\n",
       "      <td>1042740</td>\n",
       "      <td>HubeiFranceGuangdongHenanZhejiangHunanAnhuiJia...</td>\n",
       "      <td>Mainland ChinaItalyIranSouth KoreaFranceSpainG...</td>\n",
       "      <td>2020-03-11T10:53:022020-03-11T21:33:022020-03-...</td>\n",
       "      <td>125865.0</td>\n",
       "      <td>4615.0</td>\n",
       "      <td>67003.0</td>\n",
       "    </tr>\n",
       "    <tr>\n",
       "      <th>03/12/2020</th>\n",
       "      <td>1099701</td>\n",
       "      <td>HubeiFranceGuangdongHenanZhejiangHunanAnhuiJia...</td>\n",
       "      <td>Mainland ChinaItalyIranSouth KoreaFranceSpainG...</td>\n",
       "      <td>2020-03-12T09:53:062020-03-11T21:33:022020-03-...</td>\n",
       "      <td>128343.0</td>\n",
       "      <td>4720.0</td>\n",
       "      <td>68324.0</td>\n",
       "    </tr>\n",
       "    <tr>\n",
       "      <th>03/13/2020</th>\n",
       "      <td>1211755</td>\n",
       "      <td>HubeiGuangdongHenanZhejiangHunanAnhuiJiangxiSh...</td>\n",
       "      <td>Mainland ChinaMainland ChinaMainland ChinaMain...</td>\n",
       "      <td>2020-03-13T11:09:032020-03-13T11:09:032020-03-...</td>\n",
       "      <td>145193.0</td>\n",
       "      <td>5404.0</td>\n",
       "      <td>70251.0</td>\n",
       "    </tr>\n",
       "    <tr>\n",
       "      <th>03/14/2020</th>\n",
       "      <td>1371492</td>\n",
       "      <td>HubeiFranceGuangdongHenanZhejiangUnited Kingdo...</td>\n",
       "      <td>Mainland ChinaItalyIranSouth KoreaSpainGermany...</td>\n",
       "      <td>2020-03-14T10:13:092020-03-14T20:13:162020-03-...</td>\n",
       "      <td>156099.0</td>\n",
       "      <td>5819.0</td>\n",
       "      <td>72624.0</td>\n",
       "    </tr>\n",
       "    <tr>\n",
       "      <th>03/15/2020</th>\n",
       "      <td>1486467</td>\n",
       "      <td>HubeiFranceGuangdongHenanZhejiangUnited Kingdo...</td>\n",
       "      <td>Mainland ChinaItalyIranSouth KoreaSpainGermany...</td>\n",
       "      <td>2020-03-15T18:20:182020-03-14T20:13:162020-03-...</td>\n",
       "      <td>167447.0</td>\n",
       "      <td>6440.0</td>\n",
       "      <td>76034.0</td>\n",
       "    </tr>\n",
       "  </tbody>\n",
       "</table>\n",
       "</div>"
      ],
      "text/plain": [
       "                SNo                                     Province/State  \\\n",
       "Date                                                                     \n",
       "01/22/2020      741  AnhuiBeijingChongqingFujianGansuGuangdongGuang...   \n",
       "01/23/2020     2829  AnhuiBeijingChongqingFujianGansuGuangdongGuang...   \n",
       "01/24/2020     4305  HubeiGuangdongZhejiangBeijingChongqingHunanGua...   \n",
       "01/25/2020     6490  HubeiGuangdongZhejiangChongqingHunanBeijingAnh...   \n",
       "01/26/2020     9071  HubeiGuangdongZhejiangHenanChongqingHunanBeiji...   \n",
       "01/27/2020    12342  HubeiGuangdongZhejiangHenanChongqingHunanBeiji...   \n",
       "01/28/2020    15262  HubeiGuangdongZhejiangHenanHunanChongqingJiang...   \n",
       "01/29/2020    18711  HubeiZhejiangGuangdongHunanHenanAnhuiChongqing...   \n",
       "01/30/2020    23345  HubeiZhejiangGuangdongHenanHunanAnhuiChongqing...   \n",
       "01/31/2020    28675  HubeiZhejiangGuangdongHenanHunanJiangxiAnhuiCh...   \n",
       "02/01/2020    35309  HubeiZhejiangGuangdongHenanHunanAnhuiJiangxiCh...   \n",
       "02/02/2020    39798  HubeiZhejiangGuangdongHenanHunanAnhuiJiangxiCh...   \n",
       "02/03/2020    44982  HubeiGuangdongZhejiangHenanHunanAnhuiJiangxiCh...   \n",
       "02/04/2020    51135  HubeiZhejiangGuangdongHenanHunanAnhuiJiangxiCh...   \n",
       "02/05/2020    56871  HubeiGuangdongZhejiangHenanHunanJiangxiAnhuiCh...   \n",
       "02/06/2020    61912  HubeiGuangdongZhejiangHenanHunanJiangxiAnhuiCh...   \n",
       "02/07/2020    67932  HubeiGuangdongZhejiangHenanHunanAnhuiJiangxiCh...   \n",
       "02/08/2020    73116  HubeiGuangdongZhejiangHenanHunanAnhuiJiangxiJi...   \n",
       "02/09/2020    78300  HubeiGuangdongZhejiangHenanHunanAnhuiJiangxiCh...   \n",
       "02/10/2020    83484  HubeiGuangdongZhejiangHenanHunanAnhuiJiangxiJi...   \n",
       "02/11/2020    89936  HubeiGuangdongZhejiangHenanHunanAnhuiJiangxiJi...   \n",
       "02/12/2020    95265  HubeiGuangdongHenanZhejiangHunanAnhuiJiangxiJi...   \n",
       "02/13/2020   102009  HubeiGuangdongHenanZhejiangHunanAnhuiJiangxiJi...   \n",
       "02/14/2020   108975  HubeiGuangdongHenanZhejiangHunanAnhuiJiangxiJi...   \n",
       "02/15/2020   114600  HubeiGuangdongHenanZhejiangHunanAnhuiJiangxiJi...   \n",
       "02/16/2020   120225  HubeiGuangdongHenanZhejiangHunanAnhuiJiangxiJi...   \n",
       "02/17/2020   125850  HubeiGuangdongHenanZhejiangHunanAnhuiJiangxiJi...   \n",
       "02/18/2020   131475  HubeiGuangdongHenanZhejiangHunanAnhuiJiangxiJi...   \n",
       "02/19/2020   138966  HubeiGuangdongHenanZhejiangHunanAnhuiJiangxiJi...   \n",
       "02/20/2020   144742  HubeiGuangdongHenanZhejiangHunanAnhuiJiangxiDi...   \n",
       "02/21/2020   166698  HubeiGuangdongHenanZhejiangHunanAnhuiJiangxiSh...   \n",
       "02/22/2020   173754  HubeiGuangdongHenanZhejiangHunanAnhuiJiangxiSh...   \n",
       "02/23/2020   183005  HubeiGuangdongHenanZhejiangHunanAnhuiJiangxiSh...   \n",
       "02/24/2020   201645  HubeiGuangdongHenanZhejiangHunanAnhuiJiangxiSh...   \n",
       "02/25/2020   219255  HubeiGuangdongHenanZhejiangHunanAnhuiJiangxiSh...   \n",
       "02/26/2020   245430  HubeiGuangdongHenanZhejiangHunanAnhuiJiangxiSh...   \n",
       "02/27/2020   265965  HubeiGuangdongHenanZhejiangHunanAnhuiJiangxiSh...   \n",
       "02/28/2020   301245  HubeiGuangdongHenanZhejiangHunanAnhuiJiangxiSh...   \n",
       "02/29/2020   328321  HubeiGuangdongHenanZhejiangHunanAnhuiJiangxiSh...   \n",
       "03/01/2020   360125  HubeiGuangdongHenanZhejiangHunanAnhuiJiangxiSh...   \n",
       "03/02/2020   424974  HubeiGuangdongHenanZhejiangHunanAnhuiJiangxiSh...   \n",
       "03/03/2020   477160  HubeiGuangdongHenanZhejiangHunanAnhuiJiangxiSh...   \n",
       "03/04/2020   530480  HubeiGuangdongHenanZhejiangHunanAnhuiJiangxiSh...   \n",
       "03/05/2020   602386  HubeiGuangdongHenanZhejiangHunanAnhuiJiangxiSh...   \n",
       "03/06/2020   729932  HubeiGuangdongHenanZhejiangHunanAnhuiJiangxiSh...   \n",
       "03/07/2020   873000  HubeiGuangdongHenanZhejiangHunanAnhuiJiangxiSh...   \n",
       "03/08/2020  1050600  HubeiGuangdongHenanZhejiangHunanAnhuiJiangxiSh...   \n",
       "03/09/2020  1165213  HubeiGuangdongHenanZhejiangHunanAnhuiJiangxiSh...   \n",
       "03/10/2020   950999  HubeiGuangdongHenanZhejiangHunanAnhuiJiangxiSh...   \n",
       "03/11/2020  1042740  HubeiFranceGuangdongHenanZhejiangHunanAnhuiJia...   \n",
       "03/12/2020  1099701  HubeiFranceGuangdongHenanZhejiangHunanAnhuiJia...   \n",
       "03/13/2020  1211755  HubeiGuangdongHenanZhejiangHunanAnhuiJiangxiSh...   \n",
       "03/14/2020  1371492  HubeiFranceGuangdongHenanZhejiangUnited Kingdo...   \n",
       "03/15/2020  1486467  HubeiFranceGuangdongHenanZhejiangUnited Kingdo...   \n",
       "\n",
       "                                                      Country  \\\n",
       "Date                                                            \n",
       "01/22/2020  Mainland ChinaMainland ChinaMainland ChinaMain...   \n",
       "01/23/2020  Mainland ChinaMainland ChinaMainland ChinaMain...   \n",
       "01/24/2020  Mainland ChinaMainland ChinaMainland ChinaMain...   \n",
       "01/25/2020  Mainland ChinaMainland ChinaMainland ChinaMain...   \n",
       "01/26/2020  Mainland ChinaMainland ChinaMainland ChinaMain...   \n",
       "01/27/2020  Mainland ChinaMainland ChinaMainland ChinaMain...   \n",
       "01/28/2020  Mainland ChinaMainland ChinaMainland ChinaMain...   \n",
       "01/29/2020  Mainland ChinaMainland ChinaMainland ChinaMain...   \n",
       "01/30/2020  Mainland ChinaMainland ChinaMainland ChinaMain...   \n",
       "01/31/2020  Mainland ChinaMainland ChinaMainland ChinaMain...   \n",
       "02/01/2020  Mainland ChinaMainland ChinaMainland ChinaMain...   \n",
       "02/02/2020  Mainland ChinaMainland ChinaMainland ChinaMain...   \n",
       "02/03/2020  Mainland ChinaMainland ChinaMainland ChinaMain...   \n",
       "02/04/2020  Mainland ChinaMainland ChinaMainland ChinaMain...   \n",
       "02/05/2020  Mainland ChinaMainland ChinaMainland ChinaMain...   \n",
       "02/06/2020  Mainland ChinaMainland ChinaMainland ChinaMain...   \n",
       "02/07/2020  Mainland ChinaMainland ChinaMainland ChinaMain...   \n",
       "02/08/2020  Mainland ChinaMainland ChinaMainland ChinaMain...   \n",
       "02/09/2020  Mainland ChinaMainland ChinaMainland ChinaMain...   \n",
       "02/10/2020  Mainland ChinaMainland ChinaMainland ChinaMain...   \n",
       "02/11/2020  Mainland ChinaMainland ChinaMainland ChinaMain...   \n",
       "02/12/2020  Mainland ChinaMainland ChinaMainland ChinaMain...   \n",
       "02/13/2020  Mainland ChinaMainland ChinaMainland ChinaMain...   \n",
       "02/14/2020  Mainland ChinaMainland ChinaMainland ChinaMain...   \n",
       "02/15/2020  Mainland ChinaMainland ChinaMainland ChinaMain...   \n",
       "02/16/2020  Mainland ChinaMainland ChinaMainland ChinaMain...   \n",
       "02/17/2020  Mainland ChinaMainland ChinaMainland ChinaMain...   \n",
       "02/18/2020  Mainland ChinaMainland ChinaMainland ChinaMain...   \n",
       "02/19/2020  Mainland ChinaMainland ChinaMainland ChinaMain...   \n",
       "02/20/2020  Mainland ChinaMainland ChinaMainland ChinaMain...   \n",
       "02/21/2020  Mainland ChinaMainland ChinaMainland ChinaMain...   \n",
       "02/22/2020  Mainland ChinaMainland ChinaMainland ChinaMain...   \n",
       "02/23/2020  Mainland ChinaMainland ChinaMainland ChinaMain...   \n",
       "02/24/2020  Mainland ChinaMainland ChinaMainland ChinaMain...   \n",
       "02/25/2020  Mainland ChinaMainland ChinaMainland ChinaMain...   \n",
       "02/26/2020  Mainland ChinaMainland ChinaMainland ChinaSout...   \n",
       "02/27/2020  Mainland ChinaSouth KoreaMainland ChinaMainlan...   \n",
       "02/28/2020  Mainland ChinaSouth KoreaMainland ChinaMainlan...   \n",
       "02/29/2020  Mainland ChinaSouth KoreaMainland ChinaMainlan...   \n",
       "03/01/2020  Mainland ChinaSouth KoreaItalyMainland ChinaMa...   \n",
       "03/02/2020  Mainland ChinaSouth KoreaItalyIranMainland Chi...   \n",
       "03/03/2020  Mainland ChinaSouth KoreaItalyIranMainland Chi...   \n",
       "03/04/2020  Mainland ChinaSouth KoreaItalyIranMainland Chi...   \n",
       "03/05/2020  Mainland ChinaSouth KoreaItalyIranMainland Chi...   \n",
       "03/06/2020  Mainland ChinaSouth KoreaIranItalyMainland Chi...   \n",
       "03/07/2020  Mainland ChinaSouth KoreaItalyIranMainland Chi...   \n",
       "03/08/2020  Mainland ChinaItalySouth KoreaIranMainland Chi...   \n",
       "03/09/2020  Mainland ChinaItalySouth KoreaIranMainland Chi...   \n",
       "03/10/2020  Mainland ChinaItalyIranSouth KoreaFranceSpainG...   \n",
       "03/11/2020  Mainland ChinaItalyIranSouth KoreaFranceSpainG...   \n",
       "03/12/2020  Mainland ChinaItalyIranSouth KoreaFranceSpainG...   \n",
       "03/13/2020  Mainland ChinaMainland ChinaMainland ChinaMain...   \n",
       "03/14/2020  Mainland ChinaItalyIranSouth KoreaSpainGermany...   \n",
       "03/15/2020  Mainland ChinaItalyIranSouth KoreaSpainGermany...   \n",
       "\n",
       "                                                  Last Update  Confirmed  \\\n",
       "Date                                                                       \n",
       "01/22/2020  1/22/2020 17:001/22/2020 17:001/22/2020 17:001...      555.0   \n",
       "01/23/2020  1/23/20 17:001/23/20 17:001/23/20 17:001/23/20...      653.0   \n",
       "01/24/2020  1/24/20 17:001/24/20 17:001/24/20 17:001/24/20...      941.0   \n",
       "01/25/2020  1/25/20 17:001/25/20 17:001/25/20 17:001/25/20...     1438.0   \n",
       "01/26/2020  1/26/20 16:001/26/20 16:001/26/20 16:001/26/20...     2118.0   \n",
       "01/27/2020  1/27/20 23:591/27/20 23:591/27/20 23:591/27/20...     2927.0   \n",
       "01/28/2020  1/28/20 23:001/28/20 23:001/28/20 23:001/28/20...     5578.0   \n",
       "01/29/2020  1/29/20 19:301/29/20 19:301/29/20 19:301/29/20...     6165.0   \n",
       "01/30/2020  1/30/20 16:001/30/20 16:001/30/20 16:001/30/20...     8235.0   \n",
       "01/31/2020  1/31/2020 23:591/31/2020 23:591/31/2020 23:591...     9925.0   \n",
       "02/01/2020  2/1/2020 11:532/1/2020 10:532/1/2020 14:232/1/...    12038.0   \n",
       "02/02/2020  2020-02-02T23:43:022020-02-02T18:03:052020-02-...    16787.0   \n",
       "02/03/2020  2020-02-03T23:23:032020-02-03T12:53:022020-02-...    19881.0   \n",
       "02/04/2020  2020-02-04T23:43:012020-02-04T13:03:072020-02-...    23892.0   \n",
       "02/05/2020  2020-02-05T23:13:122020-02-05T13:23:042020-02-...    27636.0   \n",
       "02/06/2020  2020-02-06T23:23:022020-02-06T12:43:022020-02-...    30818.0   \n",
       "02/07/2020  2020-02-07T23:43:022020-02-07T10:13:062020-02-...    34392.0   \n",
       "02/08/2020  2020-02-08T23:33:062020-02-08T11:53:012020-02-...    37121.0   \n",
       "02/09/2020  2020-02-09T23:33:022020-02-09T15:03:052020-02-...    40151.0   \n",
       "02/10/2020  2020-02-10T23:33:022020-02-10T13:43:022020-02-...    42763.0   \n",
       "02/11/2020  2020-02-11T23:33:022020-02-11T14:03:052020-02-...    44803.0   \n",
       "02/12/2020  2020-02-12T14:13:082020-02-12T12:23:092020-02-...    45222.0   \n",
       "02/13/2020  2020-02-13T14:13:062020-02-13T13:33:012020-02-...    60370.0   \n",
       "02/14/2020  2020-02-14T23:33:022020-02-14T12:53:022020-02-...    66887.0   \n",
       "02/15/2020  2020-02-15T23:13:052020-02-15T14:03:042020-02-...    69032.0   \n",
       "02/16/2020  2020-02-16T23:53:012020-02-16T12:03:062020-02-...    71226.0   \n",
       "02/17/2020  2020-02-17T23:13:062020-02-17T12:43:022020-02-...    73260.0   \n",
       "02/18/2020  2020-02-18T23:13:112020-02-18T13:43:022020-02-...    75138.0   \n",
       "02/19/2020  2020-02-19T23:23:022020-02-19T10:23:022020-02-...    75641.0   \n",
       "02/20/2020  2020-02-20T23:43:022020-02-20T11:13:272020-02-...    76199.0   \n",
       "02/21/2020  2020-02-21T13:03:092020-02-21T10:13:092020-02-...    76843.0   \n",
       "02/22/2020  2020-02-22T23:33:062020-02-22T10:03:042020-02-...    78599.0   \n",
       "02/23/2020  2020-02-23T11:33:032020-02-23T08:53:022020-02-...    78985.0   \n",
       "02/24/2020  2020-02-24T11:13:092020-02-24T10:23:022020-02-...    79570.0   \n",
       "02/25/2020  2020-02-25T15:23:042020-02-25T08:53:022020-02-...    80415.0   \n",
       "02/26/2020  2020-02-26T14:13:102020-02-26T10:33:022020-02-...    81397.0   \n",
       "02/27/2020  2020-02-27T12:13:142020-02-27T12:03:042020-02-...    82756.0   \n",
       "02/28/2020  2020-02-28T00:43:012020-02-28T08:53:032020-02-...    84124.0   \n",
       "02/29/2020  2020-02-29T12:13:102020-02-29T18:13:072020-02-...    86013.0   \n",
       "03/01/2020  2020-03-01T10:13:192020-03-01T23:43:032020-03-...    88371.0   \n",
       "03/02/2020  2020-03-02T15:03:232020-03-02T20:23:162020-03-...    90309.0   \n",
       "03/03/2020  2020-03-03T11:43:022020-03-03T09:43:022020-03-...    92844.0   \n",
       "03/04/2020  2020-03-04T12:53:032020-03-04T19:23:032020-03-...    95124.0   \n",
       "03/05/2020  2020-03-05T14:53:032020-03-05T09:03:092020-03-...    97886.0   \n",
       "03/06/2020  2020-03-06T14:23:042020-03-06T13:33:032020-03-...   101800.0   \n",
       "03/07/2020  2020-03-07T11:13:042020-03-07T10:13:222020-03-...   105836.0   \n",
       "03/08/2020  2020-03-08T14:43:032020-03-08T18:03:042020-03-...   109835.0   \n",
       "03/09/2020  2020-03-09T14:33:032020-03-09T18:13:112020-03-...   113582.0   \n",
       "03/10/2020  2020-03-10T15:13:052020-03-10T17:53:022020-03-...   118582.0   \n",
       "03/11/2020  2020-03-11T10:53:022020-03-11T21:33:022020-03-...   125865.0   \n",
       "03/12/2020  2020-03-12T09:53:062020-03-11T21:33:022020-03-...   128343.0   \n",
       "03/13/2020  2020-03-13T11:09:032020-03-13T11:09:032020-03-...   145193.0   \n",
       "03/14/2020  2020-03-14T10:13:092020-03-14T20:13:162020-03-...   156099.0   \n",
       "03/15/2020  2020-03-15T18:20:182020-03-14T20:13:162020-03-...   167447.0   \n",
       "\n",
       "            Deaths  Recovered  \n",
       "Date                           \n",
       "01/22/2020    17.0       28.0  \n",
       "01/23/2020    18.0       30.0  \n",
       "01/24/2020    26.0       36.0  \n",
       "01/25/2020    42.0       39.0  \n",
       "01/26/2020    56.0       52.0  \n",
       "01/27/2020    82.0       61.0  \n",
       "01/28/2020   131.0      107.0  \n",
       "01/29/2020   133.0      126.0  \n",
       "01/30/2020   171.0      143.0  \n",
       "01/31/2020   213.0      222.0  \n",
       "02/01/2020   259.0      284.0  \n",
       "02/02/2020   362.0      472.0  \n",
       "02/03/2020   426.0      623.0  \n",
       "02/04/2020   492.0      852.0  \n",
       "02/05/2020   564.0     1124.0  \n",
       "02/06/2020   634.0     1487.0  \n",
       "02/07/2020   719.0     2011.0  \n",
       "02/08/2020   806.0     2616.0  \n",
       "02/09/2020   906.0     3244.0  \n",
       "02/10/2020  1013.0     3946.0  \n",
       "02/11/2020  1113.0     4683.0  \n",
       "02/12/2020  1118.0     5150.0  \n",
       "02/13/2020  1371.0     6295.0  \n",
       "02/14/2020  1523.0     8058.0  \n",
       "02/15/2020  1666.0     9395.0  \n",
       "02/16/2020  1770.0    10865.0  \n",
       "02/17/2020  1868.0    12583.0  \n",
       "02/18/2020  2007.0    14352.0  \n",
       "02/19/2020  2122.0    16121.0  \n",
       "02/20/2020  2247.0    18177.0  \n",
       "02/21/2020  2251.0    18890.0  \n",
       "02/22/2020  2458.0    22886.0  \n",
       "02/23/2020  2469.0    23394.0  \n",
       "02/24/2020  2629.0    25227.0  \n",
       "02/25/2020  2708.0    27905.0  \n",
       "02/26/2020  2770.0    30384.0  \n",
       "02/27/2020  2814.0    33277.0  \n",
       "02/28/2020  2872.0    36711.0  \n",
       "02/29/2020  2941.0    39782.0  \n",
       "03/01/2020  2996.0    42716.0  \n",
       "03/02/2020  3085.0    45602.0  \n",
       "03/03/2020  3160.0    48229.0  \n",
       "03/04/2020  3254.0    51171.0  \n",
       "03/05/2020  3348.0    53797.0  \n",
       "03/06/2020  3460.0    55866.0  \n",
       "03/07/2020  3558.0    58359.0  \n",
       "03/08/2020  3803.0    60695.0  \n",
       "03/09/2020  3996.0    62512.0  \n",
       "03/10/2020  4262.0    64404.0  \n",
       "03/11/2020  4615.0    67003.0  \n",
       "03/12/2020  4720.0    68324.0  \n",
       "03/13/2020  5404.0    70251.0  \n",
       "03/14/2020  5819.0    72624.0  \n",
       "03/15/2020  6440.0    76034.0  "
      ]
     },
     "execution_count": 9,
     "metadata": {},
     "output_type": "execute_result"
    }
   ],
   "source": [
    "df.groupby('Date').sum()"
   ]
  },
  {
   "cell_type": "code",
   "execution_count": 10,
   "id": "b5b5d5bf-d059-4c65-810d-68c90ecb9a28",
   "metadata": {},
   "outputs": [
    {
     "name": "stdout",
     "output_type": "stream",
     "text": [
      "<class 'pandas.core.frame.DataFrame'>\n",
      "RangeIndex: 5890 entries, 0 to 5889\n",
      "Data columns (total 8 columns):\n",
      " #   Column          Non-Null Count  Dtype  \n",
      "---  ------          --------------  -----  \n",
      " 0   SNo             5890 non-null   int64  \n",
      " 1   Date            5890 non-null   object \n",
      " 2   Province/State  3572 non-null   object \n",
      " 3   Country         5890 non-null   object \n",
      " 4   Last Update     5890 non-null   object \n",
      " 5   Confirmed       5890 non-null   float64\n",
      " 6   Deaths          5890 non-null   float64\n",
      " 7   Recovered       5890 non-null   float64\n",
      "dtypes: float64(3), int64(1), object(4)\n",
      "memory usage: 368.3+ KB\n"
     ]
    }
   ],
   "source": [
    "df.info()"
   ]
  },
  {
   "cell_type": "code",
   "execution_count": 11,
   "id": "7dee2a0b-75bc-4dec-b21d-37f8a3ebc5a4",
   "metadata": {},
   "outputs": [],
   "source": [
    "confirmed=df.groupby('Date').sum()['Confirmed'].reset_index()\n",
    "death=df.groupby('Date').sum()['Deaths'].reset_index()\n",
    "rec =df.groupby('Date').sum()['Recovered'].reset_index()"
   ]
  },
  {
   "cell_type": "code",
   "execution_count": 12,
   "id": "919b4dd7-440e-40dc-812e-962a78220624",
   "metadata": {},
   "outputs": [
    {
     "data": {
      "application/vnd.plotly.v1+json": {
       "config": {
        "plotlyServerURL": "https://plot.ly"
       },
       "data": [
        {
         "line": {
          "color": "blue",
          "width": 2
         },
         "mode": "lines+markers",
         "name": "confirmed",
         "type": "scatter",
         "x": [
          "01/22/2020",
          "01/23/2020",
          "01/24/2020",
          "01/25/2020",
          "01/26/2020",
          "01/27/2020",
          "01/28/2020",
          "01/29/2020",
          "01/30/2020",
          "01/31/2020",
          "02/01/2020",
          "02/02/2020",
          "02/03/2020",
          "02/04/2020",
          "02/05/2020",
          "02/06/2020",
          "02/07/2020",
          "02/08/2020",
          "02/09/2020",
          "02/10/2020",
          "02/11/2020",
          "02/12/2020",
          "02/13/2020",
          "02/14/2020",
          "02/15/2020",
          "02/16/2020",
          "02/17/2020",
          "02/18/2020",
          "02/19/2020",
          "02/20/2020",
          "02/21/2020",
          "02/22/2020",
          "02/23/2020",
          "02/24/2020",
          "02/25/2020",
          "02/26/2020",
          "02/27/2020",
          "02/28/2020",
          "02/29/2020",
          "03/01/2020",
          "03/02/2020",
          "03/03/2020",
          "03/04/2020",
          "03/05/2020",
          "03/06/2020",
          "03/07/2020",
          "03/08/2020",
          "03/09/2020",
          "03/10/2020",
          "03/11/2020",
          "03/12/2020",
          "03/13/2020",
          "03/14/2020",
          "03/15/2020"
         ],
         "y": [
          555,
          653,
          941,
          1438,
          2118,
          2927,
          5578,
          6165,
          8235,
          9925,
          12038,
          16787,
          19881,
          23892,
          27636,
          30818,
          34392,
          37121,
          40151,
          42763,
          44803,
          45222,
          60370,
          66887,
          69032,
          71226,
          73260,
          75138,
          75641,
          76199,
          76843,
          78599,
          78985,
          79570,
          80415,
          81397,
          82756,
          84124,
          86013,
          88371,
          90309,
          92844,
          95124,
          97886,
          101800,
          105836,
          109835,
          113582,
          118582,
          125865,
          128343,
          145193,
          156099,
          167447
         ]
        },
        {
         "line": {
          "color": "red",
          "width": 2
         },
         "mode": "lines+markers",
         "name": "death",
         "type": "scatter",
         "x": [
          "01/22/2020",
          "01/23/2020",
          "01/24/2020",
          "01/25/2020",
          "01/26/2020",
          "01/27/2020",
          "01/28/2020",
          "01/29/2020",
          "01/30/2020",
          "01/31/2020",
          "02/01/2020",
          "02/02/2020",
          "02/03/2020",
          "02/04/2020",
          "02/05/2020",
          "02/06/2020",
          "02/07/2020",
          "02/08/2020",
          "02/09/2020",
          "02/10/2020",
          "02/11/2020",
          "02/12/2020",
          "02/13/2020",
          "02/14/2020",
          "02/15/2020",
          "02/16/2020",
          "02/17/2020",
          "02/18/2020",
          "02/19/2020",
          "02/20/2020",
          "02/21/2020",
          "02/22/2020",
          "02/23/2020",
          "02/24/2020",
          "02/25/2020",
          "02/26/2020",
          "02/27/2020",
          "02/28/2020",
          "02/29/2020",
          "03/01/2020",
          "03/02/2020",
          "03/03/2020",
          "03/04/2020",
          "03/05/2020",
          "03/06/2020",
          "03/07/2020",
          "03/08/2020",
          "03/09/2020",
          "03/10/2020",
          "03/11/2020",
          "03/12/2020",
          "03/13/2020",
          "03/14/2020",
          "03/15/2020"
         ],
         "y": [
          17,
          18,
          26,
          42,
          56,
          82,
          131,
          133,
          171,
          213,
          259,
          362,
          426,
          492,
          564,
          634,
          719,
          806,
          906,
          1013,
          1113,
          1118,
          1371,
          1523,
          1666,
          1770,
          1868,
          2007,
          2122,
          2247,
          2251,
          2458,
          2469,
          2629,
          2708,
          2770,
          2814,
          2872,
          2941,
          2996,
          3085,
          3160,
          3254,
          3348,
          3460,
          3558,
          3803,
          3996,
          4262,
          4615,
          4720,
          5404,
          5819,
          6440
         ]
        },
        {
         "line": {
          "color": "green",
          "width": 2
         },
         "mode": "lines+markers",
         "name": "rec",
         "type": "scatter",
         "x": [
          "01/22/2020",
          "01/23/2020",
          "01/24/2020",
          "01/25/2020",
          "01/26/2020",
          "01/27/2020",
          "01/28/2020",
          "01/29/2020",
          "01/30/2020",
          "01/31/2020",
          "02/01/2020",
          "02/02/2020",
          "02/03/2020",
          "02/04/2020",
          "02/05/2020",
          "02/06/2020",
          "02/07/2020",
          "02/08/2020",
          "02/09/2020",
          "02/10/2020",
          "02/11/2020",
          "02/12/2020",
          "02/13/2020",
          "02/14/2020",
          "02/15/2020",
          "02/16/2020",
          "02/17/2020",
          "02/18/2020",
          "02/19/2020",
          "02/20/2020",
          "02/21/2020",
          "02/22/2020",
          "02/23/2020",
          "02/24/2020",
          "02/25/2020",
          "02/26/2020",
          "02/27/2020",
          "02/28/2020",
          "02/29/2020",
          "03/01/2020",
          "03/02/2020",
          "03/03/2020",
          "03/04/2020",
          "03/05/2020",
          "03/06/2020",
          "03/07/2020",
          "03/08/2020",
          "03/09/2020",
          "03/10/2020",
          "03/11/2020",
          "03/12/2020",
          "03/13/2020",
          "03/14/2020",
          "03/15/2020"
         ],
         "y": [
          28,
          30,
          36,
          39,
          52,
          61,
          107,
          126,
          143,
          222,
          284,
          472,
          623,
          852,
          1124,
          1487,
          2011,
          2616,
          3244,
          3946,
          4683,
          5150,
          6295,
          8058,
          9395,
          10865,
          12583,
          14352,
          16121,
          18177,
          18890,
          22886,
          23394,
          25227,
          27905,
          30384,
          33277,
          36711,
          39782,
          42716,
          45602,
          48229,
          51171,
          53797,
          55866,
          58359,
          60695,
          62512,
          64404,
          67003,
          68324,
          70251,
          72624,
          76034
         ]
        }
       ],
       "layout": {
        "template": {
         "data": {
          "bar": [
           {
            "error_x": {
             "color": "#2a3f5f"
            },
            "error_y": {
             "color": "#2a3f5f"
            },
            "marker": {
             "line": {
              "color": "#E5ECF6",
              "width": 0.5
             },
             "pattern": {
              "fillmode": "overlay",
              "size": 10,
              "solidity": 0.2
             }
            },
            "type": "bar"
           }
          ],
          "barpolar": [
           {
            "marker": {
             "line": {
              "color": "#E5ECF6",
              "width": 0.5
             },
             "pattern": {
              "fillmode": "overlay",
              "size": 10,
              "solidity": 0.2
             }
            },
            "type": "barpolar"
           }
          ],
          "carpet": [
           {
            "aaxis": {
             "endlinecolor": "#2a3f5f",
             "gridcolor": "white",
             "linecolor": "white",
             "minorgridcolor": "white",
             "startlinecolor": "#2a3f5f"
            },
            "baxis": {
             "endlinecolor": "#2a3f5f",
             "gridcolor": "white",
             "linecolor": "white",
             "minorgridcolor": "white",
             "startlinecolor": "#2a3f5f"
            },
            "type": "carpet"
           }
          ],
          "choropleth": [
           {
            "colorbar": {
             "outlinewidth": 0,
             "ticks": ""
            },
            "type": "choropleth"
           }
          ],
          "contour": [
           {
            "colorbar": {
             "outlinewidth": 0,
             "ticks": ""
            },
            "colorscale": [
             [
              0,
              "#0d0887"
             ],
             [
              0.1111111111111111,
              "#46039f"
             ],
             [
              0.2222222222222222,
              "#7201a8"
             ],
             [
              0.3333333333333333,
              "#9c179e"
             ],
             [
              0.4444444444444444,
              "#bd3786"
             ],
             [
              0.5555555555555556,
              "#d8576b"
             ],
             [
              0.6666666666666666,
              "#ed7953"
             ],
             [
              0.7777777777777778,
              "#fb9f3a"
             ],
             [
              0.8888888888888888,
              "#fdca26"
             ],
             [
              1,
              "#f0f921"
             ]
            ],
            "type": "contour"
           }
          ],
          "contourcarpet": [
           {
            "colorbar": {
             "outlinewidth": 0,
             "ticks": ""
            },
            "type": "contourcarpet"
           }
          ],
          "heatmap": [
           {
            "colorbar": {
             "outlinewidth": 0,
             "ticks": ""
            },
            "colorscale": [
             [
              0,
              "#0d0887"
             ],
             [
              0.1111111111111111,
              "#46039f"
             ],
             [
              0.2222222222222222,
              "#7201a8"
             ],
             [
              0.3333333333333333,
              "#9c179e"
             ],
             [
              0.4444444444444444,
              "#bd3786"
             ],
             [
              0.5555555555555556,
              "#d8576b"
             ],
             [
              0.6666666666666666,
              "#ed7953"
             ],
             [
              0.7777777777777778,
              "#fb9f3a"
             ],
             [
              0.8888888888888888,
              "#fdca26"
             ],
             [
              1,
              "#f0f921"
             ]
            ],
            "type": "heatmap"
           }
          ],
          "heatmapgl": [
           {
            "colorbar": {
             "outlinewidth": 0,
             "ticks": ""
            },
            "colorscale": [
             [
              0,
              "#0d0887"
             ],
             [
              0.1111111111111111,
              "#46039f"
             ],
             [
              0.2222222222222222,
              "#7201a8"
             ],
             [
              0.3333333333333333,
              "#9c179e"
             ],
             [
              0.4444444444444444,
              "#bd3786"
             ],
             [
              0.5555555555555556,
              "#d8576b"
             ],
             [
              0.6666666666666666,
              "#ed7953"
             ],
             [
              0.7777777777777778,
              "#fb9f3a"
             ],
             [
              0.8888888888888888,
              "#fdca26"
             ],
             [
              1,
              "#f0f921"
             ]
            ],
            "type": "heatmapgl"
           }
          ],
          "histogram": [
           {
            "marker": {
             "pattern": {
              "fillmode": "overlay",
              "size": 10,
              "solidity": 0.2
             }
            },
            "type": "histogram"
           }
          ],
          "histogram2d": [
           {
            "colorbar": {
             "outlinewidth": 0,
             "ticks": ""
            },
            "colorscale": [
             [
              0,
              "#0d0887"
             ],
             [
              0.1111111111111111,
              "#46039f"
             ],
             [
              0.2222222222222222,
              "#7201a8"
             ],
             [
              0.3333333333333333,
              "#9c179e"
             ],
             [
              0.4444444444444444,
              "#bd3786"
             ],
             [
              0.5555555555555556,
              "#d8576b"
             ],
             [
              0.6666666666666666,
              "#ed7953"
             ],
             [
              0.7777777777777778,
              "#fb9f3a"
             ],
             [
              0.8888888888888888,
              "#fdca26"
             ],
             [
              1,
              "#f0f921"
             ]
            ],
            "type": "histogram2d"
           }
          ],
          "histogram2dcontour": [
           {
            "colorbar": {
             "outlinewidth": 0,
             "ticks": ""
            },
            "colorscale": [
             [
              0,
              "#0d0887"
             ],
             [
              0.1111111111111111,
              "#46039f"
             ],
             [
              0.2222222222222222,
              "#7201a8"
             ],
             [
              0.3333333333333333,
              "#9c179e"
             ],
             [
              0.4444444444444444,
              "#bd3786"
             ],
             [
              0.5555555555555556,
              "#d8576b"
             ],
             [
              0.6666666666666666,
              "#ed7953"
             ],
             [
              0.7777777777777778,
              "#fb9f3a"
             ],
             [
              0.8888888888888888,
              "#fdca26"
             ],
             [
              1,
              "#f0f921"
             ]
            ],
            "type": "histogram2dcontour"
           }
          ],
          "mesh3d": [
           {
            "colorbar": {
             "outlinewidth": 0,
             "ticks": ""
            },
            "type": "mesh3d"
           }
          ],
          "parcoords": [
           {
            "line": {
             "colorbar": {
              "outlinewidth": 0,
              "ticks": ""
             }
            },
            "type": "parcoords"
           }
          ],
          "pie": [
           {
            "automargin": true,
            "type": "pie"
           }
          ],
          "scatter": [
           {
            "fillpattern": {
             "fillmode": "overlay",
             "size": 10,
             "solidity": 0.2
            },
            "type": "scatter"
           }
          ],
          "scatter3d": [
           {
            "line": {
             "colorbar": {
              "outlinewidth": 0,
              "ticks": ""
             }
            },
            "marker": {
             "colorbar": {
              "outlinewidth": 0,
              "ticks": ""
             }
            },
            "type": "scatter3d"
           }
          ],
          "scattercarpet": [
           {
            "marker": {
             "colorbar": {
              "outlinewidth": 0,
              "ticks": ""
             }
            },
            "type": "scattercarpet"
           }
          ],
          "scattergeo": [
           {
            "marker": {
             "colorbar": {
              "outlinewidth": 0,
              "ticks": ""
             }
            },
            "type": "scattergeo"
           }
          ],
          "scattergl": [
           {
            "marker": {
             "colorbar": {
              "outlinewidth": 0,
              "ticks": ""
             }
            },
            "type": "scattergl"
           }
          ],
          "scattermapbox": [
           {
            "marker": {
             "colorbar": {
              "outlinewidth": 0,
              "ticks": ""
             }
            },
            "type": "scattermapbox"
           }
          ],
          "scatterpolar": [
           {
            "marker": {
             "colorbar": {
              "outlinewidth": 0,
              "ticks": ""
             }
            },
            "type": "scatterpolar"
           }
          ],
          "scatterpolargl": [
           {
            "marker": {
             "colorbar": {
              "outlinewidth": 0,
              "ticks": ""
             }
            },
            "type": "scatterpolargl"
           }
          ],
          "scatterternary": [
           {
            "marker": {
             "colorbar": {
              "outlinewidth": 0,
              "ticks": ""
             }
            },
            "type": "scatterternary"
           }
          ],
          "surface": [
           {
            "colorbar": {
             "outlinewidth": 0,
             "ticks": ""
            },
            "colorscale": [
             [
              0,
              "#0d0887"
             ],
             [
              0.1111111111111111,
              "#46039f"
             ],
             [
              0.2222222222222222,
              "#7201a8"
             ],
             [
              0.3333333333333333,
              "#9c179e"
             ],
             [
              0.4444444444444444,
              "#bd3786"
             ],
             [
              0.5555555555555556,
              "#d8576b"
             ],
             [
              0.6666666666666666,
              "#ed7953"
             ],
             [
              0.7777777777777778,
              "#fb9f3a"
             ],
             [
              0.8888888888888888,
              "#fdca26"
             ],
             [
              1,
              "#f0f921"
             ]
            ],
            "type": "surface"
           }
          ],
          "table": [
           {
            "cells": {
             "fill": {
              "color": "#EBF0F8"
             },
             "line": {
              "color": "white"
             }
            },
            "header": {
             "fill": {
              "color": "#C8D4E3"
             },
             "line": {
              "color": "white"
             }
            },
            "type": "table"
           }
          ]
         },
         "layout": {
          "annotationdefaults": {
           "arrowcolor": "#2a3f5f",
           "arrowhead": 0,
           "arrowwidth": 1
          },
          "autotypenumbers": "strict",
          "coloraxis": {
           "colorbar": {
            "outlinewidth": 0,
            "ticks": ""
           }
          },
          "colorscale": {
           "diverging": [
            [
             0,
             "#8e0152"
            ],
            [
             0.1,
             "#c51b7d"
            ],
            [
             0.2,
             "#de77ae"
            ],
            [
             0.3,
             "#f1b6da"
            ],
            [
             0.4,
             "#fde0ef"
            ],
            [
             0.5,
             "#f7f7f7"
            ],
            [
             0.6,
             "#e6f5d0"
            ],
            [
             0.7,
             "#b8e186"
            ],
            [
             0.8,
             "#7fbc41"
            ],
            [
             0.9,
             "#4d9221"
            ],
            [
             1,
             "#276419"
            ]
           ],
           "sequential": [
            [
             0,
             "#0d0887"
            ],
            [
             0.1111111111111111,
             "#46039f"
            ],
            [
             0.2222222222222222,
             "#7201a8"
            ],
            [
             0.3333333333333333,
             "#9c179e"
            ],
            [
             0.4444444444444444,
             "#bd3786"
            ],
            [
             0.5555555555555556,
             "#d8576b"
            ],
            [
             0.6666666666666666,
             "#ed7953"
            ],
            [
             0.7777777777777778,
             "#fb9f3a"
            ],
            [
             0.8888888888888888,
             "#fdca26"
            ],
            [
             1,
             "#f0f921"
            ]
           ],
           "sequentialminus": [
            [
             0,
             "#0d0887"
            ],
            [
             0.1111111111111111,
             "#46039f"
            ],
            [
             0.2222222222222222,
             "#7201a8"
            ],
            [
             0.3333333333333333,
             "#9c179e"
            ],
            [
             0.4444444444444444,
             "#bd3786"
            ],
            [
             0.5555555555555556,
             "#d8576b"
            ],
            [
             0.6666666666666666,
             "#ed7953"
            ],
            [
             0.7777777777777778,
             "#fb9f3a"
            ],
            [
             0.8888888888888888,
             "#fdca26"
            ],
            [
             1,
             "#f0f921"
            ]
           ]
          },
          "colorway": [
           "#636efa",
           "#EF553B",
           "#00cc96",
           "#ab63fa",
           "#FFA15A",
           "#19d3f3",
           "#FF6692",
           "#B6E880",
           "#FF97FF",
           "#FECB52"
          ],
          "font": {
           "color": "#2a3f5f"
          },
          "geo": {
           "bgcolor": "white",
           "lakecolor": "white",
           "landcolor": "#E5ECF6",
           "showlakes": true,
           "showland": true,
           "subunitcolor": "white"
          },
          "hoverlabel": {
           "align": "left"
          },
          "hovermode": "closest",
          "mapbox": {
           "style": "light"
          },
          "paper_bgcolor": "white",
          "plot_bgcolor": "#E5ECF6",
          "polar": {
           "angularaxis": {
            "gridcolor": "white",
            "linecolor": "white",
            "ticks": ""
           },
           "bgcolor": "#E5ECF6",
           "radialaxis": {
            "gridcolor": "white",
            "linecolor": "white",
            "ticks": ""
           }
          },
          "scene": {
           "xaxis": {
            "backgroundcolor": "#E5ECF6",
            "gridcolor": "white",
            "gridwidth": 2,
            "linecolor": "white",
            "showbackground": true,
            "ticks": "",
            "zerolinecolor": "white"
           },
           "yaxis": {
            "backgroundcolor": "#E5ECF6",
            "gridcolor": "white",
            "gridwidth": 2,
            "linecolor": "white",
            "showbackground": true,
            "ticks": "",
            "zerolinecolor": "white"
           },
           "zaxis": {
            "backgroundcolor": "#E5ECF6",
            "gridcolor": "white",
            "gridwidth": 2,
            "linecolor": "white",
            "showbackground": true,
            "ticks": "",
            "zerolinecolor": "white"
           }
          },
          "shapedefaults": {
           "line": {
            "color": "#2a3f5f"
           }
          },
          "ternary": {
           "aaxis": {
            "gridcolor": "white",
            "linecolor": "white",
            "ticks": ""
           },
           "baxis": {
            "gridcolor": "white",
            "linecolor": "white",
            "ticks": ""
           },
           "bgcolor": "#E5ECF6",
           "caxis": {
            "gridcolor": "white",
            "linecolor": "white",
            "ticks": ""
           }
          },
          "title": {
           "x": 0.05
          },
          "xaxis": {
           "automargin": true,
           "gridcolor": "white",
           "linecolor": "white",
           "ticks": "",
           "title": {
            "standoff": 15
           },
           "zerolinecolor": "white",
           "zerolinewidth": 2
          },
          "yaxis": {
           "automargin": true,
           "gridcolor": "white",
           "linecolor": "white",
           "ticks": "",
           "title": {
            "standoff": 15
           },
           "zerolinecolor": "white",
           "zerolinewidth": 2
          }
         }
        }
       }
      },
      "text/html": [
       "<div>                            <div id=\"d8d5bbbf-3f6a-4ae9-a38e-b8190c3afa68\" class=\"plotly-graph-div\" style=\"height:525px; width:100%;\"></div>            <script type=\"text/javascript\">                require([\"plotly\"], function(Plotly) {                    window.PLOTLYENV=window.PLOTLYENV || {};                                    if (document.getElementById(\"d8d5bbbf-3f6a-4ae9-a38e-b8190c3afa68\")) {                    Plotly.newPlot(                        \"d8d5bbbf-3f6a-4ae9-a38e-b8190c3afa68\",                        [{\"line\":{\"color\":\"blue\",\"width\":2},\"mode\":\"lines+markers\",\"name\":\"confirmed\",\"x\":[\"01/22/2020\",\"01/23/2020\",\"01/24/2020\",\"01/25/2020\",\"01/26/2020\",\"01/27/2020\",\"01/28/2020\",\"01/29/2020\",\"01/30/2020\",\"01/31/2020\",\"02/01/2020\",\"02/02/2020\",\"02/03/2020\",\"02/04/2020\",\"02/05/2020\",\"02/06/2020\",\"02/07/2020\",\"02/08/2020\",\"02/09/2020\",\"02/10/2020\",\"02/11/2020\",\"02/12/2020\",\"02/13/2020\",\"02/14/2020\",\"02/15/2020\",\"02/16/2020\",\"02/17/2020\",\"02/18/2020\",\"02/19/2020\",\"02/20/2020\",\"02/21/2020\",\"02/22/2020\",\"02/23/2020\",\"02/24/2020\",\"02/25/2020\",\"02/26/2020\",\"02/27/2020\",\"02/28/2020\",\"02/29/2020\",\"03/01/2020\",\"03/02/2020\",\"03/03/2020\",\"03/04/2020\",\"03/05/2020\",\"03/06/2020\",\"03/07/2020\",\"03/08/2020\",\"03/09/2020\",\"03/10/2020\",\"03/11/2020\",\"03/12/2020\",\"03/13/2020\",\"03/14/2020\",\"03/15/2020\"],\"y\":[555.0,653.0,941.0,1438.0,2118.0,2927.0,5578.0,6165.0,8235.0,9925.0,12038.0,16787.0,19881.0,23892.0,27636.0,30818.0,34392.0,37121.0,40151.0,42763.0,44803.0,45222.0,60370.0,66887.0,69032.0,71226.0,73260.0,75138.0,75641.0,76199.0,76843.0,78599.0,78985.0,79570.0,80415.0,81397.0,82756.0,84124.0,86013.0,88371.0,90309.0,92844.0,95124.0,97886.0,101800.0,105836.0,109835.0,113582.0,118582.0,125865.0,128343.0,145193.0,156099.0,167447.0],\"type\":\"scatter\"},{\"line\":{\"color\":\"red\",\"width\":2},\"mode\":\"lines+markers\",\"name\":\"death\",\"x\":[\"01/22/2020\",\"01/23/2020\",\"01/24/2020\",\"01/25/2020\",\"01/26/2020\",\"01/27/2020\",\"01/28/2020\",\"01/29/2020\",\"01/30/2020\",\"01/31/2020\",\"02/01/2020\",\"02/02/2020\",\"02/03/2020\",\"02/04/2020\",\"02/05/2020\",\"02/06/2020\",\"02/07/2020\",\"02/08/2020\",\"02/09/2020\",\"02/10/2020\",\"02/11/2020\",\"02/12/2020\",\"02/13/2020\",\"02/14/2020\",\"02/15/2020\",\"02/16/2020\",\"02/17/2020\",\"02/18/2020\",\"02/19/2020\",\"02/20/2020\",\"02/21/2020\",\"02/22/2020\",\"02/23/2020\",\"02/24/2020\",\"02/25/2020\",\"02/26/2020\",\"02/27/2020\",\"02/28/2020\",\"02/29/2020\",\"03/01/2020\",\"03/02/2020\",\"03/03/2020\",\"03/04/2020\",\"03/05/2020\",\"03/06/2020\",\"03/07/2020\",\"03/08/2020\",\"03/09/2020\",\"03/10/2020\",\"03/11/2020\",\"03/12/2020\",\"03/13/2020\",\"03/14/2020\",\"03/15/2020\"],\"y\":[17.0,18.0,26.0,42.0,56.0,82.0,131.0,133.0,171.0,213.0,259.0,362.0,426.0,492.0,564.0,634.0,719.0,806.0,906.0,1013.0,1113.0,1118.0,1371.0,1523.0,1666.0,1770.0,1868.0,2007.0,2122.0,2247.0,2251.0,2458.0,2469.0,2629.0,2708.0,2770.0,2814.0,2872.0,2941.0,2996.0,3085.0,3160.0,3254.0,3348.0,3460.0,3558.0,3803.0,3996.0,4262.0,4615.0,4720.0,5404.0,5819.0,6440.0],\"type\":\"scatter\"},{\"line\":{\"color\":\"green\",\"width\":2},\"mode\":\"lines+markers\",\"name\":\"rec\",\"x\":[\"01/22/2020\",\"01/23/2020\",\"01/24/2020\",\"01/25/2020\",\"01/26/2020\",\"01/27/2020\",\"01/28/2020\",\"01/29/2020\",\"01/30/2020\",\"01/31/2020\",\"02/01/2020\",\"02/02/2020\",\"02/03/2020\",\"02/04/2020\",\"02/05/2020\",\"02/06/2020\",\"02/07/2020\",\"02/08/2020\",\"02/09/2020\",\"02/10/2020\",\"02/11/2020\",\"02/12/2020\",\"02/13/2020\",\"02/14/2020\",\"02/15/2020\",\"02/16/2020\",\"02/17/2020\",\"02/18/2020\",\"02/19/2020\",\"02/20/2020\",\"02/21/2020\",\"02/22/2020\",\"02/23/2020\",\"02/24/2020\",\"02/25/2020\",\"02/26/2020\",\"02/27/2020\",\"02/28/2020\",\"02/29/2020\",\"03/01/2020\",\"03/02/2020\",\"03/03/2020\",\"03/04/2020\",\"03/05/2020\",\"03/06/2020\",\"03/07/2020\",\"03/08/2020\",\"03/09/2020\",\"03/10/2020\",\"03/11/2020\",\"03/12/2020\",\"03/13/2020\",\"03/14/2020\",\"03/15/2020\"],\"y\":[28.0,30.0,36.0,39.0,52.0,61.0,107.0,126.0,143.0,222.0,284.0,472.0,623.0,852.0,1124.0,1487.0,2011.0,2616.0,3244.0,3946.0,4683.0,5150.0,6295.0,8058.0,9395.0,10865.0,12583.0,14352.0,16121.0,18177.0,18890.0,22886.0,23394.0,25227.0,27905.0,30384.0,33277.0,36711.0,39782.0,42716.0,45602.0,48229.0,51171.0,53797.0,55866.0,58359.0,60695.0,62512.0,64404.0,67003.0,68324.0,70251.0,72624.0,76034.0],\"type\":\"scatter\"}],                        {\"template\":{\"data\":{\"histogram2dcontour\":[{\"type\":\"histogram2dcontour\",\"colorbar\":{\"outlinewidth\":0,\"ticks\":\"\"},\"colorscale\":[[0.0,\"#0d0887\"],[0.1111111111111111,\"#46039f\"],[0.2222222222222222,\"#7201a8\"],[0.3333333333333333,\"#9c179e\"],[0.4444444444444444,\"#bd3786\"],[0.5555555555555556,\"#d8576b\"],[0.6666666666666666,\"#ed7953\"],[0.7777777777777778,\"#fb9f3a\"],[0.8888888888888888,\"#fdca26\"],[1.0,\"#f0f921\"]]}],\"choropleth\":[{\"type\":\"choropleth\",\"colorbar\":{\"outlinewidth\":0,\"ticks\":\"\"}}],\"histogram2d\":[{\"type\":\"histogram2d\",\"colorbar\":{\"outlinewidth\":0,\"ticks\":\"\"},\"colorscale\":[[0.0,\"#0d0887\"],[0.1111111111111111,\"#46039f\"],[0.2222222222222222,\"#7201a8\"],[0.3333333333333333,\"#9c179e\"],[0.4444444444444444,\"#bd3786\"],[0.5555555555555556,\"#d8576b\"],[0.6666666666666666,\"#ed7953\"],[0.7777777777777778,\"#fb9f3a\"],[0.8888888888888888,\"#fdca26\"],[1.0,\"#f0f921\"]]}],\"heatmap\":[{\"type\":\"heatmap\",\"colorbar\":{\"outlinewidth\":0,\"ticks\":\"\"},\"colorscale\":[[0.0,\"#0d0887\"],[0.1111111111111111,\"#46039f\"],[0.2222222222222222,\"#7201a8\"],[0.3333333333333333,\"#9c179e\"],[0.4444444444444444,\"#bd3786\"],[0.5555555555555556,\"#d8576b\"],[0.6666666666666666,\"#ed7953\"],[0.7777777777777778,\"#fb9f3a\"],[0.8888888888888888,\"#fdca26\"],[1.0,\"#f0f921\"]]}],\"heatmapgl\":[{\"type\":\"heatmapgl\",\"colorbar\":{\"outlinewidth\":0,\"ticks\":\"\"},\"colorscale\":[[0.0,\"#0d0887\"],[0.1111111111111111,\"#46039f\"],[0.2222222222222222,\"#7201a8\"],[0.3333333333333333,\"#9c179e\"],[0.4444444444444444,\"#bd3786\"],[0.5555555555555556,\"#d8576b\"],[0.6666666666666666,\"#ed7953\"],[0.7777777777777778,\"#fb9f3a\"],[0.8888888888888888,\"#fdca26\"],[1.0,\"#f0f921\"]]}],\"contourcarpet\":[{\"type\":\"contourcarpet\",\"colorbar\":{\"outlinewidth\":0,\"ticks\":\"\"}}],\"contour\":[{\"type\":\"contour\",\"colorbar\":{\"outlinewidth\":0,\"ticks\":\"\"},\"colorscale\":[[0.0,\"#0d0887\"],[0.1111111111111111,\"#46039f\"],[0.2222222222222222,\"#7201a8\"],[0.3333333333333333,\"#9c179e\"],[0.4444444444444444,\"#bd3786\"],[0.5555555555555556,\"#d8576b\"],[0.6666666666666666,\"#ed7953\"],[0.7777777777777778,\"#fb9f3a\"],[0.8888888888888888,\"#fdca26\"],[1.0,\"#f0f921\"]]}],\"surface\":[{\"type\":\"surface\",\"colorbar\":{\"outlinewidth\":0,\"ticks\":\"\"},\"colorscale\":[[0.0,\"#0d0887\"],[0.1111111111111111,\"#46039f\"],[0.2222222222222222,\"#7201a8\"],[0.3333333333333333,\"#9c179e\"],[0.4444444444444444,\"#bd3786\"],[0.5555555555555556,\"#d8576b\"],[0.6666666666666666,\"#ed7953\"],[0.7777777777777778,\"#fb9f3a\"],[0.8888888888888888,\"#fdca26\"],[1.0,\"#f0f921\"]]}],\"mesh3d\":[{\"type\":\"mesh3d\",\"colorbar\":{\"outlinewidth\":0,\"ticks\":\"\"}}],\"scatter\":[{\"fillpattern\":{\"fillmode\":\"overlay\",\"size\":10,\"solidity\":0.2},\"type\":\"scatter\"}],\"parcoords\":[{\"type\":\"parcoords\",\"line\":{\"colorbar\":{\"outlinewidth\":0,\"ticks\":\"\"}}}],\"scatterpolargl\":[{\"type\":\"scatterpolargl\",\"marker\":{\"colorbar\":{\"outlinewidth\":0,\"ticks\":\"\"}}}],\"bar\":[{\"error_x\":{\"color\":\"#2a3f5f\"},\"error_y\":{\"color\":\"#2a3f5f\"},\"marker\":{\"line\":{\"color\":\"#E5ECF6\",\"width\":0.5},\"pattern\":{\"fillmode\":\"overlay\",\"size\":10,\"solidity\":0.2}},\"type\":\"bar\"}],\"scattergeo\":[{\"type\":\"scattergeo\",\"marker\":{\"colorbar\":{\"outlinewidth\":0,\"ticks\":\"\"}}}],\"scatterpolar\":[{\"type\":\"scatterpolar\",\"marker\":{\"colorbar\":{\"outlinewidth\":0,\"ticks\":\"\"}}}],\"histogram\":[{\"marker\":{\"pattern\":{\"fillmode\":\"overlay\",\"size\":10,\"solidity\":0.2}},\"type\":\"histogram\"}],\"scattergl\":[{\"type\":\"scattergl\",\"marker\":{\"colorbar\":{\"outlinewidth\":0,\"ticks\":\"\"}}}],\"scatter3d\":[{\"type\":\"scatter3d\",\"line\":{\"colorbar\":{\"outlinewidth\":0,\"ticks\":\"\"}},\"marker\":{\"colorbar\":{\"outlinewidth\":0,\"ticks\":\"\"}}}],\"scattermapbox\":[{\"type\":\"scattermapbox\",\"marker\":{\"colorbar\":{\"outlinewidth\":0,\"ticks\":\"\"}}}],\"scatterternary\":[{\"type\":\"scatterternary\",\"marker\":{\"colorbar\":{\"outlinewidth\":0,\"ticks\":\"\"}}}],\"scattercarpet\":[{\"type\":\"scattercarpet\",\"marker\":{\"colorbar\":{\"outlinewidth\":0,\"ticks\":\"\"}}}],\"carpet\":[{\"aaxis\":{\"endlinecolor\":\"#2a3f5f\",\"gridcolor\":\"white\",\"linecolor\":\"white\",\"minorgridcolor\":\"white\",\"startlinecolor\":\"#2a3f5f\"},\"baxis\":{\"endlinecolor\":\"#2a3f5f\",\"gridcolor\":\"white\",\"linecolor\":\"white\",\"minorgridcolor\":\"white\",\"startlinecolor\":\"#2a3f5f\"},\"type\":\"carpet\"}],\"table\":[{\"cells\":{\"fill\":{\"color\":\"#EBF0F8\"},\"line\":{\"color\":\"white\"}},\"header\":{\"fill\":{\"color\":\"#C8D4E3\"},\"line\":{\"color\":\"white\"}},\"type\":\"table\"}],\"barpolar\":[{\"marker\":{\"line\":{\"color\":\"#E5ECF6\",\"width\":0.5},\"pattern\":{\"fillmode\":\"overlay\",\"size\":10,\"solidity\":0.2}},\"type\":\"barpolar\"}],\"pie\":[{\"automargin\":true,\"type\":\"pie\"}]},\"layout\":{\"autotypenumbers\":\"strict\",\"colorway\":[\"#636efa\",\"#EF553B\",\"#00cc96\",\"#ab63fa\",\"#FFA15A\",\"#19d3f3\",\"#FF6692\",\"#B6E880\",\"#FF97FF\",\"#FECB52\"],\"font\":{\"color\":\"#2a3f5f\"},\"hovermode\":\"closest\",\"hoverlabel\":{\"align\":\"left\"},\"paper_bgcolor\":\"white\",\"plot_bgcolor\":\"#E5ECF6\",\"polar\":{\"bgcolor\":\"#E5ECF6\",\"angularaxis\":{\"gridcolor\":\"white\",\"linecolor\":\"white\",\"ticks\":\"\"},\"radialaxis\":{\"gridcolor\":\"white\",\"linecolor\":\"white\",\"ticks\":\"\"}},\"ternary\":{\"bgcolor\":\"#E5ECF6\",\"aaxis\":{\"gridcolor\":\"white\",\"linecolor\":\"white\",\"ticks\":\"\"},\"baxis\":{\"gridcolor\":\"white\",\"linecolor\":\"white\",\"ticks\":\"\"},\"caxis\":{\"gridcolor\":\"white\",\"linecolor\":\"white\",\"ticks\":\"\"}},\"coloraxis\":{\"colorbar\":{\"outlinewidth\":0,\"ticks\":\"\"}},\"colorscale\":{\"sequential\":[[0.0,\"#0d0887\"],[0.1111111111111111,\"#46039f\"],[0.2222222222222222,\"#7201a8\"],[0.3333333333333333,\"#9c179e\"],[0.4444444444444444,\"#bd3786\"],[0.5555555555555556,\"#d8576b\"],[0.6666666666666666,\"#ed7953\"],[0.7777777777777778,\"#fb9f3a\"],[0.8888888888888888,\"#fdca26\"],[1.0,\"#f0f921\"]],\"sequentialminus\":[[0.0,\"#0d0887\"],[0.1111111111111111,\"#46039f\"],[0.2222222222222222,\"#7201a8\"],[0.3333333333333333,\"#9c179e\"],[0.4444444444444444,\"#bd3786\"],[0.5555555555555556,\"#d8576b\"],[0.6666666666666666,\"#ed7953\"],[0.7777777777777778,\"#fb9f3a\"],[0.8888888888888888,\"#fdca26\"],[1.0,\"#f0f921\"]],\"diverging\":[[0,\"#8e0152\"],[0.1,\"#c51b7d\"],[0.2,\"#de77ae\"],[0.3,\"#f1b6da\"],[0.4,\"#fde0ef\"],[0.5,\"#f7f7f7\"],[0.6,\"#e6f5d0\"],[0.7,\"#b8e186\"],[0.8,\"#7fbc41\"],[0.9,\"#4d9221\"],[1,\"#276419\"]]},\"xaxis\":{\"gridcolor\":\"white\",\"linecolor\":\"white\",\"ticks\":\"\",\"title\":{\"standoff\":15},\"zerolinecolor\":\"white\",\"automargin\":true,\"zerolinewidth\":2},\"yaxis\":{\"gridcolor\":\"white\",\"linecolor\":\"white\",\"ticks\":\"\",\"title\":{\"standoff\":15},\"zerolinecolor\":\"white\",\"automargin\":true,\"zerolinewidth\":2},\"scene\":{\"xaxis\":{\"backgroundcolor\":\"#E5ECF6\",\"gridcolor\":\"white\",\"linecolor\":\"white\",\"showbackground\":true,\"ticks\":\"\",\"zerolinecolor\":\"white\",\"gridwidth\":2},\"yaxis\":{\"backgroundcolor\":\"#E5ECF6\",\"gridcolor\":\"white\",\"linecolor\":\"white\",\"showbackground\":true,\"ticks\":\"\",\"zerolinecolor\":\"white\",\"gridwidth\":2},\"zaxis\":{\"backgroundcolor\":\"#E5ECF6\",\"gridcolor\":\"white\",\"linecolor\":\"white\",\"showbackground\":true,\"ticks\":\"\",\"zerolinecolor\":\"white\",\"gridwidth\":2}},\"shapedefaults\":{\"line\":{\"color\":\"#2a3f5f\"}},\"annotationdefaults\":{\"arrowcolor\":\"#2a3f5f\",\"arrowhead\":0,\"arrowwidth\":1},\"geo\":{\"bgcolor\":\"white\",\"landcolor\":\"#E5ECF6\",\"subunitcolor\":\"white\",\"showland\":true,\"showlakes\":true,\"lakecolor\":\"white\"},\"title\":{\"x\":0.05},\"mapbox\":{\"style\":\"light\"}}}},                        {\"responsive\": true}                    ).then(function(){\n",
       "                            \n",
       "var gd = document.getElementById('d8d5bbbf-3f6a-4ae9-a38e-b8190c3afa68');\n",
       "var x = new MutationObserver(function (mutations, observer) {{\n",
       "        var display = window.getComputedStyle(gd).display;\n",
       "        if (!display || display === 'none') {{\n",
       "            console.log([gd, 'removed!']);\n",
       "            Plotly.purge(gd);\n",
       "            observer.disconnect();\n",
       "        }}\n",
       "}});\n",
       "\n",
       "// Listen for the removal of the full notebook cells\n",
       "var notebookContainer = gd.closest('#notebook-container');\n",
       "if (notebookContainer) {{\n",
       "    x.observe(notebookContainer, {childList: true});\n",
       "}}\n",
       "\n",
       "// Listen for the clearing of the current output cell\n",
       "var outputEl = gd.closest('.output');\n",
       "if (outputEl) {{\n",
       "    x.observe(outputEl, {childList: true});\n",
       "}}\n",
       "\n",
       "                        })                };                });            </script>        </div>"
      ]
     },
     "metadata": {},
     "output_type": "display_data"
    }
   ],
   "source": [
    "fig= go.Figure()\n",
    "fig.add_trace(go.Scatter(x=confirmed['Date'],y=confirmed['Confirmed'],mode= 'lines+markers',name='confirmed',line=dict(color='blue',width=2)))\n",
    "fig.add_trace(go.Scatter(x=death['Date'],y=death['Deaths'],mode= 'lines+markers',name='death',line=dict(color='red',width=2))) \n",
    "fig.add_trace(go.Scatter(x=rec['Date'],y=rec['Recovered'],mode= 'lines+markers',name='rec',line=dict(color='green',width=2))) "
   ]
  },
  {
   "cell_type": "raw",
   "id": "2ab19508-cff0-44e8-ad0a-8693c17b1e65",
   "metadata": {},
   "source": [
    "https://www.kaggle.com/code/avimehta14/covid-19-data-visualization/notebook"
   ]
  },
  {
   "cell_type": "code",
   "execution_count": null,
   "id": "3acd4976-c350-459e-8330-b59f647e3d3f",
   "metadata": {},
   "outputs": [],
   "source": []
  },
  {
   "cell_type": "code",
   "execution_count": null,
   "id": "c5f68b03-131d-4ef1-885e-b6c6095089a6",
   "metadata": {},
   "outputs": [],
   "source": []
  }
 ],
 "metadata": {
  "kernelspec": {
   "display_name": "Python 3 (ipykernel)",
   "language": "python",
   "name": "python3"
  },
  "language_info": {
   "codemirror_mode": {
    "name": "ipython",
    "version": 3
   },
   "file_extension": ".py",
   "mimetype": "text/x-python",
   "name": "python",
   "nbconvert_exporter": "python",
   "pygments_lexer": "ipython3",
   "version": "3.11.5"
  }
 },
 "nbformat": 4,
 "nbformat_minor": 5
}
