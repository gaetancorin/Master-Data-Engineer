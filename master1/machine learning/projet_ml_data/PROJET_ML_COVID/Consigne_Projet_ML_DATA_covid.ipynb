{
 "cells": [
  {
   "cell_type": "markdown",
   "metadata": {
    "id": "uJRbCIFIkT_Y"
   },
   "source": [
    "# Projet  :  Chatbot Covid-19"
   ]
  },
  {
   "cell_type": "markdown",
   "metadata": {
    "id": "iAo41AqnkT_g"
   },
   "source": [
    "\n",
    "    Les urgences sont de plus en plus débordées notamment en cas d'épdiméie telle qu'on a l'a connue pendant la période de la COVID.\n",
    "\n",
    "\n",
    "\n",
    "    Vous êtes une entreprise spécialisée en developpenet de solution IA et vous êtres invités à  developper  un Chatbot, intelligent,  sous forme d'interrogatoire médicale et  permettant de poser un premier conseil médical à distance. Ce Chatbot a un double avantage, 1° permettre à une personne inquiête/malade de savoir si elle est réellement atteinte de la covid ou pas. 2) Eviter une saturation des services des urgences avec des cas non contaminées.\n",
    "\n",
    "\n",
    "\n",
    "    Vous avez à disposition des données  qui vous aideront à identifier si une personne est atteinte de la COVID ou non en fonction de certains symptômes standard prédéfinis. Ces symptômes sont basés sur les directives données par l'Organisation mondiale de la santé (OMS) et le ministère de la Santé et du Bien-être familial.\n",
    "\n",
    "\n",
    "\n",
    "    L'ensemble de données contient sept variables principales qui auront un impact sur le fait qu'une personne soit atteinte ou non de la COVID,\n",
    "\n",
    "\n",
    "la description de chaque variable est la suivante:\n",
    "\n",
    "    Pays: Liste des pays visités.\n",
    "    Âge: Classification du groupe d'âge pour chaque personne, sur la base des\n",
    "    symptômes standard du groupe d'âge de l'OMS : selon l'OMS, 5 sont les principaux symptômes du COVID-19, de la fièvre, de la fatigue, de la difficulté à respirer, de la toux sèche et du mal de gorge.\n",
    "\n",
    "    autre symptôme: douleurs, congestion nasale, écoulement nasal, diarrhée et autres.\n",
    "    Gravité: Le niveau de gravité, léger, modéré, sévère\n",
    "\n",
    "    Contact: la personne a-t-elle contacté un autre patient COVID-19\n",
    "    \n",
    "    Avec toutes ces variables catégorielles, une combinaison pour chaque étiquette de la variable sera générée et donc, au total, 316800 combinaisons sont créées.\n",
    "\n",
    "\n",
    "Données: deux fichiers CSV sur moodle\n",
    "\n",
    "    1.\tDonnées brutes: ce fichier contient toutes les étiquettes possibles des variables, ce fichier est utilisé pour générer les données nettoyées.\n",
    "\n",
    "    2.\tCleaned-Data: Ce fichier contient toutes les combinaisons possibles de données de Raw-Data.csv, peut être utilisé pour l'analyse.  \n",
    "\n",
    "\n",
    "\n",
    "Consignes pour réaliser ce projet :\n",
    "\n",
    "A) Le projet doit être mené conformément à la stratégie de gestion d'un projet ML ( voir cycle étapes projet ML vues en cours )\n",
    "\n",
    "2) Le choix de ou des algorithmes ML doit être motivé.\n",
    "\n",
    "        => Une attention particulière sera accordée à l'analyse et à la préparation des données.\n",
    "        => Les données doivent être analysées et éventuallemenet présentées sous format graphique ( dataviz )\n",
    "\n",
    "3) Les approches de l'apprentissage d'ensembles doit être utilisée. l'approche utilisée doit etre comparée aux algorithmes choisis précédement.\n",
    "\n",
    "4) La démarche de l'évaluation et de l'amélioration de votre modèle de données doit être clairement définie et expliquée\n",
    "\n",
    "5) La démarche de test et de validation de votre modèle doit être clairement définie et motivée.\n",
    "\n",
    "\n",
    "6) Ce projet peut soit etre réalise via\n",
    "\n",
    "    - python (scikit-learn: machine learning in Python — scikit-learn 1.4.1 )\n",
    "    - Pyspark/ML : https://spark.apache.org/docs/latest/ml-guide.html\n",
    "            - Databriks pourrait être une solution pour travailler avec SPARK en s'affranchissant de la phase   d'installation\n",
    "     - Il est possible de réaliser  le projet via la solution KNIME  ( https://www.knime.com - un seul noeud  suffit pour ce projet ==> ce point est une invitation au chalenge :)\n",
    "     \n",
    "     Pour se familiariser avec la solution : https://www.google.com/url?sa=t&rct=j&q=&esrc=s&source=web&cd=&ved=2ahUKEwjt3dOb_cmEAxXvVaQEHSrPDXcQwqsBegQIDhAG&url=https%3A%2F%2Fwww.youtube.com%2Fwatch%3Fv%3DEqVeLsu1Hos&usg=AOvVaw1d3Ot-Wj6nxIDf-Rptu1QA&opi=89978449\n",
    "        \n",
    "        \n",
    "7) Le rendu de ce projet est à  déposer sur moodle,   en incluant,\n",
    "\n",
    "        - Code source  : avant le 09/04/2024 - 23H59\n",
    "        - Eventullement rapport expliquant les démarches ou pour inclure toutes informations jugées nécessaires à la comprehenstion de votre contribution : avant le 09/04/2024 - 23H59\n",
    "        \n",
    "        - PPT soutenance : avant le 11 /04/2024 - 23H59\n",
    "    \n",
    " 8) Le projet sera présenté en date du 11/04/2024\n",
    "     - soutenance de 35 minutes\n",
    "             - 20 de présentation et 15 de questions d'approfondissement\n",
    "\n",
    "\n",
    " 9 ) Le jeu de données peut être enreuchi par d'autres données. Il peut également etre remplacé par un autre jeu de données; Dans ce cas, bien expliquer les raisons de ce choix.\n",
    "     - L'effort qui sera fourni à la collecte d'un nouveau jeu de données sera récompensé.\n",
    "\n",
    "\n",
    "10 ) Le projet est à réaliser en groupe de 3 ou 4 personnes\n",
    "\n",
    "11) Tout projet rendu en retard sera pénalisé : 1 point/ jour de retard\n",
    "\n",
    "\n",
    "\n",
    "Avis de non-responsabilité: Les résultats ou l'analyse de ces données doivent être considérés comme des conseils médicaux."
   ]
  },
  {
   "cell_type": "markdown",
   "metadata": {
    "id": "htXaKDEHkT_j"
   },
   "source": [
    "## Pour aller plus loin, Données cartographiques concernant l'épidémie de COVID-19"
   ]
  },
  {
   "cell_type": "markdown",
   "metadata": {
    "id": "MoEaYe3mkT_l"
   },
   "source": [
    "\n",
    "Afin d'aider les personnes, utilisant le chatbot, à connaitre les zones  contaminées,\n",
    "vous êtes invités à présenter sous fomre de carte dynamique.\n",
    "    \n",
    "    \n",
    "- les clusters COVD par zone ( on peut imaginer un affinage des zones, régions, départements, villes )\n",
    "- Le nombre de personnes contaminées\n",
    "\n",
    "- Les données doivent etre collectées et préparer pour un meilleure classification\n",
    "\n",
    "\n",
    "Nous pouvons, pour rendre le travail plus pertinent : intégrer de nouvelles données relatives au vaccin. Le but ici est d'extraire des enseignements sur la correlation entre la vaccination et la progression/l'évolution de la COVID19.\n",
    "\n",
    "https://www.data.gouv.fr/fr/datasets/donnees-cartographiques-concernant-lepidemie-de-covid-19/\n"
   ]
  },
  {
   "cell_type": "code",
   "execution_count": null,
   "metadata": {
    "id": "FLGWysf8Izmk"
   },
   "outputs": [],
   "source": []
  }
 ],
 "metadata": {
  "colab": {
   "provenance": []
  },
  "kernelspec": {
   "display_name": "Python 3 (ipykernel)",
   "language": "python",
   "name": "python3"
  },
  "language_info": {
   "codemirror_mode": {
    "name": "ipython",
    "version": 3
   },
   "file_extension": ".py",
   "mimetype": "text/x-python",
   "name": "python",
   "nbconvert_exporter": "python",
   "pygments_lexer": "ipython3",
   "version": "3.11.5"
  }
 },
 "nbformat": 4,
 "nbformat_minor": 1
}
