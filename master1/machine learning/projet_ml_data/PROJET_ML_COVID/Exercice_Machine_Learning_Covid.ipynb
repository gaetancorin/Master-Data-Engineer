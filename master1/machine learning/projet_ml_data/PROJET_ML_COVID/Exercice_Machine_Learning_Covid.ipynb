{
 "cells": [
  {
   "cell_type": "markdown",
   "id": "fe767586",
   "metadata": {
    "id": "fe767586"
   },
   "source": [
    "                                                                     Laura Sanchez, Gaetan Corin, Fabien Vidor, Lou Doussiet\n",
    "                                                                                                       M1 - M2 Data Engineer\n",
    "                                                                                                                Février 2024"
   ]
  },
  {
   "cell_type": "markdown",
   "id": "516ab5f0",
   "metadata": {
    "id": "516ab5f0"
   },
   "source": [
    "# Projet Machine Learning"
   ]
  },
  {
   "cell_type": "code",
   "execution_count": 1,
   "id": "7c5f7690",
   "metadata": {
    "id": "7c5f7690"
   },
   "outputs": [],
   "source": [
    "import pandas as pd\n",
    "import numpy as np\n",
    "from sklearn.model_selection import train_test_split\n",
    "from sklearn.metrics import confusion_matrix, accuracy_score\n",
    "#from mlxt#end.plotting import plot_confusion_matrix\n",
    "from sklearn import preprocessing\n",
    "\n",
    "import matplotlib.pyplot as plt\n",
    "import warnings\n",
    "warnings.filterwarnings(\"ignore\")\n",
    "\n",
    "#df = pd.read_csv(\"Covid_Dataset.csv\")\n",
    "df = pd.read_csv(\"CovidDataset.csv\")\n",
    "\n",
    "df.rename(columns={'Fatigue ': 'Fatigue'}, inplace=True)"
   ]
  },
  {
   "cell_type": "markdown",
   "id": "d18cadc0",
   "metadata": {
    "id": "d18cadc0"
   },
   "source": [
    "## Compréhension des données"
   ]
  },
  {
   "cell_type": "raw",
   "id": "74b03e9b",
   "metadata": {
    "id": "74b03e9b"
   },
   "source": [
    "Le dataset a été récupéré sur kaggle : https://www.kaggle.com/datasets/hemanthhari/symptoms-and-covid-presence/data\n",
    "\n",
    "Ce sont des données récupérées en Inde en 2020 à partir des symptômes du COVID-19 décris par l'OMS."
   ]
  },
  {
   "cell_type": "code",
   "execution_count": 2,
   "id": "9763eca5",
   "metadata": {
    "colab": {
     "base_uri": "https://localhost:8080/",
     "height": 342
    },
    "executionInfo": {
     "elapsed": 278,
     "status": "ok",
     "timestamp": 1711016559168,
     "user": {
      "displayName": "Fabien Vrd",
      "userId": "09385236561904316335"
     },
     "user_tz": -60
    },
    "id": "9763eca5",
    "outputId": "810bebc5-e003-477e-820b-39ccc94876c2"
   },
   "outputs": [
    {
     "data": {
      "text/html": [
       "<div>\n",
       "<style scoped>\n",
       "    .dataframe tbody tr th:only-of-type {\n",
       "        vertical-align: middle;\n",
       "    }\n",
       "\n",
       "    .dataframe tbody tr th {\n",
       "        vertical-align: top;\n",
       "    }\n",
       "\n",
       "    .dataframe thead th {\n",
       "        text-align: right;\n",
       "    }\n",
       "</style>\n",
       "<table border=\"1\" class=\"dataframe\">\n",
       "  <thead>\n",
       "    <tr style=\"text-align: right;\">\n",
       "      <th></th>\n",
       "      <th>Breathing Problem</th>\n",
       "      <th>Fever</th>\n",
       "      <th>Dry Cough</th>\n",
       "      <th>Sore throat</th>\n",
       "      <th>Running Nose</th>\n",
       "      <th>Asthma</th>\n",
       "      <th>Chronic Lung Disease</th>\n",
       "      <th>Headache</th>\n",
       "      <th>Heart Disease</th>\n",
       "      <th>Diabetes</th>\n",
       "      <th>...</th>\n",
       "      <th>Fatigue</th>\n",
       "      <th>Gastrointestinal</th>\n",
       "      <th>Abroad travel</th>\n",
       "      <th>Contact with COVID Patient</th>\n",
       "      <th>Attended Large Gathering</th>\n",
       "      <th>Visited Public Exposed Places</th>\n",
       "      <th>Family working in Public Exposed Places</th>\n",
       "      <th>Wearing Masks</th>\n",
       "      <th>Sanitization from Market</th>\n",
       "      <th>COVID-19</th>\n",
       "    </tr>\n",
       "  </thead>\n",
       "  <tbody>\n",
       "    <tr>\n",
       "      <th>0</th>\n",
       "      <td>Yes</td>\n",
       "      <td>Yes</td>\n",
       "      <td>Yes</td>\n",
       "      <td>Yes</td>\n",
       "      <td>Yes</td>\n",
       "      <td>No</td>\n",
       "      <td>No</td>\n",
       "      <td>No</td>\n",
       "      <td>No</td>\n",
       "      <td>Yes</td>\n",
       "      <td>...</td>\n",
       "      <td>Yes</td>\n",
       "      <td>Yes</td>\n",
       "      <td>No</td>\n",
       "      <td>Yes</td>\n",
       "      <td>No</td>\n",
       "      <td>Yes</td>\n",
       "      <td>Yes</td>\n",
       "      <td>No</td>\n",
       "      <td>No</td>\n",
       "      <td>Yes</td>\n",
       "    </tr>\n",
       "    <tr>\n",
       "      <th>1</th>\n",
       "      <td>Yes</td>\n",
       "      <td>Yes</td>\n",
       "      <td>Yes</td>\n",
       "      <td>Yes</td>\n",
       "      <td>No</td>\n",
       "      <td>Yes</td>\n",
       "      <td>Yes</td>\n",
       "      <td>Yes</td>\n",
       "      <td>No</td>\n",
       "      <td>No</td>\n",
       "      <td>...</td>\n",
       "      <td>Yes</td>\n",
       "      <td>No</td>\n",
       "      <td>No</td>\n",
       "      <td>No</td>\n",
       "      <td>Yes</td>\n",
       "      <td>Yes</td>\n",
       "      <td>No</td>\n",
       "      <td>No</td>\n",
       "      <td>No</td>\n",
       "      <td>Yes</td>\n",
       "    </tr>\n",
       "    <tr>\n",
       "      <th>2</th>\n",
       "      <td>Yes</td>\n",
       "      <td>Yes</td>\n",
       "      <td>Yes</td>\n",
       "      <td>Yes</td>\n",
       "      <td>Yes</td>\n",
       "      <td>Yes</td>\n",
       "      <td>Yes</td>\n",
       "      <td>Yes</td>\n",
       "      <td>No</td>\n",
       "      <td>Yes</td>\n",
       "      <td>...</td>\n",
       "      <td>Yes</td>\n",
       "      <td>Yes</td>\n",
       "      <td>Yes</td>\n",
       "      <td>No</td>\n",
       "      <td>No</td>\n",
       "      <td>No</td>\n",
       "      <td>No</td>\n",
       "      <td>No</td>\n",
       "      <td>No</td>\n",
       "      <td>Yes</td>\n",
       "    </tr>\n",
       "    <tr>\n",
       "      <th>3</th>\n",
       "      <td>Yes</td>\n",
       "      <td>Yes</td>\n",
       "      <td>Yes</td>\n",
       "      <td>No</td>\n",
       "      <td>No</td>\n",
       "      <td>Yes</td>\n",
       "      <td>No</td>\n",
       "      <td>No</td>\n",
       "      <td>Yes</td>\n",
       "      <td>Yes</td>\n",
       "      <td>...</td>\n",
       "      <td>No</td>\n",
       "      <td>No</td>\n",
       "      <td>Yes</td>\n",
       "      <td>No</td>\n",
       "      <td>Yes</td>\n",
       "      <td>Yes</td>\n",
       "      <td>No</td>\n",
       "      <td>No</td>\n",
       "      <td>No</td>\n",
       "      <td>Yes</td>\n",
       "    </tr>\n",
       "    <tr>\n",
       "      <th>4</th>\n",
       "      <td>Yes</td>\n",
       "      <td>Yes</td>\n",
       "      <td>Yes</td>\n",
       "      <td>Yes</td>\n",
       "      <td>Yes</td>\n",
       "      <td>No</td>\n",
       "      <td>Yes</td>\n",
       "      <td>Yes</td>\n",
       "      <td>Yes</td>\n",
       "      <td>Yes</td>\n",
       "      <td>...</td>\n",
       "      <td>No</td>\n",
       "      <td>Yes</td>\n",
       "      <td>No</td>\n",
       "      <td>Yes</td>\n",
       "      <td>No</td>\n",
       "      <td>Yes</td>\n",
       "      <td>No</td>\n",
       "      <td>No</td>\n",
       "      <td>No</td>\n",
       "      <td>Yes</td>\n",
       "    </tr>\n",
       "  </tbody>\n",
       "</table>\n",
       "<p>5 rows × 21 columns</p>\n",
       "</div>"
      ],
      "text/plain": [
       "  Breathing Problem Fever Dry Cough Sore throat Running Nose Asthma  \\\n",
       "0               Yes   Yes       Yes         Yes          Yes     No   \n",
       "1               Yes   Yes       Yes         Yes           No    Yes   \n",
       "2               Yes   Yes       Yes         Yes          Yes    Yes   \n",
       "3               Yes   Yes       Yes          No           No    Yes   \n",
       "4               Yes   Yes       Yes         Yes          Yes     No   \n",
       "\n",
       "  Chronic Lung Disease Headache Heart Disease Diabetes  ... Fatigue  \\\n",
       "0                   No       No            No      Yes  ...     Yes   \n",
       "1                  Yes      Yes            No       No  ...     Yes   \n",
       "2                  Yes      Yes            No      Yes  ...     Yes   \n",
       "3                   No       No           Yes      Yes  ...      No   \n",
       "4                  Yes      Yes           Yes      Yes  ...      No   \n",
       "\n",
       "  Gastrointestinal  Abroad travel Contact with COVID Patient  \\\n",
       "0               Yes            No                        Yes   \n",
       "1                No            No                         No   \n",
       "2               Yes           Yes                         No   \n",
       "3                No           Yes                         No   \n",
       "4               Yes            No                        Yes   \n",
       "\n",
       "  Attended Large Gathering Visited Public Exposed Places  \\\n",
       "0                       No                           Yes   \n",
       "1                      Yes                           Yes   \n",
       "2                       No                            No   \n",
       "3                      Yes                           Yes   \n",
       "4                       No                           Yes   \n",
       "\n",
       "  Family working in Public Exposed Places Wearing Masks  \\\n",
       "0                                     Yes            No   \n",
       "1                                      No            No   \n",
       "2                                      No            No   \n",
       "3                                      No            No   \n",
       "4                                      No            No   \n",
       "\n",
       "  Sanitization from Market COVID-19  \n",
       "0                       No      Yes  \n",
       "1                       No      Yes  \n",
       "2                       No      Yes  \n",
       "3                       No      Yes  \n",
       "4                       No      Yes  \n",
       "\n",
       "[5 rows x 21 columns]"
      ]
     },
     "execution_count": 2,
     "metadata": {},
     "output_type": "execute_result"
    }
   ],
   "source": [
    "df.head()"
   ]
  },
  {
   "cell_type": "code",
   "execution_count": 3,
   "id": "a53cd834-4d3f-4fe5-a786-d2e04c22f9c0",
   "metadata": {},
   "outputs": [
    {
     "name": "stdout",
     "output_type": "stream",
     "text": [
      "<class 'pandas.core.frame.DataFrame'>\n",
      "RangeIndex: 5434 entries, 0 to 5433\n",
      "Data columns (total 21 columns):\n",
      " #   Column                                   Non-Null Count  Dtype \n",
      "---  ------                                   --------------  ----- \n",
      " 0   Breathing Problem                        5434 non-null   object\n",
      " 1   Fever                                    5434 non-null   object\n",
      " 2   Dry Cough                                5434 non-null   object\n",
      " 3   Sore throat                              5434 non-null   object\n",
      " 4   Running Nose                             5434 non-null   object\n",
      " 5   Asthma                                   5434 non-null   object\n",
      " 6   Chronic Lung Disease                     5434 non-null   object\n",
      " 7   Headache                                 5434 non-null   object\n",
      " 8   Heart Disease                            5434 non-null   object\n",
      " 9   Diabetes                                 5434 non-null   object\n",
      " 10  Hyper Tension                            5434 non-null   object\n",
      " 11  Fatigue                                  5434 non-null   object\n",
      " 12  Gastrointestinal                         5434 non-null   object\n",
      " 13  Abroad travel                            5434 non-null   object\n",
      " 14  Contact with COVID Patient               5434 non-null   object\n",
      " 15  Attended Large Gathering                 5434 non-null   object\n",
      " 16  Visited Public Exposed Places            5434 non-null   object\n",
      " 17  Family working in Public Exposed Places  5434 non-null   object\n",
      " 18  Wearing Masks                            5434 non-null   object\n",
      " 19  Sanitization from Market                 5434 non-null   object\n",
      " 20  COVID-19                                 5434 non-null   object\n",
      "dtypes: object(21)\n",
      "memory usage: 891.6+ KB\n"
     ]
    }
   ],
   "source": [
    "df.info()"
   ]
  },
  {
   "cell_type": "code",
   "execution_count": 4,
   "id": "4dadb33b-a874-4ea5-b616-6a71d37c4d65",
   "metadata": {},
   "outputs": [
    {
     "name": "stdout",
     "output_type": "stream",
     "text": [
      "Value counts for column Breathing Problem:\n",
      "Breathing Problem\n",
      "Yes    3620\n",
      "No     1814\n",
      "Name: count, dtype: int64\n",
      "\n",
      "Value counts for column Fever:\n",
      "Fever\n",
      "Yes    4273\n",
      "No     1161\n",
      "Name: count, dtype: int64\n",
      "\n",
      "Value counts for column Dry Cough:\n",
      "Dry Cough\n",
      "Yes    4307\n",
      "No     1127\n",
      "Name: count, dtype: int64\n",
      "\n",
      "Value counts for column Sore throat:\n",
      "Sore throat\n",
      "Yes    3953\n",
      "No     1481\n",
      "Name: count, dtype: int64\n",
      "\n",
      "Value counts for column Running Nose:\n",
      "Running Nose\n",
      "Yes    2952\n",
      "No     2482\n",
      "Name: count, dtype: int64\n",
      "\n",
      "Value counts for column Asthma:\n",
      "Asthma\n",
      "No     2920\n",
      "Yes    2514\n",
      "Name: count, dtype: int64\n",
      "\n",
      "Value counts for column Chronic Lung Disease:\n",
      "Chronic Lung Disease\n",
      "No     2869\n",
      "Yes    2565\n",
      "Name: count, dtype: int64\n",
      "\n",
      "Value counts for column Headache:\n",
      "Headache\n",
      "Yes    2736\n",
      "No     2698\n",
      "Name: count, dtype: int64\n",
      "\n",
      "Value counts for column Heart Disease:\n",
      "Heart Disease\n",
      "No     2911\n",
      "Yes    2523\n",
      "Name: count, dtype: int64\n",
      "\n",
      "Value counts for column Diabetes:\n",
      "Diabetes\n",
      "No     2846\n",
      "Yes    2588\n",
      "Name: count, dtype: int64\n",
      "\n",
      "Value counts for column Hyper Tension:\n",
      "Hyper Tension\n",
      "No     2771\n",
      "Yes    2663\n",
      "Name: count, dtype: int64\n",
      "\n",
      "Value counts for column Fatigue:\n",
      "Fatigue\n",
      "Yes    2821\n",
      "No     2613\n",
      "Name: count, dtype: int64\n",
      "\n",
      "Value counts for column Gastrointestinal :\n",
      "Gastrointestinal \n",
      "No     2883\n",
      "Yes    2551\n",
      "Name: count, dtype: int64\n",
      "\n",
      "Value counts for column Abroad travel:\n",
      "Abroad travel\n",
      "No     2983\n",
      "Yes    2451\n",
      "Name: count, dtype: int64\n",
      "\n",
      "Value counts for column Contact with COVID Patient:\n",
      "Contact with COVID Patient\n",
      "Yes    2726\n",
      "No     2708\n",
      "Name: count, dtype: int64\n",
      "\n",
      "Value counts for column Attended Large Gathering:\n",
      "Attended Large Gathering\n",
      "No     2924\n",
      "Yes    2510\n",
      "Name: count, dtype: int64\n",
      "\n",
      "Value counts for column Visited Public Exposed Places:\n",
      "Visited Public Exposed Places\n",
      "Yes    2820\n",
      "No     2614\n",
      "Name: count, dtype: int64\n",
      "\n",
      "Value counts for column Family working in Public Exposed Places:\n",
      "Family working in Public Exposed Places\n",
      "No     3172\n",
      "Yes    2262\n",
      "Name: count, dtype: int64\n",
      "\n",
      "Value counts for column Wearing Masks:\n",
      "Wearing Masks\n",
      "No    5434\n",
      "Name: count, dtype: int64\n",
      "\n",
      "Value counts for column Sanitization from Market:\n",
      "Sanitization from Market\n",
      "No    5434\n",
      "Name: count, dtype: int64\n",
      "\n",
      "Value counts for column COVID-19:\n",
      "COVID-19\n",
      "Yes    4383\n",
      "No     1051\n",
      "Name: count, dtype: int64\n",
      "\n"
     ]
    }
   ],
   "source": [
    "for col in df.columns:\n",
    "    print(f\"Value counts for column {col}:\")\n",
    "    print(df[col].value_counts())\n",
    "    print()"
   ]
  },
  {
   "cell_type": "markdown",
   "id": "707937cb-43d8-4da5-9ac5-638e1658157f",
   "metadata": {},
   "source": [
    "Conclusion de la comprehension des données : <br>\n",
    "<br>\n",
    "Les colonnes Wearing Masks et Sanitazation from Market ne contiennent que des \"no\".<br>\n",
    "<br>\n",
    "La colonne COVID-19 contient 4383 \"yes\" et 1051 \"no\".<br>\n",
    "Comme la colonne COVID-19 est notre cible, le jeu de données est déséquilibré.<br>"
   ]
  },
  {
   "cell_type": "markdown",
   "id": "411a27a9-8a37-439f-b91a-30b77b346fe0",
   "metadata": {},
   "source": [
    "### Visualisation"
   ]
  },
  {
   "cell_type": "code",
   "execution_count": 5,
   "id": "eb66a954-8f9f-4510-9e37-877033d2cbda",
   "metadata": {},
   "outputs": [
    {
     "data": {
      "application/vnd.jupyter.widget-view+json": {
       "model_id": "8b040285c54841edb73890d6ebb0dee1",
       "version_major": 2,
       "version_minor": 0
      },
      "text/plain": [
       "                                             |                                             | [  0%]   00:00 ->…"
      ]
     },
     "metadata": {},
     "output_type": "display_data"
    },
    {
     "name": "stdout",
     "output_type": "stream",
     "text": [
      "Report report.html was generated! NOTEBOOK/COLAB USERS: the web browser MAY not pop up, regardless, the report IS saved in your notebook/colab files.\n"
     ]
    }
   ],
   "source": [
    "import pandas as pd\n",
    "import sweetviz as sv\n",
    "df = pd.read_csv(\"CovidDataset.csv\")\n",
    "report = sv.analyze(df)\n",
    "report.show_html('report.html')\n",
    "## et attendre 30 seconde le temps que le rapport s'affiche dans un nouvel onglet"
   ]
  },
  {
   "cell_type": "markdown",
   "id": "6e657c45",
   "metadata": {
    "id": "6e657c45"
   },
   "source": [
    "## Pré-traitement des données"
   ]
  },
  {
   "cell_type": "markdown",
   "id": "07347957",
   "metadata": {
    "id": "07347957"
   },
   "source": [
    "# Pré-processing"
   ]
  },
  {
   "cell_type": "code",
   "execution_count": 6,
   "id": "cb3c274c",
   "metadata": {
    "id": "cb3c274c"
   },
   "outputs": [],
   "source": [
    "from sklearn import preprocessing\n",
    "\n",
    "for column in df.columns:\n",
    "    le = preprocessing.LabelEncoder()\n",
    "    le.fit(df[column])\n",
    "    df[column] = le.transform(df[column])"
   ]
  },
  {
   "cell_type": "markdown",
   "id": "0a164b2f",
   "metadata": {
    "id": "0a164b2f"
   },
   "source": [
    "## Définition des caracteristiques et de la cible"
   ]
  },
  {
   "cell_type": "code",
   "execution_count": 7,
   "id": "ddc336c8",
   "metadata": {
    "id": "ddc336c8"
   },
   "outputs": [],
   "source": [
    "X = df.drop(['COVID-19','Wearing Masks', 'Sanitization from Market'], axis = 1)\n",
    "y = df['COVID-19']"
   ]
  },
  {
   "cell_type": "markdown",
   "id": "2d88e8e2",
   "metadata": {
    "id": "2d88e8e2"
   },
   "source": [
    "## Experimentation modèle Machine Learning"
   ]
  },
  {
   "cell_type": "markdown",
   "id": "f3456943",
   "metadata": {
    "id": "f3456943"
   },
   "source": [
    "### Triage des colonnes par correlations avec covid-19"
   ]
  },
  {
   "cell_type": "code",
   "execution_count": 8,
   "id": "35e38a21",
   "metadata": {
    "colab": {
     "base_uri": "https://localhost:8080/"
    },
    "executionInfo": {
     "elapsed": 3,
     "status": "ok",
     "timestamp": 1711016565134,
     "user": {
      "displayName": "Fabien Vrd",
      "userId": "09385236561904316335"
     },
     "user_tz": -60
    },
    "id": "35e38a21",
    "outputId": "25f5d604-2cde-4a36-ba31-92a77d987599"
   },
   "outputs": [
    {
     "name": "stdout",
     "output_type": "stream",
     "text": [
      "Colonnes et valeurs de corrélation avec la col covid :\n",
      "COVID-19                                   1.000000\n",
      "Sore throat                                0.502848\n",
      "Dry Cough                                  0.464292\n",
      "Abroad travel                              0.443875\n",
      "Breathing Problem                          0.443764\n",
      "Attended Large Gathering                   0.390145\n",
      "Contact with COVID Patient                 0.357122\n",
      "Fever                                      0.352891\n",
      "Family working in Public Exposed Places    0.160208\n",
      "Visited Public Exposed Places              0.119755\n",
      "Hyper Tension                              0.102575\n",
      "Asthma                                     0.089930\n",
      "Diabetes                                   0.040627\n",
      "Heart Disease                              0.027072\n",
      "Gastrointestinal                          -0.003367\n",
      "Running Nose                              -0.005657\n",
      "Headache                                  -0.027793\n",
      "Fatigue                                   -0.044188\n",
      "Chronic Lung Disease                      -0.056837\n",
      "Wearing Masks                                   NaN\n",
      "Sanitization from Market                        NaN\n",
      "Name: COVID-19, dtype: float64\n"
     ]
    }
   ],
   "source": [
    "correlations_covid = df.corr()['COVID-19'].sort_values(ascending=False)\n",
    "print(\"Colonnes et valeurs de corrélation avec la col covid :\")\n",
    "print(correlations_covid)\n",
    "\n",
    "colonnes_triees = correlations_covid.sort_values(ascending=False).index\n",
    "df_triees = df[colonnes_triees]"
   ]
  },
  {
   "cell_type": "markdown",
   "id": "9d6229d3",
   "metadata": {
    "id": "9d6229d3"
   },
   "source": [
    "### Adaptation du nombre de colonnes du dataframe suivant le scoring de RandomForestClassifier"
   ]
  },
  {
   "cell_type": "code",
   "execution_count": 9,
   "id": "51a33989",
   "metadata": {
    "colab": {
     "base_uri": "https://localhost:8080/"
    },
    "executionInfo": {
     "elapsed": 978,
     "status": "ok",
     "timestamp": 1711016567871,
     "user": {
      "displayName": "Fabien Vrd",
      "userId": "09385236561904316335"
     },
     "user_tz": -60
    },
    "id": "51a33989",
    "outputId": "5e839238-8faf-4dae-c197-f14b789d91fb"
   },
   "outputs": [
    {
     "name": "stdout",
     "output_type": "stream",
     "text": [
      "5 COLONNES EN ENTRAINEMENT\n",
      "Index(['Sore throat', 'Dry Cough', 'Abroad travel', 'Breathing Problem',\n",
      "       'Attended Large Gathering'],\n",
      "      dtype='object')\n",
      "0.9477557027225901\n",
      "7 COLONNES EN ENTRAINEMENT\n",
      "Index(['Sore throat', 'Dry Cough', 'Abroad travel', 'Breathing Problem',\n",
      "       'Attended Large Gathering', 'Contact with COVID Patient', 'Fever'],\n",
      "      dtype='object')\n",
      "0.9661515820456218\n",
      "9 COLONNES EN ENTRAINEMENT\n",
      "Index(['Sore throat', 'Dry Cough', 'Abroad travel', 'Breathing Problem',\n",
      "       'Attended Large Gathering', 'Contact with COVID Patient', 'Fever',\n",
      "       'Family working in Public Exposed Places',\n",
      "       'Visited Public Exposed Places'],\n",
      "      dtype='object')\n",
      "0.9676232523914643\n",
      "11 COLONNES EN ENTRAINEMENT\n",
      "Index(['Sore throat', 'Dry Cough', 'Abroad travel', 'Breathing Problem',\n",
      "       'Attended Large Gathering', 'Contact with COVID Patient', 'Fever',\n",
      "       'Family working in Public Exposed Places',\n",
      "       'Visited Public Exposed Places', 'Hyper Tension', 'Asthma'],\n",
      "      dtype='object')\n",
      "0.9793966151582045\n",
      "12 COLONNES EN ENTRAINEMENT\n",
      "Index(['Sore throat', 'Dry Cough', 'Abroad travel', 'Breathing Problem',\n",
      "       'Attended Large Gathering', 'Contact with COVID Patient', 'Fever',\n",
      "       'Family working in Public Exposed Places',\n",
      "       'Visited Public Exposed Places', 'Hyper Tension', 'Asthma', 'Diabetes'],\n",
      "      dtype='object')\n",
      "0.9801324503311258\n",
      "13 COLONNES EN ENTRAINEMENT\n",
      "Index(['Sore throat', 'Dry Cough', 'Abroad travel', 'Breathing Problem',\n",
      "       'Attended Large Gathering', 'Contact with COVID Patient', 'Fever',\n",
      "       'Family working in Public Exposed Places',\n",
      "       'Visited Public Exposed Places', 'Hyper Tension', 'Asthma', 'Diabetes',\n",
      "       'Heart Disease'],\n",
      "      dtype='object')\n",
      "0.9801324503311258\n",
      "15 COLONNES EN ENTRAINEMENT\n",
      "Index(['Sore throat', 'Dry Cough', 'Abroad travel', 'Breathing Problem',\n",
      "       'Attended Large Gathering', 'Contact with COVID Patient', 'Fever',\n",
      "       'Family working in Public Exposed Places',\n",
      "       'Visited Public Exposed Places', 'Hyper Tension', 'Asthma', 'Diabetes',\n",
      "       'Heart Disease', 'Gastrointestinal ', 'Running Nose'],\n",
      "      dtype='object')\n",
      "0.9801324503311258\n"
     ]
    }
   ],
   "source": [
    "from sklearn.model_selection import train_test_split\n",
    "from sklearn.ensemble import RandomForestClassifier\n",
    "from sklearn.metrics import accuracy_score\n",
    "\n",
    "df_clean_for_X = df_triees.drop(['COVID-19','Wearing Masks', 'Sanitization from Market'], axis = 1)\n",
    "y = df_triees['COVID-19']\n",
    "\n",
    "for nb_col in [5,7,9,11,12,13,15]:\n",
    "    top_correlated_columns_name = df_clean_for_X.columns[:nb_col]\n",
    "    X = df_clean_for_X[top_correlated_columns_name]\n",
    "\n",
    "    X_train, X_test, y_train, y_test = train_test_split(X, y, test_size = 0.25, random_state = 0)\n",
    "\n",
    "#     RFC = RandomForestClassifier(n_estimators = 10, criterion = 'entropy', random_state = 0)\n",
    "    RFC = RandomForestClassifier(n_estimators = 20, criterion = 'gini', random_state = 0)\n",
    "\n",
    "    RFC.fit(X_train, y_train)\n",
    "    y_pred = RFC.predict(X_test)\n",
    "\n",
    "    print(nb_col, \"COLONNES EN ENTRAINEMENT\")\n",
    "    print(top_correlated_columns_name)\n",
    "    print(accuracy_score(y_test, y_pred))"
   ]
  },
  {
   "cell_type": "markdown",
   "id": "a04946c4",
   "metadata": {
    "id": "a04946c4"
   },
   "source": [
    "## amelioration des hyperparametres avec les colonnes corrélées"
   ]
  },
  {
   "cell_type": "code",
   "execution_count": 10,
   "id": "41eb0dea",
   "metadata": {
    "colab": {
     "base_uri": "https://localhost:8080/"
    },
    "executionInfo": {
     "elapsed": 15060,
     "status": "ok",
     "timestamp": 1711016585167,
     "user": {
      "displayName": "Fabien Vrd",
      "userId": "09385236561904316335"
     },
     "user_tz": -60
    },
    "id": "41eb0dea",
    "outputId": "9ca53ab2-5362-4101-de60-fcdef078cfa7"
   },
   "outputs": [
    {
     "name": "stdout",
     "output_type": "stream",
     "text": [
      "Best parameters found: {'criterion': 'gini', 'max_features': 'sqrt', 'n_estimators': 20}\n"
     ]
    }
   ],
   "source": [
    "from sklearn.model_selection import GridSearchCV\n",
    "\n",
    "df_clean_for_X = df_triees.drop(['COVID-19','Wearing Masks', 'Sanitization from Market'], axis = 1)\n",
    "top_correlated_columns_name = df_clean_for_X.columns[:12]\n",
    "X = df_clean_for_X[top_correlated_columns_name]\n",
    "y = df_triees['COVID-19']\n",
    "\n",
    "rfc = RandomForestClassifier(random_state = 0)\n",
    "\n",
    "parameters = {\n",
    "    'n_estimators':(10, 20, 50,100),\n",
    "    'criterion':(\"gini\", \"entropy\", \"log_loss\"),\n",
    "    'max_features':(\"sqrt\", \"log2\")\n",
    "}\n",
    "\n",
    "# grid_search = GridSearchCV(estimator=rfc, param_grid=parameters, cv=5)\n",
    "grid_search = GridSearchCV(estimator=rfc, param_grid=parameters, scoring='accuracy')\n",
    "\n",
    "grid_search.fit(X, y)\n",
    "\n",
    "# Get the best parameters and best score\n",
    "print(\"Best parameters found:\", grid_search.best_params_)\n",
    "# print(\"Best accuracy found:\", grid_search.best_score_)"
   ]
  },
  {
   "cell_type": "markdown",
   "id": "45cbe790",
   "metadata": {
    "id": "45cbe790"
   },
   "source": [
    "# Entrainement du modèle RandomForestClassifier"
   ]
  },
  {
   "cell_type": "code",
   "execution_count": 11,
   "id": "9c005f59",
   "metadata": {
    "id": "9c005f59"
   },
   "outputs": [],
   "source": [
    "from sklearn.model_selection import train_test_split\n",
    "X_train, X_test, y_train, y_test = train_test_split(X, y, test_size = 0.25, random_state = 0)"
   ]
  },
  {
   "cell_type": "code",
   "execution_count": 12,
   "id": "2a1f6c9c",
   "metadata": {
    "colab": {
     "base_uri": "https://localhost:8080/",
     "height": 74
    },
    "executionInfo": {
     "elapsed": 6,
     "status": "ok",
     "timestamp": 1711016585167,
     "user": {
      "displayName": "Fabien Vrd",
      "userId": "09385236561904316335"
     },
     "user_tz": -60
    },
    "id": "2a1f6c9c",
    "outputId": "f9fc39f9-71e1-40cd-8aad-0cc32a3f2320"
   },
   "outputs": [
    {
     "data": {
      "text/html": [
       "<style>#sk-container-id-1 {\n",
       "  /* Definition of color scheme common for light and dark mode */\n",
       "  --sklearn-color-text: black;\n",
       "  --sklearn-color-line: gray;\n",
       "  /* Definition of color scheme for unfitted estimators */\n",
       "  --sklearn-color-unfitted-level-0: #fff5e6;\n",
       "  --sklearn-color-unfitted-level-1: #f6e4d2;\n",
       "  --sklearn-color-unfitted-level-2: #ffe0b3;\n",
       "  --sklearn-color-unfitted-level-3: chocolate;\n",
       "  /* Definition of color scheme for fitted estimators */\n",
       "  --sklearn-color-fitted-level-0: #f0f8ff;\n",
       "  --sklearn-color-fitted-level-1: #d4ebff;\n",
       "  --sklearn-color-fitted-level-2: #b3dbfd;\n",
       "  --sklearn-color-fitted-level-3: cornflowerblue;\n",
       "\n",
       "  /* Specific color for light theme */\n",
       "  --sklearn-color-text-on-default-background: var(--sg-text-color, var(--theme-code-foreground, var(--jp-content-font-color1, black)));\n",
       "  --sklearn-color-background: var(--sg-background-color, var(--theme-background, var(--jp-layout-color0, white)));\n",
       "  --sklearn-color-border-box: var(--sg-text-color, var(--theme-code-foreground, var(--jp-content-font-color1, black)));\n",
       "  --sklearn-color-icon: #696969;\n",
       "\n",
       "  @media (prefers-color-scheme: dark) {\n",
       "    /* Redefinition of color scheme for dark theme */\n",
       "    --sklearn-color-text-on-default-background: var(--sg-text-color, var(--theme-code-foreground, var(--jp-content-font-color1, white)));\n",
       "    --sklearn-color-background: var(--sg-background-color, var(--theme-background, var(--jp-layout-color0, #111)));\n",
       "    --sklearn-color-border-box: var(--sg-text-color, var(--theme-code-foreground, var(--jp-content-font-color1, white)));\n",
       "    --sklearn-color-icon: #878787;\n",
       "  }\n",
       "}\n",
       "\n",
       "#sk-container-id-1 {\n",
       "  color: var(--sklearn-color-text);\n",
       "}\n",
       "\n",
       "#sk-container-id-1 pre {\n",
       "  padding: 0;\n",
       "}\n",
       "\n",
       "#sk-container-id-1 input.sk-hidden--visually {\n",
       "  border: 0;\n",
       "  clip: rect(1px 1px 1px 1px);\n",
       "  clip: rect(1px, 1px, 1px, 1px);\n",
       "  height: 1px;\n",
       "  margin: -1px;\n",
       "  overflow: hidden;\n",
       "  padding: 0;\n",
       "  position: absolute;\n",
       "  width: 1px;\n",
       "}\n",
       "\n",
       "#sk-container-id-1 div.sk-dashed-wrapped {\n",
       "  border: 1px dashed var(--sklearn-color-line);\n",
       "  margin: 0 0.4em 0.5em 0.4em;\n",
       "  box-sizing: border-box;\n",
       "  padding-bottom: 0.4em;\n",
       "  background-color: var(--sklearn-color-background);\n",
       "}\n",
       "\n",
       "#sk-container-id-1 div.sk-container {\n",
       "  /* jupyter's `normalize.less` sets `[hidden] { display: none; }`\n",
       "     but bootstrap.min.css set `[hidden] { display: none !important; }`\n",
       "     so we also need the `!important` here to be able to override the\n",
       "     default hidden behavior on the sphinx rendered scikit-learn.org.\n",
       "     See: https://github.com/scikit-learn/scikit-learn/issues/21755 */\n",
       "  display: inline-block !important;\n",
       "  position: relative;\n",
       "}\n",
       "\n",
       "#sk-container-id-1 div.sk-text-repr-fallback {\n",
       "  display: none;\n",
       "}\n",
       "\n",
       "div.sk-parallel-item,\n",
       "div.sk-serial,\n",
       "div.sk-item {\n",
       "  /* draw centered vertical line to link estimators */\n",
       "  background-image: linear-gradient(var(--sklearn-color-text-on-default-background), var(--sklearn-color-text-on-default-background));\n",
       "  background-size: 2px 100%;\n",
       "  background-repeat: no-repeat;\n",
       "  background-position: center center;\n",
       "}\n",
       "\n",
       "/* Parallel-specific style estimator block */\n",
       "\n",
       "#sk-container-id-1 div.sk-parallel-item::after {\n",
       "  content: \"\";\n",
       "  width: 100%;\n",
       "  border-bottom: 2px solid var(--sklearn-color-text-on-default-background);\n",
       "  flex-grow: 1;\n",
       "}\n",
       "\n",
       "#sk-container-id-1 div.sk-parallel {\n",
       "  display: flex;\n",
       "  align-items: stretch;\n",
       "  justify-content: center;\n",
       "  background-color: var(--sklearn-color-background);\n",
       "  position: relative;\n",
       "}\n",
       "\n",
       "#sk-container-id-1 div.sk-parallel-item {\n",
       "  display: flex;\n",
       "  flex-direction: column;\n",
       "}\n",
       "\n",
       "#sk-container-id-1 div.sk-parallel-item:first-child::after {\n",
       "  align-self: flex-end;\n",
       "  width: 50%;\n",
       "}\n",
       "\n",
       "#sk-container-id-1 div.sk-parallel-item:last-child::after {\n",
       "  align-self: flex-start;\n",
       "  width: 50%;\n",
       "}\n",
       "\n",
       "#sk-container-id-1 div.sk-parallel-item:only-child::after {\n",
       "  width: 0;\n",
       "}\n",
       "\n",
       "/* Serial-specific style estimator block */\n",
       "\n",
       "#sk-container-id-1 div.sk-serial {\n",
       "  display: flex;\n",
       "  flex-direction: column;\n",
       "  align-items: center;\n",
       "  background-color: var(--sklearn-color-background);\n",
       "  padding-right: 1em;\n",
       "  padding-left: 1em;\n",
       "}\n",
       "\n",
       "\n",
       "/* Toggleable style: style used for estimator/Pipeline/ColumnTransformer box that is\n",
       "clickable and can be expanded/collapsed.\n",
       "- Pipeline and ColumnTransformer use this feature and define the default style\n",
       "- Estimators will overwrite some part of the style using the `sk-estimator` class\n",
       "*/\n",
       "\n",
       "/* Pipeline and ColumnTransformer style (default) */\n",
       "\n",
       "#sk-container-id-1 div.sk-toggleable {\n",
       "  /* Default theme specific background. It is overwritten whether we have a\n",
       "  specific estimator or a Pipeline/ColumnTransformer */\n",
       "  background-color: var(--sklearn-color-background);\n",
       "}\n",
       "\n",
       "/* Toggleable label */\n",
       "#sk-container-id-1 label.sk-toggleable__label {\n",
       "  cursor: pointer;\n",
       "  display: block;\n",
       "  width: 100%;\n",
       "  margin-bottom: 0;\n",
       "  padding: 0.5em;\n",
       "  box-sizing: border-box;\n",
       "  text-align: center;\n",
       "}\n",
       "\n",
       "#sk-container-id-1 label.sk-toggleable__label-arrow:before {\n",
       "  /* Arrow on the left of the label */\n",
       "  content: \"▸\";\n",
       "  float: left;\n",
       "  margin-right: 0.25em;\n",
       "  color: var(--sklearn-color-icon);\n",
       "}\n",
       "\n",
       "#sk-container-id-1 label.sk-toggleable__label-arrow:hover:before {\n",
       "  color: var(--sklearn-color-text);\n",
       "}\n",
       "\n",
       "/* Toggleable content - dropdown */\n",
       "\n",
       "#sk-container-id-1 div.sk-toggleable__content {\n",
       "  max-height: 0;\n",
       "  max-width: 0;\n",
       "  overflow: hidden;\n",
       "  text-align: left;\n",
       "  /* unfitted */\n",
       "  background-color: var(--sklearn-color-unfitted-level-0);\n",
       "}\n",
       "\n",
       "#sk-container-id-1 div.sk-toggleable__content.fitted {\n",
       "  /* fitted */\n",
       "  background-color: var(--sklearn-color-fitted-level-0);\n",
       "}\n",
       "\n",
       "#sk-container-id-1 div.sk-toggleable__content pre {\n",
       "  margin: 0.2em;\n",
       "  border-radius: 0.25em;\n",
       "  color: var(--sklearn-color-text);\n",
       "  /* unfitted */\n",
       "  background-color: var(--sklearn-color-unfitted-level-0);\n",
       "}\n",
       "\n",
       "#sk-container-id-1 div.sk-toggleable__content.fitted pre {\n",
       "  /* unfitted */\n",
       "  background-color: var(--sklearn-color-fitted-level-0);\n",
       "}\n",
       "\n",
       "#sk-container-id-1 input.sk-toggleable__control:checked~div.sk-toggleable__content {\n",
       "  /* Expand drop-down */\n",
       "  max-height: 200px;\n",
       "  max-width: 100%;\n",
       "  overflow: auto;\n",
       "}\n",
       "\n",
       "#sk-container-id-1 input.sk-toggleable__control:checked~label.sk-toggleable__label-arrow:before {\n",
       "  content: \"▾\";\n",
       "}\n",
       "\n",
       "/* Pipeline/ColumnTransformer-specific style */\n",
       "\n",
       "#sk-container-id-1 div.sk-label input.sk-toggleable__control:checked~label.sk-toggleable__label {\n",
       "  color: var(--sklearn-color-text);\n",
       "  background-color: var(--sklearn-color-unfitted-level-2);\n",
       "}\n",
       "\n",
       "#sk-container-id-1 div.sk-label.fitted input.sk-toggleable__control:checked~label.sk-toggleable__label {\n",
       "  background-color: var(--sklearn-color-fitted-level-2);\n",
       "}\n",
       "\n",
       "/* Estimator-specific style */\n",
       "\n",
       "/* Colorize estimator box */\n",
       "#sk-container-id-1 div.sk-estimator input.sk-toggleable__control:checked~label.sk-toggleable__label {\n",
       "  /* unfitted */\n",
       "  background-color: var(--sklearn-color-unfitted-level-2);\n",
       "}\n",
       "\n",
       "#sk-container-id-1 div.sk-estimator.fitted input.sk-toggleable__control:checked~label.sk-toggleable__label {\n",
       "  /* fitted */\n",
       "  background-color: var(--sklearn-color-fitted-level-2);\n",
       "}\n",
       "\n",
       "#sk-container-id-1 div.sk-label label.sk-toggleable__label,\n",
       "#sk-container-id-1 div.sk-label label {\n",
       "  /* The background is the default theme color */\n",
       "  color: var(--sklearn-color-text-on-default-background);\n",
       "}\n",
       "\n",
       "/* On hover, darken the color of the background */\n",
       "#sk-container-id-1 div.sk-label:hover label.sk-toggleable__label {\n",
       "  color: var(--sklearn-color-text);\n",
       "  background-color: var(--sklearn-color-unfitted-level-2);\n",
       "}\n",
       "\n",
       "/* Label box, darken color on hover, fitted */\n",
       "#sk-container-id-1 div.sk-label.fitted:hover label.sk-toggleable__label.fitted {\n",
       "  color: var(--sklearn-color-text);\n",
       "  background-color: var(--sklearn-color-fitted-level-2);\n",
       "}\n",
       "\n",
       "/* Estimator label */\n",
       "\n",
       "#sk-container-id-1 div.sk-label label {\n",
       "  font-family: monospace;\n",
       "  font-weight: bold;\n",
       "  display: inline-block;\n",
       "  line-height: 1.2em;\n",
       "}\n",
       "\n",
       "#sk-container-id-1 div.sk-label-container {\n",
       "  text-align: center;\n",
       "}\n",
       "\n",
       "/* Estimator-specific */\n",
       "#sk-container-id-1 div.sk-estimator {\n",
       "  font-family: monospace;\n",
       "  border: 1px dotted var(--sklearn-color-border-box);\n",
       "  border-radius: 0.25em;\n",
       "  box-sizing: border-box;\n",
       "  margin-bottom: 0.5em;\n",
       "  /* unfitted */\n",
       "  background-color: var(--sklearn-color-unfitted-level-0);\n",
       "}\n",
       "\n",
       "#sk-container-id-1 div.sk-estimator.fitted {\n",
       "  /* fitted */\n",
       "  background-color: var(--sklearn-color-fitted-level-0);\n",
       "}\n",
       "\n",
       "/* on hover */\n",
       "#sk-container-id-1 div.sk-estimator:hover {\n",
       "  /* unfitted */\n",
       "  background-color: var(--sklearn-color-unfitted-level-2);\n",
       "}\n",
       "\n",
       "#sk-container-id-1 div.sk-estimator.fitted:hover {\n",
       "  /* fitted */\n",
       "  background-color: var(--sklearn-color-fitted-level-2);\n",
       "}\n",
       "\n",
       "/* Specification for estimator info (e.g. \"i\" and \"?\") */\n",
       "\n",
       "/* Common style for \"i\" and \"?\" */\n",
       "\n",
       ".sk-estimator-doc-link,\n",
       "a:link.sk-estimator-doc-link,\n",
       "a:visited.sk-estimator-doc-link {\n",
       "  float: right;\n",
       "  font-size: smaller;\n",
       "  line-height: 1em;\n",
       "  font-family: monospace;\n",
       "  background-color: var(--sklearn-color-background);\n",
       "  border-radius: 1em;\n",
       "  height: 1em;\n",
       "  width: 1em;\n",
       "  text-decoration: none !important;\n",
       "  margin-left: 1ex;\n",
       "  /* unfitted */\n",
       "  border: var(--sklearn-color-unfitted-level-1) 1pt solid;\n",
       "  color: var(--sklearn-color-unfitted-level-1);\n",
       "}\n",
       "\n",
       ".sk-estimator-doc-link.fitted,\n",
       "a:link.sk-estimator-doc-link.fitted,\n",
       "a:visited.sk-estimator-doc-link.fitted {\n",
       "  /* fitted */\n",
       "  border: var(--sklearn-color-fitted-level-1) 1pt solid;\n",
       "  color: var(--sklearn-color-fitted-level-1);\n",
       "}\n",
       "\n",
       "/* On hover */\n",
       "div.sk-estimator:hover .sk-estimator-doc-link:hover,\n",
       ".sk-estimator-doc-link:hover,\n",
       "div.sk-label-container:hover .sk-estimator-doc-link:hover,\n",
       ".sk-estimator-doc-link:hover {\n",
       "  /* unfitted */\n",
       "  background-color: var(--sklearn-color-unfitted-level-3);\n",
       "  color: var(--sklearn-color-background);\n",
       "  text-decoration: none;\n",
       "}\n",
       "\n",
       "div.sk-estimator.fitted:hover .sk-estimator-doc-link.fitted:hover,\n",
       ".sk-estimator-doc-link.fitted:hover,\n",
       "div.sk-label-container:hover .sk-estimator-doc-link.fitted:hover,\n",
       ".sk-estimator-doc-link.fitted:hover {\n",
       "  /* fitted */\n",
       "  background-color: var(--sklearn-color-fitted-level-3);\n",
       "  color: var(--sklearn-color-background);\n",
       "  text-decoration: none;\n",
       "}\n",
       "\n",
       "/* Span, style for the box shown on hovering the info icon */\n",
       ".sk-estimator-doc-link span {\n",
       "  display: none;\n",
       "  z-index: 9999;\n",
       "  position: relative;\n",
       "  font-weight: normal;\n",
       "  right: .2ex;\n",
       "  padding: .5ex;\n",
       "  margin: .5ex;\n",
       "  width: min-content;\n",
       "  min-width: 20ex;\n",
       "  max-width: 50ex;\n",
       "  color: var(--sklearn-color-text);\n",
       "  box-shadow: 2pt 2pt 4pt #999;\n",
       "  /* unfitted */\n",
       "  background: var(--sklearn-color-unfitted-level-0);\n",
       "  border: .5pt solid var(--sklearn-color-unfitted-level-3);\n",
       "}\n",
       "\n",
       ".sk-estimator-doc-link.fitted span {\n",
       "  /* fitted */\n",
       "  background: var(--sklearn-color-fitted-level-0);\n",
       "  border: var(--sklearn-color-fitted-level-3);\n",
       "}\n",
       "\n",
       ".sk-estimator-doc-link:hover span {\n",
       "  display: block;\n",
       "}\n",
       "\n",
       "/* \"?\"-specific style due to the `<a>` HTML tag */\n",
       "\n",
       "#sk-container-id-1 a.estimator_doc_link {\n",
       "  float: right;\n",
       "  font-size: 1rem;\n",
       "  line-height: 1em;\n",
       "  font-family: monospace;\n",
       "  background-color: var(--sklearn-color-background);\n",
       "  border-radius: 1rem;\n",
       "  height: 1rem;\n",
       "  width: 1rem;\n",
       "  text-decoration: none;\n",
       "  /* unfitted */\n",
       "  color: var(--sklearn-color-unfitted-level-1);\n",
       "  border: var(--sklearn-color-unfitted-level-1) 1pt solid;\n",
       "}\n",
       "\n",
       "#sk-container-id-1 a.estimator_doc_link.fitted {\n",
       "  /* fitted */\n",
       "  border: var(--sklearn-color-fitted-level-1) 1pt solid;\n",
       "  color: var(--sklearn-color-fitted-level-1);\n",
       "}\n",
       "\n",
       "/* On hover */\n",
       "#sk-container-id-1 a.estimator_doc_link:hover {\n",
       "  /* unfitted */\n",
       "  background-color: var(--sklearn-color-unfitted-level-3);\n",
       "  color: var(--sklearn-color-background);\n",
       "  text-decoration: none;\n",
       "}\n",
       "\n",
       "#sk-container-id-1 a.estimator_doc_link.fitted:hover {\n",
       "  /* fitted */\n",
       "  background-color: var(--sklearn-color-fitted-level-3);\n",
       "}\n",
       "</style><div id=\"sk-container-id-1\" class=\"sk-top-container\"><div class=\"sk-text-repr-fallback\"><pre>RandomForestClassifier(n_estimators=20, random_state=0)</pre><b>In a Jupyter environment, please rerun this cell to show the HTML representation or trust the notebook. <br />On GitHub, the HTML representation is unable to render, please try loading this page with nbviewer.org.</b></div><div class=\"sk-container\" hidden><div class=\"sk-item\"><div class=\"sk-estimator fitted sk-toggleable\"><input class=\"sk-toggleable__control sk-hidden--visually\" id=\"sk-estimator-id-1\" type=\"checkbox\" checked><label for=\"sk-estimator-id-1\" class=\"sk-toggleable__label fitted sk-toggleable__label-arrow fitted\">&nbsp;&nbsp;RandomForestClassifier<a class=\"sk-estimator-doc-link fitted\" rel=\"noreferrer\" target=\"_blank\" href=\"https://scikit-learn.org/1.4/modules/generated/sklearn.ensemble.RandomForestClassifier.html\">?<span>Documentation for RandomForestClassifier</span></a><span class=\"sk-estimator-doc-link fitted\">i<span>Fitted</span></span></label><div class=\"sk-toggleable__content fitted\"><pre>RandomForestClassifier(n_estimators=20, random_state=0)</pre></div> </div></div></div></div>"
      ],
      "text/plain": [
       "RandomForestClassifier(n_estimators=20, random_state=0)"
      ]
     },
     "execution_count": 12,
     "metadata": {},
     "output_type": "execute_result"
    }
   ],
   "source": [
    "from sklearn.ensemble import RandomForestClassifier\n",
    "RFC = RandomForestClassifier(n_estimators = 20, criterion = 'gini', max_features= 'sqrt',random_state = 0)\n",
    "RFC.fit(X_train, y_train)"
   ]
  },
  {
   "cell_type": "code",
   "execution_count": 13,
   "id": "7ba41e41",
   "metadata": {
    "colab": {
     "base_uri": "https://localhost:8080/",
     "height": 724
    },
    "executionInfo": {
     "elapsed": 9199,
     "status": "ok",
     "timestamp": 1711016594361,
     "user": {
      "displayName": "Fabien Vrd",
      "userId": "09385236561904316335"
     },
     "user_tz": -60
    },
    "id": "7ba41e41",
    "outputId": "a1657945-584d-4658-fd64-02c880b37b25"
   },
   "outputs": [
    {
     "data": {
      "image/png": "[encoded data removed]",
      "text/plain": [
       "<Figure size 1500x1000 with 1 Axes>"
      ]
     },
     "metadata": {},
     "output_type": "display_data"
    }
   ],
   "source": [
    "from sklearn import tree\n",
    "# Extraire un arbre de la forêt (par exemple, le premier arbre)\n",
    "estimator = RFC.estimators_[0]\n",
    "\n",
    "# Afficher le premier arbre\n",
    "fig, ax = plt.subplots(figsize=(15, 10))\n",
    "# tree.plot_tree(estimator, max_depth=3);\n",
    "tree.plot_tree(estimator);\n",
    "plt.show()"
   ]
  },
  {
   "cell_type": "code",
   "execution_count": 14,
   "id": "d460ccf6",
   "metadata": {
    "id": "d460ccf6"
   },
   "outputs": [],
   "source": [
    "y_pred = RFC.predict(X_test)"
   ]
  },
  {
   "cell_type": "markdown",
   "id": "I2SyccieiBuM",
   "metadata": {
    "id": "I2SyccieiBuM"
   },
   "source": [
    "#### Features importance"
   ]
  },
  {
   "cell_type": "code",
   "execution_count": 15,
   "id": "OQ8T92x8iGaW",
   "metadata": {
    "colab": {
     "base_uri": "https://localhost:8080/",
     "height": 810
    },
    "executionInfo": {
     "elapsed": 959,
     "status": "ok",
     "timestamp": 1711016595296,
     "user": {
      "displayName": "Fabien Vrd",
      "userId": "09385236561904316335"
     },
     "user_tz": -60
    },
    "id": "OQ8T92x8iGaW",
    "outputId": "c5eddcb0-0578-49ea-ce71-1969f4a77da5"
   },
   "outputs": [
    {
     "data": {
      "image/png": "[encoded data removed]",
      "text/plain": [
       "<Figure size 1000x600 with 1 Axes>"
      ]
     },
     "metadata": {},
     "output_type": "display_data"
    }
   ],
   "source": [
    "feature_importance = RFC.feature_importances_\n",
    "feature_names = X_test.columns\n",
    "plt.figure(figsize=(10, 6))\n",
    "plt.bar(range(len(feature_importance)), feature_importance, align='center')\n",
    "plt.xticks(range(len(feature_importance)), feature_names, rotation='vertical')\n",
    "plt.ylabel('Importance')\n",
    "plt.title('Importance des fonctionnalités dans le modèle RFC')\n",
    "plt.show()"
   ]
  },
  {
   "cell_type": "markdown",
   "id": "beeca31c",
   "metadata": {
    "id": "beeca31c"
   },
   "source": [
    "## Interprétation des Résultats"
   ]
  },
  {
   "cell_type": "markdown",
   "id": "dc58dd60-062d-44d4-8821-2faab38221f7",
   "metadata": {},
   "source": [
    "##### L'accuracy ou exactitude"
   ]
  },
  {
   "cell_type": "markdown",
   "id": "b63d8326-1cda-4513-86ab-bd20a8518fb7",
   "metadata": {},
   "source": [
    "L'accuracy mesure l’efficacité d’un modèle à prédire correctement à la fois des individus classés positivement et négativement de façon symétrique.\n",
    "Elle est calculée à partir du rapport entre le nombre d'individus bien classé et le nombre total d'individus dans l’échantillon. \n",
    "Son résultat est un nombre décimal compris entre 0 et 1, souvent exprimé en pourcentage, où 0 signifie que le modèle ne sait pas classer les individus et 1 où le modèle classe parfaitement les individus."
   ]
  },
  {
   "cell_type": "code",
   "execution_count": 16,
   "id": "2dedf3c5",
   "metadata": {
    "colab": {
     "base_uri": "https://localhost:8080/"
    },
    "executionInfo": {
     "elapsed": 39,
     "status": "ok",
     "timestamp": 1711016595296,
     "user": {
      "displayName": "Fabien Vrd",
      "userId": "09385236561904316335"
     },
     "user_tz": -60
    },
    "id": "2dedf3c5",
    "outputId": "cdbe00f5-e683-4cc9-9463-df64a01b22d4"
   },
   "outputs": [
    {
     "data": {
      "text/plain": [
       "0.9801324503311258"
      ]
     },
     "execution_count": 16,
     "metadata": {},
     "output_type": "execute_result"
    }
   ],
   "source": [
    "from sklearn.metrics import accuracy_score\n",
    "accuracy_score(y_test, y_pred)"
   ]
  },
  {
   "cell_type": "markdown",
   "id": "991456cd-b34c-4311-b03c-33b62cf7436a",
   "metadata": {},
   "source": [
    "Notre modèle a une accuracy de 0.98, cela signifie qu'il fait 98% de bonnes prédictions."
   ]
  },
  {
   "cell_type": "markdown",
   "id": "6914279f-be3b-4c8b-b237-65f35b54e2fc",
   "metadata": {},
   "source": [
    "##### La matrice de confusion"
   ]
  },
  {
   "cell_type": "markdown",
   "id": "930a4926-665d-4dc6-b0a5-713cbdc8215e",
   "metadata": {},
   "source": [
    "La matrice de confusion est un outil de mesure de la performance des modèles de classification a 2 classes ou plus. C'est un tableau à quatre valeurs représentant les differentes combinaisons de valeurs réelles et valeurs prédites."
   ]
  },
  {
   "cell_type": "code",
   "execution_count": 17,
   "id": "20ff2ba9",
   "metadata": {
    "colab": {
     "base_uri": "https://localhost:8080/"
    },
    "executionInfo": {
     "elapsed": 34,
     "status": "ok",
     "timestamp": 1711016595297,
     "user": {
      "displayName": "Fabien Vrd",
      "userId": "09385236561904316335"
     },
     "user_tz": -60
    },
    "id": "20ff2ba9",
    "outputId": "078d999e-454d-4d7e-f703-b163bc6aa54c"
   },
   "outputs": [
    {
     "name": "stdout",
     "output_type": "stream",
     "text": [
      "[[ 249   12]\n",
      " [  15 1083]]\n"
     ]
    }
   ],
   "source": [
    "from sklearn.metrics import confusion_matrix\n",
    "cm = confusion_matrix(y_test, y_pred)\n",
    "print(cm)"
   ]
  },
  {
   "cell_type": "markdown",
   "id": "41c6fe39-824c-4bdd-b80d-8658c9a337ef",
   "metadata": {},
   "source": [
    "<br>\n",
    "vn, fp ,fn, vp<br>\n",
    "dans notre cas ces chiffres signifie :<br>\n",
    "249 vrai négatif : la prédiction est negative et c'est la réalité (le modèle prédit que le patient n'a pas le covid et c'est vrai)<br>\n",
    "12 faux positif : la prédiction est positive mais ce n'est pas la réalité (le modèle predit que le patient a le covid alors qu'il ne l'a pas)<br>\n",
    "\n",
    "15 faux négatif : la prédiction est négative mais ce n'est pas la réalité (le modèle predit que le patient n'a pas le covid alors qu'il l'a)<br>\n",
    "1083 vrai positif : la prédiction est positive et c'est la réalité (le modèle predit que le patient a le Covid et il l'a vraiment)<br>"
   ]
  },
  {
   "cell_type": "code",
   "execution_count": 18,
   "id": "8af6a9a6",
   "metadata": {
    "colab": {
     "base_uri": "https://localhost:8080/",
     "height": 537
    },
    "executionInfo": {
     "elapsed": 28,
     "status": "ok",
     "timestamp": 1711016595297,
     "user": {
      "displayName": "Fabien Vrd",
      "userId": "09385236561904316335"
     },
     "user_tz": -60
    },
    "id": "8af6a9a6",
    "outputId": "3a74d48c-7ce6-4c51-97d8-0474f777a818"
   },
   "outputs": [
    {
     "data": {
      "image/png": "[encoded data removed]",
      "text/plain": [
       "<Figure size 800x600 with 2 Axes>"
      ]
     },
     "metadata": {},
     "output_type": "display_data"
    }
   ],
   "source": [
    "from sklearn.metrics import confusion_matrix, ConfusionMatrixDisplay\n",
    "import matplotlib.pyplot as plt\n",
    "\n",
    "y_pred = RFC.predict(X_test)\n",
    "cm = confusion_matrix(y_test, y_pred)\n",
    "\n",
    "# Créer un objet ConfusionMatrixDisplay\n",
    "cm_display = ConfusionMatrixDisplay(cm)\n",
    "\n",
    "# Définir la taille du graphique\n",
    "plt.figure(figsize=(8, 6))\n",
    "\n",
    "# Afficher la matrice de confusion\n",
    "cm_display.plot(ax=plt.gca(), xticks_rotation='horizontal', cmap='summer')\n",
    "\n",
    "# Mettre à jour les étiquettes\n",
    "plt.xlabel('Classe prédite')\n",
    "plt.ylabel('Classe réelle')\n",
    "\n",
    "# Afficher le graphique\n",
    "plt.show()\n"
   ]
  },
  {
   "cell_type": "markdown",
   "id": "813a8a91-31e2-4e5a-8548-0e9dbc6f3b05",
   "metadata": {},
   "source": [
    "##### Le rapport de classification"
   ]
  },
  {
   "cell_type": "markdown",
   "id": "c32c44dc-83c4-47b1-b330-f499b55fe7d3",
   "metadata": {},
   "source": [
    "Le rapport de classification est un outil qui permet de voir les performances d'un modèle de classification.<br>\n",
    "<br>\n",
    "Il permet d'évaluer differentes informations :<br>\n",
    "La Précision c’est la proportion de prédictions correctes parmi les individus que l’on prédit positif. <br>\n",
    "Le Recall ou sensitivity correspond au nombre d’individus correctement classés. <br>\n",
    "Le F1 Score est la moyenne harmonique de la précision et du Recall : plus le score est élevé, plus la Précision et le Recall sont élevés. <br>"
   ]
  },
  {
   "cell_type": "code",
   "execution_count": 19,
   "id": "5d8a7343",
   "metadata": {
    "colab": {
     "base_uri": "https://localhost:8080/"
    },
    "executionInfo": {
     "elapsed": 26,
     "status": "ok",
     "timestamp": 1711016595297,
     "user": {
      "displayName": "Fabien Vrd",
      "userId": "09385236561904316335"
     },
     "user_tz": -60
    },
    "id": "5d8a7343",
    "outputId": "fd6420f6-e64c-4439-8b98-10257c08ba77"
   },
   "outputs": [
    {
     "name": "stdout",
     "output_type": "stream",
     "text": [
      "              precision    recall  f1-score   support\n",
      "\n",
      "           0       0.94      0.95      0.95       261\n",
      "           1       0.99      0.99      0.99      1098\n",
      "\n",
      "    accuracy                           0.98      1359\n",
      "   macro avg       0.97      0.97      0.97      1359\n",
      "weighted avg       0.98      0.98      0.98      1359\n",
      "\n"
     ]
    }
   ],
   "source": [
    "from sklearn.metrics import classification_report\n",
    "classe = classification_report(y_test, y_pred)\n",
    "print(classe)"
   ]
  },
  {
   "cell_type": "markdown",
   "id": "fc407b1a-ec66-41ae-ab1a-d2115293d2f8",
   "metadata": {},
   "source": [
    "Pour notre modèle, voici les résultats du rapport de classification : <br>\n",
    "precision = vrais positifs / vrais positifs + faux positifs<br>\n",
    "Pour la classe 0 (pas malade), la précision est de 94% : Elle indique la proportion d'échantillons prédits comme négatif qui le sont réellement.<br>\n",
    "Pour la classe 1 (malade), la précision est de 99% : Elle indique la proportion d'échantillons prédits comme positif qui le sont réellement.<br>\n",
    "<br>\n",
    "recall = vrais positif / vrais positif + faux négatifs\n",
    "Pour la classe 0 (pas malade), la précision est de 95% : Il indique la proportion d'échantillons prédits négatifs qui ont été correctement identifiés par le modèle.<br>\n",
    "Pour la classe 1 (malade), la précision est de 99% : Il indique la proportion d'échantillons prédits positifs qui ont été correctement identifiés par le modèle <br>\n",
    "<br>\n",
    "F1 Score = 2 X precision x rappel / precision + rappel<br>\n",
    "C'est la moyenne harmonique de la précision et du rappel. Il fournit une mesure combinée de la précision et du rappel en un seul nombre.<br>\n",
    "<br>\n",
    "Support : C'est le nombre total d'échantillons appartenant à cette classe dans l'ensemble de données.<br>"
   ]
  },
  {
   "cell_type": "markdown",
   "id": "5a5e77a4-022d-405a-a6cd-6db84ea63886",
   "metadata": {},
   "source": [
    "##### La learning Curve ou courbe d'apprentissage"
   ]
  },
  {
   "cell_type": "markdown",
   "id": "60ae17b1-266b-4383-b43d-df0324d6b313",
   "metadata": {},
   "source": [
    "Elle trace l'évolution des performances du modèle sur l'ensemble d'apprentissage et sur l'ensemble de validation en fonction du nombre d'échantillons utilisés pour l'apprentissage. <br>\n"
   ]
  },
  {
   "cell_type": "code",
   "execution_count": 20,
   "id": "fa5ccdf5",
   "metadata": {
    "id": "fa5ccdf5"
   },
   "outputs": [],
   "source": [
    "from sklearn.model_selection import learning_curve\n",
    "from sklearn.model_selection import learning_curve\n",
    "def evaluation(model):\n",
    "    model.fit(X_train, y_train)\n",
    "    y_pred = model.predict(X_test)\n",
    "\n",
    "    #print(confusion_matrix(y_test, y_pred))\n",
    "    #print(classification_report(y_test, y_pred))\n",
    "\n",
    "    N, train_score, val_score = learning_curve(model, X_train, y_train,\n",
    "                                               cv = 4, scoring = \"f1\", train_sizes = np.linspace(0.1, 1, 10 ))\n",
    "    plt.figure(figsize = (8,4))\n",
    "    plt.plot(N, train_score.mean(axis = 1), label = 'train score')\n",
    "    plt.plot(N, val_score.mean(axis = 1), label = 'validation score')\n",
    "    plt.title('Learning Curve',fontsize= 10, fontweight='bold')\n",
    "    plt.legend()"
   ]
  },
  {
   "cell_type": "code",
   "execution_count": 21,
   "id": "82335a2d",
   "metadata": {
    "colab": {
     "base_uri": "https://localhost:8080/",
     "height": 892
    },
    "executionInfo": {
     "elapsed": 3394,
     "status": "ok",
     "timestamp": 1711016598673,
     "user": {
      "displayName": "Fabien Vrd",
      "userId": "09385236561904316335"
     },
     "user_tz": -60
    },
    "id": "82335a2d",
    "outputId": "8b97f64b-f8a4-4f4b-9e33-94d5d970afd4"
   },
   "outputs": [
    {
     "data": {
      "image/png": "[encoded data removed]",
      "text/plain": [
       "<Figure size 800x400 with 1 Axes>"
      ]
     },
     "metadata": {},
     "output_type": "display_data"
    }
   ],
   "source": [
    "evaluation(RFC)"
   ]
  },
  {
   "cell_type": "markdown",
   "id": "fc2f7f5b-c078-46bd-98ba-dfab6d13efa2",
   "metadata": {},
   "source": [
    "<br>\n",
    "Axe des x (abscisse) : Il représente le nombre d'échantillons utilisés pour l'apprentissage. Plus précisément, il s'agit de la taille de l'ensemble d'apprentissage<br>\n",
    "Axe des y (ordonnée) : Il représente la performance du modèle.<br>\n",
    "Courbe d'apprentissage (train score) : Cette courbe montre la performance du modèle sur l'ensemble d'apprentissage<br>\n",
    "Courbe de validation (validation score) : Cette courbe montre la performance du modèle sur l'ensemble de validation (généralement mesurée de la même manière que la courbe d'apprentissage) en fonction de la taille de l'ensemble d'apprentissage. Elle montre comment la performance généralise sur un ensemble de données inconnu à mesure que la taille de l'ensemble d'apprentissage augmente.<br>\n",
    "<br>\n",
    "\n",
    "Cette courbe permet de visualiser si le modèle est en underfitting,  overffitting ou convergeance ideale. <br>\n",
    "underfitting = courbe qui converge vers une performance faible<br>\n",
    "overfitting = courbe d'apprentissage qui continue de s'ameliorer alors que la courbe alors que la courbe de validation stagne.<br>\n",
    "convergence ideale = courbe d'apprentissage et courbe de validation qui convergent toutes les deux vers une performance élévé a mesure que la taille d'ensemble augmente. Ce qui indique que le modèle bénéficie de plus de données et généralise bien sur des données inconnues.<br>\n",
    "\n",
    "Pour notre modèle, il semblerait que nous soyons dans de l'overfitting.<br>\n",
    "La courbe d'apprentissage commence en haut a gauche puis descend cela signifie que le modèle généralise moins bien sur de nouvelles données.<br>\n",
    "La distance entre la courbe d'entrainement et la courbe de test est grande ce qui indique du surapprentissage, le modèle est performants sur les données <br>d'entrainement mais pas sur de nouvelles données\n",
    "\n"
   ]
  },
  {
   "cell_type": "markdown",
   "id": "766e9667-1698-47df-bedf-c7c3530a00a1",
   "metadata": {},
   "source": [
    "##### Learning Curve ou courbe Roc "
   ]
  },
  {
   "cell_type": "markdown",
   "id": "e972a70d-fbc2-4caa-9de1-1190739694b3",
   "metadata": {},
   "source": [
    "La courbe ROC (Receiver Operating Characteristic) est une représentation graphique de la performance d'un modèle de classification binnaire à différents seuils de classification. Elle illustre la relation entre le taux de vrais positifs (TPR) et le taux de faux positifs (FPR) pour différents seuils de classification."
   ]
  },
  {
   "cell_type": "code",
   "execution_count": 22,
   "id": "145b62aa",
   "metadata": {
    "colab": {
     "base_uri": "https://localhost:8080/"
    },
    "executionInfo": {
     "elapsed": 10,
     "status": "ok",
     "timestamp": 1711016598673,
     "user": {
      "displayName": "Fabien Vrd",
      "userId": "09385236561904316335"
     },
     "user_tz": -60
    },
    "id": "145b62aa",
    "outputId": "6ef50a6b-f46a-4717-d504-bdc57f711b85"
   },
   "outputs": [
    {
     "data": {
      "text/plain": [
       "0.9984820471274166"
      ]
     },
     "execution_count": 22,
     "metadata": {},
     "output_type": "execute_result"
    }
   ],
   "source": [
    "from sklearn.metrics import roc_auc_score\n",
    "\n",
    "roc_auc_score(y, RFC.predict_proba(X)[:, 1])"
   ]
  },
  {
   "cell_type": "code",
   "execution_count": 23,
   "id": "89a713cf",
   "metadata": {
    "colab": {
     "base_uri": "https://localhost:8080/",
     "height": 696
    },
    "executionInfo": {
     "elapsed": 9,
     "status": "ok",
     "timestamp": 1711016598673,
     "user": {
      "displayName": "Fabien Vrd",
      "userId": "09385236561904316335"
     },
     "user_tz": -60
    },
    "id": "89a713cf",
    "outputId": "f4e71ce8-abb6-4af6-9418-f102b690f823"
   },
   "outputs": [
    {
     "data": {
      "image/png": "[encoded data removed]",
      "text/plain": [
       "<Figure size 800x400 with 1 Axes>"
      ]
     },
     "metadata": {},
     "output_type": "display_data"
    }
   ],
   "source": [
    "from sklearn.metrics import RocCurveDisplay\n",
    "import matplotlib.pyplot as plt\n",
    "\n",
    "fig, ax = plt.subplots(figsize=(8, 4))  # Créer une figure et un sous-graphique\n",
    "RocCurveDisplay.from_estimator(RFC, X_test, y_test, ax=ax)  # Dessiner la courbe ROC sur le sous-graphique\n",
    "plt.show()\n"
   ]
  },
  {
   "cell_type": "markdown",
   "id": "a1370c2a-dbd6-45bd-8c38-40ba348e6bfd",
   "metadata": {},
   "source": [
    "L'axe des x représente le taux de faux positifs (FPR), qui est calculé comme le nombre de faux positifs divisé par la somme des vrais négatifs et des faux positifs. En d'autres termes, il mesure la proportion d'échantillons négatifs incorrectement classés comme positifs.<br>\n",
    "<br>\n",
    "L'axe des y représente le taux de vrais positifs (TPR), également appelé rappel ou sensibilité, qui est calculé comme le nombre de vrais positifs divisé par la somme des vrais positifs et des faux négatifs. Il mesure la proportion d'échantillons positifs correctement classés comme positifs.<br>\n",
    "<br>\n",
    "Elle permet de voir si le modèle est capabable de bien séparer les classes.<br>\n",
    "\n",
    "Une ROC de 0,5 correspond à une performance aléatoire, tandis qu'une ROC de 1 indique une performance parfaite.<br>"
   ]
  },
  {
   "cell_type": "markdown",
   "id": "5a6746e3-a1a1-4e4c-bd5a-4fa3243252da",
   "metadata": {},
   "source": [
    "### Conclusion"
   ]
  },
  {
   "cell_type": "code",
   "execution_count": null,
   "id": "d14bff0b-4a3e-4f09-858b-2b5e1da5d4c9",
   "metadata": {},
   "outputs": [],
   "source": []
  }
 ],
 "metadata": {
  "colab": {
   "provenance": []
  },
  "kernelspec": {
   "display_name": "Python 3 (ipykernel)",
   "language": "python",
   "name": "python3"
  },
  "language_info": {
   "codemirror_mode": {
    "name": "ipython",
    "version": 3
   },
   "file_extension": ".py",
   "mimetype": "text/x-python",
   "name": "python",
   "nbconvert_exporter": "python",
   "pygments_lexer": "ipython3",
   "version": "3.11.5"
  }
 },
 "nbformat": 4,
 "nbformat_minor": 5
}
