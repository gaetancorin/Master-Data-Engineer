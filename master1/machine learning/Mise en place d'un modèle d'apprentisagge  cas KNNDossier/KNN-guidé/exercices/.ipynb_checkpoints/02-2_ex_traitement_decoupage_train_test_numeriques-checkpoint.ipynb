{
 "cells": [
  {
   "cell_type": "markdown",
   "id": "885e8241",
   "metadata": {},
   "source": [
    "# 📝 Exercice 2.2\n",
    "\n",
    "## Travailler avec des données numériques\n",
    "\n",
    "Dans le notebook précédent, nous avons entraîné un modèle de k-plus proches voisins sur quelques données.\n",
    "\n",
    "Cependant, nous avons trop simplifié la procédure en chargeant un jeu de données qui contenait exclusivement des données numériques. De plus, nous avons utilisé des jeux de données déjà divisés en jeux d'entraînement et de test.\n",
    "\n",
    "Dans ce notebook, nous visons à :\n",
    "\n",
    "* identifier les données numériques dans un jeu de données hétérogène ;\n",
    "* Sélectionner le sous-ensemble de colonnes correspondant aux données numériques ;\n",
    "* utiliser une aide de scikit-learn pour séparer les données en ensembles d'entraînement et de test ;\n",
    "* formation et évaluation d'un modèle scikit-learn plus complexe.\n",
    "\n",
    "Nous commencerons par charger l'ensemble de données de recensement des adultes utilisé pendant l'exploration l'exploration des données dont le chemin est 'datasets/adult-census.csv'.\n",
    "\n",
    "## Chargement de l'ensemble des données\n",
    "\n",
    "Comme dans le notebook précédent, nous nous appuyons sur pandas pour ouvrir le fichier CSV en un dataframe pandas."
   ]
  },
  {
   "cell_type": "code",
   "execution_count": 15,
   "id": "ef88283f",
   "metadata": {},
   "outputs": [
    {
     "name": "stdout",
     "output_type": "stream",
     "text": [
      "       age      workclass      education  education-num       marital-status  \\\n",
      "0       25        Private           11th              7        Never-married   \n",
      "1       38        Private        HS-grad              9   Married-civ-spouse   \n",
      "2       28      Local-gov     Assoc-acdm             12   Married-civ-spouse   \n",
      "3       44        Private   Some-college             10   Married-civ-spouse   \n",
      "4       18              ?   Some-college             10        Never-married   \n",
      "...    ...            ...            ...            ...                  ...   \n",
      "48837   27        Private     Assoc-acdm             12   Married-civ-spouse   \n",
      "48838   40        Private        HS-grad              9   Married-civ-spouse   \n",
      "48839   58        Private        HS-grad              9              Widowed   \n",
      "48840   22        Private        HS-grad              9        Never-married   \n",
      "48841   52   Self-emp-inc        HS-grad              9   Married-civ-spouse   \n",
      "\n",
      "               occupation relationship    race      sex  capital-gain  \\\n",
      "0       Machine-op-inspct    Own-child   Black     Male             0   \n",
      "1         Farming-fishing      Husband   White     Male             0   \n",
      "2         Protective-serv      Husband   White     Male             0   \n",
      "3       Machine-op-inspct      Husband   Black     Male          7688   \n",
      "4                       ?    Own-child   White   Female             0   \n",
      "...                   ...          ...     ...      ...           ...   \n",
      "48837        Tech-support         Wife   White   Female             0   \n",
      "48838   Machine-op-inspct      Husband   White     Male             0   \n",
      "48839        Adm-clerical    Unmarried   White   Female             0   \n",
      "48840        Adm-clerical    Own-child   White     Male             0   \n",
      "48841     Exec-managerial         Wife   White   Female         15024   \n",
      "\n",
      "       capital-loss  hours-per-week  native-country   class  \n",
      "0                 0              40   United-States   <=50K  \n",
      "1                 0              50   United-States   <=50K  \n",
      "2                 0              40   United-States    >50K  \n",
      "3                 0              40   United-States    >50K  \n",
      "4                 0              30   United-States   <=50K  \n",
      "...             ...             ...             ...     ...  \n",
      "48837             0              38   United-States   <=50K  \n",
      "48838             0              40   United-States    >50K  \n",
      "48839             0              40   United-States   <=50K  \n",
      "48840             0              20   United-States   <=50K  \n",
      "48841             0              40   United-States    >50K  \n",
      "\n",
      "[48842 rows x 14 columns]\n"
     ]
    }
   ],
   "source": [
    "import pandas as pd\n",
    "\n",
    "df = pd.read_csv('../datasets/adult-census.csv')\n",
    "print(df)"
   ]
  },
  {
   "cell_type": "markdown",
   "id": "b9badc04",
   "metadata": {},
   "source": [
    "L'étape suivante consiste à séparer la cible des données. Nous avons effectué la même procédure dans le notebook précédent."
   ]
  },
  {
   "cell_type": "code",
   "execution_count": 16,
   "id": "d623018f",
   "metadata": {},
   "outputs": [],
   "source": [
    "df_data = df.drop(columns=['class'])"
   ]
  },
  {
   "cell_type": "code",
   "execution_count": 17,
   "id": "8e502fdb",
   "metadata": {},
   "outputs": [],
   "source": [
    "df_target = df['class']"
   ]
  },
  {
   "cell_type": "markdown",
   "id": "aa418958",
   "metadata": {},
   "source": [
    "<div class=\"admonition note alert alert-info\">\n",
    "<p class=\"first admonition-title\" style=\"font-weight: bold;\">Note</p>\n",
    "<p class=\"last\"> A partir de maintenant, nous utilisons le nom <tt class=\"docutils literal\">data</tt> et <tt class=\"docutils literal\">target</tt> pour être explicite. Dans la documentation de\n",
    "scikit-learn, <tt class=\"docutils literal\">data</tt> est communément appelé <tt class=\"docutils literal\">X</tt> et <tt class=\"docutils literal\">target</tt> est communément appelé <tt class=\"docutils literal\">y</tt>.</p>\n",
    "</div>"
   ]
  },
  {
   "cell_type": "markdown",
   "id": "e86b01e2",
   "metadata": {},
   "source": [
    "À ce stade, nous pouvons nous concentrer sur les données que nous voulons utiliser pour entraîner notre modèle prédictif.\n",
    "\n",
    "## Identifier les données numériques\n",
    "\n",
    "Les données numériques sont représentées par des nombres. Elles sont liées à des données mesurables (quantitatives), comme l'âge ou le nombre d'heures qu'une personne travaille par semaine.\n",
    "\n",
    "Les modèles prédictifs sont nativement conçus pour travailler avec des données numériques. De plus, les données numériques nécessitent généralement peu de travail avant de commencer l'entraînement.\n",
    "\n",
    "La première tâche sera d'identifier les données numériques dans notre jeu de données.\n",
    "\n",
    "\n",
    "<div class=\"admonition caution alert alert-warning\">\n",
    "<p class=\"first admonition-title\" style=\"font-weight: bold;\">Attention!</p>\n",
    "<p class=\"last\"> Les données numériques sont représentées par des nombres, mais les nombres ne représentent pas toujours des données numériques. Des catégories pourraient déjà être codées avec des nombres et vous devrez identifier ces caractéristiques.</p>\n",
    "</div>\n",
    "\n",
    "Ainsi, nous pouvons vérifier le type de données pour chacune des colonnes de l'ensemble de données."
   ]
  },
  {
   "cell_type": "markdown",
   "id": "1bfeed5d",
   "metadata": {},
   "source": [
    "Il semble que nous n'ayons que deux types de données. Nous pouvons nous en assurer en vérifiant les\n",
    "types de données."
   ]
  },
  {
   "cell_type": "code",
   "execution_count": 19,
   "id": "a00c4df8",
   "metadata": {},
   "outputs": [
    {
     "name": "stdout",
     "output_type": "stream",
     "text": [
      "Index(['age', 'workclass', 'education', 'education-num', 'marital-status',\n",
      "       'occupation', 'relationship', 'race', 'sex', 'capital-gain',\n",
      "       'capital-loss', 'hours-per-week', 'native-country'],\n",
      "      dtype='object')\n",
      "int64\n",
      "object\n",
      "object\n",
      "int64\n",
      "object\n",
      "object\n",
      "object\n",
      "object\n",
      "object\n",
      "int64\n",
      "int64\n",
      "int64\n",
      "object\n"
     ]
    }
   ],
   "source": [
    "print(df_data.columns)\n",
    "for column in df_data:\n",
    "    print(df_data[column].dtype)"
   ]
  },
  {
   "cell_type": "markdown",
   "id": "a6cbb5b5",
   "metadata": {},
   "source": [
    "En effet, les deux seuls types présents dans l'ensemble de données sont integer et object. Nous pouvons regarder les premières lignes du dataframe pour comprendre la la signification du type de données `objet`."
   ]
  },
  {
   "cell_type": "code",
   "execution_count": 20,
   "id": "d2f36f94",
   "metadata": {},
   "outputs": [
    {
     "name": "stdout",
     "output_type": "stream",
     "text": [
      "0              Private\n",
      "1              Private\n",
      "2            Local-gov\n",
      "3              Private\n",
      "4                    ?\n",
      "             ...      \n",
      "48837          Private\n",
      "48838          Private\n",
      "48839          Private\n",
      "48840          Private\n",
      "48841     Self-emp-inc\n",
      "Name: workclass, Length: 48842, dtype: object\n",
      "0                 11th\n",
      "1              HS-grad\n",
      "2           Assoc-acdm\n",
      "3         Some-college\n",
      "4         Some-college\n",
      "             ...      \n",
      "48837       Assoc-acdm\n",
      "48838          HS-grad\n",
      "48839          HS-grad\n",
      "48840          HS-grad\n",
      "48841          HS-grad\n",
      "Name: education, Length: 48842, dtype: object\n",
      "0              Never-married\n",
      "1         Married-civ-spouse\n",
      "2         Married-civ-spouse\n",
      "3         Married-civ-spouse\n",
      "4              Never-married\n",
      "                ...         \n",
      "48837     Married-civ-spouse\n",
      "48838     Married-civ-spouse\n",
      "48839                Widowed\n",
      "48840          Never-married\n",
      "48841     Married-civ-spouse\n",
      "Name: marital-status, Length: 48842, dtype: object\n"
     ]
    }
   ],
   "source": [
    "print(df_data['workclass'])\n",
    "print(df_data['education'])\n",
    "print(df_data['marital-status'])"
   ]
  },
  {
   "cell_type": "markdown",
   "id": "7d663eb3",
   "metadata": {},
   "source": [
    "Nous voyons que le type de données `object` correspond à des colonnes contenant des chaînes de caractères.\n",
    "Comme nous l'avons vu dans la section exploration, ces colonnes contiennent des catégories et nous verrons plus tard comment les gérer. Nous pouvons sélectionner les colonnes contenant des entiers et vérifier leur contenu."
   ]
  },
  {
   "cell_type": "code",
   "execution_count": 21,
   "id": "8c9f7fb6",
   "metadata": {},
   "outputs": [],
   "source": [
    "age = df_data['age']\n",
    "education_num = df_data['education-num']\n",
    "capital_gain = df_data['capital-gain']\n",
    "capital_loss = df_data['capital-loss']\n",
    "hours_per_week = df_data['hours-per-week']"
   ]
  },
  {
   "cell_type": "markdown",
   "id": "b85d0b74",
   "metadata": {},
   "source": [
    "Maintenant que nous avons limité l'ensemble de données aux seules colonnes numériques, nous pouvons analyser ces nombres pour savoir ce qu'ils représentent. \n",
    "\n",
    "La colonne, `\"age\"`, est auto-explicative. Nous pouvons noter que les valeurs sont continues, ce qui signifie qu'elles peuvent prendre n'importe quel nombre dans une plage donnée. Nous allons découvrons quelle est cette plage :"
   ]
  },
  {
   "cell_type": "code",
   "execution_count": 22,
   "id": "93f2c54f",
   "metadata": {},
   "outputs": [
    {
     "name": "stdout",
     "output_type": "stream",
     "text": [
      "age 17 90\n"
     ]
    }
   ],
   "source": [
    "print(\"age\", age.min(), age.max())"
   ]
  },
  {
   "cell_type": "markdown",
   "id": "78e0925e",
   "metadata": {},
   "source": [
    "Nous pouvons voir que l'âge varie entre 17 et 90 ans.\n",
    "\n",
    "Nous pourrions étendre notre analyse et nous trouverions que `\"capital-gain\"`,\n",
    "`\"capital-loss\"`, et `\"hours-per-week\"`  représentent aussi des données quantitatives.\n",
    "\n",
    "\n",
    "Maintenant, nous stockons le sous-ensemble de colonnes numériques dans un nouveau dataframe."
   ]
  },
  {
   "cell_type": "code",
   "execution_count": 23,
   "id": "a63adc9d",
   "metadata": {},
   "outputs": [
    {
     "name": "stdout",
     "output_type": "stream",
     "text": [
      "capital-gain 0 99999\n",
      "capital-loss 0 4356\n",
      "hours-per-week 1 99\n",
      "       age  education-num  capital-gain  capital-loss  hours-per-week\n",
      "0       25              7             0             0              40\n",
      "1       38              9             0             0              50\n",
      "2       28             12             0             0              40\n",
      "3       44             10          7688             0              40\n",
      "4       18             10             0             0              30\n",
      "...    ...            ...           ...           ...             ...\n",
      "48837   27             12             0             0              38\n",
      "48838   40              9             0             0              40\n",
      "48839   58              9             0             0              40\n",
      "48840   22              9             0             0              20\n",
      "48841   52              9         15024             0              40\n",
      "\n",
      "[48842 rows x 5 columns]\n"
     ]
    }
   ],
   "source": [
    "print(\"capital-gain\", capital_gain.min(), capital_gain.max())\n",
    "print(\"capital-loss\", capital_loss.min(), capital_loss.max())\n",
    "print(\"hours-per-week\", hours_per_week.min(), hours_per_week.max())\n",
    "\n",
    "df_num = df[['age','education-num', 'capital-gain', 'capital-loss', 'hours-per-week']]\n",
    "print(df_num)"
   ]
  },
  {
   "cell_type": "markdown",
   "id": "1658afa4",
   "metadata": {},
   "source": [
    "## Diviser le jeu de données en sous-ensembles train et test\n",
    "\n",
    "Dans le notebook précédent, nous avons chargé deux jeux de données distincts : un jeu de données d'entraînement et un jeu de données de test. Cependant, avoir des jeux de données séparés dans deux fichiers distincts est inhabituel: la plupart du temps, nous avons un seul fichier contenant toutes les données que nous devons diviser une fois chargées dans la mémoire.\n",
    "\n",
    "\n",
    "Lors de la construction d'un modèle d'apprentissage automatique, il est important d'évaluer le modèle formé sur des données qui n'ont pas été utilisées pour l'ajuster, car la généralisation est plus attendue que la mémorisation (ce qui signifie que nous voulons une règle qui se généralise à de nouvelles données, sans comparaison avec les données que nous avons mémorisées). Il est plus difficile de conclure sur des données jamais vues que sur des données déjà vues.\n",
    "\n",
    "Une évaluation correcte est facilement réalisée en laissant de côté un sous-ensemble de données lors de la formation du modèle et en l'utilisant ensuite pour l'évaluation du modèle. Les données utilisées pour ajuster un modèle sont appelées données d'entraînement, tandis que les données utilisées pour évaluer un modèle sont appelées données de test.\n",
    "\n",
    "Scikit-learn fournit la fonction d'aide suivante `sklearn.model_selection.train_test_split` qui est utilisée pour automatiquement l'ensemble de données en deux sous-ensembles.\n",
    "\n",
    "Diviser le jeu de données chargé dans la section précédente en deux sous-ensembles train(75%) et test."
   ]
  },
  {
   "cell_type": "code",
   "execution_count": 24,
   "id": "7b37389a",
   "metadata": {},
   "outputs": [],
   "source": [
    "from sklearn.model_selection import train_test_split\n",
    "\n",
    "df = pd.read_csv('../datasets/adult-census-numeric.csv')\n",
    "\n",
    "target = df[\"class\"]\n",
    "target.head()\n",
    "\n",
    "data = df.drop(columns=['class'])\n",
    "data.head()\n",
    "\n",
    "data_train, data_test, target_train, target_test = train_test_split(data, target, test_size = 0.25)"
   ]
  },
  {
   "cell_type": "code",
   "execution_count": null,
   "id": "42e702a6",
   "metadata": {},
   "outputs": [],
   "source": []
  },
  {
   "cell_type": "markdown",
   "id": "f96ddcf9",
   "metadata": {},
   "source": [
    "<div class=\"admonition tip alert alert-warning\">\n",
    "<p class=\"first admonition-title\" style=\"font-weight: bold;\">Conseil</p>\n",
    "<p class=\"last\">Dans scikit-learn, le paramètre <tt class=\"docutils literal\">random_state</tt> permet d'obtenir des résultats déterministes lorsque l'on utilise un générateur de nombres aléatoires. Dans le cas de la méthode de\n",
    "<tt class=\"docutils literal\">train_test_split</tt> le caractère aléatoire vient du brassage des données, qui\n",
    "décide de la façon dont l'ensemble de données est divisé en un ensemble d'entraînement et un ensemble de test.</p>\n",
    "</div>"
   ]
  },
  {
   "cell_type": "markdown",
   "id": "c4015226",
   "metadata": {},
   "source": [
    "En appelant la fonction `train_test_split`, nous avons spécifié que nous aimerions avoir 25% des points dans l'ensemble de test tandis que les points restants (75%) seront disponibles dans l'ensemble d'entraînement. Vérifier rapidement si nous avons ce que nous attendions."
   ]
  },
  {
   "cell_type": "code",
   "execution_count": 25,
   "id": "5dd6e221",
   "metadata": {},
   "outputs": [
    {
     "name": "stdout",
     "output_type": "stream",
     "text": [
      "       age  capital-gain  capital-loss  hours-per-week\n",
      "20660   29             0             0              36\n",
      "27998   26             0             0              40\n",
      "28005   40             0             0              40\n",
      "26661   28             0             0              50\n",
      "35035   21             0             0              40\n",
      "...    ...           ...           ...             ...\n",
      "30593   25             0             0              40\n",
      "16663   29             0             0              40\n",
      "12213   58             0          1887              40\n",
      "12600   38             0             0              40\n",
      "26729   43             0             0              38\n",
      "\n",
      "[29304 rows x 4 columns]\n",
      "       age  capital-gain  capital-loss  hours-per-week\n",
      "31439   21             0             0              40\n",
      "34046   24             0             0              38\n",
      "31056   40             0             0              50\n",
      "2664    31             0             0              40\n",
      "32912   25             0             0              30\n",
      "...    ...           ...           ...             ...\n",
      "23842   65             0             0              40\n",
      "255     27             0             0              40\n",
      "23809   41             0             0              40\n",
      "22466   40             0             0              40\n",
      "26870   51             0             0              38\n",
      "\n",
      "[9769 rows x 4 columns]\n",
      "20660     <=50K\n",
      "27998     <=50K\n",
      "28005     <=50K\n",
      "26661      >50K\n",
      "35035     <=50K\n",
      "          ...  \n",
      "30593     <=50K\n",
      "16663     <=50K\n",
      "12213      >50K\n",
      "12600     <=50K\n",
      "26729      >50K\n",
      "Name: class, Length: 29304, dtype: object\n",
      "31439     <=50K\n",
      "34046     <=50K\n",
      "31056     <=50K\n",
      "2664      <=50K\n",
      "32912      >50K\n",
      "          ...  \n",
      "23842     <=50K\n",
      "255       <=50K\n",
      "23809      >50K\n",
      "22466      >50K\n",
      "26870      >50K\n",
      "Name: class, Length: 9769, dtype: object\n",
      "Il y a  0.7499808051595731  % sur le dataframe de training\n"
     ]
    }
   ],
   "source": [
    "print(data_train)\n",
    "print(data_test)\n",
    "print(target_train)\n",
    "print(target_test)\n",
    "print(\"Il y a \", len(data_train) / len(data),\" % sur le dataframe de training\" )"
   ]
  },
  {
   "cell_type": "code",
   "execution_count": null,
   "id": "a6ae91c6",
   "metadata": {},
   "outputs": [],
   "source": []
  },
  {
   "cell_type": "markdown",
   "id": "38226dff",
   "metadata": {},
   "source": [
    "Dans le notebook précédent, nous avons utilisé un modèle de k-plus proches voisins (k-nearest neighbors). Bien que ce modèle soit intuitif à comprendre, il n'est pas largement utilisé dans la pratique. Nous allons maintenant utiliser un modèle plus utile, appelé régression logistique (un classifieur), qui appartient à la famille des modèles linéaires.\n",
    "\n",
    "<div class=\"admonition note alert alert-info\">\n",
    "<p class=\"first admonition-title\" style=\"font-weight: bold;\">Note</p>\n",
    "<p> En bref, les modèles linéaires trouvent un ensemble de poids pour combiner les caractéristiques de manière linéaire et prédire la cible. Par exemple, le modèle peut trouver une règle telle que :</p>\n",
    "<ul class=\"simple\">\n",
    "<li>si <tt class=\"docutils literal\">0.1 * age + 3.3 * <span class=\"pre\">hours-per-week</span> - 15.1 &gt; 0</tt>, prédire <tt class=\"docutils literal\"><span class=\"pre\">high-income</span></tt></li>\n",
    "<li>sinon prédire <tt class=\"docutils literal\"><span class=\"pre\">low-income</span></tt></li>\n",
    "</ul>\n",
    "<p class=\"last\"> </p>\n",
    "</div>\n",
    "\n",
    "Créer un modèle de régression logistique en utilisant la [documentation](https://scikit-learn.org/stable/modules/generated/sklearn.linear_model.LogisticRegression.html):"
   ]
  },
  {
   "cell_type": "code",
   "execution_count": 26,
   "id": "d4587612",
   "metadata": {},
   "outputs": [],
   "source": [
    "from sklearn.linear_model import LogisticRegression\n",
    "\n",
    "clf = LogisticRegression(random_state=0)"
   ]
  },
  {
   "cell_type": "markdown",
   "id": "02e23e16",
   "metadata": {},
   "source": [
    "Maintenant que le modèle a été créé, vous pouvez l'utiliser exactement de la même manière que nous avons utilisé le modèle des k-plus proches voisins dans le notebook précédent. En particulier, nous pouvons utiliser la méthode `fit` pour entraîner le modèle en utilisant les données d'entraînement et les étiquettes(target):"
   ]
  },
  {
   "cell_type": "code",
   "execution_count": 27,
   "id": "52e180cb",
   "metadata": {},
   "outputs": [
    {
     "data": {
      "text/html": [
       "<style>#sk-container-id-2 {color: black;}#sk-container-id-2 pre{padding: 0;}#sk-container-id-2 div.sk-toggleable {background-color: white;}#sk-container-id-2 label.sk-toggleable__label {cursor: pointer;display: block;width: 100%;margin-bottom: 0;padding: 0.3em;box-sizing: border-box;text-align: center;}#sk-container-id-2 label.sk-toggleable__label-arrow:before {content: \"▸\";float: left;margin-right: 0.25em;color: #696969;}#sk-container-id-2 label.sk-toggleable__label-arrow:hover:before {color: black;}#sk-container-id-2 div.sk-estimator:hover label.sk-toggleable__label-arrow:before {color: black;}#sk-container-id-2 div.sk-toggleable__content {max-height: 0;max-width: 0;overflow: hidden;text-align: left;background-color: #f0f8ff;}#sk-container-id-2 div.sk-toggleable__content pre {margin: 0.2em;color: black;border-radius: 0.25em;background-color: #f0f8ff;}#sk-container-id-2 input.sk-toggleable__control:checked~div.sk-toggleable__content {max-height: 200px;max-width: 100%;overflow: auto;}#sk-container-id-2 input.sk-toggleable__control:checked~label.sk-toggleable__label-arrow:before {content: \"▾\";}#sk-container-id-2 div.sk-estimator input.sk-toggleable__control:checked~label.sk-toggleable__label {background-color: #d4ebff;}#sk-container-id-2 div.sk-label input.sk-toggleable__control:checked~label.sk-toggleable__label {background-color: #d4ebff;}#sk-container-id-2 input.sk-hidden--visually {border: 0;clip: rect(1px 1px 1px 1px);clip: rect(1px, 1px, 1px, 1px);height: 1px;margin: -1px;overflow: hidden;padding: 0;position: absolute;width: 1px;}#sk-container-id-2 div.sk-estimator {font-family: monospace;background-color: #f0f8ff;border: 1px dotted black;border-radius: 0.25em;box-sizing: border-box;margin-bottom: 0.5em;}#sk-container-id-2 div.sk-estimator:hover {background-color: #d4ebff;}#sk-container-id-2 div.sk-parallel-item::after {content: \"\";width: 100%;border-bottom: 1px solid gray;flex-grow: 1;}#sk-container-id-2 div.sk-label:hover label.sk-toggleable__label {background-color: #d4ebff;}#sk-container-id-2 div.sk-serial::before {content: \"\";position: absolute;border-left: 1px solid gray;box-sizing: border-box;top: 0;bottom: 0;left: 50%;z-index: 0;}#sk-container-id-2 div.sk-serial {display: flex;flex-direction: column;align-items: center;background-color: white;padding-right: 0.2em;padding-left: 0.2em;position: relative;}#sk-container-id-2 div.sk-item {position: relative;z-index: 1;}#sk-container-id-2 div.sk-parallel {display: flex;align-items: stretch;justify-content: center;background-color: white;position: relative;}#sk-container-id-2 div.sk-item::before, #sk-container-id-2 div.sk-parallel-item::before {content: \"\";position: absolute;border-left: 1px solid gray;box-sizing: border-box;top: 0;bottom: 0;left: 50%;z-index: -1;}#sk-container-id-2 div.sk-parallel-item {display: flex;flex-direction: column;z-index: 1;position: relative;background-color: white;}#sk-container-id-2 div.sk-parallel-item:first-child::after {align-self: flex-end;width: 50%;}#sk-container-id-2 div.sk-parallel-item:last-child::after {align-self: flex-start;width: 50%;}#sk-container-id-2 div.sk-parallel-item:only-child::after {width: 0;}#sk-container-id-2 div.sk-dashed-wrapped {border: 1px dashed gray;margin: 0 0.4em 0.5em 0.4em;box-sizing: border-box;padding-bottom: 0.4em;background-color: white;}#sk-container-id-2 div.sk-label label {font-family: monospace;font-weight: bold;display: inline-block;line-height: 1.2em;}#sk-container-id-2 div.sk-label-container {text-align: center;}#sk-container-id-2 div.sk-container {/* jupyter's `normalize.less` sets `[hidden] { display: none; }` but bootstrap.min.css set `[hidden] { display: none !important; }` so we also need the `!important` here to be able to override the default hidden behavior on the sphinx rendered scikit-learn.org. See: https://github.com/scikit-learn/scikit-learn/issues/21755 */display: inline-block !important;position: relative;}#sk-container-id-2 div.sk-text-repr-fallback {display: none;}</style><div id=\"sk-container-id-2\" class=\"sk-top-container\"><div class=\"sk-text-repr-fallback\"><pre>LogisticRegression(random_state=0)</pre><b>In a Jupyter environment, please rerun this cell to show the HTML representation or trust the notebook. <br />On GitHub, the HTML representation is unable to render, please try loading this page with nbviewer.org.</b></div><div class=\"sk-container\" hidden><div class=\"sk-item\"><div class=\"sk-estimator sk-toggleable\"><input class=\"sk-toggleable__control sk-hidden--visually\" id=\"sk-estimator-id-2\" type=\"checkbox\" checked><label for=\"sk-estimator-id-2\" class=\"sk-toggleable__label sk-toggleable__label-arrow\">LogisticRegression</label><div class=\"sk-toggleable__content\"><pre>LogisticRegression(random_state=0)</pre></div></div></div></div></div>"
      ],
      "text/plain": [
       "LogisticRegression(random_state=0)"
      ]
     },
     "execution_count": 27,
     "metadata": {},
     "output_type": "execute_result"
    }
   ],
   "source": [
    "clf.fit(data_train, target_train)"
   ]
  },
  {
   "cell_type": "markdown",
   "id": "e4384e17",
   "metadata": {},
   "source": [
    "Utiliser la méthode `score` pour vérifier la performance de généralisation du modèle sur l'ensemble de test."
   ]
  },
  {
   "cell_type": "code",
   "execution_count": 28,
   "id": "9c68a8e6",
   "metadata": {},
   "outputs": [
    {
     "data": {
      "text/plain": [
       "0.7993653393387246"
      ]
     },
     "execution_count": 28,
     "metadata": {},
     "output_type": "execute_result"
    }
   ],
   "source": [
    "clf.score(data_test, target_test)"
   ]
  },
  {
   "cell_type": "markdown",
   "id": "f049e3a6",
   "metadata": {},
   "source": [
    "Dans scikit-learn, la méthode `score` d'un modèle de classification retourne la précision, c'est-à-dire la fraction de points correctement classés. Dans ce cas, environ 8 fois sur 10, la régression logistique prédit le bon revenu d'une personne. Maintenant, la vraie question est : cette performance de généralisation est-elle pertinente d'un bon modèle prédictif ? Découvrez-le en résolvant l'exercice suivant !\n",
    "\n",
    "Dans ce notebook, nous avons appris à :\n",
    "\n",
    "* identifier les données numériques dans un ensemble de données hétérogènes ;\n",
    "* sélectionner le sous-ensemble de colonnes correspondant aux données numériques ;\n",
    "* utiliser la fonction scikit-learn `train_test_split` pour séparer les données en un ensemble de formation et de test données en un ensemble de formation et un ensemble de test ;\n",
    "* entraîner et évaluer un modèle de régression logistique."
   ]
  },
  {
   "cell_type": "code",
   "execution_count": null,
   "id": "49ca4d7d-467e-457c-ad34-6d4f2cd010d9",
   "metadata": {},
   "outputs": [],
   "source": []
  }
 ],
 "metadata": {
  "jupytext": {
   "main_language": "python"
  },
  "kernelspec": {
   "display_name": "Python 3 (ipykernel)",
   "language": "python",
   "name": "python3"
  },
  "language_info": {
   "codemirror_mode": {
    "name": "ipython",
    "version": 3
   },
   "file_extension": ".py",
   "mimetype": "text/x-python",
   "name": "python",
   "nbconvert_exporter": "python",
   "pygments_lexer": "ipython3",
   "version": "3.11.5"
  }
 },
 "nbformat": 4,
 "nbformat_minor": 5
}
