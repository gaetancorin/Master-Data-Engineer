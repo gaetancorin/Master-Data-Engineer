{
 "cells": [
  {
   "cell_type": "markdown",
   "id": "c8d46729-f511-4390-bf34-d41673ebaa13",
   "metadata": {},
   "source": [
    "# Clustering des données catégorielles\n",
    "\n",
    "Dans ce notebook, nous allons procéder au clustering des données de vol issues du fichier `flights.csv`. \n",
    "\n",
    "Les algorithmes de clustering de partition et hiérarchiques( p.ex. K-Means et le clustering hiérarchique) sont principalement  basés sur la distance et particulièrement la distance euclidienne. Ces algorithmes couplés à cette distance ne sont pas adaptés au clustering de données catégorielles. D'autres distances sont à prévilégier dans ce contexte. \n",
    "\n",
    "La  distance de Gower est l'une des distances les plus connues, pouvant être appliquée aux données catégorielles. Nous allons utiliser cette distance pour notre jeu de données `flights`."
   ]
  },
  {
   "cell_type": "code",
   "execution_count": 1,
   "id": "8d9dfd34-ac4f-48d3-8a9e-2aa9f29f5ea0",
   "metadata": {},
   "outputs": [],
   "source": [
    "import pandas as pd\n",
    "import numpy as np\n",
    "\n",
    "#Pour avoir des résultats identiques à chaque exécution de ce notebook\n",
    "# Il n'est pas nécessaire si vous n'avez pas cette contrainte\n",
    "np.random.seed(980) "
   ]
  },
  {
   "cell_type": "markdown",
   "id": "016d7b8a-763a-4903-833f-cb51365da48a",
   "metadata": {},
   "source": [
    "\n",
    "Chargez avec pandas le fichier `flights.csv`. "
   ]
  },
  {
   "cell_type": "code",
   "execution_count": 2,
   "id": "98a50738-d7e2-444c-a5a7-65e463334d64",
   "metadata": {},
   "outputs": [
    {
     "name": "stdout",
     "output_type": "stream",
     "text": [
      "      Saison Compagnie Operating  Numéro de vol Compagnie Marketing  \\\n",
      "0        W19         Sky Bahamas              3  Sham Wing Airlines   \n",
      "1        W19         Sky Bahamas              3  Sham Wing Airlines   \n",
      "2        W19         Sky Bahamas              3  Sham Wing Airlines   \n",
      "3        W19         Sky Bahamas              3  Sham Wing Airlines   \n",
      "4        W19         Sky Bahamas              3  Sham Wing Airlines   \n",
      "...      ...                 ...            ...                 ...   \n",
      "16512    W19  Sham Wing Airlines           9399                 NaN   \n",
      "16513    W19  Sham Wing Airlines           9400                 NaN   \n",
      "16514    W19  Sham Wing Airlines           9401                 NaN   \n",
      "16515    W19  Sham Wing Airlines           9404                 NaN   \n",
      "16516    W19  Sham Wing Airlines           9405                 NaN   \n",
      "\n",
      "       Numéro de vol Marketing  \\\n",
      "0                       8099.0   \n",
      "1                       8099.0   \n",
      "2                       8099.0   \n",
      "3                       8099.0   \n",
      "4                       8099.0   \n",
      "...                        ...   \n",
      "16512                      NaN   \n",
      "16513                      NaN   \n",
      "16514                      NaN   \n",
      "16515                      NaN   \n",
      "16516                      NaN   \n",
      "\n",
      "                                   Aéroport de départ  \\\n",
      "0      Licenciado Benito Juarez International Airport   \n",
      "1      Licenciado Benito Juarez International Airport   \n",
      "2      Licenciado Benito Juarez International Airport   \n",
      "3      Licenciado Benito Juarez International Airport   \n",
      "4      Licenciado Benito Juarez International Airport   \n",
      "...                                               ...   \n",
      "16512                              Strasbourg Airport   \n",
      "16513                              Strasbourg Airport   \n",
      "16514                            Pau Pyrénées Airport   \n",
      "16515                              Paris-Orly Airport   \n",
      "16516           Geneva Cointrin International Airport   \n",
      "\n",
      "                            Aéroport d'arrivée  Jour de départ en Local  \\\n",
      "0      Charles de Gaulle International Airport                        1   \n",
      "1      Charles de Gaulle International Airport                        2   \n",
      "2      Charles de Gaulle International Airport                        5   \n",
      "3      Charles de Gaulle International Airport                        6   \n",
      "4      Charles de Gaulle International Airport                        4   \n",
      "...                                        ...                      ...   \n",
      "16512             Rennes-Saint-Jacques Airport                        6   \n",
      "16513                     Pau Pyrénées Airport                        6   \n",
      "16514                       Strasbourg Airport                        6   \n",
      "16515    Geneva Cointrin International Airport                        6   \n",
      "16516                       Paris-Orly Airport                        6   \n",
      "\n",
      "       Jour d'arrivée  en Local Heure de départ en Local  \\\n",
      "0                             2                    23:55   \n",
      "1                             3                    23:55   \n",
      "2                             6                    23:55   \n",
      "3                             7                    23:55   \n",
      "4                             5                    23:55   \n",
      "...                         ...                      ...   \n",
      "16512                         6                    14:40   \n",
      "16513                         6                    10:30   \n",
      "16514                         6                    12:35   \n",
      "16515                         6                    09:55   \n",
      "16516                         6                    11:50   \n",
      "\n",
      "      Heure d'arrivée en Local Date de début de période  \\\n",
      "0                        17:25                      NaN   \n",
      "1                        17:25                      NaN   \n",
      "2                        17:25                      NaN   \n",
      "3                        17:25                      NaN   \n",
      "4                        17:25                      NaN   \n",
      "...                        ...                      ...   \n",
      "16512                    16:00               21/12/2019   \n",
      "16513                    12:05               21/12/2019   \n",
      "16514                    14:10               21/12/2019   \n",
      "16515                    11:00                      NaN   \n",
      "16516                    12:55                      NaN   \n",
      "\n",
      "      Date de fin  de période Compagnie propriétaire  \\\n",
      "0                         NaN            Sky Bahamas   \n",
      "1                         NaN            Sky Bahamas   \n",
      "2                         NaN            Sky Bahamas   \n",
      "3                         NaN            Sky Bahamas   \n",
      "4                         NaN            Sky Bahamas   \n",
      "...                       ...                    ...   \n",
      "16512              04/01/2020         SASCO Airlines   \n",
      "16513              04/01/2020         SASCO Airlines   \n",
      "16514              04/01/2020         SASCO Airlines   \n",
      "16515                     NaN     Sham Wing Airlines   \n",
      "16516                     NaN     Sham Wing Airlines   \n",
      "\n",
      "                       Type Avion  \n",
      "0                      Boeing 787  \n",
      "1                      Boeing 787  \n",
      "2                      Boeing 787  \n",
      "3                      Boeing 787  \n",
      "4                      Boeing 787  \n",
      "...                           ...  \n",
      "16512  Canadair Regional Jet 1000  \n",
      "16513               Embraer RJ145  \n",
      "16514               Embraer RJ145  \n",
      "16515                 Airbus A321  \n",
      "16516                 Airbus A321  \n",
      "\n",
      "[16517 rows x 15 columns]\n"
     ]
    }
   ],
   "source": [
    "df = pd.read_csv('../datasets/flights.csv', sep = ';')\n",
    "print(df)"
   ]
  },
  {
   "cell_type": "markdown",
   "id": "d8ea5e89-f0ae-461c-8e04-f854ccd442a3",
   "metadata": {},
   "source": [
    "Observez quelles colonnes sont numériques et lesquelles ne le sont pas.\n"
   ]
  },
  {
   "cell_type": "code",
   "execution_count": 3,
   "id": "6f35713f-9a3b-4c34-a0d2-616470a98f68",
   "metadata": {},
   "outputs": [
    {
     "name": "stdout",
     "output_type": "stream",
     "text": [
      "Index(['Saison', 'Compagnie Operating', 'Numéro de vol', 'Compagnie Marketing',\n",
      "       'Numéro de vol Marketing', 'Aéroport de départ', 'Aéroport d'arrivée',\n",
      "       'Jour de départ en Local', 'Jour d'arrivée  en Local',\n",
      "       'Heure de départ en Local', 'Heure d'arrivée en Local',\n",
      "       'Date de début de période', 'Date de fin  de période',\n",
      "       'Compagnie propriétaire', 'Type Avion'],\n",
      "      dtype='object')\n",
      "object\n",
      "object\n",
      "int64\n",
      "object\n",
      "float64\n",
      "object\n",
      "object\n",
      "int64\n",
      "int64\n",
      "object\n",
      "object\n",
      "object\n",
      "object\n",
      "object\n",
      "object\n"
     ]
    }
   ],
   "source": [
    "print(df.columns)\n",
    "for column in df:\n",
    "    print(df[column].dtype)"
   ]
  },
  {
   "cell_type": "markdown",
   "id": "5edde872-d3b0-44f0-b39b-0052df4f683c",
   "metadata": {},
   "source": [
    "Affichez le nombre de valeurs nulles par colonne. Puis supprimez les colonnes contenant les valeurs nulles."
   ]
  },
  {
   "cell_type": "code",
   "execution_count": 4,
   "id": "881ca0d0-6310-4d45-bc0a-8b532f2b59c0",
   "metadata": {},
   "outputs": [
    {
     "name": "stdout",
     "output_type": "stream",
     "text": [
      "column Saison 0\n",
      "column Compagnie Operating 0\n",
      "column Numéro de vol 0\n",
      "column Compagnie Marketing 8289\n",
      "column Numéro de vol Marketing 8289\n",
      "column Aéroport de départ 0\n",
      "column Aéroport d'arrivée 0\n",
      "column Jour de départ en Local 0\n",
      "column Jour d'arrivée  en Local 0\n",
      "column Heure de départ en Local 0\n",
      "column Heure d'arrivée en Local 0\n",
      "column Date de début de période 16391\n",
      "column Date de fin  de période 16391\n",
      "column Compagnie propriétaire 0\n",
      "column Type Avion 0\n"
     ]
    }
   ],
   "source": [
    "for column in df:\n",
    "    print(\"column\", column, df[column].isna().sum())"
   ]
  },
  {
   "cell_type": "code",
   "execution_count": 5,
   "id": "bd084a4f",
   "metadata": {},
   "outputs": [
    {
     "name": "stdout",
     "output_type": "stream",
     "text": [
      "      Saison Compagnie Operating  Numéro de vol  \\\n",
      "0        W19         Sky Bahamas              3   \n",
      "1        W19         Sky Bahamas              3   \n",
      "2        W19         Sky Bahamas              3   \n",
      "3        W19         Sky Bahamas              3   \n",
      "4        W19         Sky Bahamas              3   \n",
      "...      ...                 ...            ...   \n",
      "16512    W19  Sham Wing Airlines           9399   \n",
      "16513    W19  Sham Wing Airlines           9400   \n",
      "16514    W19  Sham Wing Airlines           9401   \n",
      "16515    W19  Sham Wing Airlines           9404   \n",
      "16516    W19  Sham Wing Airlines           9405   \n",
      "\n",
      "                                   Aéroport de départ  \\\n",
      "0      Licenciado Benito Juarez International Airport   \n",
      "1      Licenciado Benito Juarez International Airport   \n",
      "2      Licenciado Benito Juarez International Airport   \n",
      "3      Licenciado Benito Juarez International Airport   \n",
      "4      Licenciado Benito Juarez International Airport   \n",
      "...                                               ...   \n",
      "16512                              Strasbourg Airport   \n",
      "16513                              Strasbourg Airport   \n",
      "16514                            Pau Pyrénées Airport   \n",
      "16515                              Paris-Orly Airport   \n",
      "16516           Geneva Cointrin International Airport   \n",
      "\n",
      "                            Aéroport d'arrivée  Jour de départ en Local  \\\n",
      "0      Charles de Gaulle International Airport                        1   \n",
      "1      Charles de Gaulle International Airport                        2   \n",
      "2      Charles de Gaulle International Airport                        5   \n",
      "3      Charles de Gaulle International Airport                        6   \n",
      "4      Charles de Gaulle International Airport                        4   \n",
      "...                                        ...                      ...   \n",
      "16512             Rennes-Saint-Jacques Airport                        6   \n",
      "16513                     Pau Pyrénées Airport                        6   \n",
      "16514                       Strasbourg Airport                        6   \n",
      "16515    Geneva Cointrin International Airport                        6   \n",
      "16516                       Paris-Orly Airport                        6   \n",
      "\n",
      "       Jour d'arrivée  en Local Heure de départ en Local  \\\n",
      "0                             2                    23:55   \n",
      "1                             3                    23:55   \n",
      "2                             6                    23:55   \n",
      "3                             7                    23:55   \n",
      "4                             5                    23:55   \n",
      "...                         ...                      ...   \n",
      "16512                         6                    14:40   \n",
      "16513                         6                    10:30   \n",
      "16514                         6                    12:35   \n",
      "16515                         6                    09:55   \n",
      "16516                         6                    11:50   \n",
      "\n",
      "      Heure d'arrivée en Local Compagnie propriétaire  \\\n",
      "0                        17:25            Sky Bahamas   \n",
      "1                        17:25            Sky Bahamas   \n",
      "2                        17:25            Sky Bahamas   \n",
      "3                        17:25            Sky Bahamas   \n",
      "4                        17:25            Sky Bahamas   \n",
      "...                        ...                    ...   \n",
      "16512                    16:00         SASCO Airlines   \n",
      "16513                    12:05         SASCO Airlines   \n",
      "16514                    14:10         SASCO Airlines   \n",
      "16515                    11:00     Sham Wing Airlines   \n",
      "16516                    12:55     Sham Wing Airlines   \n",
      "\n",
      "                       Type Avion  \n",
      "0                      Boeing 787  \n",
      "1                      Boeing 787  \n",
      "2                      Boeing 787  \n",
      "3                      Boeing 787  \n",
      "4                      Boeing 787  \n",
      "...                           ...  \n",
      "16512  Canadair Regional Jet 1000  \n",
      "16513               Embraer RJ145  \n",
      "16514               Embraer RJ145  \n",
      "16515                 Airbus A321  \n",
      "16516                 Airbus A321  \n",
      "\n",
      "[16517 rows x 11 columns]\n"
     ]
    }
   ],
   "source": [
    "df = df.drop(columns=['Compagnie Marketing', 'Numéro de vol Marketing', 'Date de début de période', 'Date de fin  de période'])\n",
    "print(df)"
   ]
  },
  {
   "cell_type": "markdown",
   "id": "05dae11d-8b51-40a9-947d-2fcdf249bf63",
   "metadata": {},
   "source": [
    "Affichez le nombre de valeurs uniques par colonne. Quelle colonne vous semble inutile et pourquoi?"
   ]
  },
  {
   "cell_type": "code",
   "execution_count": 6,
   "id": "864f85d3-3611-4e20-9018-44e58b9aaac9",
   "metadata": {},
   "outputs": [
    {
     "name": "stdout",
     "output_type": "stream",
     "text": [
      "Saison\n",
      "W19    16517\n",
      "Name: count, dtype: int64\n",
      "//////////////////////////////////\n",
      "Compagnie Operating\n",
      "Sham Wing Airlines                         7825\n",
      "Thai Flying Helicopter Service             4697\n",
      "Wiking Helikopter Service                   868\n",
      "Hairlines                                   852\n",
      "Star Aviation                               536\n",
      "Malaysia Wings                              316\n",
      "Servicio Tecnico Aero De Mexico             166\n",
      "Zephyr Express                              144\n",
      "Walsten Air Services                        126\n",
      "Skyfreight                                   92\n",
      "Servicios Aereos de Chihuahua Aerochisa      70\n",
      "Tradewind Aviation                           66\n",
      "Trans Atlantic Airlines                      56\n",
      "TG Aviation                                  56\n",
      "VIM-Aviaservice                              54\n",
      "Tramson Limited                              45\n",
      "United Arabian Airlines                      42\n",
      "Slate Falls Airways                          42\n",
      "Servicos De Alquiler                         42\n",
      "Taban Air Lines                              38\n",
      "Transport Facilitators                       36\n",
      "Tas Aviation                                 34\n",
      "Sky Bahamas                                  28\n",
      "Transpac Express                             28\n",
      "Trabajos Aereos Murcianos                    28\n",
      "Transcontinental Airlines                    28\n",
      "South African Non Scheduled Airways          26\n",
      "Sunwest Home Aviation                        26\n",
      "Surninam International Victory Airline       24\n",
      "Walter I Linkoping                           22\n",
      "Telford Aviation                             22\n",
      "Tecnicas Fotograficas                        16\n",
      "Air 26                                       14\n",
      "Transportes Aereos De Xalapa                 14\n",
      "Red Arrows Display Squadron                   8\n",
      "Valan Limited                                 8\n",
      "Seco International                            8\n",
      "Taxis Aereos De Parral                        4\n",
      "Samarkand Airways                             4\n",
      "FLYJET                                        4\n",
      "Wiggins Airways                               2\n",
      "Name: count, dtype: int64\n",
      "//////////////////////////////////\n",
      "Numéro de vol\n",
      "422     32\n",
      "760     31\n",
      "702     31\n",
      "421     28\n",
      "606     28\n",
      "        ..\n",
      "6780     1\n",
      "6779     1\n",
      "4299     1\n",
      "4565     1\n",
      "9405     1\n",
      "Name: count, Length: 2373, dtype: int64\n",
      "//////////////////////////////////\n",
      "Aéroport de départ\n",
      "Amsterdam Airport Schiphol                 3010\n",
      "Charles de Gaulle International Airport    2986\n",
      "Paris-Orly Airport                         1262\n",
      "Lyon Saint-Exupéry Airport                  461\n",
      "Toulouse-Blagnac Airport                    317\n",
      "                                           ... \n",
      "Eelde Airport                                 1\n",
      "Kos Airport                                   1\n",
      "Brindisi Airport                              1\n",
      "Almería Airport                               1\n",
      "Dakhla Airport                                1\n",
      "Name: count, Length: 308, dtype: int64\n",
      "//////////////////////////////////\n",
      "Aéroport d'arrivée\n",
      "Amsterdam Airport Schiphol                 3017\n",
      "Charles de Gaulle International Airport    2961\n",
      "Paris-Orly Airport                         1262\n",
      "Lyon Saint-Exupéry Airport                  461\n",
      "Toulouse-Blagnac Airport                    317\n",
      "                                           ... \n",
      "Dakhla Airport                                1\n",
      "Eelde Airport                                 1\n",
      "Kos Airport                                   1\n",
      "Almería Airport                               1\n",
      "Brindisi Airport                              1\n",
      "Name: count, Length: 306, dtype: int64\n",
      "//////////////////////////////////\n",
      "Jour de départ en Local\n",
      "1    2491\n",
      "5    2486\n",
      "4    2424\n",
      "3    2400\n",
      "2    2385\n",
      "7    2261\n",
      "6    2070\n",
      "Name: count, dtype: int64\n",
      "//////////////////////////////////\n",
      "Jour d'arrivée  en Local\n",
      "1    2498\n",
      "5    2468\n",
      "4    2436\n",
      "2    2394\n",
      "3    2384\n",
      "7    2256\n",
      "6    2081\n",
      "Name: count, dtype: int64\n",
      "//////////////////////////////////\n",
      "Heure de départ en Local\n",
      "10:20    180\n",
      "07:00    171\n",
      "13:10    165\n",
      "15:40    161\n",
      "10:30    158\n",
      "        ... \n",
      "23:45      4\n",
      "04:55      4\n",
      "00:40      4\n",
      "04:50      2\n",
      "02:50      2\n",
      "Name: count, Length: 278, dtype: int64\n",
      "//////////////////////////////////\n",
      "Heure d'arrivée en Local\n",
      "18:35    162\n",
      "20:00    150\n",
      "08:30    143\n",
      "08:15    141\n",
      "10:30    141\n",
      "        ... \n",
      "00:15      4\n",
      "00:25      2\n",
      "01:30      1\n",
      "01:00      1\n",
      "01:20      1\n",
      "Name: count, Length: 278, dtype: int64\n",
      "//////////////////////////////////\n",
      "Compagnie propriétaire\n",
      "Sham Wing Airlines                         5223\n",
      "Thai Flying Helicopter Service             2637\n",
      "SASCO Airlines                             2484\n",
      "Wings Airline                              2060\n",
      "Wiking Helikopter Service                   868\n",
      "Hairlines                                   852\n",
      "Star Aviation                               536\n",
      "Malaysia Wings                              316\n",
      "Servicio Tecnico Aero De Mexico             166\n",
      "Zephyr Express                              144\n",
      "Walsten Air Services                        126\n",
      "Samal Hair                                  118\n",
      "Skyfreight                                   92\n",
      "Servicios Aereos de Chihuahua Aerochisa      70\n",
      "Tradewind Aviation                           66\n",
      "TG Aviation                                  56\n",
      "Trans Atlantic Airlines                      56\n",
      "VIM-Aviaservice                              54\n",
      "Tramson Limited                              45\n",
      "Servicos De Alquiler                         42\n",
      "United Arabian Airlines                      42\n",
      "Slate Falls Airways                          42\n",
      "Taban Air Lines                              38\n",
      "Transport Facilitators                       36\n",
      "Tas Aviation                                 34\n",
      "Trabajos Aereos Murcianos                    28\n",
      "Sky Bahamas                                  28\n",
      "Transcontinental Airlines                    28\n",
      "Transpac Express                             28\n",
      "South African Non Scheduled Airways          26\n",
      "Sunwest Home Aviation                        26\n",
      "Surninam International Victory Airline       24\n",
      "Walter I Linkoping                           22\n",
      "Telford Aviation                             22\n",
      "Tecnicas Fotograficas                        16\n",
      "Air 26                                       14\n",
      "Transportes Aereos De Xalapa                 14\n",
      "Red Arrows Display Squadron                   8\n",
      "Seco International                            8\n",
      "Valan Limited                                 8\n",
      "FLYJET                                        4\n",
      "Taxis Aereos De Parral                        4\n",
      "Samarkand Airways                             4\n",
      "Wiggins Airways                               2\n",
      "Name: count, dtype: int64\n",
      "//////////////////////////////////\n",
      "Type Avion\n",
      "Embraer 190/Lineage 1000                        1876\n",
      "Boeing 737-800                                  1720\n",
      "Airbus A320                                     1668\n",
      "Airbus A319                                     1299\n",
      "Boeing 737-800 Winglets                          988\n",
      "Embraer 175 (short wing)                         802\n",
      "Airbus A321                                      680\n",
      "Airbus A318                                      679\n",
      "Boeing 777-300ER                                 661\n",
      "Boeing 737-700 Winglets                          614\n",
      "Canadair Regional Jet 1000                       598\n",
      "Embraer 170                                      542\n",
      "Boeing 777-200/Boeing 777-200ER                  459\n",
      "Embraer RJ145                                    442\n",
      "Canadair Regional Jet 700 | Regional Jet 550     328\n",
      "Airbus A330                                      317\n",
      "Boeing 737                                       309\n",
      "Airbus A330-200                                  289\n",
      "Boeing 787-9                                     288\n",
      "Boeing 767                                       260\n",
      "Airbus A320 (sharklets)                          190\n",
      "Boeing 737-900 Winglets                          188\n",
      "Aerospatiale/Alenia ATR 42-600                   182\n",
      "Boeing 787                                       138\n",
      "Embraer EMB 115 Bandeirante                      138\n",
      "De Havilland Canada DHC-8 Dash 8                 115\n",
      "Airbus A220-300                                   92\n",
      "Airbus A330-300                                   86\n",
      "Airbus A380-800                                   84\n",
      "Airbus A350                                       72\n",
      "Airbus A350-900                                   63\n",
      "Boeing 777                                        52\n",
      "Boeing 747-400M                                   51\n",
      "Airbus A380                                       42\n",
      "Aerospatiale/Alenia ATR 72-201/-202               42\n",
      "Airbus A340-300                                   41\n",
      "Boeing 747-400/Boeing 747-400ER                   40\n",
      "Boeing 787-10                                     38\n",
      "Aerospatiale/Alenia ATR 42-300 / 320              32\n",
      "Boeing 757                                         8\n",
      "Fokker 100                                         4\n",
      "Name: count, dtype: int64\n",
      "//////////////////////////////////\n"
     ]
    }
   ],
   "source": [
    "for column in df:\n",
    "    print(df[column].value_counts())\n",
    "    print('//////////////////////////////////')"
   ]
  },
  {
   "cell_type": "code",
   "execution_count": 7,
   "id": "8a17fb53",
   "metadata": {},
   "outputs": [],
   "source": [
    "# La colonne Saison semble inutile car l'ensemble des valeurs valent \"W19\". Cette information est donc peu pertinente."
   ]
  },
  {
   "cell_type": "markdown",
   "id": "193d1a9a-c216-45bd-be73-1096a6153a57",
   "metadata": {},
   "source": []
  },
  {
   "cell_type": "markdown",
   "id": "47c3cfd3-a1b5-4755-a615-3a279e23529d",
   "metadata": {},
   "source": [
    "Divisez le jeu de données en variable cible y et variables indépendantes X. La colonne cible est `Compagnie propriétaire`. Cette division nous permettra d'évaluer de manière supervisée le résultat de clustering via la variable cible."
   ]
  },
  {
   "cell_type": "code",
   "execution_count": 8,
   "id": "9f092e27-5c69-4f67-82c6-b5f31d19413f",
   "metadata": {},
   "outputs": [
    {
     "name": "stdout",
     "output_type": "stream",
     "text": [
      "data\n",
      "Index(['Saison', 'Compagnie Operating', 'Numéro de vol', 'Aéroport de départ',\n",
      "       'Aéroport d'arrivée', 'Jour de départ en Local',\n",
      "       'Jour d'arrivée  en Local', 'Heure de départ en Local',\n",
      "       'Heure d'arrivée en Local', 'Type Avion'],\n",
      "      dtype='object')\n",
      "target\n",
      "0               Sky Bahamas\n",
      "1               Sky Bahamas\n",
      "2               Sky Bahamas\n",
      "3               Sky Bahamas\n",
      "4               Sky Bahamas\n",
      "                ...        \n",
      "16512        SASCO Airlines\n",
      "16513        SASCO Airlines\n",
      "16514        SASCO Airlines\n",
      "16515    Sham Wing Airlines\n",
      "16516    Sham Wing Airlines\n",
      "Name: Compagnie propriétaire, Length: 16517, dtype: object\n"
     ]
    }
   ],
   "source": [
    "data = df.drop(columns=['Compagnie propriétaire'])\n",
    "print(\"data\")\n",
    "print(data.columns)\n",
    "\n",
    "target = df['Compagnie propriétaire']\n",
    "print(\"target\")\n",
    "print(target)"
   ]
  },
  {
   "cell_type": "markdown",
   "id": "760a7be7-717b-4f96-b672-3f8de5fb7889",
   "metadata": {},
   "source": [
    "La distance de Gower est une mesure de distance qui peut être utilisée pour calculer la distance entre deux observations avec un mélange de colonnes catégorielles et numériques. Pour plus d'informations consulter [ceci](https://www.thinkdatascience.com/post/2019-12-16-introducing-python-package-gower/).\n",
    "\n",
    "Il n'est pas inclus dans le paquet Scikit learn, mais peut être installé via la commande !pip install gower\n",
    "\n",
    "\n",
    "Calculez la matrice de distances en utilisant la distance de Gower sur X.\n",
    "\n",
    "Astuce: vous alimentez la méthode gower.gower_matrix avec votre jeu de données pré-traité, et elle retourne une matrice de distances qui peut ensuite être utilisée par plusieurs algorithmes scikit-learn. Ces derniers ont la possibilité de fonctionner directement sur la matrice de distances sans accéder aux données originales."
   ]
  },
  {
   "cell_type": "code",
   "execution_count": 9,
   "id": "20b02880-fa13-4bbb-9d0f-0574f9f2e063",
   "metadata": {},
   "outputs": [],
   "source": [
    "# pip install gower"
   ]
  },
  {
   "cell_type": "code",
   "execution_count": 10,
   "id": "5a187285",
   "metadata": {},
   "outputs": [
    {
     "name": "stdout",
     "output_type": "stream",
     "text": [
      "[[0.         0.03333334 0.13333334 ... 0.84995747 0.84998935 0.85      ]\n",
      " [0.03333334 0.         0.1        ... 0.8166241  0.81665605 0.81666666]\n",
      " [0.13333334 0.1        0.         ... 0.71662414 0.716656   0.71666664]\n",
      " ...\n",
      " [0.84995747 0.8166241  0.71662414 ... 0.         0.5000319  0.50004256]\n",
      " [0.84998935 0.81665605 0.716656   ... 0.5000319  0.         0.40001065]\n",
      " [0.85       0.81666666 0.71666664 ... 0.50004256 0.40001065 0.        ]]\n"
     ]
    }
   ],
   "source": [
    "from gower import gower_matrix\n",
    "\n",
    "gm_result = gower_matrix(data)\n",
    "print(gm_result)"
   ]
  },
  {
   "cell_type": "markdown",
   "id": "a46c0ddb-191d-495d-8d09-1c15da984816",
   "metadata": {},
   "source": [
    "Utiliser LabelEncoder de scikit-learn pour encoder la colonne cible."
   ]
  },
  {
   "cell_type": "code",
   "execution_count": 23,
   "id": "bb0a2bd0-ce3a-44dc-b9eb-eea7c84ecfc3",
   "metadata": {},
   "outputs": [
    {
     "name": "stdout",
     "output_type": "stream",
     "text": [
      "[13 13 13 ...  5 12 12]\n"
     ]
    }
   ],
   "source": [
    "from sklearn.preprocessing import LabelEncoder\n",
    "le = LabelEncoder()\n",
    "le.fit(target)\n",
    "target = le.transform(target)\n",
    "print(target)"
   ]
  },
  {
   "cell_type": "markdown",
   "id": "76f7b105-25bd-43a3-950d-96912cdc67ef",
   "metadata": {},
   "source": [
    "Soit k le nombre de clusters recherché. Pour l'instant, k est égal au nombre de valeurs uniques de y. \n",
    "\n",
    "Clusterisez X en utilisant un algorithme de clustering hiérarchique agglomératif de type `single` (voir paramètre  `linkage`). Utilisez le paramètre `affinity` pour indiquer à l'algorithme qu'on lui fournit une matrice de distances au lieu des données originales.  \n",
    "\n",
    "\n"
   ]
  },
  {
   "cell_type": "code",
   "execution_count": 28,
   "id": "c9d7ffef-9a26-46f5-b308-a1b426292d7c",
   "metadata": {},
   "outputs": [
    {
     "name": "stdout",
     "output_type": "stream",
     "text": [
      "AgglomerativeClustering(affinity='precomputed', linkage='single', n_clusters=5)\n"
     ]
    },
    {
     "name": "stderr",
     "output_type": "stream",
     "text": [
      "C:\\Users\\gaeta\\anaconda3\\Lib\\site-packages\\sklearn\\cluster\\_agglomerative.py:1005: FutureWarning: Attribute `affinity` was deprecated in version 1.2 and will be removed in 1.4. Use `metric` instead\n",
      "  warnings.warn(\n"
     ]
    },
    {
     "name": "stdout",
     "output_type": "stream",
     "text": [
      "[0 0 0 ... 0 0 0]\n"
     ]
    }
   ],
   "source": [
    "from sklearn.cluster import AgglomerativeClustering\n",
    "\n",
    "clustering = AgglomerativeClustering(n_clusters=5, linkage='single', affinity='precomputed')\n",
    "print(clustering)\n",
    "\n",
    "clustering_result = clustering.fit_predict(gm_result, target)\n",
    "print(clustering_result)"
   ]
  },
  {
   "cell_type": "markdown",
   "id": "c453ed83-0ca9-4b0c-85c9-8a276317da1d",
   "metadata": {},
   "source": [
    "Evaluer le résultat du clustering en utilisant le score [rand_score](https://scikit-learn.org/stable/modules/generated/sklearn.metrics.rand_score.html) et la variable cible y. Quelle est le score obtenu?"
   ]
  },
  {
   "cell_type": "code",
   "execution_count": 29,
   "id": "9ebf3ab3-1143-44d8-b2d7-179f48aac038",
   "metadata": {},
   "outputs": [
    {
     "data": {
      "text/plain": [
       "0.17400028472686419"
      ]
     },
     "execution_count": 29,
     "metadata": {},
     "output_type": "execute_result"
    }
   ],
   "source": [
    "from sklearn.metrics.cluster import rand_score\n",
    "\n",
    "rand_score(clustering_result, target)"
   ]
  },
  {
   "cell_type": "markdown",
   "id": "977e3d99-4a4a-4d52-b6b2-562336077c0d",
   "metadata": {},
   "source": [
    "On souhaite savoir si le score peut être amélioré. Pour cela, faîtes varier:\n",
    "- les valeurs de k de 30 à 60 par pas de 2 \n",
    "- les types de clustering hiérarchique agglomératif (voir les valeurs possibles de linkage adaptés pour la matrice de distances)\n",
    "\n",
    "A chaque combinaison de k et linkage, calculez le score.\n",
    "\n",
    "Quelle est la combinaison ayant le meilleur score?\n",
    "\n"
   ]
  },
  {
   "cell_type": "code",
   "execution_count": 53,
   "id": "61467fe4-da4f-45d7-9700-0be0f49e7cfb",
   "metadata": {},
   "outputs": [
    {
     "name": "stdout",
     "output_type": "stream",
     "text": [
      "_____ complete ____\n",
      "number  30  : 0.852477480763451\n",
      "number  32  : 0.8545726308860494\n",
      "number  34  : 0.8540519904098456\n",
      "number  36  : 0.8541783857939916\n",
      "number  38  : 0.8542836077518378\n",
      "number  40  : 0.8541836791505667\n",
      "number  42  : 0.8595941054178267\n",
      "number  44  : 0.8595689583083359\n",
      "number  46  : 0.8595808646948703\n",
      "number  48  : 0.8596689089041634\n",
      "number  50  : 0.8588934175028838\n",
      "number  52  : 0.8589004850870089\n",
      "number  54  : 0.8592546414342574\n",
      "number  56  : 0.859093120743531\n",
      "number  58  : 0.8589123841420245\n",
      "number  60  : 0.8589082711599766\n",
      "_____ average ____\n",
      "number  30  : 0.8465212449159399\n",
      "number  32  : 0.8591407096320747\n",
      "number  34  : 0.8595277038520371\n",
      "number  36  : 0.8594745356776852\n",
      "number  38  : 0.8565251976309869\n",
      "number  40  : 0.856594612451004\n",
      "number  42  : 0.8565023526183999\n",
      "number  44  : 0.8565545970213828\n",
      "number  46  : 0.8561083494664626\n",
      "number  48  : 0.8551055589877653\n",
      "number  50  : 0.8550966145348269\n",
      "number  52  : 0.8542344425867516\n",
      "number  54  : 0.8536355528103743\n",
      "number  56  : 0.8529313897555192\n",
      "number  58  : 0.8529697775879664\n",
      "number  60  : 0.8526905200367989\n",
      "_____ single ____\n",
      "number  30  : 0.19654436046157073\n",
      "number  32  : 0.2007061557616654\n",
      "number  34  : 0.20818670234633382\n",
      "number  36  : 0.20984783388737377\n",
      "number  38  : 0.20984627960538774\n",
      "number  40  : 0.20984606699134248\n",
      "number  42  : 0.2098446006875821\n",
      "number  44  : 0.21031114188654612\n",
      "number  46  : 0.2156215075851967\n",
      "number  48  : 0.22536607116502952\n",
      "number  50  : 0.22618771447716748\n",
      "number  52  : 0.26594368897949405\n",
      "number  54  : 0.2693079030121589\n",
      "number  56  : 0.2733109122780403\n",
      "number  58  : 0.2785706391763256\n",
      "number  60  : 0.27879818752538266\n"
     ]
    }
   ],
   "source": [
    "import warnings\n",
    "warnings.filterwarnings('ignore')\n",
    "\n",
    "\n",
    "linkage_list = ['complete', 'average', 'single']\n",
    "for linkage in linkage_list:\n",
    "    print(\"_____\", linkage, \"____\")\n",
    "    \n",
    "    for i in range(30, 61):\n",
    "        if i %2 == 0:\n",
    "            \n",
    "            clustering = AgglomerativeClustering(n_clusters=i, linkage=linkage, affinity='precomputed')\n",
    "\n",
    "            clustering_result = clustering.fit_predict(gm_result, target)\n",
    "            print(\"number \", i, \" :\", rand_score(clustering_result, target))\n",
    "        \n",
    "warnings.filterwarnings('default')\n",
    "\n",
    "# ward crée un message d'erreur\n",
    "# complete 0.8596689089041634 avec 48 clusters\n",
    "# average  0.8595277038520371 avec 34 clusters\n",
    "# single   0.27879818752538266 avec 60 clusters"
   ]
  },
  {
   "cell_type": "code",
   "execution_count": null,
   "id": "99ab7092",
   "metadata": {},
   "outputs": [],
   "source": [
    "# Le meilleur est donc le clustering hiérarchique agglomératif \"complete\" avec 48 clusters pour un score de 0.8596689089041634"
   ]
  },
  {
   "cell_type": "markdown",
   "id": "f3ecd542-bb32-41cc-bfb9-3ced84ddc6ca",
   "metadata": {},
   "source": []
  }
 ],
 "metadata": {
  "kernelspec": {
   "display_name": "Python 3 (ipykernel)",
   "language": "python",
   "name": "python3"
  },
  "language_info": {
   "codemirror_mode": {
    "name": "ipython",
    "version": 3
   },
   "file_extension": ".py",
   "mimetype": "text/x-python",
   "name": "python",
   "nbconvert_exporter": "python",
   "pygments_lexer": "ipython3",
   "version": "3.11.5"
  }
 },
 "nbformat": 4,
 "nbformat_minor": 5
}
