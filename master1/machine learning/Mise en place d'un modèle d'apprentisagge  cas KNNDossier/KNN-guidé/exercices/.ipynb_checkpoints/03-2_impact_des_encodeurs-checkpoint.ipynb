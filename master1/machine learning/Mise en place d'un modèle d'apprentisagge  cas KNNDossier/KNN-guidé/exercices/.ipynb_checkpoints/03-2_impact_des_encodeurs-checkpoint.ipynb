{
 "cells": [
  {
   "cell_type": "markdown",
   "id": "2f289cd6",
   "metadata": {},
   "source": [
    "# Etude de l'impact de l'encodage\n",
    "\n",
    "Le but de cet exercice est d'évaluer l'impact de l'utilisation d'un encodage numérique arbitraire pour les variables catégorielles avec un modèle de classification linéaire tel que la régression logistique.\n",
    "\n",
    "Pour ce faire, essayons d'utiliser `OrdinalEncoder` pour prétraiter les variables catégorielles. Cet encodeur est assemblé dans un pipeline avec `LogisticRegression`. La performance de généralisation du pipeline peut être évaluée par validation croisée et ensuite comparée au score obtenu en utilisant `OneHotEncoder` ou à un autre score de base.\n",
    "\n",
    "D'abord, chargez le jeu de données `adult-census.csv` puis supprimer la colonne `education-num`. Séparer le reste en données cible (colonne `class`) et en données non-cibles."
   ]
  },
  {
   "cell_type": "code",
   "execution_count": 5,
   "id": "7abd6342",
   "metadata": {},
   "outputs": [],
   "source": [
    "import pandas as pd\n",
    "\n",
    "df = pd.read_csv('../datasets/adult-census.csv')\n",
    "df = df.drop(columns=['education-num'])\n",
    "df.head()\n",
    "\n",
    "df_target = df[\"class\"]\n",
    "\n",
    "df_data = df.drop(columns=['class'])"
   ]
  },
  {
   "cell_type": "code",
   "execution_count": null,
   "id": "41d28214",
   "metadata": {},
   "outputs": [],
   "source": []
  },
  {
   "cell_type": "markdown",
   "id": "e755e3fa",
   "metadata": {},
   "source": [
    "Dans le notebook précédent, nous avons utilisé `sklearn.compose.make_column_selector` pour sélectionner automatiquement les colonnes avec un type de données spécifique (aussi appelé `dtype`).\n",
    "\n",
    "Utilisez ce sélecteur pour obtenir uniquement les colonnes contenant des chaînes de caractères (colonne avec le type de données `object`) qui correspondent à des colonnes catégorielles dans notre jeu de données. "
   ]
  },
  {
   "cell_type": "code",
   "execution_count": 11,
   "id": "6056919e",
   "metadata": {},
   "outputs": [
    {
     "name": "stdout",
     "output_type": "stream",
     "text": [
      "['workclass', 'education', 'marital-status', 'occupation', 'relationship', 'race', 'sex', 'native-country']\n",
      "age\n",
      "capital-gain\n",
      "capital-loss\n",
      "hours-per-week\n",
      "           workclass      education       marital-status          occupation  \\\n",
      "0            Private           11th        Never-married   Machine-op-inspct   \n",
      "1            Private        HS-grad   Married-civ-spouse     Farming-fishing   \n",
      "2          Local-gov     Assoc-acdm   Married-civ-spouse     Protective-serv   \n",
      "3            Private   Some-college   Married-civ-spouse   Machine-op-inspct   \n",
      "4                  ?   Some-college        Never-married                   ?   \n",
      "...              ...            ...                  ...                 ...   \n",
      "48837        Private     Assoc-acdm   Married-civ-spouse        Tech-support   \n",
      "48838        Private        HS-grad   Married-civ-spouse   Machine-op-inspct   \n",
      "48839        Private        HS-grad              Widowed        Adm-clerical   \n",
      "48840        Private        HS-grad        Never-married        Adm-clerical   \n",
      "48841   Self-emp-inc        HS-grad   Married-civ-spouse     Exec-managerial   \n",
      "\n",
      "      relationship    race      sex  native-country  \n",
      "0        Own-child   Black     Male   United-States  \n",
      "1          Husband   White     Male   United-States  \n",
      "2          Husband   White     Male   United-States  \n",
      "3          Husband   Black     Male   United-States  \n",
      "4        Own-child   White   Female   United-States  \n",
      "...            ...     ...      ...             ...  \n",
      "48837         Wife   White   Female   United-States  \n",
      "48838      Husband   White     Male   United-States  \n",
      "48839    Unmarried   White   Female   United-States  \n",
      "48840    Own-child   White     Male   United-States  \n",
      "48841         Wife   White   Female   United-States  \n",
      "\n",
      "[48842 rows x 8 columns]\n"
     ]
    }
   ],
   "source": [
    "from sklearn.compose import make_column_selector\n",
    "\n",
    "selector = make_column_selector(dtype_include=object)\n",
    "selected_columns = selector(df_data)\n",
    "print(selected_columns)\n",
    "\n",
    "df_cat_data = df_data\n",
    "for column in df_data:\n",
    "    if column not in selected_columns:\n",
    "        print(column)\n",
    "        df_cat_data = df_cat_data.drop(columns=[column])\n",
    "print(df_cat_data)"
   ]
  },
  {
   "cell_type": "markdown",
   "id": "456179a4",
   "metadata": {},
   "source": [
    "Définir un pipeline scikit-learn composé d'un `OrdinalEncoder` et d'un classificateur `LogisticRegression`. Puis évaluez-le en utilisant une validation croisée en passant par `sklearn.model_selection.cross_validate`.\n",
    "\n",
    "Comme `OrdinalEncoder` peut soulever des erreurs s'il voit une catégorie inconnue au moment de la prédiction, vous pouvez définir les paramètres `handle_unknown` et `unknown_value` à `use_encoded_value`. Vous pouvez vous référer à la [documentation scikit-learn](https://scikit-learn.org/stable/modules/generated/sklearn.preprocessing.OrdinalEncoder.html) pour plus de détails concernant ces paramètres."
   ]
  },
  {
   "cell_type": "code",
   "execution_count": 26,
   "id": "f3502d96",
   "metadata": {},
   "outputs": [
    {
     "name": "stdout",
     "output_type": "stream",
     "text": [
      "{'fit_time': array([0.31108689, 0.19494653, 0.25701475, 0.28283644, 0.23415446]), 'score_time': array([0.02557302, 0.02980494, 0.03121901, 0.03064489, 0.02766871]), 'test_score': array([0.75514382, 0.75555328, 0.75573301, 0.75307125, 0.75788288])}\n",
      "fit_time  0.25600781440734866\n",
      "score_time  0.028982114791870118\n",
      "test_score  0.7554768489536634\n"
     ]
    }
   ],
   "source": [
    "from sklearn.pipeline import make_pipeline\n",
    "from sklearn.preprocessing import OrdinalEncoder\n",
    "from sklearn.linear_model import LogisticRegression\n",
    "from sklearn.model_selection import cross_validate\n",
    "import numpy as np\n",
    "\n",
    "pipe = make_pipeline(\n",
    "    OrdinalEncoder(handle_unknown='use_encoded_value', unknown_value=-1),\n",
    "    LogisticRegression(random_state=0, max_iter=3000)\n",
    ")\n",
    "\n",
    "pipe.fit(df_cat_data, df_target)\n",
    "\n",
    "cv = cross_validate(pipe, df_cat_data, df_target, cv=5)\n",
    "print(cv)\n",
    "print(\"fit_time \", cv['fit_time'].mean())\n",
    "print(\"score_time \", cv['score_time'].mean())\n",
    "print(\"test_score \", cv['test_score'].mean())"
   ]
  },
  {
   "cell_type": "code",
   "execution_count": null,
   "id": "d501a06e",
   "metadata": {},
   "outputs": [],
   "source": []
  },
  {
   "cell_type": "markdown",
   "id": "d77b0315",
   "metadata": {},
   "source": [
    "Maintenant, nous voudrions comparer la performance de généralisation de notre pipeline précédent avec un nouveau pipeline où au lieu d'utiliser un `OrdinalEncoder`, nous utiliserons un `OneHotEncoder`. Répétez l'évaluation du pipeline en utilisant la validation croisée. \n",
    "\n",
    "Comparez le score des deux pipelines et concluez sur l'impact du choix d'une stratégie d'encodage spécifique lors de l'utilisation d'un modèle linéaire."
   ]
  },
  {
   "cell_type": "code",
   "execution_count": 27,
   "id": "79facb59",
   "metadata": {},
   "outputs": [
    {
     "name": "stdout",
     "output_type": "stream",
     "text": [
      "{'fit_time': array([0.5759263 , 0.55823708, 0.56384635, 0.57882881, 0.62207389]), 'score_time': array([0.0229125 , 0.0241437 , 0.02327919, 0.02793407, 0.01971793]), 'test_score': array([0.83222438, 0.83560242, 0.82872645, 0.83312858, 0.83466421])}\n",
      "fit_time  0.5797824859619141\n",
      "score_time  0.02359747886657715\n",
      "test_score  0.8328692091154984\n"
     ]
    }
   ],
   "source": [
    "from sklearn.preprocessing import OneHotEncoder\n",
    "\n",
    "#create pipeline\n",
    "pipe = make_pipeline(\n",
    "    OneHotEncoder(handle_unknown='ignore'),\n",
    "    LogisticRegression(random_state=0, max_iter=3000)\n",
    ")\n",
    "pipe.fit(df_cat_data, df_target)\n",
    "\n",
    "cv = cross_validate(pipe, df_cat_data, df_target, cv=5)\n",
    "print(cv)\n",
    "print(\"fit_time \", cv['fit_time'].mean())\n",
    "print(\"score_time \", cv['score_time'].mean())\n",
    "print(\"test_score \", cv['test_score'].mean())"
   ]
  },
  {
   "cell_type": "code",
   "execution_count": null,
   "id": "f2854565",
   "metadata": {},
   "outputs": [],
   "source": []
  }
 ],
 "metadata": {
  "jupytext": {
   "encoding": "# -*- coding: utf-8 -*-",
   "main_language": "python"
  },
  "kernelspec": {
   "display_name": "Python 3 (ipykernel)",
   "language": "python",
   "name": "python3"
  },
  "language_info": {
   "codemirror_mode": {
    "name": "ipython",
    "version": 3
   },
   "file_extension": ".py",
   "mimetype": "text/x-python",
   "name": "python",
   "nbconvert_exporter": "python",
   "pygments_lexer": "ipython3",
   "version": "3.11.5"
  }
 },
 "nbformat": 4,
 "nbformat_minor": 5
}
