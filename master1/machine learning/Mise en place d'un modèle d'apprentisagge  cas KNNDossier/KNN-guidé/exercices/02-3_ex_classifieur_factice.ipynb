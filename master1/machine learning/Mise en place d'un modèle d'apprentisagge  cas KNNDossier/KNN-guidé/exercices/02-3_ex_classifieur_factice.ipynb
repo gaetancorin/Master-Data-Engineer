{
 "cells": [
  {
   "cell_type": "markdown",
   "id": "f611495a",
   "metadata": {},
   "source": [
    "# 📝 Exercice 2-3\n",
    "\n",
    "Le but de cet exercice est de comparer la performance de notre classificateur dans le dans le notebook précédent (environ 81% de précision avec `LogisticRegression`) à quelques quelques classificateurs de base simples. Le classificateur de base le plus simple est celui qui prédit toujours la même classe, indépendamment des données d'entrée.\n",
    "\n",
    "- Quel serait le score d'un modèle qui prédit toujours `' >50K'` ? \n",
    "- Quel serait le score d'un modèle qui prédit toujours `' <=50K'` ?\n",
    "- Une précision de 81 % ou 82 % est-elle un bon score pour ce problème ?\n",
    "\n",
    "Utilisez un modèle factice `DummyClassifier` et effectuez un fractionnement train-test pour évaluer sa précision sur l'ensemble de test. Ce site [lien](https://scikit-learn.org/stable/modules/model_evaluation.html#dummy-estimators) montre quelques exemples d'évaluation des performances de généralisation de ces modèles de base."
   ]
  },
  {
   "cell_type": "code",
   "execution_count": 4,
   "id": "59437c4f",
   "metadata": {},
   "outputs": [],
   "source": [
    "import pandas as pd\n",
    "from sklearn.model_selection import train_test_split\n",
    "\n",
    "df = pd.read_csv('../datasets/adult-census-numeric.csv')"
   ]
  },
  {
   "cell_type": "markdown",
   "id": "97ec26b5",
   "metadata": {},
   "source": [
    "Nous allons d'abord diviser notre ensemble de données pour que la cible soit séparée des données utilisées pour entraîner notre modèle prédictif."
   ]
  },
  {
   "cell_type": "markdown",
   "id": "19644c50",
   "metadata": {},
   "source": [
    "Nous commençons par sélectionner uniquement les colonnes numériques comme nous l'avons vu dans le notebook précédent."
   ]
  },
  {
   "cell_type": "code",
   "execution_count": 5,
   "id": "e14be3be",
   "metadata": {},
   "outputs": [
    {
     "name": "stdout",
     "output_type": "stream",
     "text": [
      "       age  capital-gain  capital-loss  hours-per-week\n",
      "0       41             0             0              92\n",
      "1       48             0             0              40\n",
      "2       60             0             0              25\n",
      "3       37             0             0              45\n",
      "4       73          3273             0              40\n",
      "...    ...           ...           ...             ...\n",
      "39068   45             0             0              40\n",
      "39069   47             0             0              60\n",
      "39070   29             0          1485              60\n",
      "39071   29             0             0              40\n",
      "39072   46         15024             0              55\n",
      "\n",
      "[39073 rows x 4 columns]\n",
      "0         <=50K\n",
      "1         <=50K\n",
      "2         <=50K\n",
      "3         <=50K\n",
      "4         <=50K\n",
      "          ...  \n",
      "39068     <=50K\n",
      "39069     <=50K\n",
      "39070      >50K\n",
      "39071     <=50K\n",
      "39072      >50K\n",
      "Name: class, Length: 39073, dtype: object\n"
     ]
    }
   ],
   "source": [
    "data = df.drop(columns=['class'])\n",
    "print(data)\n",
    "\n",
    "target = df[\"class\"]\n",
    "print(target)"
   ]
  },
  {
   "cell_type": "markdown",
   "id": "630bf8d8",
   "metadata": {},
   "source": [
    "Divisez les données et la cible en un ensemble d'entraînement et un ensemble de test."
   ]
  },
  {
   "cell_type": "code",
   "execution_count": 6,
   "id": "a243d563",
   "metadata": {},
   "outputs": [],
   "source": [
    "data_train, data_test, target_train, target_test = train_test_split(data, target, test_size = 0.25)"
   ]
  },
  {
   "cell_type": "markdown",
   "id": "eec9212f",
   "metadata": {},
   "source": [
    "Utilisez un `DummyClassifier` tel que le classifieur résultant prédit toujours la classe `''. >50K'`. Quel est le score de précision sur l'ensemble de test ? Répétez l'expérience en prédisant toujours la classe `' <=50K'`.\n",
    "\n",
    "Astuce : vous pouvez définir le paramètre `strategy` du `DummyClassifier` pour obtenir le comportement désiré."
   ]
  },
  {
   "cell_type": "code",
   "execution_count": 7,
   "id": "d85c67d1",
   "metadata": {},
   "outputs": [
    {
     "data": {
      "text/html": [
       "<style>#sk-container-id-1 {color: black;}#sk-container-id-1 pre{padding: 0;}#sk-container-id-1 div.sk-toggleable {background-color: white;}#sk-container-id-1 label.sk-toggleable__label {cursor: pointer;display: block;width: 100%;margin-bottom: 0;padding: 0.3em;box-sizing: border-box;text-align: center;}#sk-container-id-1 label.sk-toggleable__label-arrow:before {content: \"▸\";float: left;margin-right: 0.25em;color: #696969;}#sk-container-id-1 label.sk-toggleable__label-arrow:hover:before {color: black;}#sk-container-id-1 div.sk-estimator:hover label.sk-toggleable__label-arrow:before {color: black;}#sk-container-id-1 div.sk-toggleable__content {max-height: 0;max-width: 0;overflow: hidden;text-align: left;background-color: #f0f8ff;}#sk-container-id-1 div.sk-toggleable__content pre {margin: 0.2em;color: black;border-radius: 0.25em;background-color: #f0f8ff;}#sk-container-id-1 input.sk-toggleable__control:checked~div.sk-toggleable__content {max-height: 200px;max-width: 100%;overflow: auto;}#sk-container-id-1 input.sk-toggleable__control:checked~label.sk-toggleable__label-arrow:before {content: \"▾\";}#sk-container-id-1 div.sk-estimator input.sk-toggleable__control:checked~label.sk-toggleable__label {background-color: #d4ebff;}#sk-container-id-1 div.sk-label input.sk-toggleable__control:checked~label.sk-toggleable__label {background-color: #d4ebff;}#sk-container-id-1 input.sk-hidden--visually {border: 0;clip: rect(1px 1px 1px 1px);clip: rect(1px, 1px, 1px, 1px);height: 1px;margin: -1px;overflow: hidden;padding: 0;position: absolute;width: 1px;}#sk-container-id-1 div.sk-estimator {font-family: monospace;background-color: #f0f8ff;border: 1px dotted black;border-radius: 0.25em;box-sizing: border-box;margin-bottom: 0.5em;}#sk-container-id-1 div.sk-estimator:hover {background-color: #d4ebff;}#sk-container-id-1 div.sk-parallel-item::after {content: \"\";width: 100%;border-bottom: 1px solid gray;flex-grow: 1;}#sk-container-id-1 div.sk-label:hover label.sk-toggleable__label {background-color: #d4ebff;}#sk-container-id-1 div.sk-serial::before {content: \"\";position: absolute;border-left: 1px solid gray;box-sizing: border-box;top: 0;bottom: 0;left: 50%;z-index: 0;}#sk-container-id-1 div.sk-serial {display: flex;flex-direction: column;align-items: center;background-color: white;padding-right: 0.2em;padding-left: 0.2em;position: relative;}#sk-container-id-1 div.sk-item {position: relative;z-index: 1;}#sk-container-id-1 div.sk-parallel {display: flex;align-items: stretch;justify-content: center;background-color: white;position: relative;}#sk-container-id-1 div.sk-item::before, #sk-container-id-1 div.sk-parallel-item::before {content: \"\";position: absolute;border-left: 1px solid gray;box-sizing: border-box;top: 0;bottom: 0;left: 50%;z-index: -1;}#sk-container-id-1 div.sk-parallel-item {display: flex;flex-direction: column;z-index: 1;position: relative;background-color: white;}#sk-container-id-1 div.sk-parallel-item:first-child::after {align-self: flex-end;width: 50%;}#sk-container-id-1 div.sk-parallel-item:last-child::after {align-self: flex-start;width: 50%;}#sk-container-id-1 div.sk-parallel-item:only-child::after {width: 0;}#sk-container-id-1 div.sk-dashed-wrapped {border: 1px dashed gray;margin: 0 0.4em 0.5em 0.4em;box-sizing: border-box;padding-bottom: 0.4em;background-color: white;}#sk-container-id-1 div.sk-label label {font-family: monospace;font-weight: bold;display: inline-block;line-height: 1.2em;}#sk-container-id-1 div.sk-label-container {text-align: center;}#sk-container-id-1 div.sk-container {/* jupyter's `normalize.less` sets `[hidden] { display: none; }` but bootstrap.min.css set `[hidden] { display: none !important; }` so we also need the `!important` here to be able to override the default hidden behavior on the sphinx rendered scikit-learn.org. See: https://github.com/scikit-learn/scikit-learn/issues/21755 */display: inline-block !important;position: relative;}#sk-container-id-1 div.sk-text-repr-fallback {display: none;}</style><div id=\"sk-container-id-1\" class=\"sk-top-container\"><div class=\"sk-text-repr-fallback\"><pre>DummyClassifier(constant=&#x27; &gt;50K&#x27;, random_state=0, strategy=&#x27;constant&#x27;)</pre><b>In a Jupyter environment, please rerun this cell to show the HTML representation or trust the notebook. <br />On GitHub, the HTML representation is unable to render, please try loading this page with nbviewer.org.</b></div><div class=\"sk-container\" hidden><div class=\"sk-item\"><div class=\"sk-estimator sk-toggleable\"><input class=\"sk-toggleable__control sk-hidden--visually\" id=\"sk-estimator-id-1\" type=\"checkbox\" checked><label for=\"sk-estimator-id-1\" class=\"sk-toggleable__label sk-toggleable__label-arrow\">DummyClassifier</label><div class=\"sk-toggleable__content\"><pre>DummyClassifier(constant=&#x27; &gt;50K&#x27;, random_state=0, strategy=&#x27;constant&#x27;)</pre></div></div></div></div></div>"
      ],
      "text/plain": [
       "DummyClassifier(constant=' >50K', random_state=0, strategy='constant')"
      ]
     },
     "execution_count": 7,
     "metadata": {},
     "output_type": "execute_result"
    }
   ],
   "source": [
    "from sklearn.dummy import DummyClassifier\n",
    "\n",
    "clf = DummyClassifier(strategy='constant', random_state=0, constant=' >50K')\n",
    "clf.fit(data_train,target_train)"
   ]
  },
  {
   "cell_type": "code",
   "execution_count": 8,
   "id": "a4cf3caf-7a2c-4276-91ee-d6de509f2ccf",
   "metadata": {},
   "outputs": [
    {
     "data": {
      "text/plain": [
       "0.24373016685433513"
      ]
     },
     "execution_count": 8,
     "metadata": {},
     "output_type": "execute_result"
    }
   ],
   "source": [
    "clf.score(data_test, target_test)"
   ]
  },
  {
   "cell_type": "code",
   "execution_count": 9,
   "id": "4c93667b-10a2-4ad2-91b1-14284f53193e",
   "metadata": {},
   "outputs": [
    {
     "data": {
      "text/plain": [
       "0.7562698331456649"
      ]
     },
     "execution_count": 9,
     "metadata": {},
     "output_type": "execute_result"
    }
   ],
   "source": [
    "clf = DummyClassifier(strategy='constant', random_state=0, constant=' <=50K')\n",
    "clf.fit(data_train,target_train)\n",
    "clf.score(data_test, target_test)"
   ]
  },
  {
   "cell_type": "code",
   "execution_count": 11,
   "id": "d3a5080c-f9b0-44d0-8267-640fd403f778",
   "metadata": {},
   "outputs": [],
   "source": [
    "# La précision n'est pas utilisable en l'etat pour ce type de problème car elle ne prédit pas le résultat,\n",
    "# mais retourne simplement la constante donnée. Le score dépendra donc simplement du jeu de données.\n"
   ]
  },
  {
   "cell_type": "code",
   "execution_count": null,
   "id": "36dddddb-a577-41f3-a2fa-1ada9bd53e1d",
   "metadata": {},
   "outputs": [],
   "source": []
  }
 ],
 "metadata": {
  "jupytext": {
   "encoding": "# -*- coding: utf-8 -*-",
   "main_language": "python"
  },
  "kernelspec": {
   "display_name": "Python 3 (ipykernel)",
   "language": "python",
   "name": "python3"
  },
  "language_info": {
   "codemirror_mode": {
    "name": "ipython",
    "version": 3
   },
   "file_extension": ".py",
   "mimetype": "text/x-python",
   "name": "python",
   "nbconvert_exporter": "python",
   "pygments_lexer": "ipython3",
   "version": "3.11.5"
  }
 },
 "nbformat": 4,
 "nbformat_minor": 5
}
