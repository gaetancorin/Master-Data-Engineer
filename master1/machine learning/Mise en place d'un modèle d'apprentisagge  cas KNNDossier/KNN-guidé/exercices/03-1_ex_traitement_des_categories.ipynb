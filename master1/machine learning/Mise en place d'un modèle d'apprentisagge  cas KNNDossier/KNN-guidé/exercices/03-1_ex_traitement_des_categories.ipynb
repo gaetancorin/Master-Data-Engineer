{
 "cells": [
  {
   "cell_type": "markdown",
   "id": "73bb3015",
   "metadata": {},
   "source": [
    "# Encodage des variables catégorielles\n",
    "\n",
    "Dans ce notebook, nous présenterons les techniques de traitement des **variables catégorielles** au moyen de l'encodage. Deux types encodages seront vus, à savoir **l'encodage ordinal** et l'encodage **unique**. **encodage one-hot**."
   ]
  },
  {
   "cell_type": "markdown",
   "id": "c6e6c174",
   "metadata": {},
   "source": [
    "Commençez par charger l'ensemble des données `adult-census.csv` contenant des données numériques et catégorielles."
   ]
  },
  {
   "cell_type": "code",
   "execution_count": 1,
   "id": "5727d9c6",
   "metadata": {
    "scrolled": true
   },
   "outputs": [
    {
     "data": {
      "text/html": [
       "<div>\n",
       "<style scoped>\n",
       "    .dataframe tbody tr th:only-of-type {\n",
       "        vertical-align: middle;\n",
       "    }\n",
       "\n",
       "    .dataframe tbody tr th {\n",
       "        vertical-align: top;\n",
       "    }\n",
       "\n",
       "    .dataframe thead th {\n",
       "        text-align: right;\n",
       "    }\n",
       "</style>\n",
       "<table border=\"1\" class=\"dataframe\">\n",
       "  <thead>\n",
       "    <tr style=\"text-align: right;\">\n",
       "      <th></th>\n",
       "      <th>age</th>\n",
       "      <th>workclass</th>\n",
       "      <th>education</th>\n",
       "      <th>education-num</th>\n",
       "      <th>marital-status</th>\n",
       "      <th>occupation</th>\n",
       "      <th>relationship</th>\n",
       "      <th>race</th>\n",
       "      <th>sex</th>\n",
       "      <th>capital-gain</th>\n",
       "      <th>capital-loss</th>\n",
       "      <th>hours-per-week</th>\n",
       "      <th>native-country</th>\n",
       "      <th>class</th>\n",
       "    </tr>\n",
       "  </thead>\n",
       "  <tbody>\n",
       "    <tr>\n",
       "      <th>0</th>\n",
       "      <td>25</td>\n",
       "      <td>Private</td>\n",
       "      <td>11th</td>\n",
       "      <td>7</td>\n",
       "      <td>Never-married</td>\n",
       "      <td>Machine-op-inspct</td>\n",
       "      <td>Own-child</td>\n",
       "      <td>Black</td>\n",
       "      <td>Male</td>\n",
       "      <td>0</td>\n",
       "      <td>0</td>\n",
       "      <td>40</td>\n",
       "      <td>United-States</td>\n",
       "      <td>&lt;=50K</td>\n",
       "    </tr>\n",
       "    <tr>\n",
       "      <th>1</th>\n",
       "      <td>38</td>\n",
       "      <td>Private</td>\n",
       "      <td>HS-grad</td>\n",
       "      <td>9</td>\n",
       "      <td>Married-civ-spouse</td>\n",
       "      <td>Farming-fishing</td>\n",
       "      <td>Husband</td>\n",
       "      <td>White</td>\n",
       "      <td>Male</td>\n",
       "      <td>0</td>\n",
       "      <td>0</td>\n",
       "      <td>50</td>\n",
       "      <td>United-States</td>\n",
       "      <td>&lt;=50K</td>\n",
       "    </tr>\n",
       "    <tr>\n",
       "      <th>2</th>\n",
       "      <td>28</td>\n",
       "      <td>Local-gov</td>\n",
       "      <td>Assoc-acdm</td>\n",
       "      <td>12</td>\n",
       "      <td>Married-civ-spouse</td>\n",
       "      <td>Protective-serv</td>\n",
       "      <td>Husband</td>\n",
       "      <td>White</td>\n",
       "      <td>Male</td>\n",
       "      <td>0</td>\n",
       "      <td>0</td>\n",
       "      <td>40</td>\n",
       "      <td>United-States</td>\n",
       "      <td>&gt;50K</td>\n",
       "    </tr>\n",
       "    <tr>\n",
       "      <th>3</th>\n",
       "      <td>44</td>\n",
       "      <td>Private</td>\n",
       "      <td>Some-college</td>\n",
       "      <td>10</td>\n",
       "      <td>Married-civ-spouse</td>\n",
       "      <td>Machine-op-inspct</td>\n",
       "      <td>Husband</td>\n",
       "      <td>Black</td>\n",
       "      <td>Male</td>\n",
       "      <td>7688</td>\n",
       "      <td>0</td>\n",
       "      <td>40</td>\n",
       "      <td>United-States</td>\n",
       "      <td>&gt;50K</td>\n",
       "    </tr>\n",
       "    <tr>\n",
       "      <th>4</th>\n",
       "      <td>18</td>\n",
       "      <td>?</td>\n",
       "      <td>Some-college</td>\n",
       "      <td>10</td>\n",
       "      <td>Never-married</td>\n",
       "      <td>?</td>\n",
       "      <td>Own-child</td>\n",
       "      <td>White</td>\n",
       "      <td>Female</td>\n",
       "      <td>0</td>\n",
       "      <td>0</td>\n",
       "      <td>30</td>\n",
       "      <td>United-States</td>\n",
       "      <td>&lt;=50K</td>\n",
       "    </tr>\n",
       "  </tbody>\n",
       "</table>\n",
       "</div>"
      ],
      "text/plain": [
       "   age   workclass      education  education-num       marital-status  \\\n",
       "0   25     Private           11th              7        Never-married   \n",
       "1   38     Private        HS-grad              9   Married-civ-spouse   \n",
       "2   28   Local-gov     Assoc-acdm             12   Married-civ-spouse   \n",
       "3   44     Private   Some-college             10   Married-civ-spouse   \n",
       "4   18           ?   Some-college             10        Never-married   \n",
       "\n",
       "           occupation relationship    race      sex  capital-gain  \\\n",
       "0   Machine-op-inspct    Own-child   Black     Male             0   \n",
       "1     Farming-fishing      Husband   White     Male             0   \n",
       "2     Protective-serv      Husband   White     Male             0   \n",
       "3   Machine-op-inspct      Husband   Black     Male          7688   \n",
       "4                   ?    Own-child   White   Female             0   \n",
       "\n",
       "   capital-loss  hours-per-week  native-country   class  \n",
       "0             0              40   United-States   <=50K  \n",
       "1             0              50   United-States   <=50K  \n",
       "2             0              40   United-States    >50K  \n",
       "3             0              40   United-States    >50K  \n",
       "4             0              30   United-States   <=50K  "
      ]
     },
     "execution_count": 1,
     "metadata": {},
     "output_type": "execute_result"
    }
   ],
   "source": [
    "import pandas as pd\n",
    "\n",
    "df = pd.read_csv('../datasets/adult-census.csv')\n",
    "df.head()"
   ]
  },
  {
   "cell_type": "markdown",
   "id": "2648ef15",
   "metadata": {},
   "source": [
    "## Identifier les variables catégorielles\n",
    "\n",
    "Comme nous l'avons vu dans la séance précédente, une variable numérique est une quantité représentée par un nombre réel ou entier. Ces variables peuvent être naturellement traitées par les algorithmes d'apprentissage automatique qui sont typiquement composés d'une séquence d'instructions arithmétiques telles que les additions et les multiplications.\n",
    "\n",
    "En revanche, les variables catégorielles ont des valeurs discrètes, généralement représentées par des étiquettes de chaînes de caractères (mais pas seulement) prises dans une liste finie de choix possibles. Par exemple, la variable `native-country` dans notre jeu de données est une variable catégorielle parce qu'elle code les données à l'aide d'une liste finie de pays possibles (avec le symbole `?` si le nom de pays est manquant). \n",
    "\n",
    "Pour le constater, affichez la liste des valeurs de `native-country` ainsi que la cardinalité associée. \n",
    "\n"
   ]
  },
  {
   "cell_type": "code",
   "execution_count": 2,
   "id": "abca3ac8",
   "metadata": {},
   "outputs": [
    {
     "name": "stdout",
     "output_type": "stream",
     "text": [
      "[' United-States' ' ?' ' Peru' ' Guatemala' ' Mexico'\n",
      " ' Dominican-Republic' ' Ireland' ' Germany' ' Philippines' ' Thailand'\n",
      " ' Haiti' ' El-Salvador' ' Puerto-Rico' ' Vietnam' ' South' ' Columbia'\n",
      " ' Japan' ' India' ' Cambodia' ' Poland' ' Laos' ' England' ' Cuba'\n",
      " ' Taiwan' ' Italy' ' Canada' ' Portugal' ' China' ' Nicaragua'\n",
      " ' Honduras' ' Iran' ' Scotland' ' Jamaica' ' Ecuador' ' Yugoslavia'\n",
      " ' Hungary' ' Hong' ' Greece' ' Trinadad&Tobago'\n",
      " ' Outlying-US(Guam-USVI-etc)' ' France' ' Holand-Netherlands']\n",
      "Il y a  42 colonnes\n"
     ]
    }
   ],
   "source": [
    "print(df[\"native-country\"].unique())\n",
    "print(\"Il y a \", len(df[\"native-country\"].unique()), \"colonnes\")"
   ]
  },
  {
   "cell_type": "markdown",
   "id": "dd561b42",
   "metadata": {},
   "source": [
    "Comment reconnaître facilement les colonnes catégoriques dans un ensemble de données ? Une partie de la\n",
    "réponse réside dans le type de données des colonnes. \n",
    "\n",
    "Affichez les types du jeu de données. A quoi correspond le type `object`?"
   ]
  },
  {
   "cell_type": "code",
   "execution_count": 3,
   "id": "fc8c0e31",
   "metadata": {},
   "outputs": [
    {
     "name": "stdout",
     "output_type": "stream",
     "text": [
      "Index(['age', 'workclass', 'education', 'education-num', 'marital-status',\n",
      "       'occupation', 'relationship', 'race', 'sex', 'capital-gain',\n",
      "       'capital-loss', 'hours-per-week', 'native-country', 'class'],\n",
      "      dtype='object')\n",
      "int64\n",
      "object\n",
      "object\n",
      "int64\n",
      "object\n",
      "object\n",
      "object\n",
      "object\n",
      "object\n",
      "int64\n",
      "int64\n",
      "int64\n",
      "object\n",
      "object\n"
     ]
    }
   ],
   "source": [
    "print(df.columns)\n",
    "for column in df:\n",
    "    print(df[column].dtype)"
   ]
  },
  {
   "cell_type": "code",
   "execution_count": 4,
   "id": "54eb370a",
   "metadata": {},
   "outputs": [],
   "source": [
    "# Le type object correspond au format string qui peut être potentiellement une variable catégorielle"
   ]
  },
  {
   "cell_type": "markdown",
   "id": "bed20e8f",
   "metadata": {},
   "source": [
    "## Sélectionner les colonnes en fonction de leur type de données\n",
    "\n",
    "Si nous nous intéressons seulement à un type de données (dans notre cas, les données catégorielles), nous pouvons utiliser la fonction d'aide de scikit-learn `make_column_selector`, qui nous permet de sélectionner les colonnes en fonction de leur leur type de données.\n",
    "\n",
    "Utilisez `make_column_selector` pour ne sélectionner que les colonnes catégorielles."
   ]
  },
  {
   "cell_type": "code",
   "execution_count": 5,
   "id": "67a30a81",
   "metadata": {},
   "outputs": [
    {
     "name": "stdout",
     "output_type": "stream",
     "text": [
      "['workclass', 'education', 'marital-status', 'occupation', 'relationship', 'race', 'sex', 'native-country', 'class']\n"
     ]
    }
   ],
   "source": [
    "from sklearn.compose import make_column_selector\n",
    "\n",
    "selector = make_column_selector(dtype_include=object)\n",
    "selected_columns = selector(df)\n",
    "print(selected_columns)"
   ]
  },
  {
   "cell_type": "markdown",
   "id": "af0d98f7",
   "metadata": {},
   "source": [
    "Ici, nous avons créé le sélecteur en passant le type de données à inclure. Ensuite l'ensemble de données d'entrée à été fourni à l'objet sélecteur. Celui-ci renvoie une liste de noms de colonnes qui ont le type de données demandé. Nous pouvons maintenant filtrer les colonnes non désirées. \n",
    "\n",
    "Filtrez les colonnes désirées de l'ensemble de données et afficher le nombre colonnes restant."
   ]
  },
  {
   "cell_type": "code",
   "execution_count": 6,
   "id": "d0985ee5",
   "metadata": {},
   "outputs": [
    {
     "name": "stdout",
     "output_type": "stream",
     "text": [
      "age\n",
      "education-num\n",
      "capital-gain\n",
      "capital-loss\n",
      "hours-per-week\n",
      "           workclass      education       marital-status          occupation  \\\n",
      "0            Private           11th        Never-married   Machine-op-inspct   \n",
      "1            Private        HS-grad   Married-civ-spouse     Farming-fishing   \n",
      "2          Local-gov     Assoc-acdm   Married-civ-spouse     Protective-serv   \n",
      "3            Private   Some-college   Married-civ-spouse   Machine-op-inspct   \n",
      "4                  ?   Some-college        Never-married                   ?   \n",
      "...              ...            ...                  ...                 ...   \n",
      "48837        Private     Assoc-acdm   Married-civ-spouse        Tech-support   \n",
      "48838        Private        HS-grad   Married-civ-spouse   Machine-op-inspct   \n",
      "48839        Private        HS-grad              Widowed        Adm-clerical   \n",
      "48840        Private        HS-grad        Never-married        Adm-clerical   \n",
      "48841   Self-emp-inc        HS-grad   Married-civ-spouse     Exec-managerial   \n",
      "\n",
      "      relationship    race      sex  native-country   class  \n",
      "0        Own-child   Black     Male   United-States   <=50K  \n",
      "1          Husband   White     Male   United-States   <=50K  \n",
      "2          Husband   White     Male   United-States    >50K  \n",
      "3          Husband   Black     Male   United-States    >50K  \n",
      "4        Own-child   White   Female   United-States   <=50K  \n",
      "...            ...     ...      ...             ...     ...  \n",
      "48837         Wife   White   Female   United-States   <=50K  \n",
      "48838      Husband   White     Male   United-States    >50K  \n",
      "48839    Unmarried   White   Female   United-States   <=50K  \n",
      "48840    Own-child   White     Male   United-States   <=50K  \n",
      "48841         Wife   White   Female   United-States    >50K  \n",
      "\n",
      "[48842 rows x 9 columns]\n",
      "9\n"
     ]
    }
   ],
   "source": [
    "df_object = df\n",
    "for column in df:\n",
    "    if column not in selected_columns:\n",
    "        print(column)\n",
    "        df_object = df_object.drop(columns=[column])\n",
    "print(df_object)\n",
    "\n",
    "print(len(df_object.columns))"
   ]
  },
  {
   "cell_type": "markdown",
   "id": "6cd4c3e4",
   "metadata": {},
   "source": [
    "Dans la suite de cette section, nous allons présenter différentes stratégies pour encoder des données catégorielles en données numériques utilisables par un algorithme d'apprentissage automatique."
   ]
  },
  {
   "cell_type": "markdown",
   "id": "25251ab5",
   "metadata": {},
   "source": [
    "### Stratégies d'encodage des catégories\n",
    "\n",
    "### Encodage des catégories ordinales\n",
    "\n",
    "La stratégie la plus intuitive est d'encoder chaque catégorie avec un numéro différent. Le `OrdinalEncoder` va transformer les données de cette manière. \n",
    "\n",
    "Utilisez `OrdinalEncoder` sur la colonne `education` pour comprendre comment l'encodage fonctionne."
   ]
  },
  {
   "cell_type": "code",
   "execution_count": 7,
   "id": "cd445bfe",
   "metadata": {},
   "outputs": [],
   "source": [
    "from sklearn.preprocessing import OrdinalEncoder\n",
    "\n",
    "encoder = OrdinalEncoder()\n",
    "df_ordinal_encoder = df_object.copy()"
   ]
  },
  {
   "cell_type": "code",
   "execution_count": 8,
   "id": "23d1509f",
   "metadata": {},
   "outputs": [
    {
     "name": "stdout",
     "output_type": "stream",
     "text": [
      "[[ 1.]\n",
      " [11.]\n",
      " [ 7.]\n",
      " ...\n",
      " [11.]\n",
      " [11.]\n",
      " [11.]]\n"
     ]
    }
   ],
   "source": [
    "encoder.fit(df_ordinal_encoder[[\"education\"]])\n",
    "education = encoder.transform(df_ordinal_encoder[[\"education\"]])\n",
    "print(education)\n",
    "\n",
    "# education = encoder.inverse_transform(education)\n",
    "# print(education)"
   ]
  },
  {
   "cell_type": "markdown",
   "id": "0dfdb890",
   "metadata": {},
   "source": [
    "Nous constatons que chaque catégorie dans `education` est remplacée par une valeur numérique. Nous pouvons vérifier la correspondance entre les catégories et les valeurs numériques en utilisant l'attribut `categories_` de l'encodeur."
   ]
  },
  {
   "cell_type": "code",
   "execution_count": 9,
   "id": "655afd55",
   "metadata": {},
   "outputs": [
    {
     "data": {
      "text/plain": [
       "[array([' 10th', ' 11th', ' 12th', ' 1st-4th', ' 5th-6th', ' 7th-8th',\n",
       "        ' 9th', ' Assoc-acdm', ' Assoc-voc', ' Bachelors', ' Doctorate',\n",
       "        ' HS-grad', ' Masters', ' Preschool', ' Prof-school',\n",
       "        ' Some-college'], dtype=object)]"
      ]
     },
     "execution_count": 9,
     "metadata": {},
     "output_type": "execute_result"
    }
   ],
   "source": [
    "encoder.categories_"
   ]
  },
  {
   "cell_type": "markdown",
   "id": "3320f1a2",
   "metadata": {},
   "source": [
    "Maintenant, appliquez l'encodage sur toutes les caractéristiques catégorielles. Afficher le nombre de colonnes."
   ]
  },
  {
   "cell_type": "code",
   "execution_count": 11,
   "id": "125bebd4",
   "metadata": {},
   "outputs": [
    {
     "name": "stdout",
     "output_type": "stream",
     "text": [
      "       workclass  education  marital-status  occupation  relationship  race  \\\n",
      "0            4.0        1.0             4.0         7.0           3.0   2.0   \n",
      "1            4.0       11.0             2.0         5.0           0.0   4.0   \n",
      "2            2.0        7.0             2.0        11.0           0.0   4.0   \n",
      "3            4.0       15.0             2.0         7.0           0.0   2.0   \n",
      "4            0.0       15.0             4.0         0.0           3.0   4.0   \n",
      "...          ...        ...             ...         ...           ...   ...   \n",
      "48837        4.0        7.0             2.0        13.0           5.0   4.0   \n",
      "48838        4.0       11.0             2.0         7.0           0.0   4.0   \n",
      "48839        4.0       11.0             6.0         1.0           4.0   4.0   \n",
      "48840        4.0       11.0             4.0         1.0           3.0   4.0   \n",
      "48841        5.0       11.0             2.0         4.0           5.0   4.0   \n",
      "\n",
      "       sex  native-country  class  \n",
      "0      1.0            39.0    0.0  \n",
      "1      1.0            39.0    0.0  \n",
      "2      1.0            39.0    1.0  \n",
      "3      1.0            39.0    1.0  \n",
      "4      0.0            39.0    0.0  \n",
      "...    ...             ...    ...  \n",
      "48837  0.0            39.0    0.0  \n",
      "48838  1.0            39.0    1.0  \n",
      "48839  0.0            39.0    0.0  \n",
      "48840  1.0            39.0    0.0  \n",
      "48841  0.0            39.0    1.0  \n",
      "\n",
      "[48842 rows x 9 columns]\n",
      "il y a  9  colonnes\n"
     ]
    }
   ],
   "source": [
    "encoder.fit(df_ordinal_encoder[selected_columns])\n",
    "df_ordinal_encoder[selected_columns] = encoder.transform(df_ordinal_encoder[selected_columns])\n",
    "print(df_ordinal_encoder)\n",
    "print(\"il y a \", len(df_ordinal_encoder.columns), \" colonnes\")"
   ]
  },
  {
   "cell_type": "markdown",
   "id": "691bddcc",
   "metadata": {},
   "source": [
    "Nous observons que les catégories ont été encodées pour chaque caractéristique (colonne) indépendamment. Nous notons également que le nombre de caractéristiques avant et après l'encodage est le même.\n",
    "\n",
    "\n",
    "Cependant, il faut être prudent lors de l'application de cette stratégie d'encodage : l'utilisation de cette représentation en nombres entiers conduit les modèles prédictifs en aval à supposer que les valeurs sont ordonnées (0 < 1 < 2 < 3... par exemple).\n",
    "\n",
    "Par défaut, `OrdinalEncoder` utilise une stratégie lexicographique pour faire correspondre des aux entiers. Cette stratégie est arbitraire et souvent sans signification. Par exemple, supposons que l'ensemble de données a une colonne catégorielle nommée `\"size\"` avec des catégories telles que \"S\", \"M\", \"L\", \"XL\". Nous aimerions que la que la représentation entière respecte la signification des tailles en les faisant correspondre à des entiers croissants tels que `0, 1, 2, 3`.\n",
    "Toutefois, la stratégie lexicographique utilisée par défaut mettrait en correspondance les étiquettes \"S\", \"M\", \"L\", \"XL\" en 2, 1, 0, 3, en suivant l'ordre alphabétique.\n",
    "\n",
    "La classe `OrdinalEncoder` accepte un argument de constructeur `categories` pour passer explicitement les catégories dans l'ordre attendu. Vous pouvez trouver plus informations dans la [documentation scikit-learn](https://scikit-learn.org/stable/modules/preprocessing.html#encoding-categorical-features) si nécessaire.\n",
    "\n",
    "Si une colonne catégorielle ne porte pas d'informations d'ordre significatives d'ordre significatif, ce codage peut induire en erreur les modèles statistiques en aval et vous pouvez envisager d'utiliser `l'encodage ont-hot` à la place (voir ci-dessous).\n",
    "\n",
    "### Encodage de catégories nominales (sans supposer d'ordre)\n",
    "\n",
    "`OneHotEncoder` est un encodeur alternatif qui empêche les modèles en aval de faire une fausse hypothèse sur l'ordre des catégories. Pour une colonne donnée, il créera autant de nouvelles colonnes qu'il y a de catégories possibles. Pour une obervation donnée, la valeur de la colonne correspondant à la catégorie sera mise à 1 alors que toutes les colonnes des autres catégories seront mises à 0.\n",
    "\n",
    "\n",
    "Commencez par utiliser `OneHotEncoder` sur une seule colonne (par exemple \"education\") pour illustrer son fonctionnement."
   ]
  },
  {
   "cell_type": "code",
   "execution_count": 26,
   "id": "c8e8dc95",
   "metadata": {},
   "outputs": [
    {
     "name": "stdout",
     "output_type": "stream",
     "text": [
      "[[0. 1. 0. ... 0. 0. 0.]\n",
      " [0. 0. 0. ... 0. 0. 0.]\n",
      " [0. 0. 0. ... 0. 0. 0.]\n",
      " ...\n",
      " [0. 0. 0. ... 0. 0. 0.]\n",
      " [0. 0. 0. ... 0. 0. 0.]\n",
      " [0. 0. 0. ... 0. 0. 0.]]\n",
      "        0    1    2    3    4    5    6    7    8    9    10   11   12   13  \\\n",
      "0      0.0  1.0  0.0  0.0  0.0  0.0  0.0  0.0  0.0  0.0  0.0  0.0  0.0  0.0   \n",
      "1      0.0  0.0  0.0  0.0  0.0  0.0  0.0  0.0  0.0  0.0  0.0  1.0  0.0  0.0   \n",
      "2      0.0  0.0  0.0  0.0  0.0  0.0  0.0  1.0  0.0  0.0  0.0  0.0  0.0  0.0   \n",
      "3      0.0  0.0  0.0  0.0  0.0  0.0  0.0  0.0  0.0  0.0  0.0  0.0  0.0  0.0   \n",
      "4      0.0  0.0  0.0  0.0  0.0  0.0  0.0  0.0  0.0  0.0  0.0  0.0  0.0  0.0   \n",
      "...    ...  ...  ...  ...  ...  ...  ...  ...  ...  ...  ...  ...  ...  ...   \n",
      "48837  0.0  0.0  0.0  0.0  0.0  0.0  0.0  1.0  0.0  0.0  0.0  0.0  0.0  0.0   \n",
      "48838  0.0  0.0  0.0  0.0  0.0  0.0  0.0  0.0  0.0  0.0  0.0  1.0  0.0  0.0   \n",
      "48839  0.0  0.0  0.0  0.0  0.0  0.0  0.0  0.0  0.0  0.0  0.0  1.0  0.0  0.0   \n",
      "48840  0.0  0.0  0.0  0.0  0.0  0.0  0.0  0.0  0.0  0.0  0.0  1.0  0.0  0.0   \n",
      "48841  0.0  0.0  0.0  0.0  0.0  0.0  0.0  0.0  0.0  0.0  0.0  1.0  0.0  0.0   \n",
      "\n",
      "        14   15  \n",
      "0      0.0  0.0  \n",
      "1      0.0  0.0  \n",
      "2      0.0  0.0  \n",
      "3      0.0  1.0  \n",
      "4      0.0  1.0  \n",
      "...    ...  ...  \n",
      "48837  0.0  0.0  \n",
      "48838  0.0  0.0  \n",
      "48839  0.0  0.0  \n",
      "48840  0.0  0.0  \n",
      "48841  0.0  0.0  \n",
      "\n",
      "[48842 rows x 16 columns]\n"
     ]
    }
   ],
   "source": [
    "from sklearn.preprocessing import OneHotEncoder\n",
    "\n",
    "hotencoder = OneHotEncoder(handle_unknown='ignore')\n",
    "hotencoder.fit(df_object[[\"education\"]])\n",
    "\n",
    "result = hotencoder.transform(df_object[[\"education\"]]).toarray()\n",
    "print(result)\n",
    "\n",
    "hotencoder_education_df = pd.DataFrame(result)\n",
    "print(hotencoder_education_df)\n",
    "\n",
    "# print(df_object[[\"education\"]])"
   ]
  },
  {
   "cell_type": "markdown",
   "id": "b7111f43",
   "metadata": {},
   "source": [
    "<div class=\"admonition note alert alert-info\">\n",
    "<p class=\"first admonition-title\" style=\"font-weight: bold;\">Note</p>\n",
    "<p><tt class=\"docutils literal\">sparse=False</tt> est utilisé dans <tt class=\"docutils literal\">OneHotEncoder</tt> à des fins didactiques, à savoir une visualisation plus facile des données.</p>\n",
    "<p class=\"last\"> Les matrices éparses sont des structures de données efficaces lorsque la plupart des éléments de votre matrice sont nuls. Elles ne seront pas abordées dans ce cours. Si vous\n",
    "voulez plus de détails à leur sujet, vous pouvez consulter\n",
    "<a class=\"reference external\" href=\"https://docs.scipy.org/doc/scipy/reference/sparse.html\">ceci</a>.</p>\n",
    "</div>"
   ]
  },
  {
   "cell_type": "markdown",
   "id": "8bc6602b",
   "metadata": {},
   "source": [
    "Nous observons que l'encodage d'une seule colonne donnera un tableau NumPy rempli 0 et 1. Nous pouvons mieux comprendre en utilisant les noms des colonnes associées résultant de la transformation.\n",
    "\n",
    "Utilisez la méthode get_feature_names_out pour obtenir la liste des noms des colonnes après encodage de la colonne `education`.\n"
   ]
  },
  {
   "cell_type": "code",
   "execution_count": 27,
   "id": "5f7c4bae",
   "metadata": {},
   "outputs": [
    {
     "data": {
      "text/plain": [
       "array(['education_ 10th', 'education_ 11th', 'education_ 12th',\n",
       "       'education_ 1st-4th', 'education_ 5th-6th', 'education_ 7th-8th',\n",
       "       'education_ 9th', 'education_ Assoc-acdm', 'education_ Assoc-voc',\n",
       "       'education_ Bachelors', 'education_ Doctorate',\n",
       "       'education_ HS-grad', 'education_ Masters', 'education_ Preschool',\n",
       "       'education_ Prof-school', 'education_ Some-college'], dtype=object)"
      ]
     },
     "execution_count": 27,
     "metadata": {},
     "output_type": "execute_result"
    }
   ],
   "source": [
    "hotencoder.get_feature_names_out()"
   ]
  },
  {
   "cell_type": "markdown",
   "id": "1ceab18c",
   "metadata": {},
   "source": [
    "Comme on peut le voir, chaque catégorie (valeur unique) est devenue une colonne ; l'encodage renvoie, pour chaque observation, un 1 pour préciser à quelle catégorie il appartient.\n",
    "\n",
    "Appliquez cet encodage sur l'ensemble des données. Calculez le nouveau nombre de colonnes."
   ]
  },
  {
   "cell_type": "code",
   "execution_count": 29,
   "id": "89d603be",
   "metadata": {},
   "outputs": [
    {
     "name": "stdout",
     "output_type": "stream",
     "text": [
      "['workclass_ ?' 'workclass_ Federal-gov' 'workclass_ Local-gov'\n",
      " 'workclass_ Never-worked' 'workclass_ Private' 'workclass_ Self-emp-inc'\n",
      " 'workclass_ Self-emp-not-inc' 'workclass_ State-gov'\n",
      " 'workclass_ Without-pay' 'education_ 10th' 'education_ 11th'\n",
      " 'education_ 12th' 'education_ 1st-4th' 'education_ 5th-6th'\n",
      " 'education_ 7th-8th' 'education_ 9th' 'education_ Assoc-acdm'\n",
      " 'education_ Assoc-voc' 'education_ Bachelors' 'education_ Doctorate'\n",
      " 'education_ HS-grad' 'education_ Masters' 'education_ Preschool'\n",
      " 'education_ Prof-school' 'education_ Some-college'\n",
      " 'marital-status_ Divorced' 'marital-status_ Married-AF-spouse'\n",
      " 'marital-status_ Married-civ-spouse'\n",
      " 'marital-status_ Married-spouse-absent' 'marital-status_ Never-married'\n",
      " 'marital-status_ Separated' 'marital-status_ Widowed' 'occupation_ ?'\n",
      " 'occupation_ Adm-clerical' 'occupation_ Armed-Forces'\n",
      " 'occupation_ Craft-repair' 'occupation_ Exec-managerial'\n",
      " 'occupation_ Farming-fishing' 'occupation_ Handlers-cleaners'\n",
      " 'occupation_ Machine-op-inspct' 'occupation_ Other-service'\n",
      " 'occupation_ Priv-house-serv' 'occupation_ Prof-specialty'\n",
      " 'occupation_ Protective-serv' 'occupation_ Sales'\n",
      " 'occupation_ Tech-support' 'occupation_ Transport-moving'\n",
      " 'relationship_ Husband' 'relationship_ Not-in-family'\n",
      " 'relationship_ Other-relative' 'relationship_ Own-child'\n",
      " 'relationship_ Unmarried' 'relationship_ Wife' 'race_ Amer-Indian-Eskimo'\n",
      " 'race_ Asian-Pac-Islander' 'race_ Black' 'race_ Other' 'race_ White'\n",
      " 'sex_ Female' 'sex_ Male' 'native-country_ ?' 'native-country_ Cambodia'\n",
      " 'native-country_ Canada' 'native-country_ China'\n",
      " 'native-country_ Columbia' 'native-country_ Cuba'\n",
      " 'native-country_ Dominican-Republic' 'native-country_ Ecuador'\n",
      " 'native-country_ El-Salvador' 'native-country_ England'\n",
      " 'native-country_ France' 'native-country_ Germany'\n",
      " 'native-country_ Greece' 'native-country_ Guatemala'\n",
      " 'native-country_ Haiti' 'native-country_ Holand-Netherlands'\n",
      " 'native-country_ Honduras' 'native-country_ Hong'\n",
      " 'native-country_ Hungary' 'native-country_ India' 'native-country_ Iran'\n",
      " 'native-country_ Ireland' 'native-country_ Italy'\n",
      " 'native-country_ Jamaica' 'native-country_ Japan' 'native-country_ Laos'\n",
      " 'native-country_ Mexico' 'native-country_ Nicaragua'\n",
      " 'native-country_ Outlying-US(Guam-USVI-etc)' 'native-country_ Peru'\n",
      " 'native-country_ Philippines' 'native-country_ Poland'\n",
      " 'native-country_ Portugal' 'native-country_ Puerto-Rico'\n",
      " 'native-country_ Scotland' 'native-country_ South'\n",
      " 'native-country_ Taiwan' 'native-country_ Thailand'\n",
      " 'native-country_ Trinadad&Tobago' 'native-country_ United-States'\n",
      " 'native-country_ Vietnam' 'native-country_ Yugoslavia' 'class_ <=50K'\n",
      " 'class_ >50K']\n",
      "[[0. 0. 0. ... 0. 1. 0.]\n",
      " [0. 0. 0. ... 0. 1. 0.]\n",
      " [0. 0. 1. ... 0. 0. 1.]\n",
      " ...\n",
      " [0. 0. 0. ... 0. 1. 0.]\n",
      " [0. 0. 0. ... 0. 1. 0.]\n",
      " [0. 0. 0. ... 0. 0. 1.]]\n",
      "Il y a  104 colonnes\n"
     ]
    }
   ],
   "source": [
    "hotencoder_df = df_object.copy()\n",
    "\n",
    "hotencoder.fit(hotencoder_df)\n",
    "print(hotencoder.get_feature_names_out())\n",
    "\n",
    "NumPy_result = hotencoder.transform(hotencoder_df).toarray()\n",
    "print(NumPy_result)\n",
    "\n",
    "\n",
    "print(\"Il y a \", len(hotencoder.get_feature_names_out()), \"colonnes\")"
   ]
  },
  {
   "cell_type": "markdown",
   "id": "ebe2bb2c",
   "metadata": {},
   "source": [
    "Transformez ce tableau NumPy en un dataframe avec des noms de colonnes informatifs comme fournis par l'encodeur."
   ]
  },
  {
   "cell_type": "code",
   "execution_count": 198,
   "id": "bc02baf3",
   "metadata": {},
   "outputs": [
    {
     "name": "stdout",
     "output_type": "stream",
     "text": [
      "       workclass_ ?  workclass_ Federal-gov  workclass_ Local-gov  \\\n",
      "0               0.0                     0.0                   0.0   \n",
      "1               0.0                     0.0                   0.0   \n",
      "2               0.0                     0.0                   1.0   \n",
      "3               0.0                     0.0                   0.0   \n",
      "4               1.0                     0.0                   0.0   \n",
      "...             ...                     ...                   ...   \n",
      "48837           0.0                     0.0                   0.0   \n",
      "48838           0.0                     0.0                   0.0   \n",
      "48839           0.0                     0.0                   0.0   \n",
      "48840           0.0                     0.0                   0.0   \n",
      "48841           0.0                     0.0                   0.0   \n",
      "\n",
      "       workclass_ Never-worked  workclass_ Private  workclass_ Self-emp-inc  \\\n",
      "0                          0.0                 1.0                      0.0   \n",
      "1                          0.0                 1.0                      0.0   \n",
      "2                          0.0                 0.0                      0.0   \n",
      "3                          0.0                 1.0                      0.0   \n",
      "4                          0.0                 0.0                      0.0   \n",
      "...                        ...                 ...                      ...   \n",
      "48837                      0.0                 1.0                      0.0   \n",
      "48838                      0.0                 1.0                      0.0   \n",
      "48839                      0.0                 1.0                      0.0   \n",
      "48840                      0.0                 1.0                      0.0   \n",
      "48841                      0.0                 0.0                      1.0   \n",
      "\n",
      "       workclass_ Self-emp-not-inc  workclass_ State-gov  \\\n",
      "0                              0.0                   0.0   \n",
      "1                              0.0                   0.0   \n",
      "2                              0.0                   0.0   \n",
      "3                              0.0                   0.0   \n",
      "4                              0.0                   0.0   \n",
      "...                            ...                   ...   \n",
      "48837                          0.0                   0.0   \n",
      "48838                          0.0                   0.0   \n",
      "48839                          0.0                   0.0   \n",
      "48840                          0.0                   0.0   \n",
      "48841                          0.0                   0.0   \n",
      "\n",
      "       workclass_ Without-pay  education_ 10th  ...  native-country_ Scotland  \\\n",
      "0                         0.0              0.0  ...                       0.0   \n",
      "1                         0.0              0.0  ...                       0.0   \n",
      "2                         0.0              0.0  ...                       0.0   \n",
      "3                         0.0              0.0  ...                       0.0   \n",
      "4                         0.0              0.0  ...                       0.0   \n",
      "...                       ...              ...  ...                       ...   \n",
      "48837                     0.0              0.0  ...                       0.0   \n",
      "48838                     0.0              0.0  ...                       0.0   \n",
      "48839                     0.0              0.0  ...                       0.0   \n",
      "48840                     0.0              0.0  ...                       0.0   \n",
      "48841                     0.0              0.0  ...                       0.0   \n",
      "\n",
      "       native-country_ South  native-country_ Taiwan  \\\n",
      "0                        0.0                     0.0   \n",
      "1                        0.0                     0.0   \n",
      "2                        0.0                     0.0   \n",
      "3                        0.0                     0.0   \n",
      "4                        0.0                     0.0   \n",
      "...                      ...                     ...   \n",
      "48837                    0.0                     0.0   \n",
      "48838                    0.0                     0.0   \n",
      "48839                    0.0                     0.0   \n",
      "48840                    0.0                     0.0   \n",
      "48841                    0.0                     0.0   \n",
      "\n",
      "       native-country_ Thailand  native-country_ Trinadad&Tobago  \\\n",
      "0                           0.0                              0.0   \n",
      "1                           0.0                              0.0   \n",
      "2                           0.0                              0.0   \n",
      "3                           0.0                              0.0   \n",
      "4                           0.0                              0.0   \n",
      "...                         ...                              ...   \n",
      "48837                       0.0                              0.0   \n",
      "48838                       0.0                              0.0   \n",
      "48839                       0.0                              0.0   \n",
      "48840                       0.0                              0.0   \n",
      "48841                       0.0                              0.0   \n",
      "\n",
      "       native-country_ United-States  native-country_ Vietnam  \\\n",
      "0                                1.0                      0.0   \n",
      "1                                1.0                      0.0   \n",
      "2                                1.0                      0.0   \n",
      "3                                1.0                      0.0   \n",
      "4                                1.0                      0.0   \n",
      "...                              ...                      ...   \n",
      "48837                            1.0                      0.0   \n",
      "48838                            1.0                      0.0   \n",
      "48839                            1.0                      0.0   \n",
      "48840                            1.0                      0.0   \n",
      "48841                            1.0                      0.0   \n",
      "\n",
      "       native-country_ Yugoslavia  class_ <=50K  class_ >50K  \n",
      "0                             0.0           1.0          0.0  \n",
      "1                             0.0           1.0          0.0  \n",
      "2                             0.0           0.0          1.0  \n",
      "3                             0.0           0.0          1.0  \n",
      "4                             0.0           1.0          0.0  \n",
      "...                           ...           ...          ...  \n",
      "48837                         0.0           1.0          0.0  \n",
      "48838                         0.0           0.0          1.0  \n",
      "48839                         0.0           1.0          0.0  \n",
      "48840                         0.0           1.0          0.0  \n",
      "48841                         0.0           0.0          1.0  \n",
      "\n",
      "[48842 rows x 104 columns]\n"
     ]
    }
   ],
   "source": [
    "hotencoder_df = pd.DataFrame(data = NumPy_result, columns = hotencoder.get_feature_names_out())\n",
    "print(hotencoder_df)"
   ]
  },
  {
   "cell_type": "markdown",
   "id": "d1e389e4",
   "metadata": {},
   "source": [
    "Observez comment la colonne `workclass` des trois premières observations a été encodée et comparez-la à la représentation originale en chaîne de caractères.\n",
    "\n",
    "Le nombre de caractéristiques après l'encodage est plus de 10 fois plus grand que dans les données originales parce que certaines colonnes comme `occupation` et  `native-country` ont de nombreuses catégories possibles."
   ]
  },
  {
   "cell_type": "markdown",
   "id": "7d7f988b",
   "metadata": {
    "tags": []
   },
   "source": [
    "### Choix d'une stratégie d'encodage\n",
    "\n",
    "Le choix d'une stratégie d'encodage dépendra des modèles sous-jacents et du type de catégories (c'est-à-dire ordinales ou nominales)."
   ]
  },
  {
   "cell_type": "markdown",
   "id": "3e5d2689",
   "metadata": {},
   "source": [
    "<div class=\"admonition note alert alert-info\">\n",
    "<p class=\"first admonition-title\" style=\"font-weight: bold;\">Note</p>\n",
    "<p class=\"last\">En générale <tt class=\"docutils literal\">OneHotEncoder</tt> est une stratégie d'encodage utilisée lorsque les modèles en aval sont des <strong>modèles linéaires</strong> tandis que <tt class=\"docutils literal\">OrdinalEncoder</tt> est souvent une bonne stratégie pour \n",
    "les <strong>modèles arborescents</strong>.</p>\n",
    "</div>"
   ]
  },
  {
   "cell_type": "markdown",
   "id": "efde54a8",
   "metadata": {},
   "source": [
    "L'utilisation d'un `OrdinalEncoder` produira des catégories ordinales. Cela signifie qu'il y a un ordre dans les catégories résultantes (par exemple, `0 < 1 < 2`). L'impact de la violation de cette hypothèse d'ordre dépend des modèles en aval. Les modèles linéaires seront impactés par des catégories mal ordonnées alors que les modèles basés sur les arbres ne le seront pas.\n",
    "\n",
    "Vous pouvez toujours utiliser un `OrdinalEncoder` avec des modèles linéaires mais vous devez être sûr que :\n",
    "- les catégories originales (avant l'encodage) ont un ordre ;\n",
    "- les catégories codées suivent le même ordre que les catégories originales. \n",
    "\n",
    "\n",
    "L'encodage ont-hot des colonnes catégorielles avec une cardinalité élevée peut causer une inefficacité computationnelle dans les modèles basés sur des arbres. Pour cette raison, il n'est pas recommandé d'utiliser `OneHotEncoder` dans de tels cas, même si les catégories originales n'ont pas un ordre donné. \n",
    "\n",
    "\n"
   ]
  },
  {
   "cell_type": "markdown",
   "id": "394ac90b",
   "metadata": {
    "tags": []
   },
   "source": [
    "## Évaluer notre pipeline prédictif\n",
    "\n",
    "Nous pouvons maintenant intégrer cet encodeur dans un pipeline d'apprentissage automatique: entraînons un classificateur linéaire sur les données encodées et vérifions la performance de généralisation de ce pipeline d'apprentissage automatique en utilisant la validation croisée.\n",
    "\n",
    "Avant de créer le pipeline, nous devons nous attarder sur le `native-country`. \n",
    "\n",
    "Calculez les cardinalités de chaque valeur de cette colonne."
   ]
  },
  {
   "cell_type": "code",
   "execution_count": 203,
   "id": "9e7039ba",
   "metadata": {},
   "outputs": [
    {
     "name": "stdout",
     "output_type": "stream",
     "text": [
      "native-country\n",
      " United-States                 43832\n",
      " Mexico                          951\n",
      " ?                               857\n",
      " Philippines                     295\n",
      " Germany                         206\n",
      " Puerto-Rico                     184\n",
      " Canada                          182\n",
      " El-Salvador                     155\n",
      " India                           151\n",
      " Cuba                            138\n",
      " England                         127\n",
      " China                           122\n",
      " South                           115\n",
      " Jamaica                         106\n",
      " Italy                           105\n",
      " Dominican-Republic              103\n",
      " Japan                            92\n",
      " Guatemala                        88\n",
      " Poland                           87\n",
      " Vietnam                          86\n",
      " Columbia                         85\n",
      " Haiti                            75\n",
      " Portugal                         67\n",
      " Taiwan                           65\n",
      " Iran                             59\n",
      " Greece                           49\n",
      " Nicaragua                        49\n",
      " Peru                             46\n",
      " Ecuador                          45\n",
      " France                           38\n",
      " Ireland                          37\n",
      " Hong                             30\n",
      " Thailand                         30\n",
      " Cambodia                         28\n",
      " Trinadad&Tobago                  27\n",
      " Laos                             23\n",
      " Yugoslavia                       23\n",
      " Outlying-US(Guam-USVI-etc)       23\n",
      " Scotland                         21\n",
      " Honduras                         20\n",
      " Hungary                          19\n",
      " Holand-Netherlands                1\n",
      "Name: count, dtype: int64\n"
     ]
    }
   ],
   "source": [
    "print(df[\"native-country\"].value_counts())"
   ]
  },
  {
   "cell_type": "markdown",
   "id": "2f0f2b4d",
   "metadata": {},
   "source": [
    "Nous constatons que la catégorie `Holand-Netherlands` apparaît rarement. Cela posera un problème lors de la validation croisée : si cette observation se retrouve dans l'ensemble de test lors du fractionnement, le classificateur n'aura pas vu la catégorie lors de l'entraînement et ne sera pas capable de la coder.\n",
    "\n",
    "Dans scikit-learn, il existe deux solutions pour contourner ce problème :\n",
    "\n",
    "* lister toutes les catégories possibles et les fournir à l'encodeur via l'argument mot-clé `categories` ;\n",
    "* utiliser le paramètre `handle_unknown`.\n",
    "\n",
    "Ici, nous utiliserons la dernière solution pour plus de simplicité."
   ]
  },
  {
   "cell_type": "markdown",
   "id": "706275f1",
   "metadata": {},
   "source": [
    "Mettez en place le pipeline d'apprentissage automatique en utilisant la méthode `make_pipeline`. Celui-ci doit contenir l'encodeur one-hot ainsi que la méthode de régression logistique."
   ]
  },
  {
   "cell_type": "code",
   "execution_count": 63,
   "id": "6a5ef783",
   "metadata": {},
   "outputs": [
    {
     "name": "stdout",
     "output_type": "stream",
     "text": [
      "{'fit_time': array([0.55014753, 0.53401089, 0.50177431, 0.54954314, 0.57596779]), 'score_time': array([0.00753498, 0.01562643, 0.0317626 , 0.02035975, 0.03125811]), 'test_score': array([0.83222438, 0.83560242, 0.82872645, 0.83312858, 0.83466421])}\n",
      "fit_time  0.5422887325286865\n",
      "score_time  0.021308374404907227\n",
      "test_score  0.8328692091154984\n"
     ]
    }
   ],
   "source": [
    "from sklearn.pipeline import make_pipeline\n",
    "from sklearn.linear_model import LogisticRegression\n",
    "from sklearn.model_selection import cross_validate\n",
    "\n",
    "df_pipeline = pd.read_csv('../datasets/adult-census.csv')\n",
    "\n",
    "# create data DF with only object\n",
    "df_data = df_pipeline.drop(columns=['class'])\n",
    "df_data = df_data.select_dtypes(include=['object'], exclude=['int64'])\n",
    "\n",
    "# create target DF\n",
    "df_target = df_pipeline[\"class\"]\n",
    "\n",
    "#create pipeline\n",
    "pipe = make_pipeline(\n",
    "    OneHotEncoder(handle_unknown='ignore'),\n",
    "    LogisticRegression(random_state=0, max_iter=3000)\n",
    ")\n",
    "pipe.fit(df_data, df_target)\n",
    "\n",
    "cv = cross_validate(pipe, df_data, df_target, cv=5)\n",
    "\n",
    "print(cv)\n",
    "print(\"fit_time \", cv['fit_time'].mean())\n",
    "print(\"score_time \", cv['score_time'].mean())\n",
    "print(\"test_score \", cv['test_score'].mean())"
   ]
  },
  {
   "cell_type": "markdown",
   "id": "82de85df",
   "metadata": {},
   "source": [
    "Enfin, vérifiez la performance de généralisation du modèle en utilisant uniquement les colonnes catégorielles. Ceci doit être effectué avec la méthode cross_validate à laquelle le pipeline, les données catégorielles ainsi que la cible sont fournis en argument. \n",
    "\n",
    "Choisissez un nombre de fractionnement `cv` égal à 5.\n",
    "\n",
    "Calculez la moyenne des 5 scores.\n",
    "\n",
    "Le score est-il meilleur que celui du modèle entraîné sur uniquement les colonnes numériques?"
   ]
  },
  {
   "cell_type": "code",
   "execution_count": 59,
   "id": "2258fe98",
   "metadata": {},
   "outputs": [],
   "source": [
    "#le test score est de 0.8328692091154984.\n",
    "# Le score du modèle entrainé uniquement sur les colonnes numériques est 0.7562698331456649\n",
    "# Il est donc meilleur que le précédent modèle entrainé sur les colonnes numériques"
   ]
  },
  {
   "cell_type": "code",
   "execution_count": null,
   "id": "b2207476",
   "metadata": {},
   "outputs": [],
   "source": []
  },
  {
   "cell_type": "markdown",
   "id": "5e3b0733-23ad-401f-9a6b-d89505524c08",
   "metadata": {},
   "source": [
    "Varier la valeur de cv entre 3 et 10. Y a t-il un changement dans le score moyen?"
   ]
  },
  {
   "cell_type": "code",
   "execution_count": 69,
   "id": "ee5f96ff-7e8c-4076-ac45-e6afde8fbfb6",
   "metadata": {},
   "outputs": [
    {
     "name": "stdout",
     "output_type": "stream",
     "text": [
      "{'fit_time': array([0.83485889, 0.7092247 , 0.64337397, 0.64413571, 0.67607498,\n",
      "       0.7219243 , 0.73416829, 0.69096208, 0.72166467, 0.70642066,\n",
      "       0.5967176 , 0.67539024, 0.67737079, 0.62806869, 0.67536163,\n",
      "       0.72246456, 0.65925932, 0.69149828, 0.72225308, 0.59666562,\n",
      "       0.64887762, 0.6749301 , 0.6923933 , 0.65068412, 0.69091439,\n",
      "       0.64278603, 0.68579173, 0.6015799 , 0.69284439, 0.62778473]), 'score_time': array([0.        , 0.        , 0.        , 0.        , 0.        ,\n",
      "       0.00453591, 0.        , 0.        , 0.        , 0.        ,\n",
      "       0.01562572, 0.01561689, 0.015625  , 0.        , 0.        ,\n",
      "       0.        , 0.        , 0.        , 0.        , 0.        ,\n",
      "       0.01104379, 0.01617551, 0.00903893, 0.01562691, 0.        ,\n",
      "       0.00503945, 0.01553822, 0.01104879, 0.        , 0.        ]), 'test_score': array([0.82074893, 0.8422345 , 0.83599509, 0.83660934, 0.82309582,\n",
      "       0.83476658, 0.83906634, 0.84275184, 0.83353808, 0.84090909,\n",
      "       0.83292383, 0.82309582, 0.82063882, 0.83906634, 0.82985258,\n",
      "       0.83906634, 0.81142506, 0.83845209, 0.82862408, 0.83845209,\n",
      "       0.83783784, 0.81879607, 0.84029484, 0.83599509, 0.84336609,\n",
      "       0.83906634, 0.83538084, 0.83108108, 0.83783784, 0.82739558])}\n",
      "fit_time  0.6778814792633057\n",
      "score_time  0.004497170448303223\n",
      "test_score  0.8332788086931733\n"
     ]
    }
   ],
   "source": [
    "# Non, il n'y a aucun changement"
   ]
  },
  {
   "cell_type": "markdown",
   "id": "0a670a5d",
   "metadata": {},
   "source": [
    "Dans ce notebook, nous avons :\n",
    "* vu deux stratégies communes pour coder les colonnes catégorielles : **l'encodage nominal et l'encodage one-hot** ;\n",
    "* utilisé un **pipeline** pour utiliser un **encodeur one-hot** avant de procéder à une régression logistique."
   ]
  }
 ],
 "metadata": {
  "jupytext": {
   "main_language": "python"
  },
  "kernelspec": {
   "display_name": "Python 3 (ipykernel)",
   "language": "python",
   "name": "python3"
  },
  "language_info": {
   "codemirror_mode": {
    "name": "ipython",
    "version": 3
   },
   "file_extension": ".py",
   "mimetype": "text/x-python",
   "name": "python",
   "nbconvert_exporter": "python",
   "pygments_lexer": "ipython3",
   "version": "3.11.5"
  }
 },
 "nbformat": 4,
 "nbformat_minor": 5
}
