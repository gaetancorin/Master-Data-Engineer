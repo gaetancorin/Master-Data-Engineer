{
 "cells": [
  {
   "cell_type": "markdown",
   "id": "c611c253",
   "metadata": {},
   "source": [
    "# 📝 Exercice 2.1\n",
    "\n",
    "Le but de cet exercice est d'ajuster un modèle de classification, afin de se familiariser avec la manipulation des objets scikit-learn et en\n",
    "en particulier l'API `.fit/.predict/.score`."
   ]
  },
  {
   "cell_type": "markdown",
   "id": "2365342e",
   "metadata": {},
   "source": [
    "Charger l'ensemble de données du recensement des adultes dont le chemin est \"datasets/adult-census-numeric.csv\". Créer ensuite deux sous-ensembles de données: le premier est constitué uniquement des caractéritiques indépendantes et l'autre contient seulement la caractéristique cible. \n",
    "\n",
    "Astuce: utiliser pd.read_csv pour le chargement et df.drop() pour supprimer une caractéristique indésirable."
   ]
  },
  {
   "cell_type": "code",
   "execution_count": 1,
   "id": "98c9f82c",
   "metadata": {},
   "outputs": [
    {
     "name": "stdout",
     "output_type": "stream",
     "text": [
      "       age  capital-gain  capital-loss  hours-per-week   class\n",
      "0       41             0             0              92   <=50K\n",
      "1       48             0             0              40   <=50K\n",
      "2       60             0             0              25   <=50K\n",
      "3       37             0             0              45   <=50K\n",
      "4       73          3273             0              40   <=50K\n",
      "...    ...           ...           ...             ...     ...\n",
      "39068   45             0             0              40   <=50K\n",
      "39069   47             0             0              60   <=50K\n",
      "39070   29             0          1485              60    >50K\n",
      "39071   29             0             0              40   <=50K\n",
      "39072   46         15024             0              55    >50K\n",
      "\n",
      "[39073 rows x 5 columns]\n",
      "int64\n",
      "int64\n",
      "int64\n",
      "int64\n",
      "object\n"
     ]
    }
   ],
   "source": [
    "import pandas as pd\n",
    "\n",
    "df = pd.read_csv('../datasets/adult-census-numeric.csv')\n",
    "print(df)\n",
    "for column in df:\n",
    "    print(df[column].dtype)"
   ]
  },
  {
   "cell_type": "code",
   "execution_count": 2,
   "id": "9538041d",
   "metadata": {},
   "outputs": [
    {
     "data": {
      "text/plain": [
       "0     <=50K\n",
       "1     <=50K\n",
       "2     <=50K\n",
       "3     <=50K\n",
       "4     <=50K\n",
       "Name: class, dtype: object"
      ]
     },
     "execution_count": 2,
     "metadata": {},
     "output_type": "execute_result"
    }
   ],
   "source": [
    "testing_target = df[\"class\"]\n",
    "testing_target.head()"
   ]
  },
  {
   "cell_type": "code",
   "execution_count": 3,
   "id": "2963279e",
   "metadata": {},
   "outputs": [
    {
     "data": {
      "text/html": [
       "<div>\n",
       "<style scoped>\n",
       "    .dataframe tbody tr th:only-of-type {\n",
       "        vertical-align: middle;\n",
       "    }\n",
       "\n",
       "    .dataframe tbody tr th {\n",
       "        vertical-align: top;\n",
       "    }\n",
       "\n",
       "    .dataframe thead th {\n",
       "        text-align: right;\n",
       "    }\n",
       "</style>\n",
       "<table border=\"1\" class=\"dataframe\">\n",
       "  <thead>\n",
       "    <tr style=\"text-align: right;\">\n",
       "      <th></th>\n",
       "      <th>age</th>\n",
       "      <th>capital-gain</th>\n",
       "      <th>capital-loss</th>\n",
       "      <th>hours-per-week</th>\n",
       "    </tr>\n",
       "  </thead>\n",
       "  <tbody>\n",
       "    <tr>\n",
       "      <th>0</th>\n",
       "      <td>41</td>\n",
       "      <td>0</td>\n",
       "      <td>0</td>\n",
       "      <td>92</td>\n",
       "    </tr>\n",
       "    <tr>\n",
       "      <th>1</th>\n",
       "      <td>48</td>\n",
       "      <td>0</td>\n",
       "      <td>0</td>\n",
       "      <td>40</td>\n",
       "    </tr>\n",
       "    <tr>\n",
       "      <th>2</th>\n",
       "      <td>60</td>\n",
       "      <td>0</td>\n",
       "      <td>0</td>\n",
       "      <td>25</td>\n",
       "    </tr>\n",
       "    <tr>\n",
       "      <th>3</th>\n",
       "      <td>37</td>\n",
       "      <td>0</td>\n",
       "      <td>0</td>\n",
       "      <td>45</td>\n",
       "    </tr>\n",
       "    <tr>\n",
       "      <th>4</th>\n",
       "      <td>73</td>\n",
       "      <td>3273</td>\n",
       "      <td>0</td>\n",
       "      <td>40</td>\n",
       "    </tr>\n",
       "  </tbody>\n",
       "</table>\n",
       "</div>"
      ],
      "text/plain": [
       "   age  capital-gain  capital-loss  hours-per-week\n",
       "0   41             0             0              92\n",
       "1   48             0             0              40\n",
       "2   60             0             0              25\n",
       "3   37             0             0              45\n",
       "4   73          3273             0              40"
      ]
     },
     "execution_count": 3,
     "metadata": {},
     "output_type": "execute_result"
    }
   ],
   "source": [
    "training_data = df.drop(columns=['class'])\n",
    "training_data.head()"
   ]
  },
  {
   "cell_type": "markdown",
   "id": "30ff16cf",
   "metadata": {},
   "source": [
    "Dans la suite de ce notebook, nous allons utiliser le classifieur des k-plus proches voisins `KNeighborsClassifier()`. A noter que tous les modèles de scikit-learn peuvent être créés sans arguments. Cela est pratique car cela signifie que vous n'avez pas besoin de comprendre tous les détails d'un modèle avant de commencer à l'utiliser.\n",
    "\n",
    "L'un des paramètres du `KNeighborsClassifier` est `n_neighbors`. Il contrôle le nombre de voisins que nous allons utiliser pour faire une prédiction pour un nouveau point de données.\n",
    "\n",
    "Quelle est la valeur par défaut du paramètre `n_neighbors` ? Indice : consultez la\n",
    "documentation sur le site [scikit-learn](https://scikit-learn.org/stable/modules/generated/sklearn.neighbors.KNeighborsClassifier.html)\n",
    "ou accédez directement à la description à l'intérieur de votre notebook en exécutant la\n",
    "cellule suivante."
   ]
  },
  {
   "cell_type": "code",
   "execution_count": 4,
   "id": "872c5fc2",
   "metadata": {
    "scrolled": true,
    "tags": []
   },
   "outputs": [],
   "source": [
    "# La valeur par défaut du paramètre n_neighbors est 5"
   ]
  },
  {
   "cell_type": "code",
   "execution_count": 5,
   "id": "023ede1b-3a4e-40a9-a963-81efd47a1db5",
   "metadata": {},
   "outputs": [],
   "source": [
    "# Écrivez votre réponse ici."
   ]
  },
  {
   "cell_type": "markdown",
   "id": "4a324680",
   "metadata": {},
   "source": [
    "Créez un modèle \"KNeighborsClassifier\" avec \"n_neighbors=50\"."
   ]
  },
  {
   "cell_type": "code",
   "execution_count": 6,
   "id": "a1684500",
   "metadata": {},
   "outputs": [
    {
     "name": "stdout",
     "output_type": "stream",
     "text": [
      "KNeighborsClassifier(n_neighbors=50)\n"
     ]
    }
   ],
   "source": [
    "from sklearn.neighbors import KNeighborsClassifier\n",
    "neigh = KNeighborsClassifier(n_neighbors=50)\n",
    "print(neigh)"
   ]
  },
  {
   "cell_type": "markdown",
   "id": "d88d602c-f649-4e4d-81df-86a636d9a370",
   "metadata": {},
   "source": [
    "L'apprentissage peut être représenté comme suit :\n",
    "\n",
    "![Predictor fit diagram](../img/api_diagram-predictor.fit.svg)\n",
    "\n",
    "La méthode `fit` est composée de deux éléments : (i) un **algorithme d'apprentissage** et (ii) des **états du modèle**. L'algorithme d'apprentissage prend les données d'apprentissage et la cible d'apprentissage en entrée et définit les états du modèle. Ces états du modèle seront utilisés ultérieurement pour prédire (pour les classificateurs et les régresseurs) ou transformer les données (pour les transformateurs).\n",
    "\n",
    "L'algorithme d'apprentissage et le type d'états du modèle sont spécifiques à chaque type de modèle."
   ]
  },
  {
   "cell_type": "markdown",
   "id": "6ca19282",
   "metadata": {},
   "source": [
    "Ajustez ce modèle sur les données et la cible chargée ci-dessus."
   ]
  },
  {
   "cell_type": "code",
   "execution_count": 7,
   "id": "92196bd0",
   "metadata": {},
   "outputs": [
    {
     "data": {
      "text/html": [
       "<style>#sk-container-id-1 {color: black;}#sk-container-id-1 pre{padding: 0;}#sk-container-id-1 div.sk-toggleable {background-color: white;}#sk-container-id-1 label.sk-toggleable__label {cursor: pointer;display: block;width: 100%;margin-bottom: 0;padding: 0.3em;box-sizing: border-box;text-align: center;}#sk-container-id-1 label.sk-toggleable__label-arrow:before {content: \"▸\";float: left;margin-right: 0.25em;color: #696969;}#sk-container-id-1 label.sk-toggleable__label-arrow:hover:before {color: black;}#sk-container-id-1 div.sk-estimator:hover label.sk-toggleable__label-arrow:before {color: black;}#sk-container-id-1 div.sk-toggleable__content {max-height: 0;max-width: 0;overflow: hidden;text-align: left;background-color: #f0f8ff;}#sk-container-id-1 div.sk-toggleable__content pre {margin: 0.2em;color: black;border-radius: 0.25em;background-color: #f0f8ff;}#sk-container-id-1 input.sk-toggleable__control:checked~div.sk-toggleable__content {max-height: 200px;max-width: 100%;overflow: auto;}#sk-container-id-1 input.sk-toggleable__control:checked~label.sk-toggleable__label-arrow:before {content: \"▾\";}#sk-container-id-1 div.sk-estimator input.sk-toggleable__control:checked~label.sk-toggleable__label {background-color: #d4ebff;}#sk-container-id-1 div.sk-label input.sk-toggleable__control:checked~label.sk-toggleable__label {background-color: #d4ebff;}#sk-container-id-1 input.sk-hidden--visually {border: 0;clip: rect(1px 1px 1px 1px);clip: rect(1px, 1px, 1px, 1px);height: 1px;margin: -1px;overflow: hidden;padding: 0;position: absolute;width: 1px;}#sk-container-id-1 div.sk-estimator {font-family: monospace;background-color: #f0f8ff;border: 1px dotted black;border-radius: 0.25em;box-sizing: border-box;margin-bottom: 0.5em;}#sk-container-id-1 div.sk-estimator:hover {background-color: #d4ebff;}#sk-container-id-1 div.sk-parallel-item::after {content: \"\";width: 100%;border-bottom: 1px solid gray;flex-grow: 1;}#sk-container-id-1 div.sk-label:hover label.sk-toggleable__label {background-color: #d4ebff;}#sk-container-id-1 div.sk-serial::before {content: \"\";position: absolute;border-left: 1px solid gray;box-sizing: border-box;top: 0;bottom: 0;left: 50%;z-index: 0;}#sk-container-id-1 div.sk-serial {display: flex;flex-direction: column;align-items: center;background-color: white;padding-right: 0.2em;padding-left: 0.2em;position: relative;}#sk-container-id-1 div.sk-item {position: relative;z-index: 1;}#sk-container-id-1 div.sk-parallel {display: flex;align-items: stretch;justify-content: center;background-color: white;position: relative;}#sk-container-id-1 div.sk-item::before, #sk-container-id-1 div.sk-parallel-item::before {content: \"\";position: absolute;border-left: 1px solid gray;box-sizing: border-box;top: 0;bottom: 0;left: 50%;z-index: -1;}#sk-container-id-1 div.sk-parallel-item {display: flex;flex-direction: column;z-index: 1;position: relative;background-color: white;}#sk-container-id-1 div.sk-parallel-item:first-child::after {align-self: flex-end;width: 50%;}#sk-container-id-1 div.sk-parallel-item:last-child::after {align-self: flex-start;width: 50%;}#sk-container-id-1 div.sk-parallel-item:only-child::after {width: 0;}#sk-container-id-1 div.sk-dashed-wrapped {border: 1px dashed gray;margin: 0 0.4em 0.5em 0.4em;box-sizing: border-box;padding-bottom: 0.4em;background-color: white;}#sk-container-id-1 div.sk-label label {font-family: monospace;font-weight: bold;display: inline-block;line-height: 1.2em;}#sk-container-id-1 div.sk-label-container {text-align: center;}#sk-container-id-1 div.sk-container {/* jupyter's `normalize.less` sets `[hidden] { display: none; }` but bootstrap.min.css set `[hidden] { display: none !important; }` so we also need the `!important` here to be able to override the default hidden behavior on the sphinx rendered scikit-learn.org. See: https://github.com/scikit-learn/scikit-learn/issues/21755 */display: inline-block !important;position: relative;}#sk-container-id-1 div.sk-text-repr-fallback {display: none;}</style><div id=\"sk-container-id-1\" class=\"sk-top-container\"><div class=\"sk-text-repr-fallback\"><pre>KNeighborsClassifier(n_neighbors=50)</pre><b>In a Jupyter environment, please rerun this cell to show the HTML representation or trust the notebook. <br />On GitHub, the HTML representation is unable to render, please try loading this page with nbviewer.org.</b></div><div class=\"sk-container\" hidden><div class=\"sk-item\"><div class=\"sk-estimator sk-toggleable\"><input class=\"sk-toggleable__control sk-hidden--visually\" id=\"sk-estimator-id-1\" type=\"checkbox\" checked><label for=\"sk-estimator-id-1\" class=\"sk-toggleable__label sk-toggleable__label-arrow\">KNeighborsClassifier</label><div class=\"sk-toggleable__content\"><pre>KNeighborsClassifier(n_neighbors=50)</pre></div></div></div></div></div>"
      ],
      "text/plain": [
       "KNeighborsClassifier(n_neighbors=50)"
      ]
     },
     "execution_count": 7,
     "metadata": {},
     "output_type": "execute_result"
    }
   ],
   "source": [
    "neigh.fit(training_data, testing_target)"
   ]
  },
  {
   "cell_type": "markdown",
   "id": "509ee7ab-0979-4e4a-97ae-88ef7a75e100",
   "metadata": {},
   "source": [
    "Nous pouvons illustrer le mécanisme de prédiction comme suit :\n",
    "\n",
    "![Predictor predict diagramme](../img/api_diagram-predictor.predict.svg)\n",
    "\n",
    "Pour prédire, un modèle utilise une **fonction de prédiction** qui utilisera les données d'entrée ainsi que les états du modèle. Comme pour l'algorithme d'apprentissage et les états du modèle, la fonction de prédiction est spécifique à chaque type de modèle."
   ]
  },
  {
   "cell_type": "markdown",
   "id": "c7f68bab",
   "metadata": {},
   "source": [
    "Utilisez votre modèle pour faire des prédictions sur les 10 premiers points de données. Correspondent-elles aux valeurs cibles réelles ?"
   ]
  },
  {
   "cell_type": "code",
   "execution_count": 8,
   "id": "896e1246",
   "metadata": {},
   "outputs": [
    {
     "name": "stdout",
     "output_type": "stream",
     "text": [
      "[' <=50K' ' <=50K' ' <=50K' ' <=50K' ' <=50K' ' <=50K' ' <=50K' ' >50K'\n",
      " ' <=50K' ' <=50K']\n",
      "0     <=50K\n",
      "1     <=50K\n",
      "2     <=50K\n",
      "3     <=50K\n",
      "4     <=50K\n",
      "5     <=50K\n",
      "6     <=50K\n",
      "7      >50K\n",
      "8     <=50K\n",
      "9      >50K\n",
      "Name: class, dtype: object\n"
     ]
    }
   ],
   "source": [
    "predict = neigh.predict(training_data[:10])\n",
    "print(predict)\n",
    "print(testing_target[:10])"
   ]
  },
  {
   "cell_type": "markdown",
   "id": "778baf0b",
   "metadata": {},
   "source": [
    "Au lieu de calculer la prédiction et de calculer manuellement le taux de réussite moyen, nous pouvons utiliser la méthode `score`. Lorsqu'il s'agit de classificateurs cette méthode renvoie leur précision.\n",
    "\n",
    "Vérifions le mécanisme sous-jacent lorsque la méthode `score` est appelée :\n",
    "\n",
    "![Predictor score diagram](../img/api_diagram-predictor.score.svg)\n",
    "\n",
    "Pour calculer le score, le prédicteur calcule d'abord les prédictions (avec la méthode\n",
    "la méthode `predict`) et utilise ensuite une fonction de score pour comparer la\n",
    "cible réelle `y` et les prédictions. Enfin, le score est retourné.\n",
    "\n",
    "Calculer la précision sur les données d'entraînement"
   ]
  },
  {
   "cell_type": "code",
   "execution_count": 9,
   "id": "b5da4369",
   "metadata": {},
   "outputs": [
    {
     "data": {
      "text/plain": [
       "0.8290379545978042"
      ]
     },
     "execution_count": 9,
     "metadata": {},
     "output_type": "execute_result"
    }
   ],
   "source": [
    "neigh.score(training_data, testing_target)"
   ]
  },
  {
   "cell_type": "markdown",
   "id": "28d82cae",
   "metadata": {},
   "source": [
    "Maintenant, chargez les données de test depuis \"../datasets/adult-census-numeric-test.csv\" et calculez la précision sur les données de test."
   ]
  },
  {
   "cell_type": "code",
   "execution_count": 14,
   "id": "af68fe76",
   "metadata": {},
   "outputs": [
    {
     "name": "stdout",
     "output_type": "stream",
     "text": [
      "      age  capital-gain  capital-loss  hours-per-week   class\n",
      "0      20             0             0              35   <=50K\n",
      "1      53             0             0              72    >50K\n",
      "2      41             0             0              50    >50K\n",
      "3      20             0             0              40   <=50K\n",
      "4      25             0             0              40   <=50K\n",
      "...   ...           ...           ...             ...     ...\n",
      "9764   30             0             0              49   <=50K\n",
      "9765   57             0             0              50    >50K\n",
      "9766   63             0             0              35   <=50K\n",
      "9767   59             0             0              40   <=50K\n",
      "9768   42             0             0              35   <=50K\n",
      "\n",
      "[9769 rows x 5 columns]\n",
      "int64\n",
      "int64\n",
      "int64\n",
      "int64\n",
      "object\n"
     ]
    }
   ],
   "source": [
    "import pandas as pd\n",
    "\n",
    "df = pd.read_csv('../datasets/adult-census-numeric-test.csv')\n",
    "print(df)\n",
    "for column in df:\n",
    "    print(df[column].dtype)\n",
    "\n",
    "testing_target_test = df[\"class\"]\n",
    "\n",
    "training_data_test = df.drop(columns=['class'])"
   ]
  },
  {
   "cell_type": "code",
   "execution_count": 15,
   "id": "a002477d",
   "metadata": {},
   "outputs": [
    {
     "data": {
      "text/plain": [
       "0.8188146176681339"
      ]
     },
     "execution_count": 15,
     "metadata": {},
     "output_type": "execute_result"
    }
   ],
   "source": [
    "neigh.score(training_data_test, testing_target_test)"
   ]
  },
  {
   "cell_type": "code",
   "execution_count": null,
   "id": "d6e8eef7",
   "metadata": {},
   "outputs": [],
   "source": []
  }
 ],
 "metadata": {
  "jupytext": {
   "encoding": "# -*- coding: utf-8 -*-",
   "main_language": "python"
  },
  "kernelspec": {
   "display_name": "Python 3 (ipykernel)",
   "language": "python",
   "name": "python3"
  },
  "language_info": {
   "codemirror_mode": {
    "name": "ipython",
    "version": 3
   },
   "file_extension": ".py",
   "mimetype": "text/x-python",
   "name": "python",
   "nbconvert_exporter": "python",
   "pygments_lexer": "ipython3",
   "version": "3.11.5"
  }
 },
 "nbformat": 4,
 "nbformat_minor": 5
}
