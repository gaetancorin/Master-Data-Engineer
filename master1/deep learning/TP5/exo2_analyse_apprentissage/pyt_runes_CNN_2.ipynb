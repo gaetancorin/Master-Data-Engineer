{
 "cells": [
  {
   "cell_type": "code",
   "execution_count": 1,
   "id": "fc02b48a-20b9-49a9-aaeb-86f1e7ccaff7",
   "metadata": {},
   "outputs": [],
   "source": [
    "# Importer les bibliothèques"
   ]
  },
  {
   "cell_type": "code",
   "execution_count": 2,
   "id": "69b707a9-891b-4058-a166-f0f84b1a086a",
   "metadata": {},
   "outputs": [
    {
     "name": "stdout",
     "output_type": "stream",
     "text": [
      "WARNING:tensorflow:From C:\\Users\\Utilisateur\\AppData\\Local\\Programs\\Python\\Python310\\lib\\site-packages\\keras\\src\\losses.py:2976: The name tf.losses.sparse_softmax_cross_entropy is deprecated. Please use tf.compat.v1.losses.sparse_softmax_cross_entropy instead.\n",
      "\n"
     ]
    }
   ],
   "source": [
    "# Scikit-Learn ≥0.20 is required\n",
    "import sklearn\n",
    "assert sklearn.__version__ >= \"0.20\"\n",
    "\n",
    "# TensorFlow ≥2.0 is required\n",
    "import tensorflow as tf\n",
    "from tensorflow import keras\n",
    "assert tf.__version__ >= \"2.0\"\n",
    "\n",
    "# Common imports\n",
    "import numpy as np\n",
    "import os\n",
    "\n",
    "# to make this notebook's output stable across runs\n",
    "np.random.seed(42)\n",
    "tf.random.set_seed(42)"
   ]
  },
  {
   "cell_type": "code",
   "execution_count": 3,
   "id": "f3795b82-16ac-426f-8b9b-014aac5ee445",
   "metadata": {},
   "outputs": [],
   "source": [
    "# Préparer le jeu de données "
   ]
  },
  {
   "cell_type": "code",
   "execution_count": 4,
   "id": "af258ef6-8f3e-4255-9311-5ce36dd8e3e0",
   "metadata": {},
   "outputs": [
    {
     "name": "stdout",
     "output_type": "stream",
     "text": [
      "Dimensions des ensembles d'entraînement, de validation et de test :\n",
      "Entraînement : (38784, 28, 28, 1) (38784,)\n",
      "Validation   : (4848, 28, 28, 1) (4848,)\n",
      "Test         : (4848, 28, 28, 1) (4848,)\n"
     ]
    }
   ],
   "source": [
    "from PIL import Image\n",
    "import os\n",
    "import numpy as np\n",
    "from sklearn.model_selection import train_test_split\n",
    "\n",
    "# Charger les images originales\n",
    "data_directory = \"C:/Users/Utilisateur/Documents/Python/python_Ynnov/Minst/mes_images\"\n",
    "image_files = os.listdir(data_directory)\n",
    "images = []\n",
    "labels = [0,1,2,3,4,5]\n",
    "\n",
    "for filename in image_files:\n",
    "    if filename.endswith(\".jpg\"):\n",
    "        img = Image.open(os.path.join(data_directory, filename)).convert('L')  # Convertir en niveaux de gris\n",
    "        images.append(img)\n",
    "        \n",
    "# Redimensionner les images et appliquer la rotation pour augmenter les données\n",
    "augmented_images = []\n",
    "augmented_labels = []\n",
    "\n",
    "for iteration in range(80) :\n",
    "    for i, img in enumerate(images):\n",
    "        for angle in range(-50, 51):\n",
    "            rotated_img = img.rotate(angle, resample=Image.BILINEAR, fillcolor=255)  # Appliquer la rotation\n",
    "            resized_img = rotated_img.resize((28, 28), Image.LANCZOS)  # Redimensionner l'image\n",
    "            augmented_images.append(np.array(resized_img))  # Convertir en tableau numpy\n",
    "            augmented_labels.append(labels[i])\n",
    "\n",
    "# Partitionner les données\n",
    "X_train, X_test, y_train, y_test = train_test_split(augmented_images, augmented_labels, test_size=0.2, random_state=42)\n",
    "X_val, X_test, y_val, y_test = train_test_split(X_test, y_test, test_size=0.5, random_state=42)\n",
    "\n",
    "# Convertir en tableaux numpy\n",
    "X_train = np.array(X_train)\n",
    "X_val = np.array(X_val)\n",
    "X_test = np.array(X_test)\n",
    "y_train = np.array(y_train)\n",
    "y_val = np.array(y_val)\n",
    "y_test = np.array(y_test)\n",
    "\n",
    "# Normaliser les valeurs des pixels (0-1)\n",
    "X_train = X_train.astype('float32') / 255.0\n",
    "X_val = X_val.astype('float32') / 255.0\n",
    "X_test = X_test.astype('float32') / 255.0\n",
    "\n",
    "# Ajouter une dimention par canal d'image\n",
    "X_train = X_train[..., np.newaxis]\n",
    "X_val = X_val[..., np.newaxis]\n",
    "X_test = X_test[..., np.newaxis]\n",
    "\n",
    "# Afficher les dimensions des ensembles de données\n",
    "print(\"Dimensions des ensembles d'entraînement, de validation et de test :\")\n",
    "print(\"Entraînement :\", X_train.shape, y_train.shape)\n",
    "print(\"Validation   :\", X_val.shape, y_val.shape)\n",
    "print(\"Test         :\", X_test.shape, y_test.shape)"
   ]
  },
  {
   "cell_type": "code",
   "execution_count": 5,
   "id": "305c0ab7-778d-41b2-b597-bed7b456da20",
   "metadata": {},
   "outputs": [
    {
     "data": {
      "image/png": "[encoded data removed]",
      "text/plain": [
       "<Figure size 720x240 with 3 Axes>"
      ]
     },
     "metadata": {},
     "output_type": "display_data"
    },
    {
     "name": "stdout",
     "output_type": "stream",
     "text": [
      "cathégorie :\n",
      "5\n",
      "cathégorie :\n",
      "0\n",
      "cathégorie :\n",
      "5\n",
      "int32\n"
     ]
    }
   ],
   "source": [
    "import matplotlib as mpl\n",
    "import matplotlib.pyplot as plt\n",
    "mpl.rc('axes', labelsize=14)\n",
    "mpl.rc('xtick', labelsize=12)\n",
    "mpl.rc('ytick', labelsize=12)\n",
    "\n",
    "X_new = X_test[:3]\n",
    "plt.figure(figsize=(7.2, 2.4))\n",
    "for index, image in enumerate(X_new):\n",
    "    plt.subplot(1, 3, index + 1)\n",
    "    plt.imshow(image, cmap=\"binary\", interpolation=\"nearest\")\n",
    "    plt.axis('off')\n",
    "plt.subplots_adjust(wspace=0.2, hspace=0.5)\n",
    "plt.show()\n",
    "\n",
    "y_new = y_test[:3]\n",
    "for i in range(3) :\n",
    "    print (\"cathégorie :\") \n",
    "    print(y_new[i])\n",
    "\n",
    "print(y_test.dtype)"
   ]
  },
  {
   "cell_type": "code",
   "execution_count": 6,
   "id": "ff267228-da33-4dae-a03c-35371e4bd613",
   "metadata": {},
   "outputs": [],
   "source": [
    "# Visualiser le jeu de donnees"
   ]
  },
  {
   "cell_type": "code",
   "execution_count": 7,
   "id": "3f18d303-fea1-4109-b460-5566366e900b",
   "metadata": {},
   "outputs": [],
   "source": [
    "# Architecture du CNN"
   ]
  },
  {
   "cell_type": "code",
   "execution_count": 8,
   "id": "55c6dd7a-2fa9-45df-93b2-de8e72a452eb",
   "metadata": {},
   "outputs": [
    {
     "name": "stdout",
     "output_type": "stream",
     "text": [
      "WARNING:tensorflow:From C:\\Users\\Utilisateur\\AppData\\Local\\Programs\\Python\\Python310\\lib\\site-packages\\keras\\src\\backend.py:873: The name tf.get_default_graph is deprecated. Please use tf.compat.v1.get_default_graph instead.\n",
      "\n",
      "WARNING:tensorflow:From C:\\Users\\Utilisateur\\AppData\\Local\\Programs\\Python\\Python310\\lib\\site-packages\\keras\\src\\layers\\pooling\\max_pooling2d.py:161: The name tf.nn.max_pool is deprecated. Please use tf.nn.max_pool2d instead.\n",
      "\n"
     ]
    }
   ],
   "source": [
    "from functools import partial\n",
    "\n",
    "DefaultConv2D = partial(keras.layers.Conv2D,\n",
    "                        kernel_size=3, activation='relu', padding=\"SAME\")\n",
    "\n",
    "model = keras.models.Sequential([\n",
    "    DefaultConv2D(filters=64, kernel_size=7, input_shape=[28, 28, 1]),\n",
    "    keras.layers.MaxPooling2D(pool_size=2),\n",
    "    DefaultConv2D(filters=128),\n",
    "    DefaultConv2D(filters=128),\n",
    "    keras.layers.MaxPooling2D(pool_size=2),\n",
    "    DefaultConv2D(filters=256),\n",
    "    DefaultConv2D(filters=256),\n",
    "    keras.layers.MaxPooling2D(pool_size=2),\n",
    "    keras.layers.Flatten(),\n",
    "    keras.layers.Dense(units=128, activation='relu'),\n",
    "    keras.layers.Dropout(0.5),\n",
    "    keras.layers.Dense(units=64, activation='relu'),\n",
    "    keras.layers.Dropout(0.5),\n",
    "    keras.layers.Dense(units=6, activation='softmax'),\n",
    "])"
   ]
  },
  {
   "cell_type": "code",
   "execution_count": 9,
   "id": "07731322-2b53-4b30-9b3e-1569d4e2ab95",
   "metadata": {},
   "outputs": [
    {
     "name": "stdout",
     "output_type": "stream",
     "text": [
      "Model: \"sequential\"\n",
      "_________________________________________________________________\n",
      " Layer (type)                Output Shape              Param #   \n",
      "=================================================================\n",
      " conv2d (Conv2D)             (None, 28, 28, 64)        3200      \n",
      "                                                                 \n",
      " max_pooling2d (MaxPooling2  (None, 14, 14, 64)        0         \n",
      " D)                                                              \n",
      "                                                                 \n",
      " conv2d_1 (Conv2D)           (None, 14, 14, 128)       73856     \n",
      "                                                                 \n",
      " conv2d_2 (Conv2D)           (None, 14, 14, 128)       147584    \n",
      "                                                                 \n",
      " max_pooling2d_1 (MaxPoolin  (None, 7, 7, 128)         0         \n",
      " g2D)                                                            \n",
      "                                                                 \n",
      " conv2d_3 (Conv2D)           (None, 7, 7, 256)         295168    \n",
      "                                                                 \n",
      " conv2d_4 (Conv2D)           (None, 7, 7, 256)         590080    \n",
      "                                                                 \n",
      " max_pooling2d_2 (MaxPoolin  (None, 3, 3, 256)         0         \n",
      " g2D)                                                            \n",
      "                                                                 \n",
      " flatten (Flatten)           (None, 2304)              0         \n",
      "                                                                 \n",
      " dense (Dense)               (None, 128)               295040    \n",
      "                                                                 \n",
      " dropout (Dropout)           (None, 128)               0         \n",
      "                                                                 \n",
      " dense_1 (Dense)             (None, 64)                8256      \n",
      "                                                                 \n",
      " dropout_1 (Dropout)         (None, 64)                0         \n",
      "                                                                 \n",
      " dense_2 (Dense)             (None, 6)                 390       \n",
      "                                                                 \n",
      "=================================================================\n",
      "Total params: 1413574 (5.39 MB)\n",
      "Trainable params: 1413574 (5.39 MB)\n",
      "Non-trainable params: 0 (0.00 Byte)\n",
      "_________________________________________________________________\n"
     ]
    }
   ],
   "source": [
    "model.summary()"
   ]
  },
  {
   "cell_type": "code",
   "execution_count": 10,
   "id": "22cc3c6d-7f31-424a-a14d-10b0ee1d7f55",
   "metadata": {},
   "outputs": [],
   "source": [
    "# Entraîner le modèle"
   ]
  },
  {
   "cell_type": "code",
   "execution_count": 11,
   "id": "c76522ac-513e-4524-97a7-0b84f8c50b8a",
   "metadata": {},
   "outputs": [
    {
     "name": "stdout",
     "output_type": "stream",
     "text": [
      "WARNING:tensorflow:From C:\\Users\\Utilisateur\\AppData\\Local\\Programs\\Python\\Python310\\lib\\site-packages\\keras\\src\\optimizers\\__init__.py:309: The name tf.train.Optimizer is deprecated. Please use tf.compat.v1.train.Optimizer instead.\n",
      "\n",
      "Epoch 1/10\n",
      "WARNING:tensorflow:From C:\\Users\\Utilisateur\\AppData\\Local\\Programs\\Python\\Python310\\lib\\site-packages\\keras\\src\\utils\\tf_utils.py:492: The name tf.ragged.RaggedTensorValue is deprecated. Please use tf.compat.v1.ragged.RaggedTensorValue instead.\n",
      "\n",
      "WARNING:tensorflow:From C:\\Users\\Utilisateur\\AppData\\Local\\Programs\\Python\\Python310\\lib\\site-packages\\keras\\src\\engine\\base_layer_utils.py:384: The name tf.executing_eagerly_outside_functions is deprecated. Please use tf.compat.v1.executing_eagerly_outside_functions instead.\n",
      "\n",
      "1212/1212 [==============================] - 144s 116ms/step - loss: 1.7933 - accuracy: 0.1641 - val_loss: 1.7931 - val_accuracy: 0.1650\n",
      "Epoch 2/10\n",
      "1212/1212 [==============================] - 149s 123ms/step - loss: 1.7919 - accuracy: 0.1669 - val_loss: 1.7920 - val_accuracy: 0.1658\n",
      "Epoch 3/10\n",
      "1212/1212 [==============================] - 156s 128ms/step - loss: 1.7919 - accuracy: 0.1635 - val_loss: 1.7918 - val_accuracy: 0.1650\n",
      "Epoch 4/10\n",
      "1212/1212 [==============================] - 176s 145ms/step - loss: 1.7919 - accuracy: 0.1631 - val_loss: 1.7921 - val_accuracy: 0.1658\n",
      "Epoch 5/10\n",
      "1212/1212 [==============================] - 187s 154ms/step - loss: 1.7919 - accuracy: 0.1665 - val_loss: 1.7924 - val_accuracy: 0.1658\n",
      "Epoch 6/10\n",
      "1212/1212 [==============================] - 183s 151ms/step - loss: 1.7919 - accuracy: 0.1678 - val_loss: 1.7920 - val_accuracy: 0.1658\n",
      "Epoch 7/10\n",
      "1212/1212 [==============================] - 189s 156ms/step - loss: 1.7919 - accuracy: 0.1644 - val_loss: 1.7919 - val_accuracy: 0.1650\n",
      "Epoch 8/10\n",
      "1212/1212 [==============================] - 190s 157ms/step - loss: 1.7919 - accuracy: 0.1672 - val_loss: 1.7922 - val_accuracy: 0.1547\n",
      "Epoch 9/10\n",
      "1212/1212 [==============================] - 196s 162ms/step - loss: 1.7919 - accuracy: 0.1673 - val_loss: 1.7919 - val_accuracy: 0.1658\n",
      "Epoch 10/10\n",
      "1212/1212 [==============================] - 201s 166ms/step - loss: 1.7919 - accuracy: 0.1669 - val_loss: 1.7918 - val_accuracy: 0.1658\n",
      "152/152 [==============================] - 8s 50ms/step - loss: 1.7918 - accuracy: 0.1590\n"
     ]
    }
   ],
   "source": [
    "model.compile(loss=\"sparse_categorical_crossentropy\", optimizer=\"nadam\", metrics=[\"accuracy\"])\n",
    "history = model.fit(X_train, y_train, epochs=10, validation_data=(X_val, y_val))\n",
    "score = model.evaluate(X_test, y_test)"
   ]
  },
  {
   "cell_type": "code",
   "execution_count": 12,
   "id": "5cf685cf-8b59-41b0-8594-c1649239f02d",
   "metadata": {},
   "outputs": [],
   "source": [
    "# Courbe d'apprentissage"
   ]
  },
  {
   "cell_type": "code",
   "execution_count": 13,
   "id": "947d2617-8e59-441d-b65d-49324372037c",
   "metadata": {},
   "outputs": [
    {
     "data": {
      "image/png": "[encoded data removed]",
      "text/plain": [
       "<Figure size 800x500 with 1 Axes>"
      ]
     },
     "metadata": {},
     "output_type": "display_data"
    }
   ],
   "source": [
    "import pandas as pd\n",
    "\n",
    "pd.DataFrame(history.history).plot(figsize=(8, 5))\n",
    "plt.grid(True)\n",
    "plt.gca().set_ylim(0, 1)\n",
    "plt.show()"
   ]
  },
  {
   "cell_type": "code",
   "execution_count": 14,
   "id": "728c1309-d223-49ec-9c46-386cd01c7c05",
   "metadata": {},
   "outputs": [],
   "source": [
    "# Prédictions "
   ]
  },
  {
   "cell_type": "code",
   "execution_count": 15,
   "id": "7debd208-8e1a-44b9-9516-27fee01f2740",
   "metadata": {},
   "outputs": [
    {
     "name": "stdout",
     "output_type": "stream",
     "text": [
      "1/1 [==============================] - 0s 205ms/step\n"
     ]
    },
    {
     "data": {
      "text/plain": [
       "array([[0.17, 0.17, 0.17, 0.17, 0.17, 0.17],\n",
       "       [0.17, 0.17, 0.17, 0.17, 0.17, 0.17],\n",
       "       [0.17, 0.17, 0.17, 0.17, 0.17, 0.17]], dtype=float32)"
      ]
     },
     "execution_count": 15,
     "metadata": {},
     "output_type": "execute_result"
    }
   ],
   "source": [
    "X_new = X_test[:3]\n",
    "y_proba = model.predict(X_new)\n",
    "y_proba.round(2)"
   ]
  },
  {
   "cell_type": "code",
   "execution_count": 16,
   "id": "7e78cf43-6b37-407e-a0e6-76684aae1c47",
   "metadata": {},
   "outputs": [
    {
     "data": {
      "image/png": "[encoded data removed]",
      "text/plain": [
       "<Figure size 720x240 with 3 Axes>"
      ]
     },
     "metadata": {},
     "output_type": "display_data"
    }
   ],
   "source": [
    "plt.figure(figsize=(7.2, 2.4))\n",
    "for index, image in enumerate(X_new):\n",
    "    plt.subplot(1, 3, index + 1)\n",
    "    plt.imshow(image, cmap=\"binary\", interpolation=\"nearest\")\n",
    "    plt.axis('off')\n",
    "plt.subplots_adjust(wspace=0.2, hspace=0.5)\n",
    "plt.show()"
   ]
  },
  {
   "cell_type": "code",
   "execution_count": null,
   "id": "743bddf8-5a80-4a3c-b439-c8972c408c30",
   "metadata": {},
   "outputs": [],
   "source": []
  }
 ],
 "metadata": {
  "kernelspec": {
   "display_name": "Python 3 (ipykernel)",
   "language": "python",
   "name": "python3"
  },
  "language_info": {
   "codemirror_mode": {
    "name": "ipython",
    "version": 3
   },
   "file_extension": ".py",
   "mimetype": "text/x-python",
   "name": "python",
   "nbconvert_exporter": "python",
   "pygments_lexer": "ipython3",
   "version": "3.11.5"
  }
 },
 "nbformat": 4,
 "nbformat_minor": 5
}
