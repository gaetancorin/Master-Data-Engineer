{
 "cells": [
  {
   "cell_type": "code",
   "execution_count": 1,
   "id": "18f1c53d",
   "metadata": {},
   "outputs": [],
   "source": [
    "# denoncer: 0 se taire:10\n",
    "# denoncer:5 denoncer: 5\n",
    "# se taire: 1 se taire: 1"
   ]
  },
  {
   "cell_type": "code",
   "execution_count": 29,
   "id": "04e3f7c3",
   "metadata": {},
   "outputs": [
    {
     "name": "stdout",
     "output_type": "stream",
     "text": [
      "Choix de P1: dénoncer\n",
      "Choix de P2: dénoncer\n",
      "Peine pour P1: 5 ans\n",
      "Peine pour P2: 5 ans\n"
     ]
    }
   ],
   "source": [
    "import random\n",
    "\n",
    "# Choix des joueurs\n",
    "choix = {'se_taire': 0, 'denoncer': 1}\n",
    "x = random.randint(0, 1)  # Choix de p1 : 0 pour se taire, 1 pour dénoncer\n",
    "y = random.randint(0, 1)  # Choix de p2 : 0 pour se taire, 1 pour dénoncer\n",
    "\n",
    "# Formules mathématiques pour les peines de p1 et p2\n",
    "peine_p1 = (1 - x) * (1 - y) * 1 + x * (1 - y) * 0 + (1 - x) * y * 10 + x * y * 5\n",
    "peine_p2 = (1 - x) * (1 - y) * 1 + y * (1 - x) * 0 + (1 - y) * x * 10 + x * y * 5\n",
    "\n",
    "# Affichage des choix et résultats\n",
    "print(\"Choix de P1:\", \"se taire\" if x == 0 else \"dénoncer\")\n",
    "print(\"Choix de P2:\", \"se taire\" if y == 0 else \"dénoncer\")\n",
    "\n",
    "print(\"Peine pour P1:\", peine_p1, \"ans\" if peine_p1 > 0 else \"libre\")\n",
    "print(\"Peine pour P2:\", peine_p2, \"ans\" if peine_p2 > 0 else \"libre\")"
   ]
  },
  {
   "cell_type": "code",
   "execution_count": null,
   "id": "5948fdbf",
   "metadata": {},
   "outputs": [],
   "source": []
  },
  {
   "cell_type": "code",
   "execution_count": null,
   "id": "0daac43d",
   "metadata": {},
   "outputs": [],
   "source": []
  }
 ],
 "metadata": {
  "kernelspec": {
   "display_name": "Python 3 (ipykernel)",
   "language": "python",
   "name": "python3"
  },
  "language_info": {
   "codemirror_mode": {
    "name": "ipython",
    "version": 3
   },
   "file_extension": ".py",
   "mimetype": "text/x-python",
   "name": "python",
   "nbconvert_exporter": "python",
   "pygments_lexer": "ipython3",
   "version": "3.11.5"
  }
 },
 "nbformat": 4,
 "nbformat_minor": 5
}
