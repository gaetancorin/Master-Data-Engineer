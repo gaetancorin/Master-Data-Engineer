{
 "cells": [
  {
   "cell_type": "code",
   "execution_count": 1,
   "id": "18f1c53d",
   "metadata": {},
   "outputs": [],
   "source": [
    "# denoncer: 0 se taire:10\n",
    "# denoncer:5 denoncer: 5\n",
    "# se taire: 1 se taire: 1"
   ]
  },
  {
   "cell_type": "code",
   "execution_count": 34,
   "id": "04e3f7c3",
   "metadata": {},
   "outputs": [
    {
     "name": "stdout",
     "output_type": "stream",
     "text": [
      "annee_prison_p1_taire_p2_taire 1\n",
      "annee_prison_p1_taire_p2_denonce 10\n",
      "annee_prison_p1_denonce_p2_taire 2\n",
      "annee_prison_p1_denonce_p2_denonce 11\n"
     ]
    }
   ],
   "source": [
    "import random\n",
    "\n",
    "choix = {'se_taire': 0, 'denoncer': 1}\n",
    "\n",
    "x = 0\n",
    "y = 0\n",
    "annee_prison_p1_taire_p2_taire = x + ( y * 10 + 1 - y)\n",
    "\n",
    "print('annee_prison_p1_taire_p2_taire', annee_prison_p1_taire_p2_taire)\n",
    "\n",
    "x = 0\n",
    "y = 1\n",
    "annee_prison_p1_taire_p2_denonce = x + ( y * 10 + 1 - y)\n",
    "\n",
    "print('annee_prison_p1_taire_p2_denonce', annee_prison_p1_taire_p2_denonce)\n",
    "\n",
    "x = 1\n",
    "y = 0\n",
    "annee_prison_p1_denonce_p2_taire = x + ( y * 10 + 1 - y)\n",
    "\n",
    "print('annee_prison_p1_denonce_p2_taire', annee_prison_p1_denonce_p2_taire)\n",
    "\n",
    "x = 1\n",
    "y = 1\n",
    "annee_prison_p1_denonce_p2_denonce = x + ( y * 10 + 1 - y)\n",
    "\n",
    "print('annee_prison_p1_denonce_p2_denonce', annee_prison_p1_denonce_p2_denonce)"
   ]
  },
  {
   "cell_type": "code",
   "execution_count": null,
   "id": "5948fdbf",
   "metadata": {},
   "outputs": [],
   "source": []
  },
  {
   "cell_type": "code",
   "execution_count": null,
   "id": "0daac43d",
   "metadata": {},
   "outputs": [],
   "source": []
  }
 ],
 "metadata": {
  "kernelspec": {
   "display_name": "Python 3 (ipykernel)",
   "language": "python",
   "name": "python3"
  },
  "language_info": {
   "codemirror_mode": {
    "name": "ipython",
    "version": 3
   },
   "file_extension": ".py",
   "mimetype": "text/x-python",
   "name": "python",
   "nbconvert_exporter": "python",
   "pygments_lexer": "ipython3",
   "version": "3.11.5"
  }
 },
 "nbformat": 4,
 "nbformat_minor": 5
}
