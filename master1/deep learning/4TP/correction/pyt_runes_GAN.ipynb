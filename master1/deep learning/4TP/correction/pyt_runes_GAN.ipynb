{
 "cells": [
  {
   "cell_type": "code",
   "execution_count": 1,
   "id": "4c03c2f3-c4d6-4a30-b91c-b13b1c186e34",
   "metadata": {},
   "outputs": [],
   "source": [
    "# Importer les bibliothèques"
   ]
  },
  {
   "cell_type": "code",
   "execution_count": 2,
   "id": "b7d11e23-a2ac-4e3c-a8f1-80adbe10939f",
   "metadata": {},
   "outputs": [
    {
     "name": "stdout",
     "output_type": "stream",
     "text": [
      "WARNING:tensorflow:From C:\\Users\\Utilisateur\\AppData\\Local\\Programs\\Python\\Python310\\lib\\site-packages\\keras\\src\\losses.py:2976: The name tf.losses.sparse_softmax_cross_entropy is deprecated. Please use tf.compat.v1.losses.sparse_softmax_cross_entropy instead.\n",
      "\n"
     ]
    }
   ],
   "source": [
    "# Scikit-Learn ≥0.20 is required\n",
    "import sklearn\n",
    "assert sklearn.__version__ >= \"0.20\"\n",
    "\n",
    "# TensorFlow ≥2.0 is required\n",
    "import tensorflow as tf\n",
    "from tensorflow import keras\n",
    "assert tf.__version__ >= \"2.0\"\n",
    "\n",
    "# Common imports\n",
    "import numpy as np\n",
    "import os\n",
    "import glob\n",
    "import imageio\n",
    "import matplotlib.pyplot as plt\n",
    "import PIL\n",
    "from tensorflow.keras import layers\n",
    "import time\n",
    "\n",
    "from IPython import display\n",
    "\n",
    "# to make this notebook's output stable across runs\n",
    "np.random.seed(42)\n",
    "tf.random.set_seed(42)"
   ]
  },
  {
   "cell_type": "code",
   "execution_count": 3,
   "id": "db610d03-9200-47f5-84cc-390848464df9",
   "metadata": {},
   "outputs": [],
   "source": [
    "# Préparer le jeu de données "
   ]
  },
  {
   "cell_type": "code",
   "execution_count": 4,
   "id": "9c82ab64-acb4-4122-b07c-65beba6c6075",
   "metadata": {},
   "outputs": [
    {
     "name": "stdout",
     "output_type": "stream",
     "text": [
      "Dimensions des ensembles d'entraînement, de validation et de test :\n",
      "Entraînement : (60000, 28, 28, 1) (60000,)\n"
     ]
    }
   ],
   "source": [
    "from PIL import Image\n",
    "from sklearn.model_selection import train_test_split\n",
    "\n",
    "# Charger les images originales\n",
    "data_directory = \"C:/Users/Utilisateur/Documents/Python/python_Ynnov/Minst/mes_images\"\n",
    "image_files = os.listdir(data_directory)\n",
    "images = []\n",
    "labels = [0,1,2,3,4,5]\n",
    "\n",
    "for filename in image_files:\n",
    "    if filename.endswith(\".jpg\"):\n",
    "        img = Image.open(os.path.join(data_directory, filename)).convert('L')  # Convertir en niveaux de gris\n",
    "        images.append(img)\n",
    "\n",
    "# Redimensionner les images et créer le jeu d'entraînement \n",
    "X_train = []\n",
    "y_train = []\n",
    "\n",
    "\n",
    "while len(X_train) < 60000:\n",
    "    for i, img in enumerate(images):\n",
    "        resized_img = img.resize((28, 28), Image.LANCZOS)  # Redimensionner l'image\n",
    "        X_train.append(np.array(resized_img))  # Convertir en tableau numpy\n",
    "        y_train.append(labels[i])\n",
    "\n",
    "# Convertir en tableaux numpy et ajouter une dimension au tenseur train_images\n",
    "X_train = np.array(X_train)\n",
    "train_labels = np.array(y_train)\n",
    "\n",
    "train_images = X_train.reshape(X_train.shape[0], 28, 28, 1).astype('float32')\n",
    "train_images = (train_images - 127.5) / 127.5  # Normaliser les images dans les valeurs [-1, 1]\n",
    "\n",
    "# Afficher les dimensions des ensembles de données\n",
    "print(\"Dimensions des ensembles d'entraînement, de validation et de test :\")\n",
    "print(\"Entraînement :\", train_images.shape, train_labels.shape)"
   ]
  },
  {
   "cell_type": "code",
   "execution_count": 5,
   "id": "2ebb722a-7423-49fb-bfaf-8bd7546ed76d",
   "metadata": {},
   "outputs": [],
   "source": [
    "BUFFER_SIZE = 60000\n",
    "BATCH_SIZE = 256"
   ]
  },
  {
   "cell_type": "code",
   "execution_count": 6,
   "id": "e7bf4b94-e679-4167-a907-f0e418be966c",
   "metadata": {},
   "outputs": [],
   "source": [
    "# Regrouper et mélanger les données\n",
    "train_dataset = tf.data.Dataset.from_tensor_slices(train_images).shuffle(BUFFER_SIZE).batch(BATCH_SIZE)"
   ]
  },
  {
   "cell_type": "code",
   "execution_count": 7,
   "id": "642dd8fe-684e-4e7e-9c03-bf86398e1b6e",
   "metadata": {},
   "outputs": [],
   "source": [
    "# Architecture du GAN - le générateur"
   ]
  },
  {
   "cell_type": "code",
   "execution_count": 8,
   "id": "c32bffa0-b2ab-454b-91f9-be4b9589bc33",
   "metadata": {},
   "outputs": [],
   "source": [
    "def make_generator_model():\n",
    "    model = tf.keras.Sequential()\n",
    "    model.add(layers.Dense(7*7*256, use_bias=False, input_shape=(100,)))\n",
    "    model.add(layers.BatchNormalization())\n",
    "    model.add(layers.LeakyReLU())\n",
    "\n",
    "    model.add(layers.Reshape((7, 7, 256)))\n",
    "    assert model.output_shape == (None, 7, 7, 256)  # Note: None is the batch size\n",
    "\n",
    "    model.add(layers.Conv2DTranspose(128, (5, 5), strides=(1, 1), padding='same', use_bias=False))\n",
    "    assert model.output_shape == (None, 7, 7, 128)\n",
    "    model.add(layers.BatchNormalization())\n",
    "    model.add(layers.LeakyReLU())\n",
    "\n",
    "    model.add(layers.Conv2DTranspose(64, (5, 5), strides=(2, 2), padding='same', use_bias=False))\n",
    "    assert model.output_shape == (None, 14, 14, 64)\n",
    "    model.add(layers.BatchNormalization())\n",
    "    model.add(layers.LeakyReLU())\n",
    "\n",
    "    model.add(layers.Conv2DTranspose(1, (5, 5), strides=(2, 2), padding='same', use_bias=False, activation='tanh'))\n",
    "    assert model.output_shape == (None, 28, 28, 1)\n",
    "\n",
    "    return model"
   ]
  },
  {
   "cell_type": "code",
   "execution_count": 9,
   "id": "d1fdcde7-acd3-49ef-8a5b-407458a1b2a5",
   "metadata": {},
   "outputs": [],
   "source": [
    "# Utiliser le générateur (pas encore formé) pour générer une image"
   ]
  },
  {
   "cell_type": "code",
   "execution_count": 10,
   "id": "fa1e1acf-8252-48a9-b4ee-c046ba2f4dc2",
   "metadata": {},
   "outputs": [
    {
     "name": "stdout",
     "output_type": "stream",
     "text": [
      "WARNING:tensorflow:From C:\\Users\\Utilisateur\\AppData\\Local\\Programs\\Python\\Python310\\lib\\site-packages\\keras\\src\\backend.py:873: The name tf.get_default_graph is deprecated. Please use tf.compat.v1.get_default_graph instead.\n",
      "\n",
      "WARNING:tensorflow:From C:\\Users\\Utilisateur\\AppData\\Local\\Programs\\Python\\Python310\\lib\\site-packages\\keras\\src\\layers\\normalization\\batch_normalization.py:979: The name tf.nn.fused_batch_norm is deprecated. Please use tf.compat.v1.nn.fused_batch_norm instead.\n",
      "\n"
     ]
    },
    {
     "data": {
      "text/plain": [
       "<matplotlib.image.AxesImage at 0x24e020b4f40>"
      ]
     },
     "execution_count": 10,
     "metadata": {},
     "output_type": "execute_result"
    },
    {
     "data": {
      "image/png": "[encoded data removed]",
      "text/plain": [
       "<Figure size 640x480 with 1 Axes>"
      ]
     },
     "metadata": {},
     "output_type": "display_data"
    }
   ],
   "source": [
    "generator = make_generator_model()\n",
    "\n",
    "noise = tf.random.normal([1, 100])\n",
    "generated_image = generator(noise, training=False)\n",
    "\n",
    "plt.imshow(generated_image[0, :, :, 0], cmap='gray')"
   ]
  },
  {
   "cell_type": "code",
   "execution_count": 11,
   "id": "eac2b39f-8f3b-4dcd-8751-d0fd87dbe212",
   "metadata": {},
   "outputs": [],
   "source": [
    "# Architecture du GAN - le discriminateur"
   ]
  },
  {
   "cell_type": "code",
   "execution_count": 12,
   "id": "f5f16a18-9f03-49bb-b4c9-4c6176ed5631",
   "metadata": {},
   "outputs": [],
   "source": [
    "def make_discriminator_model():\n",
    "    model = tf.keras.Sequential()\n",
    "    model.add(layers.Conv2D(64, (5, 5), strides=(2, 2), padding='same',\n",
    "                                     input_shape=[28, 28, 1]))\n",
    "    model.add(layers.LeakyReLU())\n",
    "    model.add(layers.Dropout(0.3))\n",
    "\n",
    "    model.add(layers.Conv2D(128, (5, 5), strides=(2, 2), padding='same'))\n",
    "    model.add(layers.LeakyReLU())\n",
    "    model.add(layers.Dropout(0.3))\n",
    "\n",
    "    model.add(layers.Flatten())\n",
    "    model.add(layers.Dense(1))\n",
    "\n",
    "    return model"
   ]
  },
  {
   "cell_type": "code",
   "execution_count": 13,
   "id": "e21e1ac2-f004-4a7c-a10d-d345bc36c377",
   "metadata": {},
   "outputs": [],
   "source": [
    "# Utiliser le discriminateur (pas encore formé) pour évaluer une image\n",
    "    # Si le score est < 0, c'est que l'image est jugée comme factice"
   ]
  },
  {
   "cell_type": "code",
   "execution_count": 14,
   "id": "d209e2c7-a45c-4bb1-9b0e-5fff212b5ea0",
   "metadata": {},
   "outputs": [
    {
     "name": "stdout",
     "output_type": "stream",
     "text": [
      "tf.Tensor([[-0.00179505]], shape=(1, 1), dtype=float32)\n"
     ]
    }
   ],
   "source": [
    "discriminator = make_discriminator_model()\n",
    "decision = discriminator(generated_image)\n",
    "print (decision)"
   ]
  },
  {
   "cell_type": "code",
   "execution_count": 15,
   "id": "c041b130-86de-4bb8-a72a-4aa4719fd80d",
   "metadata": {},
   "outputs": [],
   "source": [
    "# Définir les fonctions de perte et les optimiseurs pour les deux modèles "
   ]
  },
  {
   "cell_type": "code",
   "execution_count": 16,
   "id": "89667f92-af80-4a35-a435-d075c124b0e9",
   "metadata": {},
   "outputs": [],
   "source": [
    "# This method returns a helper function to compute cross entropy loss\n",
    "cross_entropy = tf.keras.losses.BinaryCrossentropy(from_logits=True)"
   ]
  },
  {
   "cell_type": "code",
   "execution_count": 17,
   "id": "d23bef9e-8678-41ff-8f92-45f1f422463c",
   "metadata": {},
   "outputs": [],
   "source": [
    "# Discriminateur :\n",
    "def discriminator_loss(real_output, fake_output):\n",
    "    real_loss = cross_entropy(tf.ones_like(real_output), real_output)\n",
    "    fake_loss = cross_entropy(tf.zeros_like(fake_output), fake_output)\n",
    "    total_loss = real_loss + fake_loss\n",
    "    return total_loss"
   ]
  },
  {
   "cell_type": "code",
   "execution_count": 18,
   "id": "690bbe3b-263c-45fe-8837-3333752cd341",
   "metadata": {},
   "outputs": [],
   "source": [
    "# Générateur :\n",
    "def generator_loss(fake_output):\n",
    "    return cross_entropy(tf.ones_like(fake_output), fake_output)"
   ]
  },
  {
   "cell_type": "code",
   "execution_count": 19,
   "id": "7d49e0c9-9504-4460-9e78-f11b19dffdab",
   "metadata": {},
   "outputs": [],
   "source": [
    "generator_optimizer = tf.keras.optimizers.Adam(1e-4)\n",
    "discriminator_optimizer = tf.keras.optimizers.Adam(1e-4)"
   ]
  },
  {
   "cell_type": "code",
   "execution_count": 20,
   "id": "a1f96266-5261-400d-9537-01055aa0f8d8",
   "metadata": {},
   "outputs": [],
   "source": [
    "# Enregistrer des points de contrôle "
   ]
  },
  {
   "cell_type": "code",
   "execution_count": 21,
   "id": "53f4cfcb-56bb-4967-ae41-bf67b413dc9b",
   "metadata": {},
   "outputs": [],
   "source": [
    "checkpoint_dir = './training_checkpoints'\n",
    "checkpoint_prefix = os.path.join(checkpoint_dir, \"ckpt\")\n",
    "checkpoint = tf.train.Checkpoint(generator_optimizer=generator_optimizer,\n",
    "                                 discriminator_optimizer=discriminator_optimizer,\n",
    "                                 generator=generator,\n",
    "                                 discriminator=discriminator)"
   ]
  },
  {
   "cell_type": "code",
   "execution_count": 22,
   "id": "a08b699f-ec4b-4e0b-87a7-e992ad59d8d6",
   "metadata": {},
   "outputs": [],
   "source": [
    "# Définir la boucle d'entraînement"
   ]
  },
  {
   "cell_type": "code",
   "execution_count": 23,
   "id": "a7255e1d-b144-4c26-8ee1-4869d60ec3e9",
   "metadata": {},
   "outputs": [],
   "source": [
    "EPOCHS = 24\n",
    "noise_dim = 100\n",
    "num_examples_to_generate = 12\n",
    "BATCH_SIZE = 256\n",
    "\n",
    "# You will reuse this seed overtime (so it's easier)\n",
    "# to visualize progress in the animated GIF)\n",
    "seed = tf.random.normal([num_examples_to_generate, noise_dim])"
   ]
  },
  {
   "cell_type": "code",
   "execution_count": 24,
   "id": "d6dfc1a5-f1c2-4661-886e-424d183b0145",
   "metadata": {},
   "outputs": [],
   "source": [
    "# Notice the use of `tf.function`\n",
    "# This annotation causes the function to be \"compiled\".\n",
    "@tf.function\n",
    "def train_step(images):\n",
    "    noise = tf.random.normal([BATCH_SIZE, noise_dim])\n",
    "\n",
    "    with tf.GradientTape() as gen_tape, tf.GradientTape() as disc_tape:\n",
    "      generated_images = generator(noise, training=True)\n",
    "\n",
    "      real_output = discriminator(images, training=True)\n",
    "      fake_output = discriminator(generated_images, training=True)\n",
    "\n",
    "      gen_loss = generator_loss(fake_output)\n",
    "      disc_loss = discriminator_loss(real_output, fake_output)\n",
    "\n",
    "    gradients_of_generator = gen_tape.gradient(gen_loss, generator.trainable_variables)\n",
    "    gradients_of_discriminator = disc_tape.gradient(disc_loss, discriminator.trainable_variables)\n",
    "\n",
    "    generator_optimizer.apply_gradients(zip(gradients_of_generator, generator.trainable_variables))\n",
    "    discriminator_optimizer.apply_gradients(zip(gradients_of_discriminator, discriminator.trainable_variables))"
   ]
  },
  {
   "cell_type": "code",
   "execution_count": 25,
   "id": "aac4158b-eed5-45ce-804c-a2e8e499aac5",
   "metadata": {},
   "outputs": [],
   "source": [
    "def train(dataset, epochs):\n",
    "  for epoch in range(epochs):\n",
    "    start = time.time()\n",
    "\n",
    "    for image_batch in dataset:\n",
    "      train_step(image_batch)\n",
    "\n",
    "    # Produce images for the GIF as you go\n",
    "    display.clear_output(wait=True)\n",
    "    generate_and_save_images(generator,\n",
    "                             epoch + 1,\n",
    "                             seed)\n",
    "\n",
    "    # Save the model every 12 epochs\n",
    "    if (epoch + 1) % 12 == 0:\n",
    "      checkpoint.save(file_prefix = checkpoint_prefix)\n",
    "\n",
    "    print ('Time for epoch {} is {} sec'.format(epoch + 1, time.time()-start))\n",
    "\n",
    "  # Generate after the final epoch\n",
    "  display.clear_output(wait=True)\n",
    "  generate_and_save_images(generator,\n",
    "                           epochs,\n",
    "                           seed)"
   ]
  },
  {
   "cell_type": "code",
   "execution_count": 26,
   "id": "00ed491a-e6e5-42f8-b8a3-c9b9a5540c4f",
   "metadata": {},
   "outputs": [],
   "source": [
    "# Générer et enregistrer des images"
   ]
  },
  {
   "cell_type": "code",
   "execution_count": 27,
   "id": "7ba8f3ad-5750-4bb8-986a-7808064adeed",
   "metadata": {},
   "outputs": [],
   "source": [
    "def generate_and_save_images(model, epoch, test_input):\n",
    "  # Notice `training` is set to False.\n",
    "  # This is so all layers run in inference mode (batchnorm).\n",
    "  predictions = model(test_input, training=False)\n",
    "\n",
    "  fig = plt.figure(figsize=(4, 4))\n",
    "\n",
    "  for i in range(predictions.shape[0]):\n",
    "      plt.subplot(4, 4, i+1)\n",
    "      plt.imshow(predictions[i, :, :, 0] * 127.5 + 127.5, cmap='gray')\n",
    "      plt.axis('off')\n",
    "\n",
    "  plt.savefig('image_at_epoch_{:04d}.png'.format(epoch))\n",
    "  plt.show()"
   ]
  },
  {
   "cell_type": "code",
   "execution_count": 28,
   "id": "b6d3643a-df66-4a2c-9d1c-45d681178ec6",
   "metadata": {},
   "outputs": [],
   "source": [
    "# Entraîner le modèle"
   ]
  },
  {
   "cell_type": "code",
   "execution_count": 29,
   "id": "2629eb7d-57d6-4eb8-9394-a0d67c09933c",
   "metadata": {},
   "outputs": [
    {
     "data": {
      "image/png": "[encoded data removed]",
      "text/plain": [
       "<Figure size 400x400 with 12 Axes>"
      ]
     },
     "metadata": {},
     "output_type": "display_data"
    }
   ],
   "source": [
    "train(train_dataset, EPOCHS)"
   ]
  },
  {
   "cell_type": "code",
   "execution_count": 30,
   "id": "d60d34a4-bc20-4b7e-b9ef-ec99d3b834f0",
   "metadata": {},
   "outputs": [],
   "source": [
    "# Restaurer le dernier point de contrôle"
   ]
  },
  {
   "cell_type": "code",
   "execution_count": 31,
   "id": "ad939a26-ab69-445b-8fae-2336ee0d7b5e",
   "metadata": {},
   "outputs": [
    {
     "data": {
      "text/plain": [
       "<tensorflow.python.checkpoint.checkpoint.CheckpointLoadStatus at 0x24e1e77ac20>"
      ]
     },
     "execution_count": 31,
     "metadata": {},
     "output_type": "execute_result"
    }
   ],
   "source": [
    "checkpoint.restore(tf.train.latest_checkpoint(checkpoint_dir))"
   ]
  },
  {
   "cell_type": "code",
   "execution_count": 32,
   "id": "d053cc20-ec76-48b5-9f22-13d298688a3f",
   "metadata": {},
   "outputs": [
    {
     "data": {
      "image/png": "[encoded data removed]",
      "text/plain": [
       "<PIL.PngImagePlugin.PngImageFile image mode=RGBA size=400x400>"
      ]
     },
     "execution_count": 32,
     "metadata": {},
     "output_type": "execute_result"
    }
   ],
   "source": [
    "# Display a single image using the epoch number\n",
    "def display_image(epoch_no):\n",
    "  return PIL.Image.open('image_at_epoch_{:04d}.png'.format(epoch_no))\n",
    "\n",
    "display_image(EPOCHS)"
   ]
  },
  {
   "cell_type": "code",
   "execution_count": 33,
   "id": "8a2cd4fd-8a8f-4c96-b06b-62d177dea86e",
   "metadata": {},
   "outputs": [],
   "source": [
    "# Utilisez imageio pour créer un gif animé à partir des images enregistrées lors de la formation"
   ]
  },
  {
   "cell_type": "code",
   "execution_count": 2,
   "id": "b7af601b-7003-42db-861b-63f609505d01",
   "metadata": {},
   "outputs": [
    {
     "ename": "NameError",
     "evalue": "name 'glob' is not defined",
     "output_type": "error",
     "traceback": [
      "\u001b[1;31m---------------------------------------------------------------------------\u001b[0m",
      "\u001b[1;31mNameError\u001b[0m                                 Traceback (most recent call last)",
      "Cell \u001b[1;32mIn[2], line 6\u001b[0m\n\u001b[0;32m      3\u001b[0m anim_file \u001b[38;5;241m=\u001b[39m \u001b[38;5;124m'\u001b[39m\u001b[38;5;124mdcgan.gif\u001b[39m\u001b[38;5;124m'\u001b[39m\n\u001b[0;32m      5\u001b[0m \u001b[38;5;28;01mwith\u001b[39;00m imageio\u001b[38;5;241m.\u001b[39mget_writer(anim_file, mode\u001b[38;5;241m=\u001b[39m\u001b[38;5;124m'\u001b[39m\u001b[38;5;124mI\u001b[39m\u001b[38;5;124m'\u001b[39m) \u001b[38;5;28;01mas\u001b[39;00m writer:\n\u001b[1;32m----> 6\u001b[0m   filenames \u001b[38;5;241m=\u001b[39m \u001b[43mglob\u001b[49m\u001b[38;5;241m.\u001b[39mglob(\u001b[38;5;124m'\u001b[39m\u001b[38;5;124mimage*.png\u001b[39m\u001b[38;5;124m'\u001b[39m)\n\u001b[0;32m      7\u001b[0m   filenames \u001b[38;5;241m=\u001b[39m \u001b[38;5;28msorted\u001b[39m(filenames)\n\u001b[0;32m      8\u001b[0m   \u001b[38;5;28;01mfor\u001b[39;00m filename \u001b[38;5;129;01min\u001b[39;00m filenames:\n",
      "\u001b[1;31mNameError\u001b[0m: name 'glob' is not defined"
     ]
    }
   ],
   "source": [
    "import tensorflow_docs.vis.embed as embed\n",
    "import imageio.v2 as imageio\n",
    "anim_file = 'dcgan.gif'\n",
    "\n",
    "with imageio.get_writer(anim_file, mode='I') as writer:\n",
    "  filenames = glob.glob('image*.png')\n",
    "  filenames = sorted(filenames)\n",
    "  for filename in filenames:\n",
    "    image = imageio.imread(filename)\n",
    "    writer.append_data(image)\n",
    "  image = imageio.imread(filename)\n",
    "  writer.append_data(image)\n",
    "\n",
    "embed.embed_file(anim_file)"
   ]
  },
  {
   "cell_type": "code",
   "execution_count": null,
   "id": "2bf79f76-1602-4c02-82df-f4043168b2dc",
   "metadata": {},
   "outputs": [],
   "source": []
  }
 ],
 "metadata": {
  "kernelspec": {
   "display_name": "Python 3 (ipykernel)",
   "language": "python",
   "name": "python3"
  },
  "language_info": {
   "codemirror_mode": {
    "name": "ipython",
    "version": 3
   },
   "file_extension": ".py",
   "mimetype": "text/x-python",
   "name": "python",
   "nbconvert_exporter": "python",
   "pygments_lexer": "ipython3",
   "version": "3.11.5"
  }
 },
 "nbformat": 4,
 "nbformat_minor": 5
}
