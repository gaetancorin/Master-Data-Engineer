{
 "cells": [
  {
   "cell_type": "code",
   "execution_count": 1,
   "id": "3859a3e3-c377-4870-b091-4080013fcb5e",
   "metadata": {},
   "outputs": [],
   "source": [
    "#code original en ligne : https://github.com/ageron/handson-ml2/blob/master/14_deep_computer_vision_with_cnns.ipynb"
   ]
  },
  {
   "cell_type": "code",
   "execution_count": 2,
   "id": "e8bd43f3-2e68-4ff4-8e1e-50b8096f6d89",
   "metadata": {},
   "outputs": [],
   "source": [
    "# Import des bibliotheques "
   ]
  },
  {
   "cell_type": "code",
   "execution_count": 3,
   "id": "7b3451e4-ea3d-4850-8306-143ea873f5aa",
   "metadata": {},
   "outputs": [
    {
     "name": "stdout",
     "output_type": "stream",
     "text": [
      "WARNING:tensorflow:From C:\\Users\\Utilisateur\\AppData\\Local\\Programs\\Python\\Python310\\lib\\site-packages\\keras\\src\\losses.py:2976: The name tf.losses.sparse_softmax_cross_entropy is deprecated. Please use tf.compat.v1.losses.sparse_softmax_cross_entropy instead.\n",
      "\n"
     ]
    }
   ],
   "source": [
    "# Scikit-Learn ≥0.20 is required\n",
    "import sklearn\n",
    "assert sklearn.__version__ >= \"0.20\"\n",
    "\n",
    "# TensorFlow ≥2.0 is required\n",
    "import tensorflow as tf\n",
    "from tensorflow import keras\n",
    "assert tf.__version__ >= \"2.0\"\n",
    "\n",
    "# Common imports\n",
    "import numpy as np\n",
    "import os\n",
    "\n",
    "# to make this notebook's output stable across runs\n",
    "np.random.seed(42)\n",
    "tf.random.set_seed(42)\n",
    "\n",
    "# To plot pretty figures\n",
    "%matplotlib inline\n",
    "import matplotlib as mpl\n",
    "import matplotlib.pyplot as plt\n",
    "mpl.rc('axes', labelsize=14)\n",
    "mpl.rc('xtick', labelsize=12)\n",
    "mpl.rc('ytick', labelsize=12)"
   ]
  },
  {
   "cell_type": "code",
   "execution_count": 4,
   "id": "9699aff6-207c-478f-9524-f6fc63052cde",
   "metadata": {},
   "outputs": [],
   "source": [
    "# Téléchargement du jeu de données "
   ]
  },
  {
   "cell_type": "code",
   "execution_count": 5,
   "id": "9e286a6f-f19a-4ec3-88d3-65183126a4c5",
   "metadata": {},
   "outputs": [],
   "source": [
    "(X_train_full, y_train_full), (X_test, y_test) = keras.datasets.fashion_mnist.load_data()\n",
    "X_train, X_valid = X_train_full[:-5000], X_train_full[-5000:]\n",
    "y_train, y_valid = y_train_full[:-5000], y_train_full[-5000:]\n",
    "\n",
    "X_mean = X_train.mean(axis=0, keepdims=True)\n",
    "X_std = X_train.std(axis=0, keepdims=True) + 1e-7\n",
    "X_train = (X_train - X_mean) / X_std\n",
    "X_valid = (X_valid - X_mean) / X_std\n",
    "X_test = (X_test - X_mean) / X_std\n",
    "\n",
    "X_train = X_train[..., np.newaxis]\n",
    "X_valid = X_valid[..., np.newaxis]\n",
    "X_test = X_test[..., np.newaxis]"
   ]
  },
  {
   "cell_type": "code",
   "execution_count": 6,
   "id": "edee0807-4905-4a78-b100-e3ba6af01085",
   "metadata": {},
   "outputs": [],
   "source": [
    "# Afficher les dimensions des ensembles de données"
   ]
  },
  {
   "cell_type": "code",
   "execution_count": 7,
   "id": "4853cdfd-99fb-4c0a-bef6-c425da6a602b",
   "metadata": {},
   "outputs": [
    {
     "name": "stdout",
     "output_type": "stream",
     "text": [
      "Dimensions des ensembles d'entraînement, de validation et de test :\n",
      "Entraînement : (55000, 28, 28, 1) (55000,)\n",
      "Validation   : (5000, 28, 28, 1) (5000,)\n",
      "Test         : (10000, 28, 28, 1) (10000,)\n"
     ]
    }
   ],
   "source": [
    "print(\"Dimensions des ensembles d'entraînement, de validation et de test :\")\n",
    "print(\"Entraînement :\", X_train.shape, y_train.shape)\n",
    "print(\"Validation   :\", X_valid.shape, y_valid.shape)\n",
    "print(\"Test         :\", X_test.shape, y_test.shape)"
   ]
  },
  {
   "cell_type": "code",
   "execution_count": 8,
   "id": "18c427d7-5d5c-4217-815a-016ed10d03d4",
   "metadata": {},
   "outputs": [],
   "source": [
    "# Architecture du CNN"
   ]
  },
  {
   "cell_type": "code",
   "execution_count": 9,
   "id": "709653f1-1704-4f4f-b8dd-4b4f0a3cb8bf",
   "metadata": {},
   "outputs": [
    {
     "name": "stdout",
     "output_type": "stream",
     "text": [
      "WARNING:tensorflow:From C:\\Users\\Utilisateur\\AppData\\Local\\Programs\\Python\\Python310\\lib\\site-packages\\keras\\src\\backend.py:873: The name tf.get_default_graph is deprecated. Please use tf.compat.v1.get_default_graph instead.\n",
      "\n",
      "WARNING:tensorflow:From C:\\Users\\Utilisateur\\AppData\\Local\\Programs\\Python\\Python310\\lib\\site-packages\\keras\\src\\layers\\pooling\\max_pooling2d.py:161: The name tf.nn.max_pool is deprecated. Please use tf.nn.max_pool2d instead.\n",
      "\n"
     ]
    }
   ],
   "source": [
    "from functools import partial\n",
    "\n",
    "DefaultConv2D = partial(keras.layers.Conv2D,\n",
    "                        kernel_size=3, activation='relu', padding=\"SAME\")\n",
    "\n",
    "model = keras.models.Sequential([\n",
    "    DefaultConv2D(filters=64, kernel_size=7, input_shape=[28, 28, 1]),\n",
    "    keras.layers.MaxPooling2D(pool_size=2),\n",
    "    DefaultConv2D(filters=128),\n",
    "    DefaultConv2D(filters=128),\n",
    "    keras.layers.MaxPooling2D(pool_size=2),\n",
    "    DefaultConv2D(filters=256),\n",
    "    DefaultConv2D(filters=256),\n",
    "    keras.layers.MaxPooling2D(pool_size=2),\n",
    "    keras.layers.Flatten(),\n",
    "    keras.layers.Dense(units=128, activation='relu'),\n",
    "    keras.layers.Dropout(0.5),\n",
    "    keras.layers.Dense(units=64, activation='relu'),\n",
    "    keras.layers.Dropout(0.5),\n",
    "    keras.layers.Dense(units=10, activation='softmax'),\n",
    "])"
   ]
  },
  {
   "cell_type": "code",
   "execution_count": 10,
   "id": "8f3b948b-911b-4228-9387-d1ee3ce9ac55",
   "metadata": {},
   "outputs": [],
   "source": [
    "# Entraînement du modèle"
   ]
  },
  {
   "cell_type": "code",
   "execution_count": 11,
   "id": "206a3412-4be7-453a-8e9e-9a18920cf7a3",
   "metadata": {},
   "outputs": [
    {
     "name": "stdout",
     "output_type": "stream",
     "text": [
      "WARNING:tensorflow:From C:\\Users\\Utilisateur\\AppData\\Local\\Programs\\Python\\Python310\\lib\\site-packages\\keras\\src\\optimizers\\__init__.py:309: The name tf.train.Optimizer is deprecated. Please use tf.compat.v1.train.Optimizer instead.\n",
      "\n",
      "Epoch 1/10\n",
      "WARNING:tensorflow:From C:\\Users\\Utilisateur\\AppData\\Local\\Programs\\Python\\Python310\\lib\\site-packages\\keras\\src\\utils\\tf_utils.py:492: The name tf.ragged.RaggedTensorValue is deprecated. Please use tf.compat.v1.ragged.RaggedTensorValue instead.\n",
      "\n",
      "WARNING:tensorflow:From C:\\Users\\Utilisateur\\AppData\\Local\\Programs\\Python\\Python310\\lib\\site-packages\\keras\\src\\engine\\base_layer_utils.py:384: The name tf.executing_eagerly_outside_functions is deprecated. Please use tf.compat.v1.executing_eagerly_outside_functions instead.\n",
      "\n",
      "1719/1719 [==============================] - 285s 162ms/step - loss: 0.7153 - accuracy: 0.7525 - val_loss: 0.3875 - val_accuracy: 0.8602\n",
      "Epoch 2/10\n",
      "1719/1719 [==============================] - 291s 169ms/step - loss: 0.4383 - accuracy: 0.8551 - val_loss: 0.3620 - val_accuracy: 0.8748\n",
      "Epoch 3/10\n",
      "1719/1719 [==============================] - 282s 164ms/step - loss: 0.3760 - accuracy: 0.8740 - val_loss: 0.3054 - val_accuracy: 0.8876\n",
      "Epoch 4/10\n",
      "1719/1719 [==============================] - 293s 171ms/step - loss: 0.3378 - accuracy: 0.8846 - val_loss: 0.3042 - val_accuracy: 0.8934\n",
      "Epoch 5/10\n",
      "1719/1719 [==============================] - 358s 209ms/step - loss: 0.3150 - accuracy: 0.8939 - val_loss: 0.2899 - val_accuracy: 0.8984\n",
      "Epoch 6/10\n",
      "1719/1719 [==============================] - 504s 294ms/step - loss: 0.2963 - accuracy: 0.8997 - val_loss: 0.2879 - val_accuracy: 0.8992\n",
      "Epoch 7/10\n",
      "1719/1719 [==============================] - 495s 288ms/step - loss: 0.2828 - accuracy: 0.9037 - val_loss: 0.2783 - val_accuracy: 0.9010\n",
      "Epoch 8/10\n",
      "1719/1719 [==============================] - 514s 299ms/step - loss: 0.2655 - accuracy: 0.9081 - val_loss: 0.2807 - val_accuracy: 0.9002\n",
      "Epoch 9/10\n",
      "1719/1719 [==============================] - 505s 294ms/step - loss: 0.2637 - accuracy: 0.9095 - val_loss: 0.2776 - val_accuracy: 0.8990\n",
      "Epoch 10/10\n",
      "1719/1719 [==============================] - 508s 296ms/step - loss: 0.2482 - accuracy: 0.9154 - val_loss: 0.2830 - val_accuracy: 0.8990\n",
      "313/313 [==============================] - 33s 103ms/step - loss: 0.2800 - accuracy: 0.9029\n",
      "1/1 [==============================] - 2s 2s/step\n"
     ]
    }
   ],
   "source": [
    "model.compile(loss=\"sparse_categorical_crossentropy\", optimizer=\"nadam\", metrics=[\"accuracy\"])\n",
    "history = model.fit(X_train, y_train, epochs=10, validation_data=(X_valid, y_valid))\n",
    "score = model.evaluate(X_test, y_test)\n",
    "X_new = X_test[:10] # pretend we have new images\n",
    "y_pred = model.predict(X_new)"
   ]
  },
  {
   "cell_type": "code",
   "execution_count": 12,
   "id": "6c3741dc-9fad-42ee-9215-7403cc2ed053",
   "metadata": {},
   "outputs": [],
   "source": [
    "# Prédictions"
   ]
  },
  {
   "cell_type": "code",
   "execution_count": 13,
   "id": "50337151-507f-4d81-9e2c-2eb1a362b068",
   "metadata": {},
   "outputs": [
    {
     "name": "stdout",
     "output_type": "stream",
     "text": [
      "1/1 [==============================] - 0s 185ms/step\n"
     ]
    },
    {
     "data": {
      "text/plain": [
       "array([[0.  , 0.  , 0.  , 0.  , 0.  , 0.  , 0.  , 0.  , 0.  , 1.  ],\n",
       "       [1.  , 0.  , 0.  , 0.  , 0.  , 0.  , 0.  , 0.  , 0.  , 0.  ],\n",
       "       [0.79, 0.  , 0.  , 0.08, 0.  , 0.  , 0.13, 0.  , 0.  , 0.  ]],\n",
       "      dtype=float32)"
      ]
     },
     "execution_count": 13,
     "metadata": {},
     "output_type": "execute_result"
    }
   ],
   "source": [
    "X_new = X_train[:3]\n",
    "y_proba = model.predict(X_new)\n",
    "y_proba.round(2)"
   ]
  },
  {
   "cell_type": "code",
   "execution_count": 14,
   "id": "7b7a7ad7-2916-4634-8b1f-fdcab79b3b70",
   "metadata": {},
   "outputs": [
    {
     "data": {
      "image/png": "[encoded data removed]",
      "text/plain": [
       "<Figure size 720x240 with 3 Axes>"
      ]
     },
     "metadata": {},
     "output_type": "display_data"
    }
   ],
   "source": [
    "plt.figure(figsize=(7.2, 2.4))\n",
    "for index, image in enumerate(X_new):\n",
    "    plt.subplot(1, 3, index + 1)\n",
    "    plt.imshow(image, cmap=\"binary\", interpolation=\"nearest\")\n",
    "    plt.axis('off')\n",
    "plt.subplots_adjust(wspace=0.2, hspace=0.5)\n",
    "plt.show()"
   ]
  },
  {
   "cell_type": "code",
   "execution_count": 15,
   "id": "bd1ab590-043f-48fd-877a-f96257f457d0",
   "metadata": {},
   "outputs": [
    {
     "name": "stdout",
     "output_type": "stream",
     "text": [
      "Dimensions des ensembles d'entraînement, de validation et de test :\n",
      "Entraînement : (55000, 28, 28, 1) (55000,)\n",
      "Validation   : (5000, 28, 28, 1) (5000,)\n",
      "Test         : (10000, 28, 28, 1) (10000,)\n"
     ]
    }
   ],
   "source": [
    "# Afficher les dimensions des ensembles de données\n",
    "print(\"Dimensions des ensembles d'entraînement, de validation et de test :\")\n",
    "print(\"Entraînement :\", X_train.shape, y_train.shape)\n",
    "print(\"Validation   :\", X_valid.shape, y_valid.shape)\n",
    "print(\"Test         :\", X_test.shape, y_test.shape)"
   ]
  },
  {
   "cell_type": "code",
   "execution_count": 16,
   "id": "04a3882e-1bfb-4348-b4db-4a00141c4deb",
   "metadata": {},
   "outputs": [
    {
     "name": "stdout",
     "output_type": "stream",
     "text": [
      "[9 0 0]\n",
      "uint8\n"
     ]
    }
   ],
   "source": [
    "print (y_train[:3])\n",
    "print(y_train.dtype)"
   ]
  },
  {
   "cell_type": "code",
   "execution_count": null,
   "id": "b7e9024b-c0ae-4c8d-85f5-aaedb934f652",
   "metadata": {},
   "outputs": [],
   "source": []
  }
 ],
 "metadata": {
  "kernelspec": {
   "display_name": "Python 3 (ipykernel)",
   "language": "python",
   "name": "python3"
  },
  "language_info": {
   "codemirror_mode": {
    "name": "ipython",
    "version": 3
   },
   "file_extension": ".py",
   "mimetype": "text/x-python",
   "name": "python",
   "nbconvert_exporter": "python",
   "pygments_lexer": "ipython3",
   "version": "3.11.5"
  }
 },
 "nbformat": 4,
 "nbformat_minor": 5
}
