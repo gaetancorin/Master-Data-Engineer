{
 "cells": [
  {
   "cell_type": "code",
   "execution_count": 41,
   "id": "e52dccc2-8ee5-46dd-b548-46466c9cb6c0",
   "metadata": {},
   "outputs": [],
   "source": [
    "#Définir les éléments permettant d'implémenter l'algorithme de descente de gradient"
   ]
  },
  {
   "cell_type": "code",
   "execution_count": 42,
   "id": "d0f5d5ea",
   "metadata": {},
   "outputs": [],
   "source": [
    "## valeur attendu, valeur observé, valeur de la donnée d'entrée"
   ]
  },
  {
   "cell_type": "code",
   "execution_count": 43,
   "id": "6953dc03-790c-4835-ba30-f572dc64a159",
   "metadata": {},
   "outputs": [],
   "source": [
    "# Equation : somme(valeur des données * poid des données)"
   ]
  },
  {
   "cell_type": "code",
   "execution_count": 44,
   "id": "119c971f-9b6c-4bd5-af48-2ea0415c4708",
   "metadata": {},
   "outputs": [],
   "source": [
    "import numpy as np\n",
    "\n",
    "def equation(val_donnees, weight_donnees):\n",
    "    return (val_donnees * weight_donnees)"
   ]
  },
  {
   "cell_type": "code",
   "execution_count": 45,
   "id": "1a9f6abe-3ea5-4cb5-a34a-3dadff3db6d0",
   "metadata": {},
   "outputs": [],
   "source": [
    "# Fonction d'activation sigmoide"
   ]
  },
  {
   "cell_type": "code",
   "execution_count": 46,
   "id": "031f4e3c",
   "metadata": {},
   "outputs": [],
   "source": [
    "def sigmoide(resultat_equation):\n",
    "    return (1 / (1 + np.exp(- resultat_equation)))"
   ]
  },
  {
   "cell_type": "code",
   "execution_count": 47,
   "id": "574d570b-31ba-4b5b-ac7c-4f3f27d7102a",
   "metadata": {},
   "outputs": [],
   "source": [
    "# Equation de mesure de l'erreur : (- valeur attendue * log (valeur observée) + (1-valeur attendue) * log (1 – valeur observée)  "
   ]
  },
  {
   "cell_type": "code",
   "execution_count": 48,
   "id": "cc8ce815-c794-4bc4-8944-d357808a20fd",
   "metadata": {},
   "outputs": [],
   "source": [
    "def erreur(valeur_attendu, valeur_observe):\n",
    "    return (- valeur_attendu * np.log(valeur_observe) + (1 - valeur_attendu) * np.log(1 - valeur_observe))"
   ]
  },
  {
   "cell_type": "code",
   "execution_count": 49,
   "id": "1a25e104-3736-45cb-9843-c26d83d8359a",
   "metadata": {},
   "outputs": [],
   "source": [
    "# Equation du gradient : (valeur observée – valeur attendue) * valeur de la donnée d’entrée   "
   ]
  },
  {
   "cell_type": "code",
   "execution_count": 50,
   "id": "ea3811ec-7e10-47b7-aa2c-fbb2e153008f",
   "metadata": {},
   "outputs": [],
   "source": [
    "def gradient(valeur_observe, valeur_attendu, valeur_entree):\n",
    "    return (valeur_observe - valeur_attendu) * valeur_entree"
   ]
  },
  {
   "cell_type": "code",
   "execution_count": 51,
   "id": "1d474a2c-1d92-4329-ad4a-4f08d810baf1",
   "metadata": {},
   "outputs": [],
   "source": [
    "# Equation de correction des poids : ancien poids de la donnée d’entrée – (coefficient d’apprentissage * valeur du gradient)"
   ]
  },
  {
   "cell_type": "code",
   "execution_count": 52,
   "id": "6faf0b6f-2301-4368-b895-a18c29870050",
   "metadata": {},
   "outputs": [],
   "source": [
    "def mise_a_jour_poids(old_weight, coeff_learning, val_gradient):\n",
    "    return old_weight - (coeff_learning * val_gradient)"
   ]
  },
  {
   "cell_type": "code",
   "execution_count": 53,
   "id": "12db515a-8526-402e-8d21-c1658731ce2f",
   "metadata": {},
   "outputs": [],
   "source": [
    "# On considère une donnée de valeur 3 avec un poids de départ de 0.5\n",
    "# On considère que l'on souhaite entrainer un réseau de neurone a associer la valeur 3 à la prédiction 0\n",
    "# On considère une vitesse d'apprentissage de 0.8\n",
    "# Grace aux éléments ci dessus, implémenter l'algorithme de la descente de gradient pour\n",
    "# calculer la valeur successive du poids de la donnée de valeur 3, sur 10 itérations\n",
    "\n",
    "# Résultat attendu : \n",
    "# [num_iteration , valeur de l'erreur, valeur du gradient, valeur du poid] * 10 lignes\n",
    "# point de départ [0 , 0.5]"
   ]
  },
  {
   "cell_type": "code",
   "execution_count": 59,
   "id": "eb06b774",
   "metadata": {},
   "outputs": [
    {
     "name": "stdout",
     "output_type": "stream",
     "text": [
      "result_equation 1.5\n",
      "result_sigmoide 0.8175744761936437\n",
      "result_erreur nan\n",
      "result_gradient 4.5\n"
     ]
    },
    {
     "name": "stderr",
     "output_type": "stream",
     "text": [
      "C:\\Users\\gaeta\\AppData\\Local\\Temp\\ipykernel_11144\\2254254764.py:2: RuntimeWarning: invalid value encountered in log\n",
      "  return (- valeur_attendu * np.log(valeur_observe) + (1 - valeur_attendu) * np.log(1 - valeur_observe))\n"
     ]
    }
   ],
   "source": [
    "result_equation = equation(3, 0.5)\n",
    "print('result_equation', result_equation)\n",
    "valeur_observe = sigmoide(result_equation)\n",
    "print('valeur_observe', valeur_observe)\n",
    "result_erreur = erreur(0, result_equation)\n",
    "print('result_erreur', result_erreur)\n",
    "result_gradient = gradient(result_equation, 0, 3)\n",
    "print('result_gradient', result_gradient)"
   ]
  },
  {
   "cell_type": "code",
   "execution_count": null,
   "id": "63b66396",
   "metadata": {},
   "outputs": [],
   "source": []
  }
 ],
 "metadata": {
  "kernelspec": {
   "display_name": "Python 3 (ipykernel)",
   "language": "python",
   "name": "python3"
  },
  "language_info": {
   "codemirror_mode": {
    "name": "ipython",
    "version": 3
   },
   "file_extension": ".py",
   "mimetype": "text/x-python",
   "name": "python",
   "nbconvert_exporter": "python",
   "pygments_lexer": "ipython3",
   "version": "3.11.5"
  }
 },
 "nbformat": 4,
 "nbformat_minor": 5
}
