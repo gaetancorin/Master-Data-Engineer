{
 "cells": [
  {
   "cell_type": "code",
   "execution_count": 1,
   "id": "4e4fb2ee-09a2-43b1-9bff-241ad0fe5a91",
   "metadata": {},
   "outputs": [],
   "source": [
    "# Initialisation des aventuriers \n",
    "## Quelle structure de données choisissez-vous ?\n",
    "## (on appellera cette structure de données au moment de générer aléatoirement des \n",
    "## compagnies d'aventurier).\n",
    "## Comment / par quoi les données sont elles représentées ? "
   ]
  },
  {
   "cell_type": "code",
   "execution_count": 2,
   "id": "23a18d77-a161-4648-b172-036bc05288db",
   "metadata": {},
   "outputs": [],
   "source": [
    "# on peut définir une classe avec deux attributs \n",
    "# 1 attribut \"nom\" et un attribut \"puissance\" \n",
    "## inconvénient : peu pratique à appeler ensuite\n",
    "\n",
    "# on peut définir un tableau à deux dimensions : \n",
    "# aventuriers = [['chevalier','elfe','belette'],[11,15,8]]\n",
    "## inconvénient : 2 types de données différents dans mon tableau\n",
    "\n",
    "# on peut définir deux vecteurs différents\n",
    "#aventurier_nom = ['chevalier','elfe','belette']\n",
    "#aventurier_puissance = [11,15,8]\n",
    "## inconvénient : il y a deux espaces mémoires distincts qui sont créés\n",
    "\n",
    "# on peut créer un dictionnaire de données\n",
    "aventuriers = {\"chevalier\":11, \"elfe\":15, \"belette\":8}\n"
   ]
  },
  {
   "cell_type": "code",
   "execution_count": 3,
   "id": "fadda6c6-b65a-4f53-8327-ff6e001291ee",
   "metadata": {},
   "outputs": [],
   "source": [
    "# Générateur de nombres aléatoires pour la définition des poids"
   ]
  },
  {
   "cell_type": "code",
   "execution_count": 4,
   "id": "acc60d7e-748f-4986-b949-65897e161763",
   "metadata": {},
   "outputs": [
    {
     "name": "stdout",
     "output_type": "stream",
     "text": [
      "11\n"
     ]
    }
   ],
   "source": [
    "import random\n",
    "valeur = random.randint(1,12)\n",
    "print(valeur)"
   ]
  },
  {
   "cell_type": "code",
   "execution_count": 5,
   "id": "fa320ad4-172e-42c5-946b-2d2f2cfa0b15",
   "metadata": {},
   "outputs": [],
   "source": [
    "# Initialisation des poids"
   ]
  },
  {
   "cell_type": "code",
   "execution_count": 6,
   "id": "38b29217-2e3d-48c4-906d-a058585a170c",
   "metadata": {},
   "outputs": [
    {
     "name": "stdout",
     "output_type": "stream",
     "text": [
      "[11, 11, 11, 12]\n"
     ]
    }
   ],
   "source": [
    "poids = []\n",
    "\n",
    "for compteur in range(4) :\n",
    "    valeur_aleatoire = random.randint(1,12)\n",
    "    poids.append(valeur_aleatoire)\n",
    "\n",
    "print(poids)"
   ]
  },
  {
   "cell_type": "code",
   "execution_count": 7,
   "id": "9d3ce610-7e6c-41ec-8aaa-58b84a8a319d",
   "metadata": {},
   "outputs": [
    {
     "data": {
      "text/plain": [
       "3.0"
      ]
     },
     "execution_count": 7,
     "metadata": {},
     "output_type": "execute_result"
    }
   ],
   "source": [
    "# Choix de la fonction d'activation : heaviside()\n",
    "## test de la fonction d'activation heaviside()\n",
    "import numpy\n",
    "numpy.heaviside(-5,0)\n",
    "numpy.heaviside(9,0)\n",
    "numpy.heaviside(0,3)"
   ]
  },
  {
   "cell_type": "code",
   "execution_count": 8,
   "id": "08c29fb3-da73-4f87-92d3-875417537301",
   "metadata": {},
   "outputs": [],
   "source": [
    "# Choix de l'équation permettant d'évaluer la valeur de la compagnie (activation du seuil)"
   ]
  },
  {
   "cell_type": "code",
   "execution_count": 10,
   "id": "54cd66f4-f4ed-4dca-ba8f-f0811a348880",
   "metadata": {},
   "outputs": [],
   "source": [
    "# Algorithme permettant de générer aléatoirement une compagnie"
   ]
  },
  {
   "cell_type": "code",
   "execution_count": 11,
   "id": "959845a8-5281-466b-9031-6e6d521673f3",
   "metadata": {},
   "outputs": [
    {
     "name": "stdout",
     "output_type": "stream",
     "text": [
      "[15, 15, 8]\n",
      "['belette', 'chevalier', 'elfe']\n"
     ]
    }
   ],
   "source": [
    "# La compagnie est représenté par la somme des puissances de chaque aventurier\n",
    "compagnie = []\n",
    "\n",
    "for compteur in range(3) :\n",
    "    aventurier = random.choice(list(aventuriers.values()))\n",
    "    compagnie.append(aventurier)\n",
    "\n",
    "print(compagnie)\n",
    "\n",
    "# La compagnie est représenté par le nom de chaque aventurier\n",
    "compagnie_nom = []\n",
    "\n",
    "for compteur in range(3) :\n",
    "    aventurier_nom = random.choice(list(aventuriers.keys()))\n",
    "    compagnie_nom.append(aventurier_nom) \n",
    "\n",
    "print(compagnie_nom)"
   ]
  },
  {
   "cell_type": "code",
   "execution_count": 12,
   "id": "5445483d-016c-4060-afc0-5c8d00ac8f39",
   "metadata": {},
   "outputs": [],
   "source": [
    "# Evaluation de la valeur initiale de la compagnie par un neurone artificiel\n",
    "# 0 - Générer une compagnie aléatoirement\n",
    "# 1 - Equation\n",
    "# 2 - Fonction d'activation\n",
    "# 3 - décision"
   ]
  },
  {
   "cell_type": "code",
   "execution_count": 14,
   "id": "86eb2f3f-c0ce-4d05-bd7e-69d09968bbef",
   "metadata": {},
   "outputs": [
    {
     "name": "stdout",
     "output_type": "stream",
     "text": [
      "[8, 11, 8]\n",
      "87.0\n",
      "la compagnie est dangereuse\n"
     ]
    }
   ],
   "source": [
    "# 0 - Générer une compagnie aléatoirement\n",
    "compagnie = []\n",
    "\n",
    "for compteur in range(3) :\n",
    "    aventurier = random.choice(list(aventuriers.values()))\n",
    "    compagnie.append(aventurier)\n",
    "print(compagnie)\n",
    "\n",
    "# 1 - Equation\n",
    "somme = 0\n",
    "for aventurier in range(3) :\n",
    "    somme += compagnie[aventurier] * poids[aventurier]\n",
    "\n",
    "valeur_compagnie = somme / 3\n",
    "\n",
    "e3 = valeur_compagnie - poids[-1]\n",
    "print(e3)\n",
    "\n",
    "# 2 - Fonction d'activation\n",
    "activation = numpy.heaviside(e3,0)\n",
    "\n",
    "# 3 - décision\n",
    "if activation == 0 :\n",
    "    print(\"la compagnie n'est pas dangereuse\")\n",
    "else :\n",
    "    print(\"la compagnie est dangereuse\")"
   ]
  },
  {
   "cell_type": "code",
   "execution_count": null,
   "id": "f7304119-3268-4bdd-97a2-912a06bba0b3",
   "metadata": {},
   "outputs": [],
   "source": [
    "# Créer un fichier excel contenant les 10 combinaisons possibles d'aventurier \n",
    "# pouvant composer une compagnie\n",
    "# colonne1   #colonne2    #colonne3    #colonne4\n",
    "# elfe       #elfe        #belette     #puissance totale de la compagnie (integer) \n",
    "# elfe       #belette     #chevalier   #puissance totale de la compagnie (integer)"
   ]
  },
  {
   "cell_type": "code",
   "execution_count": null,
   "id": "7fb320c5-9c5f-4b5b-8ef5-cdb6f6ca2366",
   "metadata": {},
   "outputs": [],
   "source": [
    "# Dans le même fichier excel, sur une autre feuille, enregistrer \n",
    "# 100 compagnies générées aléatoirement"
   ]
  },
  {
   "cell_type": "code",
   "execution_count": null,
   "id": "b9b7d912-92cf-4b97-b7b5-5665011ee711",
   "metadata": {},
   "outputs": [],
   "source": [
    "import pandas\n",
    "compagnies = [] \n",
    "for compagnie in range(100) :\n",
    "    compagnie = []\n",
    "    for compteur in range(3) :\n",
    "        alea = random.randint(0,2)\n",
    "        aventurier = list(aventuriers.keys())[alea]\n",
    "        compagnie.append(aventurier)\n",
    "    compagnies.append(compagnie)\n",
    "\n",
    "df = pandas.DataFrame(data = compagnies, columns=['aventurier_1','aventurier_2','aventurier_3'])\n",
    "\n",
    "print(df)\n",
    "\n",
    "filename = '100_compagnies_aleatoires.xlsx'\n",
    "df.to_excel(filename)"
   ]
  },
  {
   "cell_type": "code",
   "execution_count": null,
   "id": "8c38182a-bd0a-44e4-bc40-62669a5f50ec",
   "metadata": {},
   "outputs": [],
   "source": [
    "# Bonus : en vous documentant sur internet, implementez une \n",
    "# nouvelle fonction d'activation : la fonction sigmoïde"
   ]
  }
 ],
 "metadata": {
  "kernelspec": {
   "display_name": "Python 3 (ipykernel)",
   "language": "python",
   "name": "python3"
  },
  "language_info": {
   "codemirror_mode": {
    "name": "ipython",
    "version": 3
   },
   "file_extension": ".py",
   "mimetype": "text/x-python",
   "name": "python",
   "nbconvert_exporter": "python",
   "pygments_lexer": "ipython3",
   "version": "3.11.5"
  }
 },
 "nbformat": 4,
 "nbformat_minor": 5
}
