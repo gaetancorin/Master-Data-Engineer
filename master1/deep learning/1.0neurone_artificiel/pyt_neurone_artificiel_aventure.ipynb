{
 "cells": [
  {
   "cell_type": "code",
   "execution_count": 1,
   "id": "48237f37-01de-4818-ae1c-854bd972a5ce",
   "metadata": {},
   "outputs": [],
   "source": [
    "# Objectif : créer pas à pas un neurone artificiel permettant de\n",
    "# déterminer si une compagnie d'aventurier est dangereuse ou non"
   ]
  },
  {
   "cell_type": "code",
   "execution_count": 2,
   "id": "4e4fb2ee-09a2-43b1-9bff-241ad0fe5a91",
   "metadata": {},
   "outputs": [],
   "source": [
    "# Initialisation de la compagnie\n",
    "## Quelle structure de données choisissez-vous ? \n",
    "# Je choisi la structure de donnée en tableau\n",
    "## Comment / par quoi les données sont elles représentées ? \n",
    "# les données qui représente pour chacun une compagnie, sont remprésenter par trois integer"
   ]
  },
  {
   "cell_type": "code",
   "execution_count": 3,
   "id": "fadda6c6-b65a-4f53-8327-ff6e001291ee",
   "metadata": {},
   "outputs": [],
   "source": [
    "# Générateur de nombres aléatoires pour la définition des poids"
   ]
  },
  {
   "cell_type": "code",
   "execution_count": 4,
   "id": "fa320ad4-172e-42c5-946b-2d2f2cfa0b15",
   "metadata": {},
   "outputs": [
    {
     "name": "stdout",
     "output_type": "stream",
     "text": [
      "{'chevalier': 1, 'elfe': 1, 'belette': 6, 'sorciere': 3}\n"
     ]
    }
   ],
   "source": [
    "# Initialisation des poids\n",
    "import random\n",
    "values = {\n",
    "    'chevalier': 11,\n",
    "    'elfe': 15,\n",
    "    'belette': 8,\n",
    "    'sorciere': 1\n",
    "}\n",
    "\n",
    "poids = {\n",
    "    'chevalier': random.randint(1, 12),\n",
    "    'elfe': random.randint(1, 12),\n",
    "    'belette': random.randint(1, 12),\n",
    "    'sorciere': random.randint(1, 12)\n",
    "}\n",
    "print(poids)"
   ]
  },
  {
   "cell_type": "code",
   "execution_count": 5,
   "id": "9d3ce610-7e6c-41ec-8aaa-58b84a8a319d",
   "metadata": {},
   "outputs": [
    {
     "data": {
      "text/plain": [
       "0.5"
      ]
     },
     "execution_count": 5,
     "metadata": {},
     "output_type": "execute_result"
    }
   ],
   "source": [
    "# Choix de la fonction d'activation : heaviside()\n",
    "## test de la fonction d'activation heaviside()\n",
    "import numpy\n",
    "# numpy.heaviside(-5,0)\n",
    "# numpy.heaviside(9,0)\n",
    "# numpy.heaviside(0,3)\n",
    "numpy.heaviside(0,0.5)\n",
    "\n",
    "# en considérant numpy.heaviside(x,y):\n",
    "# si x < 0 donne 0  ; si x == 0 donne y ; si x > 0 donne 1"
   ]
  },
  {
   "cell_type": "code",
   "execution_count": 6,
   "id": "08c29fb3-da73-4f87-92d3-875417537301",
   "metadata": {},
   "outputs": [
    {
     "data": {
      "text/plain": [
       "1.0"
      ]
     },
     "execution_count": 6,
     "metadata": {},
     "output_type": "execute_result"
    }
   ],
   "source": [
    "# Choix de l'équation permettant d'évaluer la valeur de la compagnie (activation du seuil)\n",
    "numpy.heaviside((values['chevalier'] * poids['chevalier'] + values['elfe'] * poids['elfe'] + values['belette'] * poids['belette']) - values['sorciere'] * poids['sorciere'] ,1)"
   ]
  },
  {
   "cell_type": "code",
   "execution_count": 8,
   "id": "54cd66f4-f4ed-4dca-ba8f-f0811a348880",
   "metadata": {},
   "outputs": [
    {
     "name": "stdout",
     "output_type": "stream",
     "text": [
      "belette elfe elfe\n"
     ]
    }
   ],
   "source": [
    "# Algorithme permettant de générer aléatoirement une compagnie\n",
    "possibilities = ['chevalier', 'elfe', 'belette']\n",
    "\n",
    "choice1 = random.choice(possibilities)\n",
    "choice2 = random.choice(possibilities)\n",
    "choice3 = random.choice(possibilities)\n",
    "print(choice1, choice2, choice3)"
   ]
  },
  {
   "cell_type": "code",
   "execution_count": 9,
   "id": "5445483d-016c-4060-afc0-5c8d00ac8f39",
   "metadata": {},
   "outputs": [
    {
     "name": "stdout",
     "output_type": "stream",
     "text": [
      "belette elfe belette\n",
      "equation 108\n",
      "il faut diminuer les poids aléatoires des chevalier,elfe,belette, et augmenter le poid de la sorcière\n"
     ]
    }
   ],
   "source": [
    "# Evaluation de la valeur initiale de la compagnie par un neurone artificiel\n",
    "# 0 - Générer une compagnie aléatoirement\n",
    "choice1 = random.choice(possibilities)\n",
    "choice2 = random.choice(possibilities)\n",
    "choice3 = random.choice(possibilities)\n",
    "print(choice1, choice2, choice3)\n",
    "# 1 - Equation\n",
    "equation = values[choice1] * poids[choice1] + values[choice2] * poids[choice2] + values[choice3] * poids[choice3] - values['sorciere'] * poids['sorciere']\n",
    "print('equation', equation)\n",
    "# 2 - Fonction d'activation\n",
    "result = numpy.heaviside(equation , 1)\n",
    "# 3 - décision\n",
    "if result == 1:\n",
    "    print('il faut diminuer les poids aléatoires des chevalier,elfe,belette, et augmenter le poid de la sorcière')\n",
    "if result == 0:\n",
    "    print('il faut augmenter les poids aléatoires des chevalier,elfe,belette, et diminuer le poid de la sorcière')"
   ]
  },
  {
   "cell_type": "code",
   "execution_count": 10,
   "id": "f7304119-3268-4bdd-97a2-912a06bba0b3",
   "metadata": {},
   "outputs": [
    {
     "name": "stdout",
     "output_type": "stream",
     "text": [
      "      perso1     perso2     perso3  puissance_totale\n",
      "0       elfe       elfe       elfe                45\n",
      "1       elfe       elfe  chevalier                41\n",
      "2       elfe       elfe    belette                78\n",
      "3       elfe  chevalier  chevalier                37\n",
      "4       elfe  chevalier    belette                74\n",
      "5       elfe    belette    belette               111\n",
      "6  chevalier  chevalier  chevalier                33\n",
      "7  chevalier  chevalier    belette                70\n",
      "8  chevalier    belette    belette               107\n",
      "9    belette    belette    belette               144\n"
     ]
    }
   ],
   "source": [
    "# Créer un fichier excel contenant les 10 combinaisons possibles d'aventurier \n",
    "# pouvant composer une compagnie\n",
    "# colonne1   #colonne2    #colonne3    #colonne4\n",
    "# elfe       #elfe        #belette     #puissance totale de la compagnie (integer) \n",
    "# elfe       #belette     #chevalier   #puissance totale de la compagnie (integer)\n",
    "\n",
    "import pandas as pd\n",
    "val_elfe =  values['elfe'] * poids['elfe']\n",
    "val_chevalier = values['chevalier'] * poids['chevalier']\n",
    "val_belette = values['belette'] * poids['belette']\n",
    " \n",
    "# Initialize data to lists.\n",
    "data = [{'perso1': 'elfe', 'perso2': 'elfe', 'perso3': 'elfe', 'puissance_totale': val_elfe+val_elfe+val_elfe},\n",
    "        {'perso1': 'elfe', 'perso2': 'elfe', 'perso3': 'chevalier', 'puissance_totale': val_elfe+val_elfe+val_chevalier},\n",
    "        {'perso1': 'elfe', 'perso2': 'elfe', 'perso3': 'belette', 'puissance_totale': val_elfe+val_elfe+val_belette},\n",
    "        {'perso1': 'elfe', 'perso2': 'chevalier', 'perso3': 'chevalier', 'puissance_totale': val_elfe+val_chevalier+val_chevalier},\n",
    "        {'perso1': 'elfe', 'perso2': 'chevalier', 'perso3': 'belette', 'puissance_totale': val_elfe+val_chevalier+val_belette},\n",
    "        {'perso1': 'elfe', 'perso2': 'belette', 'perso3': 'belette', 'puissance_totale': val_elfe+val_belette+val_belette},\n",
    "        {'perso1': 'chevalier', 'perso2': 'chevalier', 'perso3': 'chevalier', 'puissance_totale': val_chevalier+val_chevalier+val_chevalier},\n",
    "        {'perso1': 'chevalier', 'perso2': 'chevalier', 'perso3': 'belette', 'puissance_totale': val_chevalier+val_chevalier+val_belette},\n",
    "        {'perso1': 'chevalier', 'perso2': 'belette', 'perso3': 'belette', 'puissance_totale': val_chevalier+val_belette+val_belette},\n",
    "        {'perso1': 'belette', 'perso2': 'belette', 'perso3': 'belette', 'puissance_totale': val_belette+val_belette+val_belette},\n",
    "        \n",
    "       ]\n",
    " \n",
    "# Creates DataFrame.\n",
    "df = pd.DataFrame(data)\n",
    " \n",
    "# Print the data\n",
    "print(df)\n",
    "\n",
    "df.to_excel(\"./result_combinaisons.xlsx\", sheet_name = 'all_combinaison', index=False)"
   ]
  },
  {
   "cell_type": "code",
   "execution_count": 11,
   "id": "7fb320c5-9c5f-4b5b-8ef5-cdb6f6ca2366",
   "metadata": {},
   "outputs": [
    {
     "name": "stdout",
     "output_type": "stream",
     "text": [
      "       perso1     perso2     perso3 puissance_totale\n",
      "0        elfe    belette       elfe               78\n",
      "1   chevalier    belette  chevalier               70\n",
      "2        elfe    belette       elfe               78\n",
      "3        elfe  chevalier  chevalier               37\n",
      "4        elfe       elfe    belette               78\n",
      "..        ...        ...        ...              ...\n",
      "95  chevalier    belette    belette              107\n",
      "96       elfe  chevalier  chevalier               37\n",
      "97    belette    belette  chevalier              107\n",
      "98    belette  chevalier  chevalier               70\n",
      "99       elfe       elfe    belette               78\n",
      "\n",
      "[100 rows x 4 columns]\n"
     ]
    }
   ],
   "source": [
    "# Dans le même fichier excel, sur une autre feuille, enregistrer \n",
    "# 100 compagnies générées aléatoirement\n",
    "import pandas as pd\n",
    "\n",
    "data_100 = pd.DataFrame(columns=['perso1', 'perso2', 'perso3', 'puissance_totale'])\n",
    "\n",
    "for i in range(100):\n",
    "    # Choisir trois personnage aléatoire et sa valeur associée\n",
    "    choice1 = random.choice(possibilities)\n",
    "    value1 = values[choice1] * poids[choice1]\n",
    "    choice2 = random.choice(possibilities)\n",
    "    value2 = values[choice2] * poids[choice2]\n",
    "    choice3 = random.choice(possibilities)\n",
    "    value3 = values[choice3] * poids[choice3]\n",
    "    row = pd.DataFrame({'perso1': choice1, 'perso2': choice2, 'perso3': choice3, 'puissance_totale': value1+value2+value3}, index=[0])\n",
    "\n",
    "    data_100 = pd.concat([data_100, row], ignore_index = True) \n",
    "\n",
    "# Print the data\n",
    "print(data_100)\n",
    "\n",
    "with pd.ExcelWriter('./result_combinaisons.xlsx', engine='openpyxl', mode='a') as writer:  \n",
    "    data_100.to_excel(writer, sheet_name='100_random_combinaisons', index=False)"
   ]
  },
  {
   "cell_type": "code",
   "execution_count": null,
   "id": "8c38182a-bd0a-44e4-bc40-62669a5f50ec",
   "metadata": {},
   "outputs": [],
   "source": [
    "# Bonus : en vous documentant sur internet, implementez une \n",
    "# nouvelle fonction d'activation : la fonction sigmoïde"
   ]
  }
 ],
 "metadata": {
  "kernelspec": {
   "display_name": "Python 3 (ipykernel)",
   "language": "python",
   "name": "python3"
  },
  "language_info": {
   "codemirror_mode": {
    "name": "ipython",
    "version": 3
   },
   "file_extension": ".py",
   "mimetype": "text/x-python",
   "name": "python",
   "nbconvert_exporter": "python",
   "pygments_lexer": "ipython3",
   "version": "3.11.5"
  }
 },
 "nbformat": 4,
 "nbformat_minor": 5
}
