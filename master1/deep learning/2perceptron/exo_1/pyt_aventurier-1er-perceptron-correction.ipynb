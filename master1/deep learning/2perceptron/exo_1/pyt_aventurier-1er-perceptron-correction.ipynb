{
 "cells": [
  {
   "cell_type": "code",
   "execution_count": 1,
   "id": "9d05a573-65c0-4a58-a629-2b003f2918d3",
   "metadata": {},
   "outputs": [],
   "source": [
    "# Importer les bibliothèques nécessaires au programme"
   ]
  },
  {
   "cell_type": "code",
   "execution_count": 2,
   "id": "c365132b-0e62-4ca2-8379-cd64f72c1b39",
   "metadata": {},
   "outputs": [
    {
     "name": "stdout",
     "output_type": "stream",
     "text": [
      "WARNING:tensorflow:From C:\\Users\\Utilisateur\\AppData\\Local\\Programs\\Python\\Python310\\lib\\site-packages\\keras\\src\\losses.py:2976: The name tf.losses.sparse_softmax_cross_entropy is deprecated. Please use tf.compat.v1.losses.sparse_softmax_cross_entropy instead.\n",
      "\n"
     ]
    }
   ],
   "source": [
    "import random\n",
    "import numpy as np\n",
    "from tensorflow.keras.models import Sequential\n",
    "from tensorflow.keras.layers import Dense"
   ]
  },
  {
   "cell_type": "code",
   "execution_count": 3,
   "id": "5aa2df8b-8767-47e2-82be-8a89bffae03b",
   "metadata": {},
   "outputs": [],
   "source": [
    "# Définir les données servant à entraîner l'IA \n",
    "# c'est à dire les compagnies se présentant aléatoirement à l'entrée du donjon \n",
    "\n",
    "## pour simplifier, une compagnie sera représentée par la somme des puissances \n",
    "# des aventuriers qui la compose\n",
    "\n",
    "# aventurier_1\taventurier_2\taventurier_3\tpuissance\n",
    "# belette\t    belette\t        belette\t        24\n",
    "# belette\t    belette         chevalier\t    27\n",
    "# chevalier\t    chevalier\t    belette\t        30\n",
    "# belette\t    belette\t        elfe\t        31\n",
    "# chevalier\t    chevalier\t    chevalier\t    33\n",
    "# chevalier   \telfe\t        belette\t        34\n",
    "# chevalier  \tchevalier\t    elfe\t        37\n",
    "# elfe\t        elfe\t        belette\t        38\n",
    "# elfe\t        elfe\t        chevalier       41\n",
    "# elfe\t        elfe\t        elfe\t        45\n",
    "\n",
    "## shéma du perceptron : \n",
    "# puissance de la compagnie ------poids de la compagnie-----neurone------>prediction\n",
    "# poids de la sorcière (biais) -------------------------------|\n"
   ]
  },
  {
   "cell_type": "code",
   "execution_count": 4,
   "id": "dcbc0564-10dd-4007-b103-c26ef2cd5f7c",
   "metadata": {},
   "outputs": [],
   "source": [
    "compagnie_faible = [24,27,30,31,33]\n",
    "compagnie_forte = [34,37,38,41,45]"
   ]
  },
  {
   "cell_type": "code",
   "execution_count": 5,
   "id": "32f09c26-f11e-40d9-baf2-1efbc1c3da2d",
   "metadata": {},
   "outputs": [],
   "source": [
    "# Définir les étiquettes des données d'entraînement : \n",
    "# 0 = envoyer un troll\n",
    "# 1 = envoyer deux trolls"
   ]
  },
  {
   "cell_type": "code",
   "execution_count": 6,
   "id": "c6215a10-1d25-4b82-b89a-b8f3bf88f05e",
   "metadata": {},
   "outputs": [],
   "source": [
    "etiquettes_cat0 = np.zeros_like(compagnie_faible)\n",
    "etiquettes_cat1 = np.ones_like(compagnie_forte)"
   ]
  },
  {
   "cell_type": "code",
   "execution_count": 7,
   "id": "9d9e6bb9-845c-4a12-9bbe-30c459d48a01",
   "metadata": {},
   "outputs": [],
   "source": [
    "# Concaténer les données et les étiquettes "
   ]
  },
  {
   "cell_type": "code",
   "execution_count": 8,
   "id": "8fa96309-e19e-4347-9363-693065df391c",
   "metadata": {},
   "outputs": [
    {
     "name": "stdout",
     "output_type": "stream",
     "text": [
      "[24 27 30 31 33 34 37 38 41 45]\n",
      "[0 0 0 0 0 1 1 1 1 1]\n"
     ]
    }
   ],
   "source": [
    "donnees_entree = np.concatenate([compagnie_faible, compagnie_forte])\n",
    "print(donnees_entree)\n",
    "etiquettes = np.concatenate([etiquettes_cat0, etiquettes_cat1])\n",
    "print(etiquettes)"
   ]
  },
  {
   "cell_type": "code",
   "execution_count": 9,
   "id": "9cb7a566-0635-4233-ba14-a1676d980db2",
   "metadata": {},
   "outputs": [],
   "source": [
    "# Mélanger les données "
   ]
  },
  {
   "cell_type": "code",
   "execution_count": 10,
   "id": "624e83e0-bd4f-42ad-95db-874e375047a3",
   "metadata": {},
   "outputs": [
    {
     "name": "stdout",
     "output_type": "stream",
     "text": [
      "[24 33 38 30 37 34 31 45 27 41]\n",
      "[0 0 1 0 1 1 0 1 0 1]\n"
     ]
    }
   ],
   "source": [
    "indices_melanges = np.random.permutation(len(donnees_entree))\n",
    "donnees_entree = donnees_entree[indices_melanges]\n",
    "print(donnees_entree)\n",
    "etiquettes = etiquettes[indices_melanges]\n",
    "print(etiquettes)"
   ]
  },
  {
   "cell_type": "code",
   "execution_count": 11,
   "id": "f7489ac1-cf1e-4092-93cd-dfe7a44182da",
   "metadata": {},
   "outputs": [],
   "source": [
    "# Créer le modèle\n",
    "\n",
    "## Sequential() est une architecture de perceptron bien adaptée à la classification binaire\n",
    "## modele.add(Dense(1, input_dim=1, activation='sigmoid'))\n",
    "## permet de former un modèle avec 1 couche (1 neurone), recevant une seule donnée (input_dim=1)\n",
    "## la fonction d'activation du modèle est la fonction sigmoide"
   ]
  },
  {
   "cell_type": "code",
   "execution_count": 12,
   "id": "080eb05c-1ea1-43af-a4b8-b9df26456001",
   "metadata": {},
   "outputs": [
    {
     "name": "stdout",
     "output_type": "stream",
     "text": [
      "WARNING:tensorflow:From C:\\Users\\Utilisateur\\AppData\\Local\\Programs\\Python\\Python310\\lib\\site-packages\\keras\\src\\backend.py:873: The name tf.get_default_graph is deprecated. Please use tf.compat.v1.get_default_graph instead.\n",
      "\n"
     ]
    }
   ],
   "source": [
    "modele = Sequential()\n",
    "modele.add(Dense(1, input_dim=1, activation='sigmoid'))"
   ]
  },
  {
   "cell_type": "code",
   "execution_count": 13,
   "id": "fc581fc3-0e72-4601-bba6-1c118f99d021",
   "metadata": {},
   "outputs": [],
   "source": [
    "# Compiler le modèle\n",
    "## optimizer désigne l'algorithme en charge de la modification des poids \n",
    "## loss mesure la distance entre la prediction du neurone et le résultat souhaité\n",
    "## ici nous utilisons l'algorithme 'binary_crossentropy' car nous voulons distinguer 2 groupes\n",
    "## metrics indique, sur une échelle de 0 à 1, le ratio de prédictions correctes pour un cycle d'entraînement"
   ]
  },
  {
   "cell_type": "code",
   "execution_count": 14,
   "id": "04792da8-8fb0-4966-b5ae-58b251718469",
   "metadata": {},
   "outputs": [
    {
     "name": "stdout",
     "output_type": "stream",
     "text": [
      "WARNING:tensorflow:From C:\\Users\\Utilisateur\\AppData\\Local\\Programs\\Python\\Python310\\lib\\site-packages\\keras\\src\\optimizers\\__init__.py:309: The name tf.train.Optimizer is deprecated. Please use tf.compat.v1.train.Optimizer instead.\n",
      "\n"
     ]
    }
   ],
   "source": [
    "modele.compile(optimizer='adam', loss='binary_crossentropy', metrics=['accuracy'])"
   ]
  },
  {
   "cell_type": "code",
   "execution_count": 15,
   "id": "67078ed6-eb63-4031-ad47-57c874a57a24",
   "metadata": {},
   "outputs": [],
   "source": [
    "# Entraîner le modèle\n",
    "## ce sera à vous de rechercher comment fonctionne cette commande"
   ]
  },
  {
   "cell_type": "code",
   "execution_count": 16,
   "id": "601744b4-6d49-4d70-a4f3-e8a31c941dd5",
   "metadata": {},
   "outputs": [
    {
     "name": "stdout",
     "output_type": "stream",
     "text": [
      "Epoch 1/200\n",
      "WARNING:tensorflow:From C:\\Users\\Utilisateur\\AppData\\Local\\Programs\\Python\\Python310\\lib\\site-packages\\keras\\src\\utils\\tf_utils.py:492: The name tf.ragged.RaggedTensorValue is deprecated. Please use tf.compat.v1.ragged.RaggedTensorValue instead.\n",
      "\n",
      "WARNING:tensorflow:From C:\\Users\\Utilisateur\\AppData\\Local\\Programs\\Python\\Python310\\lib\\site-packages\\keras\\src\\engine\\base_layer_utils.py:384: The name tf.executing_eagerly_outside_functions is deprecated. Please use tf.compat.v1.executing_eagerly_outside_functions instead.\n",
      "\n",
      "10/10 [==============================] - 1s 3ms/step - loss: 6.5571 - accuracy: 0.5000\n",
      "Epoch 2/200\n",
      "10/10 [==============================] - 0s 2ms/step - loss: 6.4450 - accuracy: 0.5000\n",
      "Epoch 3/200\n",
      "10/10 [==============================] - 0s 2ms/step - loss: 6.3457 - accuracy: 0.5000\n",
      "Epoch 4/200\n",
      "10/10 [==============================] - 0s 2ms/step - loss: 6.2411 - accuracy: 0.5000\n",
      "Epoch 5/200\n",
      "10/10 [==============================] - 0s 2ms/step - loss: 6.1251 - accuracy: 0.5000 \n",
      "Epoch 6/200\n",
      "10/10 [==============================] - 0s 2ms/step - loss: 6.0455 - accuracy: 0.5000 \n",
      "Epoch 7/200\n",
      "10/10 [==============================] - 0s 2ms/step - loss: 5.9167 - accuracy: 0.5000\n",
      "Epoch 8/200\n",
      "10/10 [==============================] - 0s 2ms/step - loss: 5.8078 - accuracy: 0.5000\n",
      "Epoch 9/200\n",
      "10/10 [==============================] - 0s 5ms/step - loss: 5.7110 - accuracy: 0.5000\n",
      "Epoch 10/200\n",
      "10/10 [==============================] - 0s 2ms/step - loss: 5.6145 - accuracy: 0.5000\n",
      "Epoch 11/200\n",
      "10/10 [==============================] - 0s 2ms/step - loss: 5.5000 - accuracy: 0.5000 \n",
      "Epoch 12/200\n",
      "10/10 [==============================] - 0s 2ms/step - loss: 5.3871 - accuracy: 0.5000\n",
      "Epoch 13/200\n",
      "10/10 [==============================] - 0s 2ms/step - loss: 5.2955 - accuracy: 0.5000 \n",
      "Epoch 14/200\n",
      "10/10 [==============================] - 0s 2ms/step - loss: 5.1827 - accuracy: 0.5000\n",
      "Epoch 15/200\n",
      "10/10 [==============================] - 0s 2ms/step - loss: 5.0809 - accuracy: 0.5000\n",
      "Epoch 16/200\n",
      "10/10 [==============================] - 0s 2ms/step - loss: 4.9814 - accuracy: 0.5000\n",
      "Epoch 17/200\n",
      "10/10 [==============================] - 0s 2ms/step - loss: 4.8806 - accuracy: 0.5000\n",
      "Epoch 18/200\n",
      "10/10 [==============================] - 0s 2ms/step - loss: 4.7498 - accuracy: 0.5000\n",
      "Epoch 19/200\n",
      "10/10 [==============================] - 0s 2ms/step - loss: 4.6591 - accuracy: 0.5000\n",
      "Epoch 20/200\n",
      "10/10 [==============================] - 0s 2ms/step - loss: 4.5540 - accuracy: 0.5000\n",
      "Epoch 21/200\n",
      "10/10 [==============================] - 0s 2ms/step - loss: 4.4505 - accuracy: 0.5000\n",
      "Epoch 22/200\n",
      "10/10 [==============================] - 0s 2ms/step - loss: 4.3395 - accuracy: 0.5000\n",
      "Epoch 23/200\n",
      "10/10 [==============================] - 0s 2ms/step - loss: 4.2277 - accuracy: 0.5000\n",
      "Epoch 24/200\n",
      "10/10 [==============================] - 0s 2ms/step - loss: 4.1275 - accuracy: 0.5000\n",
      "Epoch 25/200\n",
      "10/10 [==============================] - 0s 2ms/step - loss: 4.0362 - accuracy: 0.5000\n",
      "Epoch 26/200\n",
      "10/10 [==============================] - 0s 2ms/step - loss: 3.9283 - accuracy: 0.5000\n",
      "Epoch 27/200\n",
      "10/10 [==============================] - 0s 2ms/step - loss: 3.8118 - accuracy: 0.5000\n",
      "Epoch 28/200\n",
      "10/10 [==============================] - 0s 2ms/step - loss: 3.7022 - accuracy: 0.5000\n",
      "Epoch 29/200\n",
      "10/10 [==============================] - 0s 2ms/step - loss: 3.6088 - accuracy: 0.5000\n",
      "Epoch 30/200\n",
      "10/10 [==============================] - 0s 2ms/step - loss: 3.4992 - accuracy: 0.5000\n",
      "Epoch 31/200\n",
      "10/10 [==============================] - 0s 2ms/step - loss: 3.4072 - accuracy: 0.5000\n",
      "Epoch 32/200\n",
      "10/10 [==============================] - 0s 2ms/step - loss: 3.2837 - accuracy: 0.5000\n",
      "Epoch 33/200\n",
      "10/10 [==============================] - 0s 2ms/step - loss: 3.1789 - accuracy: 0.5000\n",
      "Epoch 34/200\n",
      "10/10 [==============================] - 0s 2ms/step - loss: 3.0858 - accuracy: 0.5000\n",
      "Epoch 35/200\n",
      "10/10 [==============================] - 0s 2ms/step - loss: 2.9725 - accuracy: 0.5000\n",
      "Epoch 36/200\n",
      "10/10 [==============================] - 0s 2ms/step - loss: 2.8685 - accuracy: 0.5000\n",
      "Epoch 37/200\n",
      "10/10 [==============================] - 0s 2ms/step - loss: 2.7700 - accuracy: 0.5000\n",
      "Epoch 38/200\n",
      "10/10 [==============================] - 0s 6ms/step - loss: 2.6590 - accuracy: 0.5000\n",
      "Epoch 39/200\n",
      "10/10 [==============================] - 0s 2ms/step - loss: 2.5510 - accuracy: 0.5000\n",
      "Epoch 40/200\n",
      "10/10 [==============================] - 0s 2ms/step - loss: 2.4592 - accuracy: 0.5000\n",
      "Epoch 41/200\n",
      "10/10 [==============================] - 0s 2ms/step - loss: 2.3519 - accuracy: 0.5000\n",
      "Epoch 42/200\n",
      "10/10 [==============================] - 0s 2ms/step - loss: 2.2475 - accuracy: 0.5000\n",
      "Epoch 43/200\n",
      "10/10 [==============================] - 0s 2ms/step - loss: 2.1410 - accuracy: 0.5000\n",
      "Epoch 44/200\n",
      "10/10 [==============================] - 0s 2ms/step - loss: 2.0319 - accuracy: 0.5000\n",
      "Epoch 45/200\n",
      "10/10 [==============================] - 0s 3ms/step - loss: 1.9527 - accuracy: 0.5000\n",
      "Epoch 46/200\n",
      "10/10 [==============================] - 0s 2ms/step - loss: 1.8403 - accuracy: 0.5000\n",
      "Epoch 47/200\n",
      "10/10 [==============================] - 0s 2ms/step - loss: 1.7402 - accuracy: 0.5000\n",
      "Epoch 48/200\n",
      "10/10 [==============================] - 0s 2ms/step - loss: 1.6489 - accuracy: 0.5000\n",
      "Epoch 49/200\n",
      "10/10 [==============================] - 0s 2ms/step - loss: 1.5543 - accuracy: 0.5000\n",
      "Epoch 50/200\n",
      "10/10 [==============================] - 0s 2ms/step - loss: 1.4736 - accuracy: 0.5000\n",
      "Epoch 51/200\n",
      "10/10 [==============================] - 0s 3ms/step - loss: 1.3605 - accuracy: 0.5000\n",
      "Epoch 52/200\n",
      "10/10 [==============================] - 0s 2ms/step - loss: 1.2903 - accuracy: 0.5000\n",
      "Epoch 53/200\n",
      "10/10 [==============================] - 0s 2ms/step - loss: 1.2091 - accuracy: 0.5000\n",
      "Epoch 54/200\n",
      "10/10 [==============================] - 0s 2ms/step - loss: 1.1223 - accuracy: 0.5000\n",
      "Epoch 55/200\n",
      "10/10 [==============================] - 0s 2ms/step - loss: 1.0576 - accuracy: 0.5000\n",
      "Epoch 56/200\n",
      "10/10 [==============================] - 0s 2ms/step - loss: 0.9913 - accuracy: 0.5000\n",
      "Epoch 57/200\n",
      "10/10 [==============================] - 0s 2ms/step - loss: 0.9264 - accuracy: 0.5000\n",
      "Epoch 58/200\n",
      "10/10 [==============================] - 0s 2ms/step - loss: 0.8822 - accuracy: 0.5000\n",
      "Epoch 59/200\n",
      "10/10 [==============================] - 0s 2ms/step - loss: 0.8301 - accuracy: 0.5000\n",
      "Epoch 60/200\n",
      "10/10 [==============================] - 0s 3ms/step - loss: 0.7973 - accuracy: 0.5000\n",
      "Epoch 61/200\n",
      "10/10 [==============================] - 0s 2ms/step - loss: 0.7643 - accuracy: 0.5000\n",
      "Epoch 62/200\n",
      "10/10 [==============================] - 0s 2ms/step - loss: 0.7332 - accuracy: 0.5000\n",
      "Epoch 63/200\n",
      "10/10 [==============================] - 0s 2ms/step - loss: 0.7261 - accuracy: 0.5000\n",
      "Epoch 64/200\n",
      "10/10 [==============================] - 0s 2ms/step - loss: 0.6969 - accuracy: 0.5000\n",
      "Epoch 65/200\n",
      "10/10 [==============================] - 0s 2ms/step - loss: 0.6852 - accuracy: 0.5000\n",
      "Epoch 66/200\n",
      "10/10 [==============================] - 0s 2ms/step - loss: 0.6830 - accuracy: 0.5000\n",
      "Epoch 67/200\n",
      "10/10 [==============================] - 0s 2ms/step - loss: 0.6706 - accuracy: 0.5000\n",
      "Epoch 68/200\n",
      "10/10 [==============================] - 0s 2ms/step - loss: 0.6651 - accuracy: 0.5000\n",
      "Epoch 69/200\n",
      "10/10 [==============================] - 0s 2ms/step - loss: 0.6622 - accuracy: 0.5000\n",
      "Epoch 70/200\n",
      "10/10 [==============================] - 0s 2ms/step - loss: 0.6586 - accuracy: 0.5000\n",
      "Epoch 71/200\n",
      "10/10 [==============================] - 0s 2ms/step - loss: 0.6584 - accuracy: 0.5000\n",
      "Epoch 72/200\n",
      "10/10 [==============================] - 0s 2ms/step - loss: 0.6557 - accuracy: 0.5000\n",
      "Epoch 73/200\n",
      "10/10 [==============================] - 0s 3ms/step - loss: 0.6559 - accuracy: 0.5000\n",
      "Epoch 74/200\n",
      "10/10 [==============================] - 0s 3ms/step - loss: 0.6547 - accuracy: 0.5000\n",
      "Epoch 75/200\n",
      "10/10 [==============================] - 0s 5ms/step - loss: 0.6554 - accuracy: 0.5000\n",
      "Epoch 76/200\n",
      "10/10 [==============================] - 0s 2ms/step - loss: 0.6571 - accuracy: 0.5000\n",
      "Epoch 77/200\n",
      "10/10 [==============================] - 0s 2ms/step - loss: 0.6531 - accuracy: 0.5000\n",
      "Epoch 78/200\n",
      "10/10 [==============================] - 0s 2ms/step - loss: 0.6533 - accuracy: 0.5000\n",
      "Epoch 79/200\n",
      "10/10 [==============================] - 0s 3ms/step - loss: 0.6526 - accuracy: 0.5000\n",
      "Epoch 80/200\n",
      "10/10 [==============================] - 0s 2ms/step - loss: 0.6549 - accuracy: 0.5000\n",
      "Epoch 81/200\n",
      "10/10 [==============================] - 0s 2ms/step - loss: 0.6518 - accuracy: 0.5000\n",
      "Epoch 82/200\n",
      "10/10 [==============================] - 0s 2ms/step - loss: 0.6523 - accuracy: 0.5000\n",
      "Epoch 83/200\n",
      "10/10 [==============================] - 0s 2ms/step - loss: 0.6524 - accuracy: 0.5000\n",
      "Epoch 84/200\n",
      "10/10 [==============================] - 0s 2ms/step - loss: 0.6517 - accuracy: 0.5000\n",
      "Epoch 85/200\n",
      "10/10 [==============================] - 0s 2ms/step - loss: 0.6516 - accuracy: 0.5000\n",
      "Epoch 86/200\n",
      "10/10 [==============================] - 0s 2ms/step - loss: 0.6533 - accuracy: 0.5000\n",
      "Epoch 87/200\n",
      "10/10 [==============================] - 0s 2ms/step - loss: 0.6526 - accuracy: 0.5000\n",
      "Epoch 88/200\n",
      "10/10 [==============================] - 0s 2ms/step - loss: 0.6533 - accuracy: 0.5000\n",
      "Epoch 89/200\n",
      "10/10 [==============================] - 0s 2ms/step - loss: 0.6518 - accuracy: 0.5000\n",
      "Epoch 90/200\n",
      "10/10 [==============================] - 0s 2ms/step - loss: 0.6510 - accuracy: 0.5000\n",
      "Epoch 91/200\n",
      "10/10 [==============================] - 0s 2ms/step - loss: 0.6530 - accuracy: 0.5000\n",
      "Epoch 92/200\n",
      "10/10 [==============================] - 0s 2ms/step - loss: 0.6539 - accuracy: 0.5000\n",
      "Epoch 93/200\n",
      "10/10 [==============================] - 0s 2ms/step - loss: 0.6538 - accuracy: 0.5000\n",
      "Epoch 94/200\n",
      "10/10 [==============================] - 0s 2ms/step - loss: 0.6526 - accuracy: 0.5000\n",
      "Epoch 95/200\n",
      "10/10 [==============================] - 0s 2ms/step - loss: 0.6507 - accuracy: 0.5000\n",
      "Epoch 96/200\n",
      "10/10 [==============================] - 0s 2ms/step - loss: 0.6508 - accuracy: 0.5000\n",
      "Epoch 97/200\n",
      "10/10 [==============================] - 0s 3ms/step - loss: 0.6527 - accuracy: 0.5000\n",
      "Epoch 98/200\n",
      "10/10 [==============================] - 0s 3ms/step - loss: 0.6507 - accuracy: 0.5000\n",
      "Epoch 99/200\n",
      "10/10 [==============================] - 0s 2ms/step - loss: 0.6548 - accuracy: 0.5000\n",
      "Epoch 100/200\n",
      "10/10 [==============================] - 0s 2ms/step - loss: 0.6518 - accuracy: 0.5000\n",
      "Epoch 101/200\n",
      "10/10 [==============================] - 0s 2ms/step - loss: 0.6505 - accuracy: 0.5000\n",
      "Epoch 102/200\n",
      "10/10 [==============================] - 0s 3ms/step - loss: 0.6555 - accuracy: 0.5000\n",
      "Epoch 103/200\n",
      "10/10 [==============================] - 0s 2ms/step - loss: 0.6527 - accuracy: 0.5000\n",
      "Epoch 104/200\n",
      "10/10 [==============================] - 0s 2ms/step - loss: 0.6500 - accuracy: 0.5000\n",
      "Epoch 105/200\n",
      "10/10 [==============================] - 0s 2ms/step - loss: 0.6532 - accuracy: 0.5000\n",
      "Epoch 106/200\n",
      "10/10 [==============================] - 0s 2ms/step - loss: 0.6507 - accuracy: 0.5000\n",
      "Epoch 107/200\n",
      "10/10 [==============================] - 0s 3ms/step - loss: 0.6503 - accuracy: 0.5000\n",
      "Epoch 108/200\n",
      "10/10 [==============================] - 0s 3ms/step - loss: 0.6510 - accuracy: 0.5000\n",
      "Epoch 109/200\n",
      "10/10 [==============================] - 0s 3ms/step - loss: 0.6504 - accuracy: 0.5000\n",
      "Epoch 110/200\n",
      "10/10 [==============================] - 0s 2ms/step - loss: 0.6506 - accuracy: 0.5000\n",
      "Epoch 111/200\n",
      "10/10 [==============================] - 0s 2ms/step - loss: 0.6510 - accuracy: 0.5000\n",
      "Epoch 112/200\n",
      "10/10 [==============================] - 0s 3ms/step - loss: 0.6499 - accuracy: 0.5000\n",
      "Epoch 113/200\n",
      "10/10 [==============================] - 0s 5ms/step - loss: 0.6533 - accuracy: 0.5000\n",
      "Epoch 114/200\n",
      "10/10 [==============================] - 0s 2ms/step - loss: 0.6493 - accuracy: 0.5000\n",
      "Epoch 115/200\n",
      "10/10 [==============================] - 0s 2ms/step - loss: 0.6490 - accuracy: 0.5000\n",
      "Epoch 116/200\n",
      "10/10 [==============================] - 0s 2ms/step - loss: 0.6497 - accuracy: 0.5000\n",
      "Epoch 117/200\n",
      "10/10 [==============================] - 0s 2ms/step - loss: 0.6506 - accuracy: 0.5000\n",
      "Epoch 118/200\n",
      "10/10 [==============================] - 0s 2ms/step - loss: 0.6493 - accuracy: 0.5000\n",
      "Epoch 119/200\n",
      "10/10 [==============================] - 0s 3ms/step - loss: 0.6495 - accuracy: 0.5000\n",
      "Epoch 120/200\n",
      "10/10 [==============================] - 0s 2ms/step - loss: 0.6503 - accuracy: 0.5000\n",
      "Epoch 121/200\n",
      "10/10 [==============================] - 0s 2ms/step - loss: 0.6496 - accuracy: 0.5000\n",
      "Epoch 122/200\n",
      "10/10 [==============================] - 0s 2ms/step - loss: 0.6493 - accuracy: 0.5000\n",
      "Epoch 123/200\n",
      "10/10 [==============================] - 0s 2ms/step - loss: 0.6498 - accuracy: 0.5000\n",
      "Epoch 124/200\n",
      "10/10 [==============================] - 0s 2ms/step - loss: 0.6484 - accuracy: 0.5000\n",
      "Epoch 125/200\n",
      "10/10 [==============================] - 0s 2ms/step - loss: 0.6495 - accuracy: 0.5000\n",
      "Epoch 126/200\n",
      "10/10 [==============================] - 0s 2ms/step - loss: 0.6500 - accuracy: 0.5000\n",
      "Epoch 127/200\n",
      "10/10 [==============================] - 0s 2ms/step - loss: 0.6504 - accuracy: 0.5000\n",
      "Epoch 128/200\n",
      "10/10 [==============================] - 0s 2ms/step - loss: 0.6491 - accuracy: 0.5000\n",
      "Epoch 129/200\n",
      "10/10 [==============================] - 0s 3ms/step - loss: 0.6562 - accuracy: 0.5000\n",
      "Epoch 130/200\n",
      "10/10 [==============================] - 0s 2ms/step - loss: 0.6514 - accuracy: 0.5000\n",
      "Epoch 131/200\n",
      "10/10 [==============================] - 0s 2ms/step - loss: 0.6480 - accuracy: 0.5000\n",
      "Epoch 132/200\n",
      "10/10 [==============================] - 0s 2ms/step - loss: 0.6484 - accuracy: 0.5000\n",
      "Epoch 133/200\n",
      "10/10 [==============================] - 0s 2ms/step - loss: 0.6477 - accuracy: 0.5000\n",
      "Epoch 134/200\n",
      "10/10 [==============================] - 0s 3ms/step - loss: 0.6492 - accuracy: 0.5000\n",
      "Epoch 135/200\n",
      "10/10 [==============================] - 0s 3ms/step - loss: 0.6549 - accuracy: 0.5000\n",
      "Epoch 136/200\n",
      "10/10 [==============================] - 0s 2ms/step - loss: 0.6526 - accuracy: 0.5000\n",
      "Epoch 137/200\n",
      "10/10 [==============================] - 0s 3ms/step - loss: 0.6513 - accuracy: 0.5000\n",
      "Epoch 138/200\n",
      "10/10 [==============================] - 0s 2ms/step - loss: 0.6483 - accuracy: 0.5000\n",
      "Epoch 139/200\n",
      "10/10 [==============================] - 0s 2ms/step - loss: 0.6473 - accuracy: 0.5000\n",
      "Epoch 140/200\n",
      "10/10 [==============================] - 0s 2ms/step - loss: 0.6476 - accuracy: 0.5000\n",
      "Epoch 141/200\n",
      "10/10 [==============================] - 0s 2ms/step - loss: 0.6496 - accuracy: 0.5000\n",
      "Epoch 142/200\n",
      "10/10 [==============================] - 0s 5ms/step - loss: 0.6511 - accuracy: 0.5000\n",
      "Epoch 143/200\n",
      "10/10 [==============================] - 0s 2ms/step - loss: 0.6477 - accuracy: 0.5000\n",
      "Epoch 144/200\n",
      "10/10 [==============================] - 0s 2ms/step - loss: 0.6500 - accuracy: 0.5000\n",
      "Epoch 145/200\n",
      "10/10 [==============================] - 0s 2ms/step - loss: 0.6472 - accuracy: 0.5000\n",
      "Epoch 146/200\n",
      "10/10 [==============================] - 0s 2ms/step - loss: 0.6493 - accuracy: 0.5000\n",
      "Epoch 147/200\n",
      "10/10 [==============================] - 0s 2ms/step - loss: 0.6475 - accuracy: 0.5000\n",
      "Epoch 148/200\n",
      "10/10 [==============================] - 0s 2ms/step - loss: 0.6556 - accuracy: 0.5000\n",
      "Epoch 149/200\n",
      "10/10 [==============================] - 0s 2ms/step - loss: 0.6472 - accuracy: 0.6000\n",
      "Epoch 150/200\n",
      "10/10 [==============================] - 0s 2ms/step - loss: 0.6487 - accuracy: 0.5000\n",
      "Epoch 151/200\n",
      "10/10 [==============================] - 0s 3ms/step - loss: 0.6483 - accuracy: 0.5000\n",
      "Epoch 152/200\n",
      "10/10 [==============================] - 0s 2ms/step - loss: 0.6463 - accuracy: 0.5000\n",
      "Epoch 153/200\n",
      "10/10 [==============================] - 0s 3ms/step - loss: 0.6474 - accuracy: 0.5000\n",
      "Epoch 154/200\n",
      "10/10 [==============================] - 0s 2ms/step - loss: 0.6490 - accuracy: 0.5000\n",
      "Epoch 155/200\n",
      "10/10 [==============================] - 0s 2ms/step - loss: 0.6480 - accuracy: 0.5000\n",
      "Epoch 156/200\n",
      "10/10 [==============================] - 0s 2ms/step - loss: 0.6468 - accuracy: 0.5000\n",
      "Epoch 157/200\n",
      "10/10 [==============================] - 0s 2ms/step - loss: 0.6470 - accuracy: 0.5000\n",
      "Epoch 158/200\n",
      "10/10 [==============================] - 0s 2ms/step - loss: 0.6463 - accuracy: 0.5000\n",
      "Epoch 159/200\n",
      "10/10 [==============================] - 0s 2ms/step - loss: 0.6461 - accuracy: 0.5000\n",
      "Epoch 160/200\n",
      "10/10 [==============================] - 0s 2ms/step - loss: 0.6473 - accuracy: 0.5000\n",
      "Epoch 161/200\n",
      "10/10 [==============================] - 0s 2ms/step - loss: 0.6516 - accuracy: 0.5000\n",
      "Epoch 162/200\n",
      "10/10 [==============================] - 0s 2ms/step - loss: 0.6467 - accuracy: 0.5000\n",
      "Epoch 163/200\n",
      "10/10 [==============================] - 0s 2ms/step - loss: 0.6460 - accuracy: 0.5000\n",
      "Epoch 164/200\n",
      "10/10 [==============================] - 0s 2ms/step - loss: 0.6458 - accuracy: 0.5000\n",
      "Epoch 165/200\n",
      "10/10 [==============================] - 0s 2ms/step - loss: 0.6495 - accuracy: 0.5000\n",
      "Epoch 166/200\n",
      "10/10 [==============================] - 0s 3ms/step - loss: 0.6452 - accuracy: 0.5000\n",
      "Epoch 167/200\n",
      "10/10 [==============================] - 0s 2ms/step - loss: 0.6452 - accuracy: 0.5000\n",
      "Epoch 168/200\n",
      "10/10 [==============================] - 0s 2ms/step - loss: 0.6463 - accuracy: 0.5000\n",
      "Epoch 169/200\n",
      "10/10 [==============================] - 0s 2ms/step - loss: 0.6461 - accuracy: 0.5000\n",
      "Epoch 170/200\n",
      "10/10 [==============================] - 0s 2ms/step - loss: 0.6461 - accuracy: 0.5000\n",
      "Epoch 171/200\n",
      "10/10 [==============================] - 0s 3ms/step - loss: 0.6458 - accuracy: 0.5000\n",
      "Epoch 172/200\n",
      "10/10 [==============================] - 0s 3ms/step - loss: 0.6459 - accuracy: 0.5000\n",
      "Epoch 173/200\n",
      "10/10 [==============================] - 0s 2ms/step - loss: 0.6447 - accuracy: 0.5000\n",
      "Epoch 174/200\n",
      "10/10 [==============================] - 0s 2ms/step - loss: 0.6449 - accuracy: 0.5000\n",
      "Epoch 175/200\n",
      "10/10 [==============================] - 0s 2ms/step - loss: 0.6453 - accuracy: 0.5000\n",
      "Epoch 176/200\n",
      "10/10 [==============================] - 0s 2ms/step - loss: 0.6467 - accuracy: 0.5000\n",
      "Epoch 177/200\n",
      "10/10 [==============================] - 0s 3ms/step - loss: 0.6504 - accuracy: 0.5000\n",
      "Epoch 178/200\n",
      "10/10 [==============================] - 0s 2ms/step - loss: 0.6440 - accuracy: 0.5000\n",
      "Epoch 179/200\n",
      "10/10 [==============================] - 0s 2ms/step - loss: 0.6441 - accuracy: 0.5000\n",
      "Epoch 180/200\n",
      "10/10 [==============================] - 0s 2ms/step - loss: 0.6438 - accuracy: 0.5000\n",
      "Epoch 181/200\n",
      "10/10 [==============================] - 0s 2ms/step - loss: 0.6449 - accuracy: 0.5000\n",
      "Epoch 182/200\n",
      "10/10 [==============================] - 0s 2ms/step - loss: 0.6463 - accuracy: 0.5000\n",
      "Epoch 183/200\n",
      "10/10 [==============================] - 0s 2ms/step - loss: 0.6448 - accuracy: 0.5000\n",
      "Epoch 184/200\n",
      "10/10 [==============================] - 0s 2ms/step - loss: 0.6437 - accuracy: 0.5000\n",
      "Epoch 185/200\n",
      "10/10 [==============================] - 0s 2ms/step - loss: 0.6481 - accuracy: 0.5000\n",
      "Epoch 186/200\n",
      "10/10 [==============================] - 0s 2ms/step - loss: 0.6435 - accuracy: 0.5000\n",
      "Epoch 187/200\n",
      "10/10 [==============================] - 0s 2ms/step - loss: 0.6450 - accuracy: 0.5000\n",
      "Epoch 188/200\n",
      "10/10 [==============================] - 0s 2ms/step - loss: 0.6443 - accuracy: 0.6000\n",
      "Epoch 189/200\n",
      "10/10 [==============================] - 0s 2ms/step - loss: 0.6464 - accuracy: 0.5000\n",
      "Epoch 190/200\n",
      "10/10 [==============================] - 0s 2ms/step - loss: 0.6444 - accuracy: 0.5000\n",
      "Epoch 191/200\n",
      "10/10 [==============================] - 0s 2ms/step - loss: 0.6458 - accuracy: 0.5000\n",
      "Epoch 192/200\n",
      "10/10 [==============================] - 0s 2ms/step - loss: 0.6471 - accuracy: 0.5000\n",
      "Epoch 193/200\n",
      "10/10 [==============================] - 0s 2ms/step - loss: 0.6430 - accuracy: 0.5000\n",
      "Epoch 194/200\n",
      "10/10 [==============================] - 0s 2ms/step - loss: 0.6446 - accuracy: 0.5000\n",
      "Epoch 195/200\n",
      "10/10 [==============================] - 0s 3ms/step - loss: 0.6426 - accuracy: 0.5000\n",
      "Epoch 196/200\n",
      "10/10 [==============================] - 0s 2ms/step - loss: 0.6434 - accuracy: 0.5000\n",
      "Epoch 197/200\n",
      "10/10 [==============================] - 0s 2ms/step - loss: 0.6437 - accuracy: 0.5000\n",
      "Epoch 198/200\n",
      "10/10 [==============================] - 0s 2ms/step - loss: 0.6424 - accuracy: 0.5000\n",
      "Epoch 199/200\n",
      "10/10 [==============================] - 0s 3ms/step - loss: 0.6432 - accuracy: 0.5000\n",
      "Epoch 200/200\n",
      "10/10 [==============================] - 0s 2ms/step - loss: 0.6458 - accuracy: 0.6000\n"
     ]
    },
    {
     "data": {
      "text/plain": [
       "<keras.src.callbacks.History at 0x21b0a0c3fa0>"
      ]
     },
     "execution_count": 16,
     "metadata": {},
     "output_type": "execute_result"
    }
   ],
   "source": [
    "modele.fit(donnees_entree, etiquettes, epochs=200, batch_size=1)"
   ]
  },
  {
   "cell_type": "code",
   "execution_count": 17,
   "id": "9f3eee76-8a9e-4343-a8c8-a838690b6972",
   "metadata": {},
   "outputs": [],
   "source": [
    "# Évaluer le modèle"
   ]
  },
  {
   "cell_type": "code",
   "execution_count": 18,
   "id": "140e28c0-3adb-4ca2-a426-8aa63ff7a8b2",
   "metadata": {},
   "outputs": [
    {
     "name": "stdout",
     "output_type": "stream",
     "text": [
      "1/1 [==============================] - 0s 186ms/step - loss: 0.6415 - accuracy: 0.6000\n",
      "Perte : 0.6415320634841919, Précision : 0.6000000238418579\n"
     ]
    }
   ],
   "source": [
    "perte, precision = modele.evaluate(donnees_entree, etiquettes)\n",
    "print(f\"Perte : {perte}, Précision : {precision}\")"
   ]
  },
  {
   "cell_type": "code",
   "execution_count": 19,
   "id": "146d553c-5d5b-4a7e-846a-7b063a9b9318",
   "metadata": {},
   "outputs": [],
   "source": [
    "# Demander à afficher les prédictions associées à chaque compagnie\n",
    "# Si la prédiction est > à 0.5, cela signifie que la compagnie est dangereuse"
   ]
  },
  {
   "cell_type": "code",
   "execution_count": 20,
   "id": "fa80c6c0-78b4-462a-8bb9-769ed3c2b72b",
   "metadata": {},
   "outputs": [
    {
     "name": "stdout",
     "output_type": "stream",
     "text": [
      "1/1 [==============================] - 0s 119ms/step\n",
      "Prédictions:\n",
      "[[0.49713016]\n",
      " [0.51545495]\n",
      " [0.5337382 ]\n",
      " [0.5398149 ]\n",
      " [0.55193126]\n",
      " [0.55796725]\n",
      " [0.575966  ]\n",
      " [0.58192354]\n",
      " [0.5996467 ]\n",
      " [0.62287086]]\n"
     ]
    }
   ],
   "source": [
    "compagnies = [24,27,30,31,33,34,37,38,41,45]\n",
    "predictions = modele.predict(compagnies)\n",
    "print(\"Prédictions:\")\n",
    "print(predictions)"
   ]
  },
  {
   "cell_type": "code",
   "execution_count": 21,
   "id": "81557fd4-7073-4ed9-a1a5-c011bb797294",
   "metadata": {},
   "outputs": [],
   "source": [
    "# Pouvez-vous en déduire l'équation utilisée dans ce modèle,\n",
    "# pour déterminer la valeur du \"x\" qui est transmis à la \n",
    "# fonction d'activation sigmoide ? "
   ]
  },
  {
   "cell_type": "code",
   "execution_count": 22,
   "id": "849cac6d-f3fd-447e-a872-0fa7cf7f66c8",
   "metadata": {},
   "outputs": [],
   "source": [
    "# (puissance de la compagnie * poids de la compagnie) + poids de la sorcière\n",
    "# en fait, c'est la somme de toutes les entrées (y compris le biais) multiplié par leur poids"
   ]
  },
  {
   "cell_type": "code",
   "execution_count": 23,
   "id": "3900c122-30c3-4618-accf-c896236617c5",
   "metadata": {},
   "outputs": [],
   "source": [
    "# Afficher les prédictions, les étiquettes associées et la décision en chaine de caractère"
   ]
  },
  {
   "cell_type": "code",
   "execution_count": 24,
   "id": "40db05df-cb45-465e-af10-a5ec7fcace5d",
   "metadata": {},
   "outputs": [
    {
     "name": "stdout",
     "output_type": "stream",
     "text": [
      "1/1 [==============================] - 0s 25ms/step\n",
      "[[0.49713016]\n",
      " [0.55193126]\n",
      " [0.58192354]\n",
      " [0.5337382 ]\n",
      " [0.575966  ]\n",
      " [0.55796725]\n",
      " [0.5398149 ]\n",
      " [0.62287086]\n",
      " [0.51545495]\n",
      " [0.5996467 ]]\n",
      "[0 0 1 0 1 1 0 1 0 1]\n",
      "['1 troll', '2 troll', '2 troll', '2 troll', '2 troll', '2 troll', '2 troll', '2 troll', '2 troll', '2 troll']\n"
     ]
    }
   ],
   "source": [
    "resultat = []\n",
    "predictions = modele.predict(donnees_entree)\n",
    "for i in range(10) :\n",
    "    if predictions[i] < 0.5 :\n",
    "        resultat.append('1 troll')\n",
    "    else :\n",
    "        resultat.append('2 troll')\n",
    "\n",
    "print(predictions[0:10])\n",
    "print(etiquettes[0:10])\n",
    "print(resultat)"
   ]
  },
  {
   "cell_type": "code",
   "execution_count": 25,
   "id": "ce62a1c5-825b-410b-a91d-a9e878b98616",
   "metadata": {},
   "outputs": [],
   "source": [
    "# Afficher les poids du modèle"
   ]
  },
  {
   "cell_type": "code",
   "execution_count": 26,
   "id": "43e1c2b9-e4cc-490c-927b-3913bd1dd218",
   "metadata": {},
   "outputs": [
    {
     "data": {
      "text/plain": [
       "[<tf.Variable 'dense/kernel:0' shape=(1, 1) dtype=float32, numpy=array([[0.02443958]], dtype=float32)>,\n",
       " <tf.Variable 'dense/bias:0' shape=(1,) dtype=float32, numpy=array([-0.5980293], dtype=float32)>]"
      ]
     },
     "execution_count": 26,
     "metadata": {},
     "output_type": "execute_result"
    }
   ],
   "source": [
    "modele.weights"
   ]
  },
  {
   "cell_type": "code",
   "execution_count": 27,
   "id": "98eb247a-74bb-480b-8b49-c99524338ef6",
   "metadata": {},
   "outputs": [],
   "source": [
    "# Afficher les informations résumées relatives au modèle"
   ]
  },
  {
   "cell_type": "code",
   "execution_count": 28,
   "id": "23789bcc-7ca3-4244-8fc3-0ad68f2d0c29",
   "metadata": {},
   "outputs": [
    {
     "name": "stdout",
     "output_type": "stream",
     "text": [
      "Model: \"sequential\"\n",
      "_________________________________________________________________\n",
      " Layer (type)                Output Shape              Param #   \n",
      "=================================================================\n",
      " dense (Dense)               (None, 1)                 2         \n",
      "                                                                 \n",
      "=================================================================\n",
      "Total params: 2 (8.00 Byte)\n",
      "Trainable params: 2 (8.00 Byte)\n",
      "Non-trainable params: 0 (0.00 Byte)\n",
      "_________________________________________________________________\n"
     ]
    }
   ],
   "source": [
    "modele.summary()"
   ]
  },
  {
   "cell_type": "code",
   "execution_count": null,
   "id": "3eb00bbb-0d59-4bba-bca4-3dc5fe385db2",
   "metadata": {},
   "outputs": [],
   "source": []
  }
 ],
 "metadata": {
  "kernelspec": {
   "display_name": "Python 3 (ipykernel)",
   "language": "python",
   "name": "python3"
  },
  "language_info": {
   "codemirror_mode": {
    "name": "ipython",
    "version": 3
   },
   "file_extension": ".py",
   "mimetype": "text/x-python",
   "name": "python",
   "nbconvert_exporter": "python",
   "pygments_lexer": "ipython3",
   "version": "3.11.5"
  }
 },
 "nbformat": 4,
 "nbformat_minor": 5
}
