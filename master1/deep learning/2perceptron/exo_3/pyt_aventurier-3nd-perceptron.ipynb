{
 "cells": [
  {
   "cell_type": "code",
   "execution_count": 112,
   "id": "9d05a573-65c0-4a58-a629-2b003f2918d3",
   "metadata": {},
   "outputs": [],
   "source": [
    "# Importer les bibliothèques nécessaires au programme"
   ]
  },
  {
   "cell_type": "code",
   "execution_count": 138,
   "id": "c365132b-0e62-4ca2-8379-cd64f72c1b39",
   "metadata": {},
   "outputs": [],
   "source": [
    "import random\n",
    "import numpy as np\n",
    "from tensorflow.keras.models import Sequential\n",
    "from tensorflow.keras.layers import Dense"
   ]
  },
  {
   "cell_type": "code",
   "execution_count": 139,
   "id": "5aa2df8b-8767-47e2-82be-8a89bffae03b",
   "metadata": {},
   "outputs": [],
   "source": [
    "# Définir les données servant à entraîner l'IA \n",
    "# c'est à dire les compagnies se présentant aléatoirement à l'entrée du donjon \n",
    "\n",
    "## pour simplifier, une compagnie sera représentée par la somme des puissances \n",
    "# des aventuriers qui la compose\n",
    "\n",
    "# aventurier_1\taventurier_2\taventurier_3\tpuissance\n",
    "# belette\t    belette\t        belette\t        24\n",
    "# belette\t    belette         chevalier\t    27\n",
    "# chevalier\t    chevalier\t    belette\t        30\n",
    "# belette\t    belette\t        elfe\t        31\n",
    "# chevalier\t    chevalier\t    chevalier\t    33\n",
    "# chevalier   \telfe\t        belette\t        34\n",
    "# chevalier  \tchevalier\t    elfe\t        37\n",
    "# elfe\t        elfe\t        belette\t        38\n",
    "# elfe\t        elfe\t        chevalier       41\n",
    "# elfe\t        elfe\t        elfe\t        45\n",
    "\n",
    "## shéma du perceptron : \n",
    "# puissance de la compagnie ------poids de la compagnie-----neurone------>prediction\n",
    "# poids de la sorcière (biais) -------------------------------|\n"
   ]
  },
  {
   "cell_type": "code",
   "execution_count": 140,
   "id": "dcbc0564-10dd-4007-b103-c26ef2cd5f7c",
   "metadata": {},
   "outputs": [
    {
     "name": "stdout",
     "output_type": "stream",
     "text": [
      "[(8, 8, 8), (8, 8, 11), (8, 8, 15), (8, 11, 8), (8, 11, 11), (8, 11, 15), (8, 15, 8), (8, 15, 11), (8, 15, 15), (11, 8, 8), (11, 8, 11), (11, 8, 15), (11, 11, 8), (11, 11, 11), (11, 11, 15), (11, 15, 8), (11, 15, 11), (11, 15, 15), (15, 8, 8), (15, 8, 11), (15, 8, 15), (15, 11, 8), (15, 11, 11), (15, 11, 15), (15, 15, 8), (15, 15, 11), (15, 15, 15)]\n"
     ]
    }
   ],
   "source": [
    "import itertools\n",
    "compagnion_possibilities = [8,11,15]\n",
    "\n",
    "all_combinaisons = list(itertools.product(compagnion_possibilities, compagnion_possibilities, compagnion_possibilities))\n",
    "print(toutes_combinaisons)"
   ]
  },
  {
   "cell_type": "code",
   "execution_count": 141,
   "id": "b93eebec",
   "metadata": {},
   "outputs": [
    {
     "name": "stdout",
     "output_type": "stream",
     "text": [
      "[8, 8, 8, 8, 8, 8, 8, 8, 8, 11, 11, 11, 11, 11, 11, 11, 11, 11, 15, 15, 15, 15, 15, 15, 15, 15, 15]\n",
      "[8, 8, 8, 11, 11, 11, 15, 15, 15, 8, 8, 8, 11, 11, 11, 15, 15, 15, 8, 8, 8, 11, 11, 11, 15, 15, 15]\n",
      "[8, 11, 15, 8, 11, 15, 8, 11, 15, 8, 11, 15, 8, 11, 15, 8, 11, 15, 8, 11, 15, 8, 11, 15, 8, 11, 15]\n",
      "[24, 27, 31, 27, 30, 34, 31, 34, 38, 27, 30, 34, 30, 33, 37, 34, 37, 41, 31, 34, 38, 34, 37, 41, 38, 41, 45]\n"
     ]
    }
   ],
   "source": [
    "compagnion_1 = []\n",
    "compagnion_2 = []\n",
    "compagnion_3 = []\n",
    "total_score = []\n",
    "for combinaison in all_combinaisons:\n",
    "    compagnion_1.append(combinaison[0])\n",
    "    compagnion_2.append(combinaison[1])\n",
    "    compagnion_3.append(combinaison[2])\n",
    "    total_score.append(combinaison[0]+combinaison[1]+combinaison[2])\n",
    "    \n",
    "print(compagnion_1)\n",
    "print(compagnion_2)\n",
    "print(compagnion_3)\n",
    "print(total_score)\n",
    "\n",
    "# 27 combinaisons"
   ]
  },
  {
   "cell_type": "code",
   "execution_count": 142,
   "id": "415ef5c5-f4e5-42d2-adfb-77a52e06b199",
   "metadata": {},
   "outputs": [],
   "source": [
    "# Creer un plus grand jeu de données pour améliorer l'apprentissage du perceptron"
   ]
  },
  {
   "cell_type": "code",
   "execution_count": 143,
   "id": "55f1b122-7b6b-4751-9dcd-475410331148",
   "metadata": {},
   "outputs": [
    {
     "name": "stdout",
     "output_type": "stream",
     "text": [
      "[8, 8, 8, 8, 8, 8, 8, 8, 8, 11, 11, 11, 11, 11, 11, 11, 11, 11, 15, 15, 15, 15, 15, 15, 15, 15, 15, 8, 8, 8, 8, 8, 8, 8, 8, 8, 11, 11, 11, 11, 11, 11, 11, 11, 11, 15, 15, 15, 15, 15, 15, 15, 15, 15, 8, 8, 8, 8, 8, 8, 8, 8, 8, 11, 11, 11, 11, 11, 11, 11, 11, 11, 15, 15, 15, 15, 15, 15, 15, 15, 15, 8, 8, 8, 8, 8, 8, 8, 8, 8, 11, 11, 11, 11, 11, 11, 11, 11, 11, 15, 15, 15, 15, 15, 15, 15, 15, 15, 8, 8, 8, 8, 8, 8, 8, 8, 8, 11, 11, 11, 11, 11, 11, 11, 11, 11, 15, 15, 15, 15, 15, 15, 15, 15, 15, 8, 8, 8, 8, 8, 8, 8, 8, 8, 11, 11, 11, 11, 11, 11, 11, 11, 11, 15, 15, 15, 15, 15, 15, 15, 15, 15, 8, 8, 8, 8, 8, 8, 8, 8, 8, 11, 11, 11, 11, 11, 11, 11, 11, 11, 15, 15, 15, 15, 15, 15, 15, 15, 15, 8, 8, 8, 8, 8, 8, 8, 8, 8, 11, 11, 11, 11, 11, 11, 11, 11, 11, 15, 15, 15, 15, 15, 15, 15, 15, 15, 8, 8, 8, 8, 8, 8, 8, 8, 8, 11, 11, 11, 11, 11, 11, 11, 11, 11, 15, 15, 15, 15, 15, 15, 15, 15, 15, 8, 8, 8, 8, 8, 8, 8, 8, 8, 11, 11, 11, 11, 11, 11, 11, 11, 11, 15, 15, 15, 15, 15, 15, 15, 15, 15]\n",
      "[8, 8, 8, 11, 11, 11, 15, 15, 15, 8, 8, 8, 11, 11, 11, 15, 15, 15, 8, 8, 8, 11, 11, 11, 15, 15, 15, 8, 8, 8, 11, 11, 11, 15, 15, 15, 8, 8, 8, 11, 11, 11, 15, 15, 15, 8, 8, 8, 11, 11, 11, 15, 15, 15, 8, 8, 8, 11, 11, 11, 15, 15, 15, 8, 8, 8, 11, 11, 11, 15, 15, 15, 8, 8, 8, 11, 11, 11, 15, 15, 15, 8, 8, 8, 11, 11, 11, 15, 15, 15, 8, 8, 8, 11, 11, 11, 15, 15, 15, 8, 8, 8, 11, 11, 11, 15, 15, 15, 8, 8, 8, 11, 11, 11, 15, 15, 15, 8, 8, 8, 11, 11, 11, 15, 15, 15, 8, 8, 8, 11, 11, 11, 15, 15, 15, 8, 8, 8, 11, 11, 11, 15, 15, 15, 8, 8, 8, 11, 11, 11, 15, 15, 15, 8, 8, 8, 11, 11, 11, 15, 15, 15, 8, 8, 8, 11, 11, 11, 15, 15, 15, 8, 8, 8, 11, 11, 11, 15, 15, 15, 8, 8, 8, 11, 11, 11, 15, 15, 15, 8, 8, 8, 11, 11, 11, 15, 15, 15, 8, 8, 8, 11, 11, 11, 15, 15, 15, 8, 8, 8, 11, 11, 11, 15, 15, 15, 8, 8, 8, 11, 11, 11, 15, 15, 15, 8, 8, 8, 11, 11, 11, 15, 15, 15, 8, 8, 8, 11, 11, 11, 15, 15, 15, 8, 8, 8, 11, 11, 11, 15, 15, 15, 8, 8, 8, 11, 11, 11, 15, 15, 15, 8, 8, 8, 11, 11, 11, 15, 15, 15]\n",
      "[8, 11, 15, 8, 11, 15, 8, 11, 15, 8, 11, 15, 8, 11, 15, 8, 11, 15, 8, 11, 15, 8, 11, 15, 8, 11, 15, 8, 11, 15, 8, 11, 15, 8, 11, 15, 8, 11, 15, 8, 11, 15, 8, 11, 15, 8, 11, 15, 8, 11, 15, 8, 11, 15, 8, 11, 15, 8, 11, 15, 8, 11, 15, 8, 11, 15, 8, 11, 15, 8, 11, 15, 8, 11, 15, 8, 11, 15, 8, 11, 15, 8, 11, 15, 8, 11, 15, 8, 11, 15, 8, 11, 15, 8, 11, 15, 8, 11, 15, 8, 11, 15, 8, 11, 15, 8, 11, 15, 8, 11, 15, 8, 11, 15, 8, 11, 15, 8, 11, 15, 8, 11, 15, 8, 11, 15, 8, 11, 15, 8, 11, 15, 8, 11, 15, 8, 11, 15, 8, 11, 15, 8, 11, 15, 8, 11, 15, 8, 11, 15, 8, 11, 15, 8, 11, 15, 8, 11, 15, 8, 11, 15, 8, 11, 15, 8, 11, 15, 8, 11, 15, 8, 11, 15, 8, 11, 15, 8, 11, 15, 8, 11, 15, 8, 11, 15, 8, 11, 15, 8, 11, 15, 8, 11, 15, 8, 11, 15, 8, 11, 15, 8, 11, 15, 8, 11, 15, 8, 11, 15, 8, 11, 15, 8, 11, 15, 8, 11, 15, 8, 11, 15, 8, 11, 15, 8, 11, 15, 8, 11, 15, 8, 11, 15, 8, 11, 15, 8, 11, 15, 8, 11, 15, 8, 11, 15, 8, 11, 15, 8, 11, 15, 8, 11, 15, 8, 11, 15, 8, 11, 15, 8, 11, 15, 8, 11, 15, 8, 11, 15]\n",
      "[24, 27, 31, 27, 30, 34, 31, 34, 38, 27, 30, 34, 30, 33, 37, 34, 37, 41, 31, 34, 38, 34, 37, 41, 38, 41, 45, 24, 27, 31, 27, 30, 34, 31, 34, 38, 27, 30, 34, 30, 33, 37, 34, 37, 41, 31, 34, 38, 34, 37, 41, 38, 41, 45, 24, 27, 31, 27, 30, 34, 31, 34, 38, 27, 30, 34, 30, 33, 37, 34, 37, 41, 31, 34, 38, 34, 37, 41, 38, 41, 45, 24, 27, 31, 27, 30, 34, 31, 34, 38, 27, 30, 34, 30, 33, 37, 34, 37, 41, 31, 34, 38, 34, 37, 41, 38, 41, 45, 24, 27, 31, 27, 30, 34, 31, 34, 38, 27, 30, 34, 30, 33, 37, 34, 37, 41, 31, 34, 38, 34, 37, 41, 38, 41, 45, 24, 27, 31, 27, 30, 34, 31, 34, 38, 27, 30, 34, 30, 33, 37, 34, 37, 41, 31, 34, 38, 34, 37, 41, 38, 41, 45, 24, 27, 31, 27, 30, 34, 31, 34, 38, 27, 30, 34, 30, 33, 37, 34, 37, 41, 31, 34, 38, 34, 37, 41, 38, 41, 45, 24, 27, 31, 27, 30, 34, 31, 34, 38, 27, 30, 34, 30, 33, 37, 34, 37, 41, 31, 34, 38, 34, 37, 41, 38, 41, 45, 24, 27, 31, 27, 30, 34, 31, 34, 38, 27, 30, 34, 30, 33, 37, 34, 37, 41, 31, 34, 38, 34, 37, 41, 38, 41, 45, 24, 27, 31, 27, 30, 34, 31, 34, 38, 27, 30, 34, 30, 33, 37, 34, 37, 41, 31, 34, 38, 34, 37, 41, 38, 41, 45]\n",
      "270 270 270 270\n"
     ]
    }
   ],
   "source": [
    "compagnion_1 = compagnion_1 *10\n",
    "compagnion_2 = compagnion_2 *10\n",
    "compagnion_3 = compagnion_3 *10\n",
    "total_score = total_score *10\n",
    "\n",
    "print(compagnion_1)\n",
    "print(compagnion_2)\n",
    "print(compagnion_3)\n",
    "print(total_score)\n",
    "print(len(compagnion_1), len(compagnion_2), len(compagnion_3), len(total_score))"
   ]
  },
  {
   "cell_type": "code",
   "execution_count": 144,
   "id": "32f09c26-f11e-40d9-baf2-1efbc1c3da2d",
   "metadata": {},
   "outputs": [],
   "source": [
    "# Définir les étiquettes des données d'entraînement : \n",
    "# 0 = envoyer un troll\n",
    "# 1 = envoyer deux trolls"
   ]
  },
  {
   "cell_type": "code",
   "execution_count": 145,
   "id": "c6215a10-1d25-4b82-b89a-b8f3bf88f05e",
   "metadata": {},
   "outputs": [
    {
     "name": "stdout",
     "output_type": "stream",
     "text": [
      "[0, 0, 0, 0, 0, 1, 0, 1, 1, 0, 0, 1, 0, 0, 1, 1, 1, 1, 0, 1, 1, 1, 1, 1, 1, 1, 1, 0, 0, 0, 0, 0, 1, 0, 1, 1, 0, 0, 1, 0, 0, 1, 1, 1, 1, 0, 1, 1, 1, 1, 1, 1, 1, 1, 0, 0, 0, 0, 0, 1, 0, 1, 1, 0, 0, 1, 0, 0, 1, 1, 1, 1, 0, 1, 1, 1, 1, 1, 1, 1, 1, 0, 0, 0, 0, 0, 1, 0, 1, 1, 0, 0, 1, 0, 0, 1, 1, 1, 1, 0, 1, 1, 1, 1, 1, 1, 1, 1, 0, 0, 0, 0, 0, 1, 0, 1, 1, 0, 0, 1, 0, 0, 1, 1, 1, 1, 0, 1, 1, 1, 1, 1, 1, 1, 1, 0, 0, 0, 0, 0, 1, 0, 1, 1, 0, 0, 1, 0, 0, 1, 1, 1, 1, 0, 1, 1, 1, 1, 1, 1, 1, 1, 0, 0, 0, 0, 0, 1, 0, 1, 1, 0, 0, 1, 0, 0, 1, 1, 1, 1, 0, 1, 1, 1, 1, 1, 1, 1, 1, 0, 0, 0, 0, 0, 1, 0, 1, 1, 0, 0, 1, 0, 0, 1, 1, 1, 1, 0, 1, 1, 1, 1, 1, 1, 1, 1, 0, 0, 0, 0, 0, 1, 0, 1, 1, 0, 0, 1, 0, 0, 1, 1, 1, 1, 0, 1, 1, 1, 1, 1, 1, 1, 1, 0, 0, 0, 0, 0, 1, 0, 1, 1, 0, 0, 1, 0, 0, 1, 1, 1, 1, 0, 1, 1, 1, 1, 1, 1, 1, 1]\n"
     ]
    }
   ],
   "source": [
    "etiquettes = []\n",
    "for score in total_score:\n",
    "    if score < 34:\n",
    "        etiquettes.append(0)\n",
    "    else:\n",
    "        etiquettes.append(1)\n",
    "\n",
    "print(etiquettes)"
   ]
  },
  {
   "cell_type": "code",
   "execution_count": 146,
   "id": "9cb7a566-0635-4233-ba14-a1676d980db2",
   "metadata": {},
   "outputs": [],
   "source": [
    "# Mélanger les données "
   ]
  },
  {
   "cell_type": "code",
   "execution_count": 147,
   "id": "c1bf0929-7a41-430a-ba48-c02c24c2fb63",
   "metadata": {},
   "outputs": [],
   "source": [
    "indices_melanges = np.random.permutation(len(etiquettes)).tolist()\n",
    "\n",
    "compagnion_1 = [compagnion_1[i] for i in indices_melanges]\n",
    "compagnion_2 = [compagnion_2[i] for i in indices_melanges]\n",
    "compagnion_3 = [compagnion_3[i] for i in indices_melanges]\n",
    "total_score = [total_score[i] for i in indices_melanges]\n",
    "etiquettes = [etiquettes[i] for i in indices_melanges]\n"
   ]
  },
  {
   "cell_type": "code",
   "execution_count": 148,
   "id": "f7489ac1-cf1e-4092-93cd-dfe7a44182da",
   "metadata": {},
   "outputs": [],
   "source": [
    "# Créer le modèle\n",
    "\n",
    "## Sequential() est une architecture de perceptron bien adaptée à la classification binaire\n",
    "## modele.add(Dense(1, input_dim=1, activation='sigmoid'))\n",
    "## permet de former un modèle avec 1 couche (1 neurone), recevant une seule donnée (input_dim=1)\n",
    "## la fonction d'activation du modèle est la fonction sigmoide"
   ]
  },
  {
   "cell_type": "code",
   "execution_count": 149,
   "id": "080eb05c-1ea1-43af-a4b8-b9df26456001",
   "metadata": {},
   "outputs": [],
   "source": [
    "modele = Sequential()\n",
    "modele.add(Dense(1, input_dim=3, activation='sigmoid'))"
   ]
  },
  {
   "cell_type": "code",
   "execution_count": 125,
   "id": "fc581fc3-0e72-4601-bba6-1c118f99d021",
   "metadata": {},
   "outputs": [],
   "source": [
    "# Compiler le modèle\n",
    "## optimizer désigne l'algorithme en charge de la modification des poids \n",
    "## loss mesure la distance entre la prediction du neurone et le résultat souhaité\n",
    "## ici nous utilisons l'algorithme 'binary_crossentropy' car nous voulons distinguer 2 groupes\n",
    "## metrics indique, sur une échelle de 0 à 1, le ratio de prédictions correctes pour un cycle d'entraînement"
   ]
  },
  {
   "cell_type": "code",
   "execution_count": 126,
   "id": "04792da8-8fb0-4966-b5ae-58b251718469",
   "metadata": {},
   "outputs": [],
   "source": [
    "modele.compile(optimizer='adam', loss='binary_crossentropy', metrics=['accuracy'])"
   ]
  },
  {
   "cell_type": "code",
   "execution_count": 127,
   "id": "67078ed6-eb63-4031-ad47-57c874a57a24",
   "metadata": {},
   "outputs": [],
   "source": [
    "# Entraîner le modèle\n",
    "## ce sera à vous de rechercher comment fonctionne cette commande"
   ]
  },
  {
   "cell_type": "code",
   "execution_count": 136,
   "id": "b043fff3-f0d3-42bb-8e38-78bfc9f41ddd",
   "metadata": {},
   "outputs": [
    {
     "ename": "ValueError",
     "evalue": "Unrecognized data type: x=[array([11, 15, 11, 15,  8,  8, 11, 15,  8,  8, 15,  8,  8, 15, 15, 15, 15,\n        8,  8,  8, 15, 15, 11, 15,  8,  8, 11, 15,  8, 15, 15, 11, 15, 15,\n        8, 11, 15, 11, 15, 15,  8, 11, 11, 11,  8, 15, 15, 11,  8, 11,  8,\n        8, 15,  8, 15, 15, 15, 15, 15, 15, 15, 11, 15, 11, 11,  8,  8, 15,\n       15, 11, 15, 11,  8, 11,  8, 15, 11, 11, 15, 15, 11, 15, 11,  8,  8,\n       15, 15, 11, 11, 15, 11,  8, 15,  8,  8, 11,  8, 11,  8, 15, 11, 15,\n       15, 15, 11, 11, 11,  8,  8, 15,  8, 15,  8,  8,  8, 15, 11,  8, 11,\n       15,  8, 15, 15, 11, 15, 15, 11, 15, 15, 11, 15,  8, 11, 15, 11, 11,\n       15, 11,  8, 11, 11, 15, 11, 11, 15,  8,  8, 11, 11,  8, 11, 15,  8,\n        8, 15, 15,  8,  8, 11,  8, 15, 15, 11, 11, 11,  8,  8, 11,  8, 11,\n        8, 15,  8, 15,  8, 15,  8, 11,  8,  8, 15, 11, 11,  8, 15,  8, 11,\n       15, 15,  8, 11,  8, 11, 11,  8, 15, 11,  8,  8, 11,  8, 11,  8,  8,\n       15, 11,  8, 11,  8, 11, 15, 11, 15, 11, 11,  8,  8, 15, 11, 15, 11,\n       15, 11, 15,  8, 11,  8,  8,  8, 11,  8, 11,  8,  8, 11, 11, 15,  8,\n       15,  8, 11,  8,  8,  8, 15, 11, 11,  8, 15, 15, 11, 11, 15,  8, 11,\n       11,  8, 11,  8,  8, 11, 11,  8, 15, 15, 11,  8, 15, 11, 15]), array([ 8, 15, 11, 11, 15,  8,  8, 15,  8, 15, 11, 11,  8, 11,  8, 15,  8,\n        8,  8, 15, 11, 15, 15, 11,  8,  8,  8, 15, 15, 15, 15, 15, 11, 15,\n        8, 15, 15, 15,  8,  8, 15,  8, 11,  8,  8,  8, 15, 15, 15, 11, 11,\n        8,  8, 15,  8,  8, 11, 15, 11,  8,  8, 15, 15, 11,  8, 11,  8, 11,\n        8,  8,  8,  8, 11,  8,  8,  8, 11,  8, 15, 11, 11, 11,  8, 11,  8,\n        8,  8, 11, 15, 11, 15, 15, 15, 11,  8, 11, 11, 15,  8,  8, 15,  8,\n       11,  8, 15, 15, 15, 15, 15, 11, 11, 11,  8, 15, 11,  8,  8, 11, 15,\n       11, 11, 11, 11,  8, 11, 15, 11, 15, 15, 15,  8, 15, 15, 15, 11, 15,\n       15, 15, 15, 11,  8, 11,  8,  8, 11, 15, 15, 11, 11,  8,  8, 15, 11,\n       11,  8, 15, 11, 11, 11, 11, 15, 11, 15, 11, 11,  8, 11,  8, 15, 15,\n       15, 15,  8, 11, 15,  8, 11, 15, 15, 11, 15,  8, 11, 15,  8, 15, 15,\n       15, 15,  8,  8,  8, 11,  8, 11,  8,  8, 11, 15, 15, 15, 11,  8,  8,\n       11, 15, 15, 15, 15, 11, 15, 11,  8,  8, 11, 11, 11, 15, 11, 15, 15,\n       11, 15,  8,  8,  8, 15,  8, 11, 11,  8,  8,  8, 15, 11,  8, 11,  8,\n        8, 11,  8, 15, 11,  8, 15, 11, 11, 11,  8,  8, 11, 15, 11, 15, 15,\n        8,  8, 15, 15, 11,  8, 11, 11, 11, 11,  8, 11,  8, 11, 11]), array([11, 15,  8, 15, 11, 15, 15, 11, 15, 15, 11,  8,  8,  8,  8, 15, 11,\n       11, 15,  8, 11,  8, 15, 15,  8,  8,  8,  8,  8, 15, 11, 11,  8,  8,\n        8,  8, 15, 15, 11, 15, 11, 15, 15, 11, 11, 15,  8, 11, 11,  8, 15,\n       15, 15, 11,  8,  8, 11, 15, 15, 15, 15, 15,  8,  8, 15, 11, 11,  8,\n       15, 15,  8, 11, 15,  8, 11,  8, 11, 15, 11, 11,  8,  8, 11, 15, 15,\n        8, 11, 11, 11, 11, 11, 15, 11, 15, 15, 15,  8, 11, 11, 15, 15, 11,\n       15, 11, 11,  8, 11, 15,  8, 15,  8,  8, 11, 11, 15,  8, 11, 11,  8,\n       11, 15, 11, 15, 11,  8, 15, 15, 11,  8, 15, 15, 15, 11,  8, 15,  8,\n       11, 15, 15, 11, 11, 11,  8, 11, 15, 15,  8,  8, 11, 11, 15, 11, 15,\n       15, 15,  8, 11, 11,  8, 15,  8, 11, 11, 11, 11,  8,  8,  8, 15,  8,\n        8, 15, 15, 15, 15,  8, 11,  8, 15, 11, 11, 15, 15, 15, 11, 11,  8,\n       15, 11, 15, 11,  8, 15,  8, 11, 11,  8, 11, 11,  8, 11,  8, 15, 11,\n       15, 15,  8, 11,  8, 11, 11, 11, 11, 15, 15,  8,  8,  8, 11, 15, 15,\n        8,  8, 15,  8, 11,  8, 11,  8, 15, 11,  8,  8,  8, 11,  8, 15, 15,\n       11, 11, 15, 11, 11,  8, 15,  8,  8,  8, 11,  8, 15,  8,  8, 11, 15,\n        8,  8, 15,  8,  8,  8, 15, 15,  8, 11, 15,  8,  8,  8,  8])] (of type <class 'list'>)",
     "output_type": "error",
     "traceback": [
      "\u001b[1;31m---------------------------------------------------------------------------\u001b[0m",
      "\u001b[1;31mValueError\u001b[0m                                Traceback (most recent call last)",
      "Cell \u001b[1;32mIn[136], line 5\u001b[0m\n\u001b[0;32m      1\u001b[0m \u001b[38;5;66;03m# modele.fit([compagnion_1, compagnion_2, compagnion_3], etiquettes, epochs=400, batch_size=1)\u001b[39;00m\n\u001b[0;32m      2\u001b[0m \n\u001b[0;32m      3\u001b[0m \u001b[38;5;66;03m# modele.fit(np.array([compagnion_1, compagnion_2, compagnion_3]), etiquettes, epochs=400, batch_size=1)\u001b[39;00m\n\u001b[1;32m----> 5\u001b[0m modele\u001b[38;5;241m.\u001b[39mfit([np\u001b[38;5;241m.\u001b[39marray(compagnion_1), np\u001b[38;5;241m.\u001b[39marray(compagnion_2), np\u001b[38;5;241m.\u001b[39marray(compagnion_3)], etiquettes, epochs\u001b[38;5;241m=\u001b[39m\u001b[38;5;241m400\u001b[39m, batch_size\u001b[38;5;241m=\u001b[39m\u001b[38;5;241m1\u001b[39m)\n",
      "File \u001b[1;32m~\\anaconda3\\Lib\\site-packages\\keras\\src\\utils\\traceback_utils.py:122\u001b[0m, in \u001b[0;36mfilter_traceback.<locals>.error_handler\u001b[1;34m(*args, **kwargs)\u001b[0m\n\u001b[0;32m    119\u001b[0m     filtered_tb \u001b[38;5;241m=\u001b[39m _process_traceback_frames(e\u001b[38;5;241m.\u001b[39m__traceback__)\n\u001b[0;32m    120\u001b[0m     \u001b[38;5;66;03m# To get the full stack trace, call:\u001b[39;00m\n\u001b[0;32m    121\u001b[0m     \u001b[38;5;66;03m# `keras.config.disable_traceback_filtering()`\u001b[39;00m\n\u001b[1;32m--> 122\u001b[0m     \u001b[38;5;28;01mraise\u001b[39;00m e\u001b[38;5;241m.\u001b[39mwith_traceback(filtered_tb) \u001b[38;5;28;01mfrom\u001b[39;00m \u001b[38;5;28;01mNone\u001b[39;00m\n\u001b[0;32m    123\u001b[0m \u001b[38;5;28;01mfinally\u001b[39;00m:\n\u001b[0;32m    124\u001b[0m     \u001b[38;5;28;01mdel\u001b[39;00m filtered_tb\n",
      "File \u001b[1;32m~\\anaconda3\\Lib\\site-packages\\keras\\src\\trainers\\data_adapters\\__init__.py:113\u001b[0m, in \u001b[0;36mget_data_adapter\u001b[1;34m(x, y, sample_weight, batch_size, steps_per_epoch, shuffle, class_weight)\u001b[0m\n\u001b[0;32m    105\u001b[0m     \u001b[38;5;28;01mreturn\u001b[39;00m GeneratorDataAdapter(x)\n\u001b[0;32m    106\u001b[0m     \u001b[38;5;66;03m# TODO: should we warn or not?\u001b[39;00m\n\u001b[0;32m    107\u001b[0m     \u001b[38;5;66;03m# warnings.warn(\u001b[39;00m\n\u001b[0;32m    108\u001b[0m     \u001b[38;5;66;03m#     \"`shuffle=True` was passed, but will be ignored since the \"\u001b[39;00m\n\u001b[1;32m   (...)\u001b[0m\n\u001b[0;32m    111\u001b[0m     \u001b[38;5;66;03m# )\u001b[39;00m\n\u001b[0;32m    112\u001b[0m \u001b[38;5;28;01melse\u001b[39;00m:\n\u001b[1;32m--> 113\u001b[0m     \u001b[38;5;28;01mraise\u001b[39;00m \u001b[38;5;167;01mValueError\u001b[39;00m(\u001b[38;5;124mf\u001b[39m\u001b[38;5;124m\"\u001b[39m\u001b[38;5;124mUnrecognized data type: x=\u001b[39m\u001b[38;5;132;01m{\u001b[39;00mx\u001b[38;5;132;01m}\u001b[39;00m\u001b[38;5;124m (of type \u001b[39m\u001b[38;5;132;01m{\u001b[39;00m\u001b[38;5;28mtype\u001b[39m(x)\u001b[38;5;132;01m}\u001b[39;00m\u001b[38;5;124m)\u001b[39m\u001b[38;5;124m\"\u001b[39m)\n",
      "\u001b[1;31mValueError\u001b[0m: Unrecognized data type: x=[array([11, 15, 11, 15,  8,  8, 11, 15,  8,  8, 15,  8,  8, 15, 15, 15, 15,\n        8,  8,  8, 15, 15, 11, 15,  8,  8, 11, 15,  8, 15, 15, 11, 15, 15,\n        8, 11, 15, 11, 15, 15,  8, 11, 11, 11,  8, 15, 15, 11,  8, 11,  8,\n        8, 15,  8, 15, 15, 15, 15, 15, 15, 15, 11, 15, 11, 11,  8,  8, 15,\n       15, 11, 15, 11,  8, 11,  8, 15, 11, 11, 15, 15, 11, 15, 11,  8,  8,\n       15, 15, 11, 11, 15, 11,  8, 15,  8,  8, 11,  8, 11,  8, 15, 11, 15,\n       15, 15, 11, 11, 11,  8,  8, 15,  8, 15,  8,  8,  8, 15, 11,  8, 11,\n       15,  8, 15, 15, 11, 15, 15, 11, 15, 15, 11, 15,  8, 11, 15, 11, 11,\n       15, 11,  8, 11, 11, 15, 11, 11, 15,  8,  8, 11, 11,  8, 11, 15,  8,\n        8, 15, 15,  8,  8, 11,  8, 15, 15, 11, 11, 11,  8,  8, 11,  8, 11,\n        8, 15,  8, 15,  8, 15,  8, 11,  8,  8, 15, 11, 11,  8, 15,  8, 11,\n       15, 15,  8, 11,  8, 11, 11,  8, 15, 11,  8,  8, 11,  8, 11,  8,  8,\n       15, 11,  8, 11,  8, 11, 15, 11, 15, 11, 11,  8,  8, 15, 11, 15, 11,\n       15, 11, 15,  8, 11,  8,  8,  8, 11,  8, 11,  8,  8, 11, 11, 15,  8,\n       15,  8, 11,  8,  8,  8, 15, 11, 11,  8, 15, 15, 11, 11, 15,  8, 11,\n       11,  8, 11,  8,  8, 11, 11,  8, 15, 15, 11,  8, 15, 11, 15]), array([ 8, 15, 11, 11, 15,  8,  8, 15,  8, 15, 11, 11,  8, 11,  8, 15,  8,\n        8,  8, 15, 11, 15, 15, 11,  8,  8,  8, 15, 15, 15, 15, 15, 11, 15,\n        8, 15, 15, 15,  8,  8, 15,  8, 11,  8,  8,  8, 15, 15, 15, 11, 11,\n        8,  8, 15,  8,  8, 11, 15, 11,  8,  8, 15, 15, 11,  8, 11,  8, 11,\n        8,  8,  8,  8, 11,  8,  8,  8, 11,  8, 15, 11, 11, 11,  8, 11,  8,\n        8,  8, 11, 15, 11, 15, 15, 15, 11,  8, 11, 11, 15,  8,  8, 15,  8,\n       11,  8, 15, 15, 15, 15, 15, 11, 11, 11,  8, 15, 11,  8,  8, 11, 15,\n       11, 11, 11, 11,  8, 11, 15, 11, 15, 15, 15,  8, 15, 15, 15, 11, 15,\n       15, 15, 15, 11,  8, 11,  8,  8, 11, 15, 15, 11, 11,  8,  8, 15, 11,\n       11,  8, 15, 11, 11, 11, 11, 15, 11, 15, 11, 11,  8, 11,  8, 15, 15,\n       15, 15,  8, 11, 15,  8, 11, 15, 15, 11, 15,  8, 11, 15,  8, 15, 15,\n       15, 15,  8,  8,  8, 11,  8, 11,  8,  8, 11, 15, 15, 15, 11,  8,  8,\n       11, 15, 15, 15, 15, 11, 15, 11,  8,  8, 11, 11, 11, 15, 11, 15, 15,\n       11, 15,  8,  8,  8, 15,  8, 11, 11,  8,  8,  8, 15, 11,  8, 11,  8,\n        8, 11,  8, 15, 11,  8, 15, 11, 11, 11,  8,  8, 11, 15, 11, 15, 15,\n        8,  8, 15, 15, 11,  8, 11, 11, 11, 11,  8, 11,  8, 11, 11]), array([11, 15,  8, 15, 11, 15, 15, 11, 15, 15, 11,  8,  8,  8,  8, 15, 11,\n       11, 15,  8, 11,  8, 15, 15,  8,  8,  8,  8,  8, 15, 11, 11,  8,  8,\n        8,  8, 15, 15, 11, 15, 11, 15, 15, 11, 11, 15,  8, 11, 11,  8, 15,\n       15, 15, 11,  8,  8, 11, 15, 15, 15, 15, 15,  8,  8, 15, 11, 11,  8,\n       15, 15,  8, 11, 15,  8, 11,  8, 11, 15, 11, 11,  8,  8, 11, 15, 15,\n        8, 11, 11, 11, 11, 11, 15, 11, 15, 15, 15,  8, 11, 11, 15, 15, 11,\n       15, 11, 11,  8, 11, 15,  8, 15,  8,  8, 11, 11, 15,  8, 11, 11,  8,\n       11, 15, 11, 15, 11,  8, 15, 15, 11,  8, 15, 15, 15, 11,  8, 15,  8,\n       11, 15, 15, 11, 11, 11,  8, 11, 15, 15,  8,  8, 11, 11, 15, 11, 15,\n       15, 15,  8, 11, 11,  8, 15,  8, 11, 11, 11, 11,  8,  8,  8, 15,  8,\n        8, 15, 15, 15, 15,  8, 11,  8, 15, 11, 11, 15, 15, 15, 11, 11,  8,\n       15, 11, 15, 11,  8, 15,  8, 11, 11,  8, 11, 11,  8, 11,  8, 15, 11,\n       15, 15,  8, 11,  8, 11, 11, 11, 11, 15, 15,  8,  8,  8, 11, 15, 15,\n        8,  8, 15,  8, 11,  8, 11,  8, 15, 11,  8,  8,  8, 11,  8, 15, 15,\n       11, 11, 15, 11, 11,  8, 15,  8,  8,  8, 11,  8, 15,  8,  8, 11, 15,\n        8,  8, 15,  8,  8,  8, 15, 15,  8, 11, 15,  8,  8,  8,  8])] (of type <class 'list'>)"
     ]
    }
   ],
   "source": [
    "# modele.fit([compagnion_1, compagnion_2, compagnion_3], etiquettes, epochs=400, batch_size=1)\n",
    "\n",
    "# modele.fit(np.array([compagnion_1, compagnion_2, compagnion_3]), etiquettes, epochs=400, batch_size=1)\n",
    "\n",
    "modele.fit([np.array(compagnion_1), np.array(compagnion_2), np.array(compagnion_3)], etiquettes, epochs=400, batch_size=1)\n",
    "\n",
    "# merged_compagnions = np.stack([compagnion_1, compagnion_2, compagnion_3], axis=1)\n",
    "# modele.fit(merged_compagnions, etiquettes, epochs=400, batch_size=1)"
   ]
  },
  {
   "cell_type": "code",
   "execution_count": 41,
   "id": "9f3eee76-8a9e-4343-a8c8-a838690b6972",
   "metadata": {},
   "outputs": [],
   "source": [
    "# Évaluer le modèle"
   ]
  },
  {
   "cell_type": "code",
   "execution_count": 42,
   "id": "639e7cf5-7333-422d-8210-096762a7fbd9",
   "metadata": {},
   "outputs": [
    {
     "name": "stdout",
     "output_type": "stream",
     "text": [
      "\u001b[1m13/13\u001b[0m \u001b[32m━━━━━━━━━━━━━━━━━━━━\u001b[0m\u001b[37m\u001b[0m \u001b[1m0s\u001b[0m 638us/step - accuracy: 1.0000 - loss: 0.1921\n",
      "Perte : 0.1845465749502182, Précision : 1.0\n"
     ]
    }
   ],
   "source": [
    "perte, precision = modele.evaluate(donnees_entree, etiquettes)\n",
    "print(f\"Perte : {perte}, Précision : {precision}\")"
   ]
  },
  {
   "cell_type": "code",
   "execution_count": 43,
   "id": "146d553c-5d5b-4a7e-846a-7b063a9b9318",
   "metadata": {},
   "outputs": [],
   "source": [
    "# Demander à afficher les prédictions associées à chaque compagnie"
   ]
  },
  {
   "cell_type": "code",
   "execution_count": 47,
   "id": "e2723337-43f2-4262-bc5f-d37b6896e19c",
   "metadata": {},
   "outputs": [
    {
     "name": "stdout",
     "output_type": "stream",
     "text": [
      "\u001b[1m1/1\u001b[0m \u001b[32m━━━━━━━━━━━━━━━━━━━━\u001b[0m\u001b[37m\u001b[0m \u001b[1m0s\u001b[0m 25ms/step\n",
      "Prédictions:\n",
      "[[0.02007324]\n",
      " [0.07037731]\n",
      " [0.21862033]\n",
      " [0.30195668]\n",
      " [0.5083639 ]\n",
      " [0.61519104]\n",
      " [0.8552479 ]\n",
      " [0.9013304 ]\n",
      " [0.9712314 ]\n",
      " [0.99484277]]\n"
     ]
    }
   ],
   "source": [
    "compagnies = np.array([24,27,30,31,33,34,37,38,41,45])\n",
    "predictions = modele.predict(compagnies)\n",
    "print(\"Prédictions:\")\n",
    "print(predictions)"
   ]
  },
  {
   "cell_type": "code",
   "execution_count": 48,
   "id": "3900c122-30c3-4618-accf-c896236617c5",
   "metadata": {},
   "outputs": [],
   "source": [
    "# Afficher les prédictions, les étiquettes associées et la décision en chaine de caractère"
   ]
  },
  {
   "cell_type": "code",
   "execution_count": 49,
   "id": "53f388bd-f909-4d20-9d19-d2e439208aa7",
   "metadata": {},
   "outputs": [
    {
     "name": "stdout",
     "output_type": "stream",
     "text": [
      "[[0.02007324]\n",
      " [0.07037731]\n",
      " [0.21862033]\n",
      " [0.30195668]\n",
      " [0.5083639 ]\n",
      " [0.61519104]\n",
      " [0.8552479 ]\n",
      " [0.9013304 ]\n",
      " [0.9712314 ]\n",
      " [0.99484277]]\n",
      "[0 1 1 0 0 1 0 0 1 0]\n",
      "['1 troll', '1 troll', '1 troll', '1 troll', '2 troll', '2 troll', '2 troll', '2 troll', '2 troll', '2 troll']\n"
     ]
    }
   ],
   "source": [
    "resultat = []\n",
    "for i in range(10) :\n",
    "    if predictions[i] < 0.5 :\n",
    "        resultat.append('1 troll')\n",
    "    else :\n",
    "        resultat.append('2 troll')\n",
    "\n",
    "print(predictions[0:10])\n",
    "print(etiquettes[0:10])\n",
    "print(resultat)"
   ]
  },
  {
   "cell_type": "code",
   "execution_count": 50,
   "id": "ce62a1c5-825b-410b-a91d-a9e878b98616",
   "metadata": {},
   "outputs": [],
   "source": [
    "# Afficher les poids du modèle"
   ]
  },
  {
   "cell_type": "code",
   "execution_count": 51,
   "id": "adeb5ad8-3b14-4baa-a279-381ef39040ee",
   "metadata": {},
   "outputs": [
    {
     "data": {
      "text/plain": [
       "[<KerasVariable shape=(1, 1), dtype=float32, path=sequential_1/dense_1/kernel>,\n",
       " <KerasVariable shape=(1,), dtype=float32, path=sequential_1/dense_1/bias>]"
      ]
     },
     "execution_count": 51,
     "metadata": {},
     "output_type": "execute_result"
    }
   ],
   "source": [
    "modele.weights"
   ]
  },
  {
   "cell_type": "code",
   "execution_count": 52,
   "id": "98eb247a-74bb-480b-8b49-c99524338ef6",
   "metadata": {},
   "outputs": [],
   "source": [
    "# Afficher les informations résumées relatives au modèle"
   ]
  },
  {
   "cell_type": "code",
   "execution_count": 53,
   "id": "23789bcc-7ca3-4244-8fc3-0ad68f2d0c29",
   "metadata": {},
   "outputs": [
    {
     "data": {
      "text/html": [
       "<pre style=\"white-space:pre;overflow-x:auto;line-height:normal;font-family:Menlo,'DejaVu Sans Mono',consolas,'Courier New',monospace\"><span style=\"font-weight: bold\">Model: \"sequential_1\"</span>\n",
       "</pre>\n"
      ],
      "text/plain": [
       "\u001b[1mModel: \"sequential_1\"\u001b[0m\n"
      ]
     },
     "metadata": {},
     "output_type": "display_data"
    },
    {
     "data": {
      "text/html": [
       "<pre style=\"white-space:pre;overflow-x:auto;line-height:normal;font-family:Menlo,'DejaVu Sans Mono',consolas,'Courier New',monospace\">┏━━━━━━━━━━━━━━━━━━━━━━━━━━━━━━━━━━━━━━┳━━━━━━━━━━━━━━━━━━━━━━━━━━━━━┳━━━━━━━━━━━━━━━━━┓\n",
       "┃<span style=\"font-weight: bold\"> Layer (type)                         </span>┃<span style=\"font-weight: bold\"> Output Shape                </span>┃<span style=\"font-weight: bold\">         Param # </span>┃\n",
       "┡━━━━━━━━━━━━━━━━━━━━━━━━━━━━━━━━━━━━━━╇━━━━━━━━━━━━━━━━━━━━━━━━━━━━━╇━━━━━━━━━━━━━━━━━┩\n",
       "│ dense_1 (<span style=\"color: #0087ff; text-decoration-color: #0087ff\">Dense</span>)                      │ (<span style=\"color: #00d7ff; text-decoration-color: #00d7ff\">None</span>, <span style=\"color: #00af00; text-decoration-color: #00af00\">1</span>)                   │               <span style=\"color: #00af00; text-decoration-color: #00af00\">2</span> │\n",
       "└──────────────────────────────────────┴─────────────────────────────┴─────────────────┘\n",
       "</pre>\n"
      ],
      "text/plain": [
       "┏━━━━━━━━━━━━━━━━━━━━━━━━━━━━━━━━━━━━━━┳━━━━━━━━━━━━━━━━━━━━━━━━━━━━━┳━━━━━━━━━━━━━━━━━┓\n",
       "┃\u001b[1m \u001b[0m\u001b[1mLayer (type)                        \u001b[0m\u001b[1m \u001b[0m┃\u001b[1m \u001b[0m\u001b[1mOutput Shape               \u001b[0m\u001b[1m \u001b[0m┃\u001b[1m \u001b[0m\u001b[1m        Param #\u001b[0m\u001b[1m \u001b[0m┃\n",
       "┡━━━━━━━━━━━━━━━━━━━━━━━━━━━━━━━━━━━━━━╇━━━━━━━━━━━━━━━━━━━━━━━━━━━━━╇━━━━━━━━━━━━━━━━━┩\n",
       "│ dense_1 (\u001b[38;5;33mDense\u001b[0m)                      │ (\u001b[38;5;45mNone\u001b[0m, \u001b[38;5;34m1\u001b[0m)                   │               \u001b[38;5;34m2\u001b[0m │\n",
       "└──────────────────────────────────────┴─────────────────────────────┴─────────────────┘\n"
      ]
     },
     "metadata": {},
     "output_type": "display_data"
    },
    {
     "data": {
      "text/html": [
       "<pre style=\"white-space:pre;overflow-x:auto;line-height:normal;font-family:Menlo,'DejaVu Sans Mono',consolas,'Courier New',monospace\"><span style=\"font-weight: bold\"> Total params: </span><span style=\"color: #00af00; text-decoration-color: #00af00\">8</span> (36.00 B)\n",
       "</pre>\n"
      ],
      "text/plain": [
       "\u001b[1m Total params: \u001b[0m\u001b[38;5;34m8\u001b[0m (36.00 B)\n"
      ]
     },
     "metadata": {},
     "output_type": "display_data"
    },
    {
     "data": {
      "text/html": [
       "<pre style=\"white-space:pre;overflow-x:auto;line-height:normal;font-family:Menlo,'DejaVu Sans Mono',consolas,'Courier New',monospace\"><span style=\"font-weight: bold\"> Trainable params: </span><span style=\"color: #00af00; text-decoration-color: #00af00\">2</span> (8.00 B)\n",
       "</pre>\n"
      ],
      "text/plain": [
       "\u001b[1m Trainable params: \u001b[0m\u001b[38;5;34m2\u001b[0m (8.00 B)\n"
      ]
     },
     "metadata": {},
     "output_type": "display_data"
    },
    {
     "data": {
      "text/html": [
       "<pre style=\"white-space:pre;overflow-x:auto;line-height:normal;font-family:Menlo,'DejaVu Sans Mono',consolas,'Courier New',monospace\"><span style=\"font-weight: bold\"> Non-trainable params: </span><span style=\"color: #00af00; text-decoration-color: #00af00\">0</span> (0.00 B)\n",
       "</pre>\n"
      ],
      "text/plain": [
       "\u001b[1m Non-trainable params: \u001b[0m\u001b[38;5;34m0\u001b[0m (0.00 B)\n"
      ]
     },
     "metadata": {},
     "output_type": "display_data"
    },
    {
     "data": {
      "text/html": [
       "<pre style=\"white-space:pre;overflow-x:auto;line-height:normal;font-family:Menlo,'DejaVu Sans Mono',consolas,'Courier New',monospace\"><span style=\"font-weight: bold\"> Optimizer params: </span><span style=\"color: #00af00; text-decoration-color: #00af00\">6</span> (28.00 B)\n",
       "</pre>\n"
      ],
      "text/plain": [
       "\u001b[1m Optimizer params: \u001b[0m\u001b[38;5;34m6\u001b[0m (28.00 B)\n"
      ]
     },
     "metadata": {},
     "output_type": "display_data"
    }
   ],
   "source": [
    "modele.summary()"
   ]
  },
  {
   "cell_type": "code",
   "execution_count": null,
   "id": "82a4e91f",
   "metadata": {},
   "outputs": [],
   "source": []
  }
 ],
 "metadata": {
  "kernelspec": {
   "display_name": "Python 3 (ipykernel)",
   "language": "python",
   "name": "python3"
  },
  "language_info": {
   "codemirror_mode": {
    "name": "ipython",
    "version": 3
   },
   "file_extension": ".py",
   "mimetype": "text/x-python",
   "name": "python",
   "nbconvert_exporter": "python",
   "pygments_lexer": "ipython3",
   "version": "3.11.5"
  }
 },
 "nbformat": 4,
 "nbformat_minor": 5
}
