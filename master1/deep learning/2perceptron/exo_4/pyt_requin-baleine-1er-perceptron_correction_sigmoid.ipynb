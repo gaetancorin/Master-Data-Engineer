{
 "cells": [
  {
   "cell_type": "code",
   "execution_count": 1,
   "id": "9d05a573-65c0-4a58-a629-2b003f2918d3",
   "metadata": {},
   "outputs": [],
   "source": [
    "# Importer les bibliothèques nécessaires au programme"
   ]
  },
  {
   "cell_type": "code",
   "execution_count": 2,
   "id": "c365132b-0e62-4ca2-8379-cd64f72c1b39",
   "metadata": {},
   "outputs": [],
   "source": [
    "import random\n",
    "import numpy as np\n",
    "from tensorflow.keras.models import Sequential\n",
    "from tensorflow.keras.layers import Dense"
   ]
  },
  {
   "cell_type": "code",
   "execution_count": 3,
   "id": "5aa2df8b-8767-47e2-82be-8a89bffae03b",
   "metadata": {},
   "outputs": [],
   "source": [
    "# Définir les données servant à entraîner l'IA \n",
    "# c'est à dire les vecteurs de taille 8 ou chaque élément est une caractéristique d'un \n",
    "# animal (requin ou baleine)\n",
    "\n",
    "## shéma des données : \n",
    "#[nageoire caudale asymetrique, \n",
    "# peau lisse, \n",
    "# fentes brachiales, \n",
    "# grande taille, \n",
    "# océan,\n",
    "# sillons ventraux,\n",
    "# évents en V sur le dessus de la tête\n",
    "# nageoire caudale symétrique]\n",
    "\n",
    "# les 3 premières caractéristiques sont celles spécifiques au requin \n",
    "# les 3 dernières caractéristiques sont celles spécifiques à la baleine \n",
    "# les 2 caractéristiques au centre sont communes à la baleine et au requin \n",
    "\n",
    "## shéma du perceptron : \n",
    "# caractéristiques ------poids des caractéristiques-----neurones------>prediction\n"
   ]
  },
  {
   "cell_type": "code",
   "execution_count": 4,
   "id": "dcbc0564-10dd-4007-b103-c26ef2cd5f7c",
   "metadata": {},
   "outputs": [],
   "source": [
    "requin_parfait = [1,1,1,1,1,0,0,0]\n",
    "baleine_parfaite = [0,0,0,1,1,1,1,1]\n",
    "\n",
    "requin_imparfait_1 = [0,1,1,1,1,0,0,0]\n",
    "requin_imparfait_2 = [1,0,1,1,1,0,0,0]\n",
    "requin_imparfait_3 = [0,1,1,0,1,0,0,0]\n",
    "requin_imparfait_4 = [1,0,1,0,1,0,0,0]\n",
    "requin_imparfait_5 = [0,1,1,1,0,0,0,0]\n",
    "requin_imparfait_6 = [1,0,1,1,0,0,0,0]\n",
    "\n",
    "baleine_imparfait_1 = [0,0,0,1,1,1,0,1]\n",
    "baleine_imparfait_2 = [0,0,0,1,1,0,1,1]\n",
    "baleine_imparfait_3 = [0,0,0,0,1,1,0,1]\n",
    "baleine_imparfait_4 = [0,0,0,0,1,0,1,1]\n",
    "baleine_imparfait_5 = [0,0,0,1,0,1,0,1]\n",
    "baleine_imparfait_6 = [0,0,0,1,0,0,1,1]\n",
    "\n",
    "requins = [requin_parfait, requin_imparfait_1, requin_imparfait_2, requin_imparfait_3, requin_imparfait_4, requin_imparfait_5, requin_imparfait_6]\n",
    "baleines = [baleine_parfaite, baleine_imparfait_1, baleine_imparfait_2, baleine_imparfait_3, baleine_imparfait_4, baleine_imparfait_5, baleine_imparfait_6] "
   ]
  },
  {
   "cell_type": "code",
   "execution_count": 5,
   "id": "415ef5c5-f4e5-42d2-adfb-77a52e06b199",
   "metadata": {},
   "outputs": [],
   "source": [
    "# Creer un plus grand jeu de données pour améliorer l'apprentissage du perceptron"
   ]
  },
  {
   "cell_type": "code",
   "execution_count": 6,
   "id": "55f1b122-7b6b-4751-9dcd-475410331148",
   "metadata": {},
   "outputs": [],
   "source": [
    "animaux_cat0 = []\n",
    "animaux_cat1 = []\n",
    "\n",
    "for animaux in range(7) :\n",
    "    for id_animal in range(7) :  \n",
    "        animaux_cat0.append(requins[id_animal])\n",
    "        animaux_cat1.append(baleines[id_animal])    "
   ]
  },
  {
   "cell_type": "code",
   "execution_count": 7,
   "id": "32f09c26-f11e-40d9-baf2-1efbc1c3da2d",
   "metadata": {},
   "outputs": [],
   "source": [
    "# Définir les étiquettes des données d'entraînement : \n",
    "# [1,0] = l'animal est un requin\n",
    "# [0,1] = l'animal est une baleine"
   ]
  },
  {
   "cell_type": "code",
   "execution_count": 8,
   "id": "c6215a10-1d25-4b82-b89a-b8f3bf88f05e",
   "metadata": {},
   "outputs": [],
   "source": [
    "etiquettes_cat0 = []\n",
    "etiquettes_cat1 = []\n",
    "\n",
    "for animal in range(len(animaux_cat0)) :\n",
    "    etiquettes_cat0.append([1,0])\n",
    "    etiquettes_cat1.append([0,1])"
   ]
  },
  {
   "cell_type": "code",
   "execution_count": 9,
   "id": "9d9e6bb9-845c-4a12-9bbe-30c459d48a01",
   "metadata": {},
   "outputs": [],
   "source": [
    "# Concaténer les données et les étiquettes "
   ]
  },
  {
   "cell_type": "code",
   "execution_count": 10,
   "id": "8fa96309-e19e-4347-9363-693065df391c",
   "metadata": {},
   "outputs": [],
   "source": [
    "donnees_entree = np.concatenate([animaux_cat0, animaux_cat1])\n",
    "etiquettes = np.concatenate([etiquettes_cat0, etiquettes_cat1])"
   ]
  },
  {
   "cell_type": "code",
   "execution_count": 11,
   "id": "9cb7a566-0635-4233-ba14-a1676d980db2",
   "metadata": {},
   "outputs": [],
   "source": [
    "# Mélanger les données "
   ]
  },
  {
   "cell_type": "code",
   "execution_count": 12,
   "id": "624e83e0-bd4f-42ad-95db-874e375047a3",
   "metadata": {},
   "outputs": [],
   "source": [
    "indices_melanges = np.random.permutation(len(donnees_entree))\n",
    "donnees_entree = donnees_entree[indices_melanges]\n",
    "etiquettes = etiquettes[indices_melanges]"
   ]
  },
  {
   "cell_type": "code",
   "execution_count": 13,
   "id": "f7489ac1-cf1e-4092-93cd-dfe7a44182da",
   "metadata": {},
   "outputs": [],
   "source": [
    "# Créer le modèle\n",
    "\n",
    "## Sequential() est une architecture de perceptron bien adaptée à la classification binaire\n",
    "## modele.add(Dense(2, input_dim=8, activation='sigmoid'))\n",
    "## permet de former un modèle avec 1 couche (2 neurones), chaque neurone recevant 8 données (input_dim=8)\n",
    "## la fonction d'activation du modèle est la fonction sigmoid"
   ]
  },
  {
   "cell_type": "code",
   "execution_count": 14,
   "id": "080eb05c-1ea1-43af-a4b8-b9df26456001",
   "metadata": {},
   "outputs": [
    {
     "name": "stderr",
     "output_type": "stream",
     "text": [
      "C:\\Users\\gaeta\\anaconda3\\Lib\\site-packages\\keras\\src\\layers\\core\\dense.py:88: UserWarning: Do not pass an `input_shape`/`input_dim` argument to a layer. When using Sequential models, prefer using an `Input(shape)` object as the first layer in the model instead.\n",
      "  super().__init__(activity_regularizer=activity_regularizer, **kwargs)\n"
     ]
    }
   ],
   "source": [
    "modele = Sequential()\n",
    "modele.add(Dense(2, input_dim=8, activation='sigmoid'))"
   ]
  },
  {
   "cell_type": "code",
   "execution_count": 15,
   "id": "fc581fc3-0e72-4601-bba6-1c118f99d021",
   "metadata": {},
   "outputs": [],
   "source": [
    "# Compiler le modèle\n",
    "## optimizer désigne l'algorithme en charge de la modification des poids \n",
    "## loss mesure la distance entre la prediction du neurone et le résultat souhaité\n",
    "## ici nous utilisons l'algorithme 'binary_crossentropy' car nous voulons distinguer 2 groupes\n",
    "## metrics indique, sur une échelle de 0 à 1, le ratio de prédictions correctes pour un cycle d'entraînement"
   ]
  },
  {
   "cell_type": "code",
   "execution_count": 16,
   "id": "04792da8-8fb0-4966-b5ae-58b251718469",
   "metadata": {},
   "outputs": [],
   "source": [
    "modele.compile(optimizer='adam', loss='binary_crossentropy', metrics=['accuracy'])"
   ]
  },
  {
   "cell_type": "code",
   "execution_count": 17,
   "id": "67078ed6-eb63-4031-ad47-57c874a57a24",
   "metadata": {},
   "outputs": [],
   "source": [
    "# Entraîner le modèle"
   ]
  },
  {
   "cell_type": "code",
   "execution_count": 18,
   "id": "601744b4-6d49-4d70-a4f3-e8a31c941dd5",
   "metadata": {},
   "outputs": [
    {
     "name": "stdout",
     "output_type": "stream",
     "text": [
      "Epoch 1/10\n",
      "\u001b[1m98/98\u001b[0m \u001b[32m━━━━━━━━━━━━━━━━━━━━\u001b[0m\u001b[37m\u001b[0m \u001b[1m1s\u001b[0m 759us/step - accuracy: 0.6283 - loss: 0.6465\n",
      "Epoch 2/10\n",
      "\u001b[1m98/98\u001b[0m \u001b[32m━━━━━━━━━━━━━━━━━━━━\u001b[0m\u001b[37m\u001b[0m \u001b[1m0s\u001b[0m 565us/step - accuracy: 0.8185 - loss: 0.5903\n",
      "Epoch 3/10\n",
      "\u001b[1m98/98\u001b[0m \u001b[32m━━━━━━━━━━━━━━━━━━━━\u001b[0m\u001b[37m\u001b[0m \u001b[1m0s\u001b[0m 577us/step - accuracy: 0.8602 - loss: 0.5451\n",
      "Epoch 4/10\n",
      "\u001b[1m98/98\u001b[0m \u001b[32m━━━━━━━━━━━━━━━━━━━━\u001b[0m\u001b[37m\u001b[0m \u001b[1m0s\u001b[0m 611us/step - accuracy: 0.9673 - loss: 0.4847\n",
      "Epoch 5/10\n",
      "\u001b[1m98/98\u001b[0m \u001b[32m━━━━━━━━━━━━━━━━━━━━\u001b[0m\u001b[37m\u001b[0m \u001b[1m0s\u001b[0m 583us/step - accuracy: 1.0000 - loss: 0.4467\n",
      "Epoch 6/10\n",
      "\u001b[1m98/98\u001b[0m \u001b[32m━━━━━━━━━━━━━━━━━━━━\u001b[0m\u001b[37m\u001b[0m \u001b[1m0s\u001b[0m 749us/step - accuracy: 1.0000 - loss: 0.4097\n",
      "Epoch 7/10\n",
      "\u001b[1m98/98\u001b[0m \u001b[32m━━━━━━━━━━━━━━━━━━━━\u001b[0m\u001b[37m\u001b[0m \u001b[1m0s\u001b[0m 579us/step - accuracy: 1.0000 - loss: 0.3717\n",
      "Epoch 8/10\n",
      "\u001b[1m98/98\u001b[0m \u001b[32m━━━━━━━━━━━━━━━━━━━━\u001b[0m\u001b[37m\u001b[0m \u001b[1m0s\u001b[0m 501us/step - accuracy: 1.0000 - loss: 0.3430\n",
      "Epoch 9/10\n",
      "\u001b[1m98/98\u001b[0m \u001b[32m━━━━━━━━━━━━━━━━━━━━\u001b[0m\u001b[37m\u001b[0m \u001b[1m0s\u001b[0m 660us/step - accuracy: 1.0000 - loss: 0.3150\n",
      "Epoch 10/10\n",
      "\u001b[1m98/98\u001b[0m \u001b[32m━━━━━━━━━━━━━━━━━━━━\u001b[0m\u001b[37m\u001b[0m \u001b[1m0s\u001b[0m 620us/step - accuracy: 1.0000 - loss: 0.2939\n"
     ]
    },
    {
     "data": {
      "text/plain": [
       "<keras.src.callbacks.history.History at 0x256bc43fcd0>"
      ]
     },
     "execution_count": 18,
     "metadata": {},
     "output_type": "execute_result"
    }
   ],
   "source": [
    "modele.fit(donnees_entree, etiquettes, epochs=10, batch_size=1)"
   ]
  },
  {
   "cell_type": "code",
   "execution_count": 19,
   "id": "9f3eee76-8a9e-4343-a8c8-a838690b6972",
   "metadata": {},
   "outputs": [],
   "source": [
    "# Évaluer le modèle"
   ]
  },
  {
   "cell_type": "code",
   "execution_count": 20,
   "id": "140e28c0-3adb-4ca2-a426-8aa63ff7a8b2",
   "metadata": {},
   "outputs": [
    {
     "name": "stdout",
     "output_type": "stream",
     "text": [
      "\u001b[1m4/4\u001b[0m \u001b[32m━━━━━━━━━━━━━━━━━━━━\u001b[0m\u001b[37m\u001b[0m \u001b[1m0s\u001b[0m 2ms/step - accuracy: 1.0000 - loss: 0.2801 \n",
      "Perte : 0.2748253047466278, Précision : 1.0\n"
     ]
    }
   ],
   "source": [
    "perte, precision = modele.evaluate(donnees_entree, etiquettes)\n",
    "print(f\"Perte : {perte}, Précision : {precision}\")"
   ]
  },
  {
   "cell_type": "code",
   "execution_count": 21,
   "id": "146d553c-5d5b-4a7e-846a-7b063a9b9318",
   "metadata": {},
   "outputs": [],
   "source": [
    "# Demander à afficher les prédictions associées à chaque animal"
   ]
  },
  {
   "cell_type": "code",
   "execution_count": 24,
   "id": "fa80c6c0-78b4-462a-8bb9-769ed3c2b72b",
   "metadata": {},
   "outputs": [
    {
     "name": "stdout",
     "output_type": "stream",
     "text": [
      "\u001b[1m1/1\u001b[0m \u001b[32m━━━━━━━━━━━━━━━━━━━━\u001b[0m\u001b[37m\u001b[0m \u001b[1m0s\u001b[0m 32ms/step\n",
      "\u001b[1m1/1\u001b[0m \u001b[32m━━━━━━━━━━━━━━━━━━━━\u001b[0m\u001b[37m\u001b[0m \u001b[1m0s\u001b[0m 18ms/step\n",
      "Prédictions baleine:\n",
      "[[0.22630124 0.83224714]\n",
      " [0.21094152 0.78958917]\n",
      " [0.25235704 0.8170073 ]\n",
      " [0.22542498 0.78684753]\n",
      " [0.2687157  0.814539  ]\n",
      " [0.21792127 0.7291298 ]\n",
      " [0.26025513 0.76205206]]\n",
      "Prédictions requin:\n",
      "[[0.8016394  0.18138681]\n",
      " [0.7358234  0.23761795]\n",
      " [0.68394035 0.3211314 ]\n",
      " [0.7519994  0.23465554]\n",
      " [0.7020067  0.3175615 ]\n",
      " [0.74379927 0.18272072]\n",
      " [0.6928288  0.25335172]]\n"
     ]
    }
   ],
   "source": [
    "predictions_requin = modele.predict(np.array(requins))\n",
    "predictions_baleine = modele.predict(np.array(baleines))\n",
    "print(\"Prédictions baleine:\")\n",
    "print(predictions_baleine)\n",
    "print(\"Prédictions requin:\")\n",
    "print(predictions_requin)"
   ]
  },
  {
   "cell_type": "code",
   "execution_count": 25,
   "id": "ce62a1c5-825b-410b-a91d-a9e878b98616",
   "metadata": {},
   "outputs": [],
   "source": [
    "# Afficher les poids du modèle"
   ]
  },
  {
   "cell_type": "code",
   "execution_count": 40,
   "id": "43e1c2b9-e4cc-490c-927b-3913bd1dd218",
   "metadata": {},
   "outputs": [
    {
     "data": {
      "text/plain": [
       "[array([[ 0.3722001 , -0.3411964 ],\n",
       "        [ 0.6246325 , -0.75840276],\n",
       "        [ 0.45755717, -0.6618089 ],\n",
       "        [-0.08493244,  0.01642379],\n",
       "        [-0.04143799,  0.3322385 ],\n",
       "        [-0.14323467,  0.10543586],\n",
       "        [ 0.08994404,  0.2791868 ],\n",
       "        [-1.1182072 ,  0.96258664]], dtype=float32),\n",
       " array([ 0.06855279, -0.09423415], dtype=float32)]"
      ]
     },
     "execution_count": 40,
     "metadata": {},
     "output_type": "execute_result"
    }
   ],
   "source": [
    "#modele.weights\n",
    "modele.get_weights()"
   ]
  },
  {
   "cell_type": "code",
   "execution_count": 28,
   "id": "98eb247a-74bb-480b-8b49-c99524338ef6",
   "metadata": {},
   "outputs": [],
   "source": [
    "# Afficher les informations résumées relatives au modèle"
   ]
  },
  {
   "cell_type": "code",
   "execution_count": 42,
   "id": "23789bcc-7ca3-4244-8fc3-0ad68f2d0c29",
   "metadata": {
    "scrolled": true
   },
   "outputs": [
    {
     "data": {
      "text/html": [
       "<pre style=\"white-space:pre;overflow-x:auto;line-height:normal;font-family:Menlo,'DejaVu Sans Mono',consolas,'Courier New',monospace\"><span style=\"font-weight: bold\">Model: \"sequential\"</span>\n",
       "</pre>\n"
      ],
      "text/plain": [
       "\u001b[1mModel: \"sequential\"\u001b[0m\n"
      ]
     },
     "metadata": {},
     "output_type": "display_data"
    },
    {
     "data": {
      "text/html": [
       "<pre style=\"white-space:pre;overflow-x:auto;line-height:normal;font-family:Menlo,'DejaVu Sans Mono',consolas,'Courier New',monospace\">┏━━━━━━━━━━━━━━━━━━━━━━━━━━━━━━━━━━━━━━┳━━━━━━━━━━━━━━━━━━━━━━━━━━━━━┳━━━━━━━━━━━━━━━━━┓\n",
       "┃<span style=\"font-weight: bold\"> Layer (type)                         </span>┃<span style=\"font-weight: bold\"> Output Shape                </span>┃<span style=\"font-weight: bold\">         Param # </span>┃\n",
       "┡━━━━━━━━━━━━━━━━━━━━━━━━━━━━━━━━━━━━━━╇━━━━━━━━━━━━━━━━━━━━━━━━━━━━━╇━━━━━━━━━━━━━━━━━┩\n",
       "│ dense (<span style=\"color: #0087ff; text-decoration-color: #0087ff\">Dense</span>)                        │ (<span style=\"color: #00d7ff; text-decoration-color: #00d7ff\">None</span>, <span style=\"color: #00af00; text-decoration-color: #00af00\">2</span>)                   │              <span style=\"color: #00af00; text-decoration-color: #00af00\">18</span> │\n",
       "└──────────────────────────────────────┴─────────────────────────────┴─────────────────┘\n",
       "</pre>\n"
      ],
      "text/plain": [
       "┏━━━━━━━━━━━━━━━━━━━━━━━━━━━━━━━━━━━━━━┳━━━━━━━━━━━━━━━━━━━━━━━━━━━━━┳━━━━━━━━━━━━━━━━━┓\n",
       "┃\u001b[1m \u001b[0m\u001b[1mLayer (type)                        \u001b[0m\u001b[1m \u001b[0m┃\u001b[1m \u001b[0m\u001b[1mOutput Shape               \u001b[0m\u001b[1m \u001b[0m┃\u001b[1m \u001b[0m\u001b[1m        Param #\u001b[0m\u001b[1m \u001b[0m┃\n",
       "┡━━━━━━━━━━━━━━━━━━━━━━━━━━━━━━━━━━━━━━╇━━━━━━━━━━━━━━━━━━━━━━━━━━━━━╇━━━━━━━━━━━━━━━━━┩\n",
       "│ dense (\u001b[38;5;33mDense\u001b[0m)                        │ (\u001b[38;5;45mNone\u001b[0m, \u001b[38;5;34m2\u001b[0m)                   │              \u001b[38;5;34m18\u001b[0m │\n",
       "└──────────────────────────────────────┴─────────────────────────────┴─────────────────┘\n"
      ]
     },
     "metadata": {},
     "output_type": "display_data"
    },
    {
     "data": {
      "text/html": [
       "<pre style=\"white-space:pre;overflow-x:auto;line-height:normal;font-family:Menlo,'DejaVu Sans Mono',consolas,'Courier New',monospace\"><span style=\"font-weight: bold\"> Total params: </span><span style=\"color: #00af00; text-decoration-color: #00af00\">56</span> (228.00 B)\n",
       "</pre>\n"
      ],
      "text/plain": [
       "\u001b[1m Total params: \u001b[0m\u001b[38;5;34m56\u001b[0m (228.00 B)\n"
      ]
     },
     "metadata": {},
     "output_type": "display_data"
    },
    {
     "data": {
      "text/html": [
       "<pre style=\"white-space:pre;overflow-x:auto;line-height:normal;font-family:Menlo,'DejaVu Sans Mono',consolas,'Courier New',monospace\"><span style=\"font-weight: bold\"> Trainable params: </span><span style=\"color: #00af00; text-decoration-color: #00af00\">18</span> (72.00 B)\n",
       "</pre>\n"
      ],
      "text/plain": [
       "\u001b[1m Trainable params: \u001b[0m\u001b[38;5;34m18\u001b[0m (72.00 B)\n"
      ]
     },
     "metadata": {},
     "output_type": "display_data"
    },
    {
     "data": {
      "text/html": [
       "<pre style=\"white-space:pre;overflow-x:auto;line-height:normal;font-family:Menlo,'DejaVu Sans Mono',consolas,'Courier New',monospace\"><span style=\"font-weight: bold\"> Non-trainable params: </span><span style=\"color: #00af00; text-decoration-color: #00af00\">0</span> (0.00 B)\n",
       "</pre>\n"
      ],
      "text/plain": [
       "\u001b[1m Non-trainable params: \u001b[0m\u001b[38;5;34m0\u001b[0m (0.00 B)\n"
      ]
     },
     "metadata": {},
     "output_type": "display_data"
    },
    {
     "data": {
      "text/html": [
       "<pre style=\"white-space:pre;overflow-x:auto;line-height:normal;font-family:Menlo,'DejaVu Sans Mono',consolas,'Courier New',monospace\"><span style=\"font-weight: bold\"> Optimizer params: </span><span style=\"color: #00af00; text-decoration-color: #00af00\">38</span> (156.00 B)\n",
       "</pre>\n"
      ],
      "text/plain": [
       "\u001b[1m Optimizer params: \u001b[0m\u001b[38;5;34m38\u001b[0m (156.00 B)\n"
      ]
     },
     "metadata": {},
     "output_type": "display_data"
    }
   ],
   "source": [
    "modele.summary()"
   ]
  },
  {
   "cell_type": "code",
   "execution_count": 30,
   "id": "4a5a95fd-ccc1-4937-a34f-f724713b4790",
   "metadata": {},
   "outputs": [
    {
     "name": "stdout",
     "output_type": "stream",
     "text": [
      "[1 0 1 0 1 0 0 0]\n"
     ]
    }
   ],
   "source": [
    "print(donnees_entree[0])"
   ]
  },
  {
   "cell_type": "code",
   "execution_count": 36,
   "id": "8112bee1-efba-4971-af3d-8e4786118602",
   "metadata": {},
   "outputs": [
    {
     "name": "stdout",
     "output_type": "stream",
     "text": [
      "\u001b[1m1/1\u001b[0m \u001b[32m━━━━━━━━━━━━━━━━━━━━\u001b[0m\u001b[37m\u001b[0m \u001b[1m0s\u001b[0m 10ms/step\n",
      "Prédictions:\n",
      "[[0.7106021  0.25025755]]\n"
     ]
    }
   ],
   "source": [
    "X = np.array([[1, 0, 1, 0, 0, 0, 0, 0]])\n",
    "predictions = modele.predict(X)\n",
    "print(\"Prédictions:\")\n",
    "print(predictions)"
   ]
  },
  {
   "cell_type": "code",
   "execution_count": 32,
   "id": "776748ab-b62f-47b5-a682-1964cc7a9049",
   "metadata": {},
   "outputs": [
    {
     "name": "stdout",
     "output_type": "stream",
     "text": [
      "0.0\n"
     ]
    }
   ],
   "source": [
    "result = round(2.4739696e-10,3)\n",
    "print(result)"
   ]
  },
  {
   "cell_type": "code",
   "execution_count": null,
   "id": "84daad99",
   "metadata": {},
   "outputs": [],
   "source": []
  }
 ],
 "metadata": {
  "kernelspec": {
   "display_name": "Python 3 (ipykernel)",
   "language": "python",
   "name": "python3"
  },
  "language_info": {
   "codemirror_mode": {
    "name": "ipython",
    "version": 3
   },
   "file_extension": ".py",
   "mimetype": "text/x-python",
   "name": "python",
   "nbconvert_exporter": "python",
   "pygments_lexer": "ipython3",
   "version": "3.11.5"
  }
 },
 "nbformat": 4,
 "nbformat_minor": 5
}
